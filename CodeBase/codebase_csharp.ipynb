{
 "cells": [
  {
   "cell_type": "code",
   "execution_count": 20,
   "metadata": {},
   "outputs": [
    {
     "data": {
      "text/html": [
       "YZJEATEQ9JKLZ"
      ],
      "text/plain": [
       "YZJEATEQ9JKLZ"
      ]
     },
     "metadata": {},
     "output_type": "display_data"
    },
    {
     "data": {
      "text/html": [
       "Number of Trytes: 13"
      ],
      "text/plain": [
       "Number of Trytes: 13"
      ]
     },
     "metadata": {},
     "output_type": "display_data"
    },
    {
     "data": {
      "text/html": [
       "1,-1,0,-1,0,0,1,0,1,-1,-1,1,1,0,0,-1,1,-1,-1,-1,1,-1,0,-1,0,0,0,1,0,1,-1,1,1,0,1,1,-1,0,0"
      ],
      "text/plain": [
       "1,-1,0,-1,0,0,1,0,1,-1,-1,1,1,0,0,-1,1,-1,-1,-1,1,-1,0,-1,0,0,0,1,0,1,-1,1,1,0,1,1,-1,0,0"
      ]
     },
     "metadata": {},
     "output_type": "display_data"
    },
    {
     "data": {
      "text/html": [
       "Number of Trits: 39"
      ],
      "text/plain": [
       "Number of Trits: 39"
      ]
     },
     "metadata": {},
     "output_type": "display_data"
    }
   ],
   "source": [
    "#r \"Tangle.Net.dll\"\n",
    "using Tangle.Net.Entity;    \n",
    "\n",
    "var trytes = new TryteString(\"YZJEATEQ9JKLZ\");\n",
    "Console.WriteLine(trytes.ToString());\n",
    "Console.WriteLine(\"Number of Trytes: \" + trytes.TrytesLength);\n",
    "\n",
    "var trits = trytes.ToTrits();\n",
    "\n",
    "Console.WriteLine(String.Join(\",\", trits));\n",
    "Console.WriteLine(\"Number of Trits: \" + trits.Length);"
   ]
  },
  {
   "cell_type": "code",
   "execution_count": 19,
   "metadata": {},
   "outputs": [
    {
     "data": {
      "text/html": [
       "{\n",
       "  &quot;AppName&quot;: &quot;IRI&quot;,\n",
       "  &quot;AppVersion&quot;: &quot;1.8.1&quot;,\n",
       "  &quot;Duration&quot;: 0,\n",
       "  &quot;JreAvailableProcessors&quot;: 16,\n",
       "  &quot;JreFreeMemory&quot;: 1854364030,\n",
       "  &quot;JreMaxMemory&quot;: 20997734400,\n",
       "  &quot;JreTotalMemory&quot;: 4585458676,\n",
       "  &quot;LatestMilestone&quot;: &quot;UNFVFYFRHCKCYSCSLDAJROUSBEPYTOOHHJOGZGLJXJIBSTXAYTIKDMWEKPMMKHVOSETQJYEFUXLOZ9999&quot;,\n",
       "  &quot;LatestMilestoneIndex&quot;: 1178174,\n",
       "  &quot;LatestSolidSubtangleMilestone&quot;: &quot;UNFVFYFRHCKCYSCSLDAJROUSBEPYTOOHHJOGZGLJXJIBSTXAYTIKDMWEKPMMKHVOSETQJYEFUXLOZ9999&quot;,\n",
       "  &quot;LatestSolidSubtangleMilestoneIndex&quot;: 1178174,\n",
       "  &quot;Neighbors&quot;: 24,\n",
       "  &quot;PacketsQueueSize&quot;: 0,\n",
       "  &quot;Time&quot;: 1568711224721,\n",
       "  &quot;Tips&quot;: 7991,\n",
       "  &quot;TransactionsToRequest&quot;: 0\n",
       "}"
      ],
      "text/plain": [
       "{\n",
       "  \"AppName\": \"IRI\",\n",
       "  \"AppVersion\": \"1.8.1\",\n",
       "  \"Duration\": 0,\n",
       "  \"JreAvailableProcessors\": 16,\n",
       "  \"JreFreeMemory\": 1854364030,\n",
       "  \"JreMaxMemory\": 20997734400,\n",
       "  \"JreTotalMemory\": 4585458676,\n",
       "  \"LatestMilestone\": \"UNFVFYFRHCKCYSCSLDAJROUSBEPYTOOHHJOGZGLJXJIBSTXAYTIKDMWEKPMMKHVOSETQJYEFUXLOZ9999\",\n",
       "  \"LatestMilestoneIndex\": 1178174,\n",
       "  \"LatestSolidSubtangleMilestone\": \"UNFVFYFRHCKCYSCSLDAJROUSBEPYTOOHHJOGZGLJXJIBSTXAYTIKDMWEKPMMKHVOSETQJYEFUXLOZ9999\",\n",
       "  \"LatestSolidSubtangleMilestoneIndex\": 1178174,\n",
       "  \"Neighbors\": 24,\n",
       "  \"PacketsQueueSize\": 0,\n",
       "  \"Time\": 1568711224721,\n",
       "  \"Tips\": 7991,\n",
       "  \"TransactionsToRequest\": 0\n",
       "}"
      ]
     },
     "metadata": {},
     "output_type": "display_data"
    },
    {
     "data": {
      "text/html": [
       "Node is probably synced!"
      ],
      "text/plain": [
       "Node is probably synced!"
      ]
     },
     "metadata": {},
     "output_type": "display_data"
    }
   ],
   "source": [
    "#r \"Tangle.Net.dll\"\n",
    "#r \"Newtonsoft.Json.dll\"\n",
    "#r \"RestSharp.dll\"\n",
    "\n",
    "using Tangle.Net.Repository;\n",
    "using Newtonsoft.Json;\n",
    "using RestSharp;\n",
    "\n",
    "var NodeURL = \"https://nodes.thetangle.org:443\";\n",
    "\n",
    "var repo = new RestIotaRepository(new RestClient(NodeURL)); // ctor initialization of the Tangle.Net library\n",
    "var nodeInfo = repo.GetNodeInfo(); // Getting information about the current node\n",
    "Console.WriteLine(JsonConvert.SerializeObject(nodeInfo, Formatting.Indented)); //Result is printed in JSON notation\n",
    "\n",
    "// Basic check whether node is in sync or not\n",
    "// Elementary rule is that \"latestMilestoneIndex\" should equal to \"latestSolidSubtangleMilestoneIndex\" or be very close\n",
    "Console.WriteLine(\n",
    "                  Math.Abs(nodeInfo.LatestMilestoneIndex - nodeInfo.LatestSolidSubtangleMilestoneIndex) > 3 ? \n",
    "                            \"Node is probably not synced!\" : \"Node is probably synced!\"\n",
    "                );"
   ]
  },
  {
   "cell_type": "code",
   "execution_count": 18,
   "metadata": {},
   "outputs": [
    {
     "data": {
      "text/html": [
       "U9LYFWEPCQATZ9MNDQJZPMSCVQZMTNTWRWOIIPDCXOORZAPYATQGRZHVHSQ9DL9RYKGP9PAEBOTKAFM9R"
      ],
      "text/plain": [
       "U9LYFWEPCQATZ9MNDQJZPMSCVQZMTNTWRWOIIPDCXOORZAPYATQGRZHVHSQ9DL9RYKGP9PAEBOTKAFM9R"
      ]
     },
     "metadata": {},
     "output_type": "display_data"
    }
   ],
   "source": [
    "//based on https://github.com/siqniz/IOTA-Random-Seed-Generator\n",
    "using System.Security.Cryptography;\n",
    "\n",
    "private static string NewRandomSeed()\n",
    "{\n",
    "    string iotaseed = string.Empty;\n",
    "    using (RNGCryptoServiceProvider _ran = new RNGCryptoServiceProvider()) // The class provides crypto-safe random generator\n",
    "    {\n",
    "        string[] _seed = new string[] { \"A\", \"B\", \"C\", \"D\", \"E\", \"F\", \"G\", \"H\", \"I\", \"J\", \"K\", \"L\", \"M\", \"N\", \"O\", \"P\", \"Q\", \"R\", \"S\", \"T\", \"U\", \"V\", \"W\", \"X\", \"Y\", \"Z\", \"9\" };                \n",
    "\n",
    "        byte[] _data = new byte[8];  //8 bytes to hold an unsigned bits int\n",
    "        for (int i = 0; i <= 80; i++)   //The number times this will run in orde to fill the 81 char requirment\n",
    "        {\n",
    "            _ran.GetBytes(_data);\n",
    "            var gennum = BitConverter.ToUInt64(_data, 0);\n",
    "            var _num = (gennum % 27);\n",
    "            iotaseed += _seed[_num];\n",
    "        }\n",
    "    }\n",
    "\n",
    "    return iotaseed;\n",
    "}\n",
    "\n",
    "Console.WriteLine(NewRandomSeed());\n"
   ]
  },
  {
   "cell_type": "code",
   "execution_count": 17,
   "metadata": {},
   "outputs": [
    {
     "data": {
      "text/html": [
       "9KCKAMKL9JDWXTQKSEDBKJHZHBBARHBD9HXTDLSWQTGOXWBGDVOKOAFVHYKUYHIJKYCI9AETEKXIYQCAV"
      ],
      "text/plain": [
       "9KCKAMKL9JDWXTQKSEDBKJHZHBBARHBD9HXTDLSWQTGOXWBGDVOKOAFVHYKUYHIJKYCI9AETEKXIYQCAV"
      ]
     },
     "metadata": {},
     "output_type": "display_data"
    },
    {
     "data": {
      "text/html": [
       "Length :81"
      ],
      "text/plain": [
       "Length :81"
      ]
     },
     "metadata": {},
     "output_type": "display_data"
    }
   ],
   "source": [
    "#r \"Tangle.Net.dll\"\n",
    "using Tangle.Net.Entity;\n",
    "\n",
    "var seed = Seed.Random(); // Initializing new random seed\n",
    "Console.WriteLine(seed.ToString());\n",
    "Console.WriteLine(\"Length :\" + seed.ToString().Length);"
   ]
  },
  {
   "cell_type": "code",
   "execution_count": 18,
   "metadata": {},
   "outputs": [
    {
     "data": {
      "text/html": [
       "[\n",
       "  &quot;HRLKBQUZAEB9HIVWJEWVDYQ9G9VRQXQAXR9ZWGBFQJKRPOPJYHGAT9LBEIE9RWRMUFSNLCWYHQGYAECHD&quot;,\n",
       "  &quot;XEXIDJJTANADOUBPWTCSPPRYYRTITRAHDEOZAEXWDPCYKUPTFMKVQM9KCPPLOCESFRGRVSIYZHXQZNYKC&quot;,\n",
       "  &quot;KY9DLZCHET9ATLMADPXGDVDYMPHKRKQPJZ9MB9HEIMMFCRRTNJIJIHPKGZNKKDTFMYPZRRQYAQKVAHMYX&quot;\n",
       "]"
      ],
      "text/plain": [
       "[\n",
       "  \"HRLKBQUZAEB9HIVWJEWVDYQ9G9VRQXQAXR9ZWGBFQJKRPOPJYHGAT9LBEIE9RWRMUFSNLCWYHQGYAECHD\",\n",
       "  \"XEXIDJJTANADOUBPWTCSPPRYYRTITRAHDEOZAEXWDPCYKUPTFMKVQM9KCPPLOCESFRGRVSIYZHXQZNYKC\",\n",
       "  \"KY9DLZCHET9ATLMADPXGDVDYMPHKRKQPJZ9MB9HEIMMFCRRTNJIJIHPKGZNKKDTFMYPZRRQYAQKVAHMYX\"\n",
       "]"
      ]
     },
     "metadata": {},
     "output_type": "display_data"
    }
   ],
   "source": [
    "#r \"Tangle.Net.dll\"\n",
    "#r \"Newtonsoft.Json.dll\"\n",
    "    \n",
    "using Tangle.Net.Cryptography;\n",
    "using Tangle.Net.Entity;\n",
    "using Newtonsoft.Json;\n",
    "\n",
    "var seed = new Seed(\"WKQDUZTGFKSSLACUCHHLZRKZBHSDSCEBHKUPDLKFBQALEBKDMFRPUQGZRXAADPG9TSRTZGGBZOFRJCFMM\");\n",
    "var addressGenerator = new AddressGenerator();\n",
    "\n",
    "// Please also see GetAdrress function for a single individual address\n",
    "var addresses = addressGenerator.GetAddresses(seed,\n",
    "                                              SecurityLevel.Medium //security level 2\n",
    "                                              ,0 // from index\n",
    "                                              ,3 // count\n",
    "                                              );\n",
    "\n",
    "// The Address instance is very detailed and provides so many fields - so showing only address in Trytes for better clarity\n",
    "Console.WriteLine(JsonConvert.SerializeObject(from i in addresses select i.ToTrytes(), Formatting.Indented));"
   ]
  },
  {
   "cell_type": "code",
   "execution_count": 15,
   "metadata": {},
   "outputs": [
    {
     "data": {
      "text/html": [
       "Original input excl. checksum address:"
      ],
      "text/plain": [
       "Original input excl. checksum address:"
      ]
     },
     "metadata": {},
     "output_type": "display_data"
    },
    {
     "data": {
      "text/html": [
       "CYJV9DRIE9NCQJYLOYOJOGKQGOOELTWXVWUYGQSWCNODHJAHACADUAAHQ9ODUICCESOIVZABA9LTMM9RW"
      ],
      "text/plain": [
       "CYJV9DRIE9NCQJYLOYOJOGKQGOOELTWXVWUYGQSWCNODHJAHACADUAAHQ9ODUICCESOIVZABA9LTMM9RW"
      ]
     },
     "metadata": {},
     "output_type": "display_data"
    },
    {
     "data": {
      "text/html": [
       "Length: 81"
      ],
      "text/plain": [
       "Length: 81"
      ]
     },
     "metadata": {},
     "output_type": "display_data"
    },
    {
     "data": {
      "text/html": [
       "Input address including checksum:"
      ],
      "text/plain": [
       "Input address including checksum:"
      ]
     },
     "metadata": {},
     "output_type": "display_data"
    },
    {
     "data": {
      "text/html": [
       "CYJV9DRIE9NCQJYLOYOJOGKQGOOELTWXVWUYGQSWCNODHJAHACADUAAHQ9ODUICCESOIVZABA9LTMM9RWTHBIRSXTA"
      ],
      "text/plain": [
       "CYJV9DRIE9NCQJYLOYOJOGKQGOOELTWXVWUYGQSWCNODHJAHACADUAAHQ9ODUICCESOIVZABA9LTMM9RWTHBIRSXTA"
      ]
     },
     "metadata": {},
     "output_type": "display_data"
    },
    {
     "data": {
      "text/html": [
       "Length incl checksum: 90"
      ],
      "text/plain": [
       "Length incl checksum: 90"
      ]
     },
     "metadata": {},
     "output_type": "display_data"
    }
   ],
   "source": [
    "#r \"Tangle.Net.dll\"\n",
    "using Tangle.Net.Entity;\n",
    "\n",
    "var myAddr = new Address(\"CYJV9DRIE9NCQJYLOYOJOGKQGOOELTWXVWUYGQSWCNODHJAHACADUAAHQ9ODUICCESOIVZABA9LTMM9RW\"); //some IOTA address\n",
    "\n",
    "Console.WriteLine(\"Original input excl. checksum address:\");\n",
    "Console.WriteLine(myAddr.ToString());\n",
    "Console.WriteLine(\"Length: \" + myAddr.ToString().Length);\n",
    "\n",
    "var AdrIncludingChecksum = new Address(myAddr.ToString() + Checksum.FromAddress(myAddr).ToString()); //generate checksum for the given address and return new address instance that includes checksum\n",
    "// There is a function Withchecksum() but it did not work when tested\n",
    "            \n",
    "Console.WriteLine(\"Input address including checksum:\");\n",
    "Console.WriteLine(AdrIncludingChecksum.ToString() + AdrIncludingChecksum.Checksum.ToString()); //Library still thinks of the address as 2 separate components\n",
    "Console.WriteLine(\"Length incl checksum: \" + (AdrIncludingChecksum.ToString().Length + AdrIncludingChecksum.Checksum.ToString().Length));"
   ]
  },
  {
   "cell_type": "code",
   "execution_count": 16,
   "metadata": {},
   "outputs": [
    {
     "data": {
      "text/html": [
       "Input address incl checksum:"
      ],
      "text/plain": [
       "Input address incl checksum:"
      ]
     },
     "metadata": {},
     "output_type": "display_data"
    },
    {
     "data": {
      "text/html": [
       "CYJV9DRIE9NCQJYLOYOJOGKQGOOELTWXVWUYGQSWCNODHJAHACADUAAHQ9ODUICCESOIVZABA9LTMM9RWTHBIRSXTA"
      ],
      "text/plain": [
       "CYJV9DRIE9NCQJYLOYOJOGKQGOOELTWXVWUYGQSWCNODHJAHACADUAAHQ9ODUICCESOIVZABA9LTMM9RWTHBIRSXTA"
      ]
     },
     "metadata": {},
     "output_type": "display_data"
    },
    {
     "data": {
      "text/html": [
       "Is it valid addr based on checksum? True"
      ],
      "text/plain": [
       "Is it valid addr based on checksum? True"
      ]
     },
     "metadata": {},
     "output_type": "display_data"
    },
    {
     "data": {
      "text/html": [
       "Input address excl checksum:"
      ],
      "text/plain": [
       "Input address excl checksum:"
      ]
     },
     "metadata": {},
     "output_type": "display_data"
    },
    {
     "data": {
      "text/html": [
       "CYJV9DRIE9NCQJYLOYOJOGKQGOOELTWXVWUYGQSWCNODHJAHACADUAAHQ9ODUICCESOIVZABA9LTMM9RW"
      ],
      "text/plain": [
       "CYJV9DRIE9NCQJYLOYOJOGKQGOOELTWXVWUYGQSWCNODHJAHACADUAAHQ9ODUICCESOIVZABA9LTMM9RW"
      ]
     },
     "metadata": {},
     "output_type": "display_data"
    }
   ],
   "source": [
    "#r \"Tangle.Net.dll\"\n",
    "using Tangle.Net.Entity;\n",
    "using Tangle.Net.Utils;\n",
    "\n",
    "//address including checksum\n",
    "var InputAddr = \"CYJV9DRIE9NCQJYLOYOJOGKQGOOELTWXVWUYGQSWCNODHJAHACADUAAHQ9ODUICCESOIVZABA9LTMM9RWTHBIRSXTA\";\n",
    "\n",
    "if (!InputValidator.IsTrytes(InputAddr) || InputAddr.Length != 90)\n",
    "{\n",
    "    Console.WriteLine(\"Not valid input address incl. checksum was given.\");\n",
    "} else {\n",
    "    var Adr = new Address(InputAddr);                \n",
    "\n",
    "    Console.WriteLine(\"Input address incl checksum:\");\n",
    "    Console.WriteLine(InputAddr);\n",
    "    Console.WriteLine(\"Is it valid addr based on checksum? \" + Adr.HasValidChecksum().ToString());\n",
    "    Console.WriteLine(\"Input address excl checksum:\");\n",
    "    Console.WriteLine(Adr.ToString());\n",
    "}"
   ]
  },
  {
   "cell_type": "code",
   "execution_count": 2,
   "metadata": {},
   "outputs": [
    {
     "data": {
      "text/html": [
       "Created transaction objects - mandatory fields only:"
      ],
      "text/plain": [
       "Created transaction objects - mandatory fields only:"
      ]
     },
     "metadata": {},
     "output_type": "display_data"
    },
    {
     "data": {
      "text/html": [
       "{\n",
       "  &quot;Address&quot;: {\n",
       "    &quot;Balance&quot;: 0,\n",
       "    &quot;Checksum&quot;: null,\n",
       "    &quot;KeyIndex&quot;: 0,\n",
       "    &quot;PrivateKey&quot;: null,\n",
       "    &quot;SecurityLevel&quot;: 0,\n",
       "    &quot;SpentFrom&quot;: false,\n",
       "    &quot;TrytesLength&quot;: 81,\n",
       "    &quot;Value&quot;: &quot;CXDUYK9XGHC9DTSPDMKGGGXAIARSRVAFGHJOCDDHWADLVBBOEHLICHTMGKVDOGRU9TBESJNHAXYPVJ9R9&quot;\n",
       "  },\n",
       "  &quot;Message&quot;: {\n",
       "    &quot;TrytesLength&quot;: 88,\n",
       "    &quot;Value&quot;: &quot;RBTCFDTCEARCCDADTCGDEAPCEAUCXCFDGDHDEAADTCGDGDPCVCTCSAEAXBCDKDEAXCGDEACBTAVABBTAWAUAVACB&quot;\n",
       "  },\n",
       "  &quot;Tag&quot;: {\n",
       "    &quot;TrytesLength&quot;: 27,\n",
       "    &quot;Value&quot;: &quot;HRIBEK999IOTA999TUTORIAL999&quot;\n",
       "  },\n",
       "  &quot;Timestamp&quot;: 0,\n",
       "  &quot;ValueToTransfer&quot;: 0\n",
       "}"
      ],
      "text/plain": [
       "{\n",
       "  \"Address\": {\n",
       "    \"Balance\": 0,\n",
       "    \"Checksum\": null,\n",
       "    \"KeyIndex\": 0,\n",
       "    \"PrivateKey\": null,\n",
       "    \"SecurityLevel\": 0,\n",
       "    \"SpentFrom\": false,\n",
       "    \"TrytesLength\": 81,\n",
       "    \"Value\": \"CXDUYK9XGHC9DTSPDMKGGGXAIARSRVAFGHJOCDDHWADLVBBOEHLICHTMGKVDOGRU9TBESJNHAXYPVJ9R9\"\n",
       "  },\n",
       "  \"Message\": {\n",
       "    \"TrytesLength\": 88,\n",
       "    \"Value\": \"RBTCFDTCEARCCDADTCGDEAPCEAUCXCFDGDHDEAADTCGDGDPCVCTCSAEAXBCDKDEAXCGDEACBTAVABBTAWAUAVACB\"\n",
       "  },\n",
       "  \"Tag\": {\n",
       "    \"TrytesLength\": 27,\n",
       "    \"Value\": \"HRIBEK999IOTA999TUTORIAL999\"\n",
       "  },\n",
       "  \"Timestamp\": 0,\n",
       "  \"ValueToTransfer\": 0\n",
       "}"
      ]
     },
     "metadata": {},
     "output_type": "display_data"
    },
    {
     "data": {
      "text/html": [
       "{\n",
       "  &quot;Address&quot;: {\n",
       "    &quot;Balance&quot;: 0,\n",
       "    &quot;Checksum&quot;: null,\n",
       "    &quot;KeyIndex&quot;: 0,\n",
       "    &quot;PrivateKey&quot;: null,\n",
       "    &quot;SecurityLevel&quot;: 0,\n",
       "    &quot;SpentFrom&quot;: false,\n",
       "    &quot;TrytesLength&quot;: 81,\n",
       "    &quot;Value&quot;: &quot;CYJV9DRIE9NCQJYLOYOJOGKQGOOELTWXVWUYGQSWCNODHJAHACADUAAHQ9ODUICCESOIVZABA9LTMM9RW&quot;\n",
       "  },\n",
       "  &quot;Message&quot;: {\n",
       "    &quot;TrytesLength&quot;: 90,\n",
       "    &quot;Value&quot;: &quot;RBTCFDTCEARCCDADTCGDEAPCEAGDTCRCCDBDSCEAADTCGDGDPCVCTCSAEAXBCDKDEAXCGDEACBTAVABBTAWAUAVACB&quot;\n",
       "  },\n",
       "  &quot;Tag&quot;: {\n",
       "    &quot;TrytesLength&quot;: 27,\n",
       "    &quot;Value&quot;: &quot;HRIBEK999IOTA999TUTORIAL999&quot;\n",
       "  },\n",
       "  &quot;Timestamp&quot;: 0,\n",
       "  &quot;ValueToTransfer&quot;: 0\n",
       "}"
      ],
      "text/plain": [
       "{\n",
       "  \"Address\": {\n",
       "    \"Balance\": 0,\n",
       "    \"Checksum\": null,\n",
       "    \"KeyIndex\": 0,\n",
       "    \"PrivateKey\": null,\n",
       "    \"SecurityLevel\": 0,\n",
       "    \"SpentFrom\": false,\n",
       "    \"TrytesLength\": 81,\n",
       "    \"Value\": \"CYJV9DRIE9NCQJYLOYOJOGKQGOOELTWXVWUYGQSWCNODHJAHACADUAAHQ9ODUICCESOIVZABA9LTMM9RW\"\n",
       "  },\n",
       "  \"Message\": {\n",
       "    \"TrytesLength\": 90,\n",
       "    \"Value\": \"RBTCFDTCEARCCDADTCGDEAPCEAGDTCRCCDBDSCEAADTCGDGDPCVCTCSAEAXBCDKDEAXCGDEACBTAVABBTAWAUAVACB\"\n",
       "  },\n",
       "  \"Tag\": {\n",
       "    \"TrytesLength\": 27,\n",
       "    \"Value\": \"HRIBEK999IOTA999TUTORIAL999\"\n",
       "  },\n",
       "  \"Timestamp\": 0,\n",
       "  \"ValueToTransfer\": 0\n",
       "}"
      ]
     },
     "metadata": {},
     "output_type": "display_data"
    }
   ],
   "source": [
    "#r \"Tangle.Net.dll\"\n",
    "#r \"Newtonsoft.Json.dll\"\n",
    "using Tangle.Net.Entity;\n",
    "using Newtonsoft.Json;\n",
    "\n",
    "var MySeed = \"HGW9HB9LJPYUGVHNGCPLFKKPNZAIIFHZBDHKSGMQKFMANUBASSMSV9TAJSSMPRZZU9SFZULXKJ9YLAIUA\";\n",
    "var TargetAddress1 = \"CXDUYK9XGHC9DTSPDMKGGGXAIARSRVAFGHJOCDDHWADLVBBOEHLICHTMGKVDOGRU9TBESJNHAXYPVJ9R9\";\n",
    "var TargetAddress2 = \"CYJV9DRIE9NCQJYLOYOJOGKQGOOELTWXVWUYGQSWCNODHJAHACADUAAHQ9ODUICCESOIVZABA9LTMM9RW\";\n",
    "\n",
    "var NowIs = DateTime.Now.ToShortDateString(); //this is not important - just to have some meaningful message\n",
    "\n",
    "var pt = new Transfer() // creating a first transfer (a proposed transaction)\n",
    "{\n",
    "    Address=new Address(TargetAddress1),\n",
    "    ValueToTransfer=0,\n",
    "    Message=TryteString.FromUtf8String(\"Here comes a first message. Now is \" + NowIs),\n",
    "    Tag=new Tag(\"HRIBEK999IOTA999TUTORIAL\")\n",
    "};\n",
    "\n",
    "var pt2 = new Transfer() // creating a second transfer (a proposed transaction)\n",
    "{\n",
    "    Address = new Address(TargetAddress2),\n",
    "    ValueToTransfer = 0,\n",
    "    Message = TryteString.FromUtf8String(\"Here comes a second message. Now is \" + NowIs),\n",
    "    Tag = new Tag(\"HRIBEK999IOTA999TUTORIAL\")\n",
    "};\n",
    "\n",
    "Console.WriteLine(\"Created transaction objects - mandatory fields only:\");\n",
    "Console.WriteLine(JsonConvert.SerializeObject(pt, Formatting.Indented));\n",
    "Console.WriteLine(JsonConvert.SerializeObject(pt2, Formatting.Indented));"
   ]
  },
  {
   "cell_type": "code",
   "execution_count": 9,
   "metadata": {},
   "outputs": [
    {
     "data": {
      "text/html": [
       "Generated bundle hash: HMCU9CJIIGJLNCJJSYACUYZNFPDREPKLADUU9EHBEZNQUAHWGXJ9BZZHZPBLWXCXBHSLSKSLZZYFLVHZB"
      ],
      "text/plain": [
       "Generated bundle hash: HMCU9CJIIGJLNCJJSYACUYZNFPDREPKLADUU9EHBEZNQUAHWGXJ9BZZHZPBLWXCXBHSLSKSLZZYFLVHZB"
      ]
     },
     "metadata": {},
     "output_type": "display_data"
    },
    {
     "data": {
      "text/html": [
       "Tail Transaction in the Bundle is a transaction #0."
      ],
      "text/plain": [
       "Tail Transaction in the Bundle is a transaction #0."
      ]
     },
     "metadata": {},
     "output_type": "display_data"
    },
    {
     "data": {
      "text/html": [
       "List of all transactions in the bundle:"
      ],
      "text/plain": [
       "List of all transactions in the bundle:"
      ]
     },
     "metadata": {},
     "output_type": "display_data"
    },
    {
     "data": {
      "text/html": [
       "[\n",
       "  {\n",
       "    &quot;Address&quot;: {\n",
       "      &quot;Balance&quot;: 0,\n",
       "      &quot;Checksum&quot;: null,\n",
       "      &quot;KeyIndex&quot;: 0,\n",
       "      &quot;PrivateKey&quot;: null,\n",
       "      &quot;SecurityLevel&quot;: 0,\n",
       "      &quot;SpentFrom&quot;: false,\n",
       "      &quot;TrytesLength&quot;: 81,\n",
       "      &quot;Value&quot;: &quot;CXDUYK9XGHC9DTSPDMKGGGXAIARSRVAFGHJOCDDHWADLVBBOEHLICHTMGKVDOGRU9TBESJNHAXYPVJ9R9&quot;\n",
       "    },\n",
       "    &quot;AttachmentTimestamp&quot;: 999999999,\n",
       "    &quot;AttachmentTimestampLowerBound&quot;: 999999999,\n",
       "    &quot;AttachmentTimestampUpperBound&quot;: 999999999,\n",
       "    &quot;BranchTransaction&quot;: {\n",
       "      &quot;TrytesLength&quot;: 81,\n",
       "      &quot;Value&quot;: &quot;999999999999999999999999999999999999999999999999999999999999999999999999999999999&quot;\n",
       "    },\n",
       "    &quot;BundleHash&quot;: {\n",
       "      &quot;TrytesLength&quot;: 81,\n",
       "      &quot;Value&quot;: &quot;HMCU9CJIIGJLNCJJSYACUYZNFPDREPKLADUU9EHBEZNQUAHWGXJ9BZZHZPBLWXCXBHSLSKSLZZYFLVHZB&quot;\n",
       "    },\n",
       "    &quot;CurrentIndex&quot;: 0,\n",
       "    &quot;Fragment&quot;: {\n",
       "      &quot;IsEmpty&quot;: false,\n",
       "      &quot;TrytesLength&quot;: 2187,\n",
       "      &quot;Value&quot;: &quot;RBTCFDTCEARCCDADTCGDEAPCEAUCXCFDGDHDEAADTCGDGDPCVCTCSAEAXBCDKDEAXCGDEACBTAVABBTAWAUAVACB99999999999999999999999999999999999999999999999999999999999999999999999999999999999999999999999999999999999999999999999999999999999999999999999999999999999999999999999999999999999999999999999999999999999999999999999999999999999999999999999999999999999999999999999999999999999999999999999999999999999999999999999999999999999999999999999999999999999999999999999999999999999999999999999999999999999999999999999999999999999999999999999999999999999999999999999999999999999999999999999999999999999999999999999999999999999999999999999999999999999999999999999999999999999999999999999999999999999999999999999999999999999999999999999999999999999999999999999999999999999999999999999999999999999999999999999999999999999999999999999999999999999999999999999999999999999999999999999999999999999999999999999999999999999999999999999999999999999999999999999999999999999999999999999999999999999999999999999999999999999999999999999999999999999999999999999999999999999999999999999999999999999999999999999999999999999999999999999999999999999999999999999999999999999999999999999999999999999999999999999999999999999999999999999999999999999999999999999999999999999999999999999999999999999999999999999999999999999999999999999999999999999999999999999999999999999999999999999999999999999999999999999999999999999999999999999999999999999999999999999999999999999999999999999999999999999999999999999999999999999999999999999999999999999999999999999999999999999999999999999999999999999999999999999999999999999999999999999999999999999999999999999999999999999999999999999999999999999999999999999999999999999999999999999999999999999999999999999999999999999999999999999999999999999999999999999999999999999999999999999999999999999999999999999999999999999999999999999999999999999999999999999999999999999999999999999999999999999999999999999999999999999999999999999999999999999999999999999999999999999999999999999999999999999999999999999999999999999999999999999999999999999999999999999999999999999999999999999999999999999999999999999999999999999999999999999999999999999999999999999999999999999999999999999999999999999999999999999999999999999&quot;\n",
       "    },\n",
       "    &quot;Hash&quot;: null,\n",
       "    &quot;IsTail&quot;: true,\n",
       "    &quot;LastIndex&quot;: 1,\n",
       "    &quot;Nonce&quot;: {\n",
       "      &quot;TrytesLength&quot;: 27,\n",
       "      &quot;Value&quot;: &quot;999999999999999999999999999&quot;\n",
       "    },\n",
       "    &quot;ObsoleteTag&quot;: {\n",
       "      &quot;TrytesLength&quot;: 27,\n",
       "      &quot;Value&quot;: &quot;LWIBEK999IOTA999TUTORIAL999&quot;\n",
       "    },\n",
       "    &quot;Tag&quot;: {\n",
       "      &quot;TrytesLength&quot;: 27,\n",
       "      &quot;Value&quot;: &quot;HRIBEK999IOTA999TUTORIAL999&quot;\n",
       "    },\n",
       "    &quot;Timestamp&quot;: 0,\n",
       "    &quot;TrunkTransaction&quot;: {\n",
       "      &quot;TrytesLength&quot;: 81,\n",
       "      &quot;Value&quot;: &quot;999999999999999999999999999999999999999999999999999999999999999999999999999999999&quot;\n",
       "    },\n",
       "    &quot;Value&quot;: 0\n",
       "  },\n",
       "  {\n",
       "    &quot;Address&quot;: {\n",
       "      &quot;Balance&quot;: 0,\n",
       "      &quot;Checksum&quot;: null,\n",
       "      &quot;KeyIndex&quot;: 0,\n",
       "      &quot;PrivateKey&quot;: null,\n",
       "      &quot;SecurityLevel&quot;: 0,\n",
       "      &quot;SpentFrom&quot;: false,\n",
       "      &quot;TrytesLength&quot;: 81,\n",
       "      &quot;Value&quot;: &quot;CYJV9DRIE9NCQJYLOYOJOGKQGOOELTWXVWUYGQSWCNODHJAHACADUAAHQ9ODUICCESOIVZABA9LTMM9RW&quot;\n",
       "    },\n",
       "    &quot;AttachmentTimestamp&quot;: 999999999,\n",
       "    &quot;AttachmentTimestampLowerBound&quot;: 999999999,\n",
       "    &quot;AttachmentTimestampUpperBound&quot;: 999999999,\n",
       "    &quot;BranchTransaction&quot;: {\n",
       "      &quot;TrytesLength&quot;: 81,\n",
       "      &quot;Value&quot;: &quot;999999999999999999999999999999999999999999999999999999999999999999999999999999999&quot;\n",
       "    },\n",
       "    &quot;BundleHash&quot;: {\n",
       "      &quot;TrytesLength&quot;: 81,\n",
       "      &quot;Value&quot;: &quot;HMCU9CJIIGJLNCJJSYACUYZNFPDREPKLADUU9EHBEZNQUAHWGXJ9BZZHZPBLWXCXBHSLSKSLZZYFLVHZB&quot;\n",
       "    },\n",
       "    &quot;CurrentIndex&quot;: 1,\n",
       "    &quot;Fragment&quot;: {\n",
       "      &quot;IsEmpty&quot;: false,\n",
       "      &quot;TrytesLength&quot;: 2187,\n",
       "      &quot;Value&quot;: &quot;RBTCFDTCEARCCDADTCGDEAPCEAGDTCRCCDBDSCEAADTCGDGDPCVCTCSAEAXBCDKDEAXCGDEACBTAVABBTAWAUAVACB999999999999999999999999999999999999999999999999999999999999999999999999999999999999999999999999999999999999999999999999999999999999999999999999999999999999999999999999999999999999999999999999999999999999999999999999999999999999999999999999999999999999999999999999999999999999999999999999999999999999999999999999999999999999999999999999999999999999999999999999999999999999999999999999999999999999999999999999999999999999999999999999999999999999999999999999999999999999999999999999999999999999999999999999999999999999999999999999999999999999999999999999999999999999999999999999999999999999999999999999999999999999999999999999999999999999999999999999999999999999999999999999999999999999999999999999999999999999999999999999999999999999999999999999999999999999999999999999999999999999999999999999999999999999999999999999999999999999999999999999999999999999999999999999999999999999999999999999999999999999999999999999999999999999999999999999999999999999999999999999999999999999999999999999999999999999999999999999999999999999999999999999999999999999999999999999999999999999999999999999999999999999999999999999999999999999999999999999999999999999999999999999999999999999999999999999999999999999999999999999999999999999999999999999999999999999999999999999999999999999999999999999999999999999999999999999999999999999999999999999999999999999999999999999999999999999999999999999999999999999999999999999999999999999999999999999999999999999999999999999999999999999999999999999999999999999999999999999999999999999999999999999999999999999999999999999999999999999999999999999999999999999999999999999999999999999999999999999999999999999999999999999999999999999999999999999999999999999999999999999999999999999999999999999999999999999999999999999999999999999999999999999999999999999999999999999999999999999999999999999999999999999999999999999999999999999999999999999999999999999999999999999999999999999999999999999999999999999999999999999999999999999999999999999999999999999999999999999999999999999999999999999999999999999999999999999999999999999999999999999999999999999999999999999999999999999999999999999999999999&quot;\n",
       "    },\n",
       "    &quot;Hash&quot;: null,\n",
       "    &quot;IsTail&quot;: false,\n",
       "    &quot;LastIndex&quot;: 1,\n",
       "    &quot;Nonce&quot;: {\n",
       "      &quot;TrytesLength&quot;: 27,\n",
       "      &quot;Value&quot;: &quot;999999999999999999999999999&quot;\n",
       "    },\n",
       "    &quot;ObsoleteTag&quot;: {\n",
       "      &quot;TrytesLength&quot;: 27,\n",
       "      &quot;Value&quot;: &quot;HRIBEK999IOTA999TUTORIAL999&quot;\n",
       "    },\n",
       "    &quot;Tag&quot;: {\n",
       "      &quot;TrytesLength&quot;: 27,\n",
       "      &quot;Value&quot;: &quot;HRIBEK999IOTA999TUTORIAL999&quot;\n",
       "    },\n",
       "    &quot;Timestamp&quot;: 0,\n",
       "    &quot;TrunkTransaction&quot;: {\n",
       "      &quot;TrytesLength&quot;: 81,\n",
       "      &quot;Value&quot;: &quot;999999999999999999999999999999999999999999999999999999999999999999999999999999999&quot;\n",
       "    },\n",
       "    &quot;Value&quot;: 0\n",
       "  }\n",
       "]"
      ],
      "text/plain": [
       "[\n",
       "  {\n",
       "    \"Address\": {\n",
       "      \"Balance\": 0,\n",
       "      \"Checksum\": null,\n",
       "      \"KeyIndex\": 0,\n",
       "      \"PrivateKey\": null,\n",
       "      \"SecurityLevel\": 0,\n",
       "      \"SpentFrom\": false,\n",
       "      \"TrytesLength\": 81,\n",
       "      \"Value\": \"CXDUYK9XGHC9DTSPDMKGGGXAIARSRVAFGHJOCDDHWADLVBBOEHLICHTMGKVDOGRU9TBESJNHAXYPVJ9R9\"\n",
       "    },\n",
       "    \"AttachmentTimestamp\": 999999999,\n",
       "    \"AttachmentTimestampLowerBound\": 999999999,\n",
       "    \"AttachmentTimestampUpperBound\": 999999999,\n",
       "    \"BranchTransaction\": {\n",
       "      \"TrytesLength\": 81,\n",
       "      \"Value\": \"999999999999999999999999999999999999999999999999999999999999999999999999999999999\"\n",
       "    },\n",
       "    \"BundleHash\": {\n",
       "      \"TrytesLength\": 81,\n",
       "      \"Value\": \"HMCU9CJIIGJLNCJJSYACUYZNFPDREPKLADUU9EHBEZNQUAHWGXJ9BZZHZPBLWXCXBHSLSKSLZZYFLVHZB\"\n",
       "    },\n",
       "    \"CurrentIndex\": 0,\n",
       "    \"Fragment\": {\n",
       "      \"IsEmpty\": false,\n",
       "      \"TrytesLength\": 2187,\n",
       "      \"Value\": \"RBTCFDTCEARCCDADTCGDEAPCEAUCXCFDGDHDEAADTCGDGDPCVCTCSAEAXBCDKDEAXCGDEACBTAVABBTAWAUAVACB99999999999999999999999999999999999999999999999999999999999999999999999999999999999999999999999999999999999999999999999999999999999999999999999999999999999999999999999999999999999999999999999999999999999999999999999999999999999999999999999999999999999999999999999999999999999999999999999999999999999999999999999999999999999999999999999999999999999999999999999999999999999999999999999999999999999999999999999999999999999999999999999999999999999999999999999999999999999999999999999999999999999999999999999999999999999999999999999999999999999999999999999999999999999999999999999999999999999999999999999999999999999999999999999999999999999999999999999999999999999999999999999999999999999999999999999999999999999999999999999999999999999999999999999999999999999999999999999999999999999999999999999999999999999999999999999999999999999999999999999999999999999999999999999999999999999999999999999999999999999999999999999999999999999999999999999999999999999999999999999999999999999999999999999999999999999999999999999999999999999999999999999999999999999999999999999999999999999999999999999999999999999999999999999999999999999999999999999999999999999999999999999999999999999999999999999999999999999999999999999999999999999999999999999999999999999999999999999999999999999999999999999999999999999999999999999999999999999999999999999999999999999999999999999999999999999999999999999999999999999999999999999999999999999999999999999999999999999999999999999999999999999999999999999999999999999999999999999999999999999999999999999999999999999999999999999999999999999999999999999999999999999999999999999999999999999999999999999999999999999999999999999999999999999999999999999999999999999999999999999999999999999999999999999999999999999999999999999999999999999999999999999999999999999999999999999999999999999999999999999999999999999999999999999999999999999999999999999999999999999999999999999999999999999999999999999999999999999999999999999999999999999999999999999999999999999999999999999999999999999999999999999999999999999999999999999999999999999999999999999999999999999999999999999999999999999999999999999999999999999\"\n",
       "    },\n",
       "    \"Hash\": null,\n",
       "    \"IsTail\": true,\n",
       "    \"LastIndex\": 1,\n",
       "    \"Nonce\": {\n",
       "      \"TrytesLength\": 27,\n",
       "      \"Value\": \"999999999999999999999999999\"\n",
       "    },\n",
       "    \"ObsoleteTag\": {\n",
       "      \"TrytesLength\": 27,\n",
       "      \"Value\": \"LWIBEK999IOTA999TUTORIAL999\"\n",
       "    },\n",
       "    \"Tag\": {\n",
       "      \"TrytesLength\": 27,\n",
       "      \"Value\": \"HRIBEK999IOTA999TUTORIAL999\"\n",
       "    },\n",
       "    \"Timestamp\": 0,\n",
       "    \"TrunkTransaction\": {\n",
       "      \"TrytesLength\": 81,\n",
       "      \"Value\": \"999999999999999999999999999999999999999999999999999999999999999999999999999999999\"\n",
       "    },\n",
       "    \"Value\": 0\n",
       "  },\n",
       "  {\n",
       "    \"Address\": {\n",
       "      \"Balance\": 0,\n",
       "      \"Checksum\": null,\n",
       "      \"KeyIndex\": 0,\n",
       "      \"PrivateKey\": null,\n",
       "      \"SecurityLevel\": 0,\n",
       "      \"SpentFrom\": false,\n",
       "      \"TrytesLength\": 81,\n",
       "      \"Value\": \"CYJV9DRIE9NCQJYLOYOJOGKQGOOELTWXVWUYGQSWCNODHJAHACADUAAHQ9ODUICCESOIVZABA9LTMM9RW\"\n",
       "    },\n",
       "    \"AttachmentTimestamp\": 999999999,\n",
       "    \"AttachmentTimestampLowerBound\": 999999999,\n",
       "    \"AttachmentTimestampUpperBound\": 999999999,\n",
       "    \"BranchTransaction\": {\n",
       "      \"TrytesLength\": 81,\n",
       "      \"Value\": \"999999999999999999999999999999999999999999999999999999999999999999999999999999999\"\n",
       "    },\n",
       "    \"BundleHash\": {\n",
       "      \"TrytesLength\": 81,\n",
       "      \"Value\": \"HMCU9CJIIGJLNCJJSYACUYZNFPDREPKLADUU9EHBEZNQUAHWGXJ9BZZHZPBLWXCXBHSLSKSLZZYFLVHZB\"\n",
       "    },\n",
       "    \"CurrentIndex\": 1,\n",
       "    \"Fragment\": {\n",
       "      \"IsEmpty\": false,\n",
       "      \"TrytesLength\": 2187,\n",
       "      \"Value\": \"RBTCFDTCEARCCDADTCGDEAPCEAGDTCRCCDBDSCEAADTCGDGDPCVCTCSAEAXBCDKDEAXCGDEACBTAVABBTAWAUAVACB999999999999999999999999999999999999999999999999999999999999999999999999999999999999999999999999999999999999999999999999999999999999999999999999999999999999999999999999999999999999999999999999999999999999999999999999999999999999999999999999999999999999999999999999999999999999999999999999999999999999999999999999999999999999999999999999999999999999999999999999999999999999999999999999999999999999999999999999999999999999999999999999999999999999999999999999999999999999999999999999999999999999999999999999999999999999999999999999999999999999999999999999999999999999999999999999999999999999999999999999999999999999999999999999999999999999999999999999999999999999999999999999999999999999999999999999999999999999999999999999999999999999999999999999999999999999999999999999999999999999999999999999999999999999999999999999999999999999999999999999999999999999999999999999999999999999999999999999999999999999999999999999999999999999999999999999999999999999999999999999999999999999999999999999999999999999999999999999999999999999999999999999999999999999999999999999999999999999999999999999999999999999999999999999999999999999999999999999999999999999999999999999999999999999999999999999999999999999999999999999999999999999999999999999999999999999999999999999999999999999999999999999999999999999999999999999999999999999999999999999999999999999999999999999999999999999999999999999999999999999999999999999999999999999999999999999999999999999999999999999999999999999999999999999999999999999999999999999999999999999999999999999999999999999999999999999999999999999999999999999999999999999999999999999999999999999999999999999999999999999999999999999999999999999999999999999999999999999999999999999999999999999999999999999999999999999999999999999999999999999999999999999999999999999999999999999999999999999999999999999999999999999999999999999999999999999999999999999999999999999999999999999999999999999999999999999999999999999999999999999999999999999999999999999999999999999999999999999999999999999999999999999999999999999999999999999999999999999999999999999999999999999999999999999999999999999999999999999999999999\"\n",
       "    },\n",
       "    \"Hash\": null,\n",
       "    \"IsTail\": false,\n",
       "    \"LastIndex\": 1,\n",
       "    \"Nonce\": {\n",
       "      \"TrytesLength\": 27,\n",
       "      \"Value\": \"999999999999999999999999999\"\n",
       "    },\n",
       "    \"ObsoleteTag\": {\n",
       "      \"TrytesLength\": 27,\n",
       "      \"Value\": \"HRIBEK999IOTA999TUTORIAL999\"\n",
       "    },\n",
       "    \"Tag\": {\n",
       "      \"TrytesLength\": 27,\n",
       "      \"Value\": \"HRIBEK999IOTA999TUTORIAL999\"\n",
       "    },\n",
       "    \"Timestamp\": 0,\n",
       "    \"TrunkTransaction\": {\n",
       "      \"TrytesLength\": 81,\n",
       "      \"Value\": \"999999999999999999999999999999999999999999999999999999999999999999999999999999999\"\n",
       "    },\n",
       "    \"Value\": 0\n",
       "  }\n",
       "]"
      ]
     },
     "metadata": {},
     "output_type": "display_data"
    }
   ],
   "source": [
    "//preparing bundle that consists of both transactions prepared in the previous example\n",
    "var bundle = new Bundle();\n",
    "\n",
    "bundle.AddTransfer(pt);\n",
    "bundle.AddTransfer(pt2);\n",
    "\n",
    "//generate a bundle hash using sponge/absorb function + normalize bundle hash + copy bundle hash into each transaction / bundle\n",
    "bundle.Finalize();\n",
    "bundle.Sign();\n",
    "\n",
    "Console.WriteLine(\"Generated bundle hash: \" + bundle.Hash.ToString());\n",
    "Console.WriteLine(\"Tail Transaction in the Bundle is a transaction #\" + bundle.TailTransaction.CurrentIndex + \".\");\n",
    "\n",
    "Console.WriteLine(\"List of all transactions in the bundle:\");\n",
    "Console.WriteLine(JsonConvert.SerializeObject(bundle.Transactions, Formatting.Indented));"
   ]
  },
  {
   "cell_type": "code",
   "execution_count": 10,
   "metadata": {},
   "outputs": [
    {
     "data": {
      "text/html": [
       "[\n",
       "  {\n",
       "    &quot;TrytesLength&quot;: 2673,\n",
       "    &quot;Value&quot;: &quot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quot;\n",
       "  },\n",
       "  {\n",
       "    &quot;TrytesLength&quot;: 2673,\n",
       "    &quot;Value&quot;: &quot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quot;\n",
       "  }\n",
       "]"
      ],
      "text/plain": [
       "[\n",
       "  {\n",
       "    \"TrytesLength\": 2673,\n",
       "    \"Value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n",
       "  },\n",
       "  {\n",
       "    \"TrytesLength\": 2673,\n",
       "    \"Value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n",
       "  }\n",
       "]"
      ]
     },
     "metadata": {},
     "output_type": "display_data"
    }
   ],
   "source": [
    "Console.WriteLine(JsonConvert.SerializeObject(bundle.ToTrytes(), Formatting.Indented)); //bundle as trytes - there is no bundle just transactions"
   ]
  },
  {
   "cell_type": "code",
   "execution_count": 11,
   "metadata": {},
   "outputs": [
    {
     "data": {
      "text/html": [
       "{\n",
       "  &quot;BranchTransaction&quot;: {\n",
       "    &quot;TrytesLength&quot;: 81,\n",
       "    &quot;Value&quot;: &quot;KAIQDBQEOHPOQELQZXIMICACCRPHGAZCZAUAUKZVSRZLKUD9BBKKAMNNBGUTQTKLVMLGGO9ZZLWKA9999&quot;\n",
       "  },\n",
       "  &quot;Duration&quot;: 190,\n",
       "  &quot;TrunkTransaction&quot;: {\n",
       "    &quot;TrytesLength&quot;: 81,\n",
       "    &quot;Value&quot;: &quot;AZYDOXZLYNILMCSCWBXRPNNXWFZGTHOVSEQBYMKEXBZZRKWTPHSWPZCERVSPHUXPXAEGEILXITVA99999&quot;\n",
       "  }\n",
       "}"
      ],
      "text/plain": [
       "{\n",
       "  \"BranchTransaction\": {\n",
       "    \"TrytesLength\": 81,\n",
       "    \"Value\": \"KAIQDBQEOHPOQELQZXIMICACCRPHGAZCZAUAUKZVSRZLKUD9BBKKAMNNBGUTQTKLVMLGGO9ZZLWKA9999\"\n",
       "  },\n",
       "  \"Duration\": 190,\n",
       "  \"TrunkTransaction\": {\n",
       "    \"TrytesLength\": 81,\n",
       "    \"Value\": \"AZYDOXZLYNILMCSCWBXRPNNXWFZGTHOVSEQBYMKEXBZZRKWTPHSWPZCERVSPHUXPXAEGEILXITVA99999\"\n",
       "  }\n",
       "}"
      ]
     },
     "metadata": {},
     "output_type": "display_data"
    }
   ],
   "source": [
    "#r \"RestSharp.dll\"\n",
    "using RestSharp;\n",
    "using Tangle.Net.Repository;\n",
    "\n",
    "var NodeURL = \"https://nodes.thetangle.org:443\";\n",
    "var repo = new RestIotaRepository(new RestClient(NodeURL)); // ctor initialization of the Tangle.Net library\n",
    "\n",
    "var gta = repo.GetTransactionsToApprove(3);\n",
    "Console.WriteLine(JsonConvert.SerializeObject(gta, Formatting.Indented));"
   ]
  },
  {
   "cell_type": "code",
   "execution_count": 12,
   "metadata": {},
   "outputs": [
    {
     "data": {
      "text/html": [
       "Performing POW... Wait please..."
      ],
      "text/plain": [
       "Performing POW... Wait please..."
      ]
     },
     "metadata": {},
     "output_type": "display_data"
    },
    {
     "data": {
      "text/html": [
       "[\n",
       "  {\n",
       "    &quot;TrytesLength&quot;: 2673,\n",
       "    &quot;Value&quot;: &quot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quot;\n",
       "  },\n",
       "  {\n",
       "    &quot;TrytesLength&quot;: 2673,\n",
       "    &quot;Value&quot;: &quot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quot;\n",
       "  }\n",
       "]"
      ],
      "text/plain": [
       "[\n",
       "  {\n",
       "    \"TrytesLength\": 2673,\n",
       "    \"Value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n",
       "  },\n",
       "  {\n",
       "    \"TrytesLength\": 2673,\n",
       "    \"Value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n",
       "  }\n",
       "]"
      ]
     },
     "metadata": {},
     "output_type": "display_data"
    }
   ],
   "source": [
    "Console.WriteLine(\"Performing POW... Wait please...\");\n",
    "var att = repo.AttachToTangle(branchTransaction: gta.BranchTransaction, //first tip selected\n",
    "                              trunkTransaction: gta.TrunkTransaction, //second tip selected\n",
    "                              transactions: bundle.Transactions, //our finalized transactions\n",
    "                              minWeightMagnitude: 14); // MWMN\n",
    "\n",
    "Console.WriteLine(JsonConvert.SerializeObject(att, Formatting.Indented));"
   ]
  },
  {
   "cell_type": "code",
   "execution_count": 13,
   "metadata": {},
   "outputs": [
    {
     "data": {
      "text/html": [
       "Final bundle including POW and branch/trunk transactions:"
      ],
      "text/plain": [
       "Final bundle including POW and branch/trunk transactions:"
      ]
     },
     "metadata": {},
     "output_type": "display_data"
    },
    {
     "data": {
      "text/html": [
       "{\n",
       "  &quot;Address&quot;: {\n",
       "    &quot;Balance&quot;: 0,\n",
       "    &quot;Checksum&quot;: null,\n",
       "    &quot;KeyIndex&quot;: 0,\n",
       "    &quot;PrivateKey&quot;: null,\n",
       "    &quot;SecurityLevel&quot;: 0,\n",
       "    &quot;SpentFrom&quot;: false,\n",
       "    &quot;TrytesLength&quot;: 81,\n",
       "    &quot;Value&quot;: &quot;CYJV9DRIE9NCQJYLOYOJOGKQGOOELTWXVWUYGQSWCNODHJAHACADUAAHQ9ODUICCESOIVZABA9LTMM9RW&quot;\n",
       "  },\n",
       "  &quot;AttachmentTimestamp&quot;: 1568818706823,\n",
       "  &quot;AttachmentTimestampLowerBound&quot;: 0,\n",
       "  &quot;AttachmentTimestampUpperBound&quot;: 3812798742493,\n",
       "  &quot;BranchTransaction&quot;: {\n",
       "    &quot;TrytesLength&quot;: 81,\n",
       "    &quot;Value&quot;: &quot;KAIQDBQEOHPOQELQZXIMICACCRPHGAZCZAUAUKZVSRZLKUD9BBKKAMNNBGUTQTKLVMLGGO9ZZLWKA9999&quot;\n",
       "  },\n",
       "  &quot;BundleHash&quot;: {\n",
       "    &quot;TrytesLength&quot;: 81,\n",
       "    &quot;Value&quot;: &quot;HMCU9CJIIGJLNCJJSYACUYZNFPDREPKLADUU9EHBEZNQUAHWGXJ9BZZHZPBLWXCXBHSLSKSLZZYFLVHZB&quot;\n",
       "  },\n",
       "  &quot;CurrentIndex&quot;: 1,\n",
       "  &quot;Fragment&quot;: {\n",
       "    &quot;IsEmpty&quot;: false,\n",
       "    &quot;TrytesLength&quot;: 2187,\n",
       "    &quot;Value&quot;: &quot;RBTCFDTCEARCCDADTCGDEAPCEAGDTCRCCDBDSCEAADTCGDGDPCVCTCSAEAXBCDKDEAXCGDEACBTAVABBTAWAUAVACB999999999999999999999999999999999999999999999999999999999999999999999999999999999999999999999999999999999999999999999999999999999999999999999999999999999999999999999999999999999999999999999999999999999999999999999999999999999999999999999999999999999999999999999999999999999999999999999999999999999999999999999999999999999999999999999999999999999999999999999999999999999999999999999999999999999999999999999999999999999999999999999999999999999999999999999999999999999999999999999999999999999999999999999999999999999999999999999999999999999999999999999999999999999999999999999999999999999999999999999999999999999999999999999999999999999999999999999999999999999999999999999999999999999999999999999999999999999999999999999999999999999999999999999999999999999999999999999999999999999999999999999999999999999999999999999999999999999999999999999999999999999999999999999999999999999999999999999999999999999999999999999999999999999999999999999999999999999999999999999999999999999999999999999999999999999999999999999999999999999999999999999999999999999999999999999999999999999999999999999999999999999999999999999999999999999999999999999999999999999999999999999999999999999999999999999999999999999999999999999999999999999999999999999999999999999999999999999999999999999999999999999999999999999999999999999999999999999999999999999999999999999999999999999999999999999999999999999999999999999999999999999999999999999999999999999999999999999999999999999999999999999999999999999999999999999999999999999999999999999999999999999999999999999999999999999999999999999999999999999999999999999999999999999999999999999999999999999999999999999999999999999999999999999999999999999999999999999999999999999999999999999999999999999999999999999999999999999999999999999999999999999999999999999999999999999999999999999999999999999999999999999999999999999999999999999999999999999999999999999999999999999999999999999999999999999999999999999999999999999999999999999999999999999999999999999999999999999999999999999999999999999999999999999999999999999999999999999999999999999999999999999999999999999999999999999999999999999999999999999&quot;\n",
       "  },\n",
       "  &quot;Hash&quot;: {\n",
       "    &quot;TrytesLength&quot;: 81,\n",
       "    &quot;Value&quot;: &quot;OYHIDWXOYTIDSLXUYVPTYJSYSUYGME9OWRFNKISZGENKAJWCAQTDRJXFCJKXBBNHROIGZBNYRXSY99999&quot;\n",
       "  },\n",
       "  &quot;IsTail&quot;: false,\n",
       "  &quot;LastIndex&quot;: 1,\n",
       "  &quot;Nonce&quot;: {\n",
       "    &quot;TrytesLength&quot;: 27,\n",
       "    &quot;Value&quot;: &quot;NYHCWZKAFTLDYXZGUXQN9CGWORG&quot;\n",
       "  },\n",
       "  &quot;ObsoleteTag&quot;: {\n",
       "    &quot;TrytesLength&quot;: 27,\n",
       "    &quot;Value&quot;: &quot;HRIBEK999IOTA999TUTORIAL999&quot;\n",
       "  },\n",
       "  &quot;Tag&quot;: {\n",
       "    &quot;TrytesLength&quot;: 27,\n",
       "    &quot;Value&quot;: &quot;HRIBEK999IOTA999TUTORIAL999&quot;\n",
       "  },\n",
       "  &quot;Timestamp&quot;: 0,\n",
       "  &quot;TrunkTransaction&quot;: {\n",
       "    &quot;TrytesLength&quot;: 81,\n",
       "    &quot;Value&quot;: &quot;AZYDOXZLYNILMCSCWBXRPNNXWFZGTHOVSEQBYMKEXBZZRKWTPHSWPZCERVSPHUXPXAEGEILXITVA99999&quot;\n",
       "  },\n",
       "  &quot;Value&quot;: 0\n",
       "}"
      ],
      "text/plain": [
       "{\n",
       "  \"Address\": {\n",
       "    \"Balance\": 0,\n",
       "    \"Checksum\": null,\n",
       "    \"KeyIndex\": 0,\n",
       "    \"PrivateKey\": null,\n",
       "    \"SecurityLevel\": 0,\n",
       "    \"SpentFrom\": false,\n",
       "    \"TrytesLength\": 81,\n",
       "    \"Value\": \"CYJV9DRIE9NCQJYLOYOJOGKQGOOELTWXVWUYGQSWCNODHJAHACADUAAHQ9ODUICCESOIVZABA9LTMM9RW\"\n",
       "  },\n",
       "  \"AttachmentTimestamp\": 1568818706823,\n",
       "  \"AttachmentTimestampLowerBound\": 0,\n",
       "  \"AttachmentTimestampUpperBound\": 3812798742493,\n",
       "  \"BranchTransaction\": {\n",
       "    \"TrytesLength\": 81,\n",
       "    \"Value\": \"KAIQDBQEOHPOQELQZXIMICACCRPHGAZCZAUAUKZVSRZLKUD9BBKKAMNNBGUTQTKLVMLGGO9ZZLWKA9999\"\n",
       "  },\n",
       "  \"BundleHash\": {\n",
       "    \"TrytesLength\": 81,\n",
       "    \"Value\": \"HMCU9CJIIGJLNCJJSYACUYZNFPDREPKLADUU9EHBEZNQUAHWGXJ9BZZHZPBLWXCXBHSLSKSLZZYFLVHZB\"\n",
       "  },\n",
       "  \"CurrentIndex\": 1,\n",
       "  \"Fragment\": {\n",
       "    \"IsEmpty\": false,\n",
       "    \"TrytesLength\": 2187,\n",
       "    \"Value\": \"RBTCFDTCEARCCDADTCGDEAPCEAGDTCRCCDBDSCEAADTCGDGDPCVCTCSAEAXBCDKDEAXCGDEACBTAVABBTAWAUAVACB999999999999999999999999999999999999999999999999999999999999999999999999999999999999999999999999999999999999999999999999999999999999999999999999999999999999999999999999999999999999999999999999999999999999999999999999999999999999999999999999999999999999999999999999999999999999999999999999999999999999999999999999999999999999999999999999999999999999999999999999999999999999999999999999999999999999999999999999999999999999999999999999999999999999999999999999999999999999999999999999999999999999999999999999999999999999999999999999999999999999999999999999999999999999999999999999999999999999999999999999999999999999999999999999999999999999999999999999999999999999999999999999999999999999999999999999999999999999999999999999999999999999999999999999999999999999999999999999999999999999999999999999999999999999999999999999999999999999999999999999999999999999999999999999999999999999999999999999999999999999999999999999999999999999999999999999999999999999999999999999999999999999999999999999999999999999999999999999999999999999999999999999999999999999999999999999999999999999999999999999999999999999999999999999999999999999999999999999999999999999999999999999999999999999999999999999999999999999999999999999999999999999999999999999999999999999999999999999999999999999999999999999999999999999999999999999999999999999999999999999999999999999999999999999999999999999999999999999999999999999999999999999999999999999999999999999999999999999999999999999999999999999999999999999999999999999999999999999999999999999999999999999999999999999999999999999999999999999999999999999999999999999999999999999999999999999999999999999999999999999999999999999999999999999999999999999999999999999999999999999999999999999999999999999999999999999999999999999999999999999999999999999999999999999999999999999999999999999999999999999999999999999999999999999999999999999999999999999999999999999999999999999999999999999999999999999999999999999999999999999999999999999999999999999999999999999999999999999999999999999999999999999999999999999999999999999999999999999999999999999999999999999999999999999999999999999999999999999999999999\"\n",
       "  },\n",
       "  \"Hash\": {\n",
       "    \"TrytesLength\": 81,\n",
       "    \"Value\": \"OYHIDWXOYTIDSLXUYVPTYJSYSUYGME9OWRFNKISZGENKAJWCAQTDRJXFCJKXBBNHROIGZBNYRXSY99999\"\n",
       "  },\n",
       "  \"IsTail\": false,\n",
       "  \"LastIndex\": 1,\n",
       "  \"Nonce\": {\n",
       "    \"TrytesLength\": 27,\n",
       "    \"Value\": \"NYHCWZKAFTLDYXZGUXQN9CGWORG\"\n",
       "  },\n",
       "  \"ObsoleteTag\": {\n",
       "    \"TrytesLength\": 27,\n",
       "    \"Value\": \"HRIBEK999IOTA999TUTORIAL999\"\n",
       "  },\n",
       "  \"Tag\": {\n",
       "    \"TrytesLength\": 27,\n",
       "    \"Value\": \"HRIBEK999IOTA999TUTORIAL999\"\n",
       "  },\n",
       "  \"Timestamp\": 0,\n",
       "  \"TrunkTransaction\": {\n",
       "    \"TrytesLength\": 81,\n",
       "    \"Value\": \"AZYDOXZLYNILMCSCWBXRPNNXWFZGTHOVSEQBYMKEXBZZRKWTPHSWPZCERVSPHUXPXAEGEILXITVA99999\"\n",
       "  },\n",
       "  \"Value\": 0\n",
       "}"
      ]
     },
     "metadata": {},
     "output_type": "display_data"
    },
    {
     "data": {
      "text/html": [
       "{\n",
       "  &quot;Address&quot;: {\n",
       "    &quot;Balance&quot;: 0,\n",
       "    &quot;Checksum&quot;: null,\n",
       "    &quot;KeyIndex&quot;: 0,\n",
       "    &quot;PrivateKey&quot;: null,\n",
       "    &quot;SecurityLevel&quot;: 0,\n",
       "    &quot;SpentFrom&quot;: false,\n",
       "    &quot;TrytesLength&quot;: 81,\n",
       "    &quot;Value&quot;: &quot;CXDUYK9XGHC9DTSPDMKGGGXAIARSRVAFGHJOCDDHWADLVBBOEHLICHTMGKVDOGRU9TBESJNHAXYPVJ9R9&quot;\n",
       "  },\n",
       "  &quot;AttachmentTimestamp&quot;: 1568818710254,\n",
       "  &quot;AttachmentTimestampLowerBound&quot;: 0,\n",
       "  &quot;AttachmentTimestampUpperBound&quot;: 3812798742493,\n",
       "  &quot;BranchTransaction&quot;: {\n",
       "    &quot;TrytesLength&quot;: 81,\n",
       "    &quot;Value&quot;: &quot;AZYDOXZLYNILMCSCWBXRPNNXWFZGTHOVSEQBYMKEXBZZRKWTPHSWPZCERVSPHUXPXAEGEILXITVA99999&quot;\n",
       "  },\n",
       "  &quot;BundleHash&quot;: {\n",
       "    &quot;TrytesLength&quot;: 81,\n",
       "    &quot;Value&quot;: &quot;HMCU9CJIIGJLNCJJSYACUYZNFPDREPKLADUU9EHBEZNQUAHWGXJ9BZZHZPBLWXCXBHSLSKSLZZYFLVHZB&quot;\n",
       "  },\n",
       "  &quot;CurrentIndex&quot;: 0,\n",
       "  &quot;Fragment&quot;: {\n",
       "    &quot;IsEmpty&quot;: false,\n",
       "    &quot;TrytesLength&quot;: 2187,\n",
       "    &quot;Value&quot;: &quot;RBTCFDTCEARCCDADTCGDEAPCEAUCXCFDGDHDEAADTCGDGDPCVCTCSAEAXBCDKDEAXCGDEACBTAVABBTAWAUAVACB99999999999999999999999999999999999999999999999999999999999999999999999999999999999999999999999999999999999999999999999999999999999999999999999999999999999999999999999999999999999999999999999999999999999999999999999999999999999999999999999999999999999999999999999999999999999999999999999999999999999999999999999999999999999999999999999999999999999999999999999999999999999999999999999999999999999999999999999999999999999999999999999999999999999999999999999999999999999999999999999999999999999999999999999999999999999999999999999999999999999999999999999999999999999999999999999999999999999999999999999999999999999999999999999999999999999999999999999999999999999999999999999999999999999999999999999999999999999999999999999999999999999999999999999999999999999999999999999999999999999999999999999999999999999999999999999999999999999999999999999999999999999999999999999999999999999999999999999999999999999999999999999999999999999999999999999999999999999999999999999999999999999999999999999999999999999999999999999999999999999999999999999999999999999999999999999999999999999999999999999999999999999999999999999999999999999999999999999999999999999999999999999999999999999999999999999999999999999999999999999999999999999999999999999999999999999999999999999999999999999999999999999999999999999999999999999999999999999999999999999999999999999999999999999999999999999999999999999999999999999999999999999999999999999999999999999999999999999999999999999999999999999999999999999999999999999999999999999999999999999999999999999999999999999999999999999999999999999999999999999999999999999999999999999999999999999999999999999999999999999999999999999999999999999999999999999999999999999999999999999999999999999999999999999999999999999999999999999999999999999999999999999999999999999999999999999999999999999999999999999999999999999999999999999999999999999999999999999999999999999999999999999999999999999999999999999999999999999999999999999999999999999999999999999999999999999999999999999999999999999999999999999999999999999999999999999999999999999999999999999999999999999999999999999999999999999999999999999999999999999&quot;\n",
       "  },\n",
       "  &quot;Hash&quot;: {\n",
       "    &quot;TrytesLength&quot;: 81,\n",
       "    &quot;Value&quot;: &quot;RBE9XKMLBBTXFTNANSTOTW9VHWSAZJM9FBCALBQESWTOKURWQEAJUJEKQJXUOOSAIDXABSOJXMBB99999&quot;\n",
       "  },\n",
       "  &quot;IsTail&quot;: true,\n",
       "  &quot;LastIndex&quot;: 1,\n",
       "  &quot;Nonce&quot;: {\n",
       "    &quot;TrytesLength&quot;: 27,\n",
       "    &quot;Value&quot;: &quot;NXO9XFRKWJIPJOGSREFDHPHRIJQ&quot;\n",
       "  },\n",
       "  &quot;ObsoleteTag&quot;: {\n",
       "    &quot;TrytesLength&quot;: 27,\n",
       "    &quot;Value&quot;: &quot;LWIBEK999IOTA999TUTORIAL999&quot;\n",
       "  },\n",
       "  &quot;Tag&quot;: {\n",
       "    &quot;TrytesLength&quot;: 27,\n",
       "    &quot;Value&quot;: &quot;HRIBEK999IOTA999TUTORIAL999&quot;\n",
       "  },\n",
       "  &quot;Timestamp&quot;: 0,\n",
       "  &quot;TrunkTransaction&quot;: {\n",
       "    &quot;TrytesLength&quot;: 81,\n",
       "    &quot;Value&quot;: &quot;OYHIDWXOYTIDSLXUYVPTYJSYSUYGME9OWRFNKISZGENKAJWCAQTDRJXFCJKXBBNHROIGZBNYRXSY99999&quot;\n",
       "  },\n",
       "  &quot;Value&quot;: 0\n",
       "}"
      ],
      "text/plain": [
       "{\n",
       "  \"Address\": {\n",
       "    \"Balance\": 0,\n",
       "    \"Checksum\": null,\n",
       "    \"KeyIndex\": 0,\n",
       "    \"PrivateKey\": null,\n",
       "    \"SecurityLevel\": 0,\n",
       "    \"SpentFrom\": false,\n",
       "    \"TrytesLength\": 81,\n",
       "    \"Value\": \"CXDUYK9XGHC9DTSPDMKGGGXAIARSRVAFGHJOCDDHWADLVBBOEHLICHTMGKVDOGRU9TBESJNHAXYPVJ9R9\"\n",
       "  },\n",
       "  \"AttachmentTimestamp\": 1568818710254,\n",
       "  \"AttachmentTimestampLowerBound\": 0,\n",
       "  \"AttachmentTimestampUpperBound\": 3812798742493,\n",
       "  \"BranchTransaction\": {\n",
       "    \"TrytesLength\": 81,\n",
       "    \"Value\": \"AZYDOXZLYNILMCSCWBXRPNNXWFZGTHOVSEQBYMKEXBZZRKWTPHSWPZCERVSPHUXPXAEGEILXITVA99999\"\n",
       "  },\n",
       "  \"BundleHash\": {\n",
       "    \"TrytesLength\": 81,\n",
       "    \"Value\": \"HMCU9CJIIGJLNCJJSYACUYZNFPDREPKLADUU9EHBEZNQUAHWGXJ9BZZHZPBLWXCXBHSLSKSLZZYFLVHZB\"\n",
       "  },\n",
       "  \"CurrentIndex\": 0,\n",
       "  \"Fragment\": {\n",
       "    \"IsEmpty\": false,\n",
       "    \"TrytesLength\": 2187,\n",
       "    \"Value\": \"RBTCFDTCEARCCDADTCGDEAPCEAUCXCFDGDHDEAADTCGDGDPCVCTCSAEAXBCDKDEAXCGDEACBTAVABBTAWAUAVACB99999999999999999999999999999999999999999999999999999999999999999999999999999999999999999999999999999999999999999999999999999999999999999999999999999999999999999999999999999999999999999999999999999999999999999999999999999999999999999999999999999999999999999999999999999999999999999999999999999999999999999999999999999999999999999999999999999999999999999999999999999999999999999999999999999999999999999999999999999999999999999999999999999999999999999999999999999999999999999999999999999999999999999999999999999999999999999999999999999999999999999999999999999999999999999999999999999999999999999999999999999999999999999999999999999999999999999999999999999999999999999999999999999999999999999999999999999999999999999999999999999999999999999999999999999999999999999999999999999999999999999999999999999999999999999999999999999999999999999999999999999999999999999999999999999999999999999999999999999999999999999999999999999999999999999999999999999999999999999999999999999999999999999999999999999999999999999999999999999999999999999999999999999999999999999999999999999999999999999999999999999999999999999999999999999999999999999999999999999999999999999999999999999999999999999999999999999999999999999999999999999999999999999999999999999999999999999999999999999999999999999999999999999999999999999999999999999999999999999999999999999999999999999999999999999999999999999999999999999999999999999999999999999999999999999999999999999999999999999999999999999999999999999999999999999999999999999999999999999999999999999999999999999999999999999999999999999999999999999999999999999999999999999999999999999999999999999999999999999999999999999999999999999999999999999999999999999999999999999999999999999999999999999999999999999999999999999999999999999999999999999999999999999999999999999999999999999999999999999999999999999999999999999999999999999999999999999999999999999999999999999999999999999999999999999999999999999999999999999999999999999999999999999999999999999999999999999999999999999999999999999999999999999999999999999999999999999999999999999999999999999999999999999999999999999999999999999999999999999999999\"\n",
       "  },\n",
       "  \"Hash\": {\n",
       "    \"TrytesLength\": 81,\n",
       "    \"Value\": \"RBE9XKMLBBTXFTNANSTOTW9VHWSAZJM9FBCALBQESWTOKURWQEAJUJEKQJXUOOSAIDXABSOJXMBB99999\"\n",
       "  },\n",
       "  \"IsTail\": true,\n",
       "  \"LastIndex\": 1,\n",
       "  \"Nonce\": {\n",
       "    \"TrytesLength\": 27,\n",
       "    \"Value\": \"NXO9XFRKWJIPJOGSREFDHPHRIJQ\"\n",
       "  },\n",
       "  \"ObsoleteTag\": {\n",
       "    \"TrytesLength\": 27,\n",
       "    \"Value\": \"LWIBEK999IOTA999TUTORIAL999\"\n",
       "  },\n",
       "  \"Tag\": {\n",
       "    \"TrytesLength\": 27,\n",
       "    \"Value\": \"HRIBEK999IOTA999TUTORIAL999\"\n",
       "  },\n",
       "  \"Timestamp\": 0,\n",
       "  \"TrunkTransaction\": {\n",
       "    \"TrytesLength\": 81,\n",
       "    \"Value\": \"OYHIDWXOYTIDSLXUYVPTYJSYSUYGME9OWRFNKISZGENKAJWCAQTDRJXFCJKXBBNHROIGZBNYRXSY99999\"\n",
       "  },\n",
       "  \"Value\": 0\n",
       "}"
      ]
     },
     "metadata": {},
     "output_type": "display_data"
    }
   ],
   "source": [
    "// show what has been broadcasted - hash transaction + nonce (POW)\n",
    "\n",
    "Console.WriteLine(\"Final bundle including POW and branch/trunk transactions:\");\n",
    "\n",
    "foreach (var tr in att)\n",
    "{\n",
    "    Console.WriteLine(JsonConvert.SerializeObject(Transaction.FromTrytes(tr), Formatting.Indented));\n",
    "}"
   ]
  },
  {
   "cell_type": "code",
   "execution_count": 14,
   "metadata": {},
   "outputs": [
    {
     "data": {
      "text/html": [
       "Broadcasting transactions..."
      ],
      "text/plain": [
       "Broadcasting transactions..."
      ]
     },
     "metadata": {},
     "output_type": "display_data"
    },
    {
     "data": {
      "text/html": [
       "Broadcasted."
      ],
      "text/plain": [
       "Broadcasted."
      ]
     },
     "metadata": {},
     "output_type": "display_data"
    }
   ],
   "source": [
    "Console.WriteLine(\"Broadcasting transactions...\");\n",
    "repo.BroadcastAndStoreTransactions(att);\n",
    "Console.WriteLine(\"Broadcasted.\");      "
   ]
  },
  {
   "cell_type": "code",
   "execution_count": 2,
   "metadata": {},
   "outputs": [
    {
     "data": {
      "text/html": [
       "Preparing/Broadcasting... Wait please..."
      ],
      "text/plain": [
       "Preparing/Broadcasting... Wait please..."
      ]
     },
     "metadata": {},
     "output_type": "display_data"
    },
    {
     "data": {
      "text/html": [
       "Generated bundle hash: HMCU9CJIIGJLNCJJSYACUYZNFPDREPKLADUU9EHBEZNQUAHWGXJ9BZZHZPBLWXCXBHSLSKSLZZYFLVHZB"
      ],
      "text/plain": [
       "Generated bundle hash: HMCU9CJIIGJLNCJJSYACUYZNFPDREPKLADUU9EHBEZNQUAHWGXJ9BZZHZPBLWXCXBHSLSKSLZZYFLVHZB"
      ]
     },
     "metadata": {},
     "output_type": "display_data"
    },
    {
     "data": {
      "text/html": [
       "Tail Transaction in the Bundle is a transaction #0."
      ],
      "text/plain": [
       "Tail Transaction in the Bundle is a transaction #0."
      ]
     },
     "metadata": {},
     "output_type": "display_data"
    },
    {
     "data": {
      "text/html": [
       "List of all transactions in the bundle:"
      ],
      "text/plain": [
       "List of all transactions in the bundle:"
      ]
     },
     "metadata": {},
     "output_type": "display_data"
    },
    {
     "data": {
      "text/html": [
       "{\n",
       "  &quot;Address&quot;: {\n",
       "    &quot;Balance&quot;: 0,\n",
       "    &quot;Checksum&quot;: null,\n",
       "    &quot;KeyIndex&quot;: 0,\n",
       "    &quot;PrivateKey&quot;: null,\n",
       "    &quot;SecurityLevel&quot;: 0,\n",
       "    &quot;SpentFrom&quot;: false,\n",
       "    &quot;TrytesLength&quot;: 81,\n",
       "    &quot;Value&quot;: &quot;CXDUYK9XGHC9DTSPDMKGGGXAIARSRVAFGHJOCDDHWADLVBBOEHLICHTMGKVDOGRU9TBESJNHAXYPVJ9R9&quot;\n",
       "  },\n",
       "  &quot;AttachmentTimestamp&quot;: 1568821547502,\n",
       "  &quot;AttachmentTimestampLowerBound&quot;: 0,\n",
       "  &quot;AttachmentTimestampUpperBound&quot;: 3812798742493,\n",
       "  &quot;BranchTransaction&quot;: {\n",
       "    &quot;TrytesLength&quot;: 81,\n",
       "    &quot;Value&quot;: &quot;FJLKIGRKBQSZACPBIGWVCMNWAMKJIUXAGETZOGKW9YZFSKAATWTKVXFERUBZXUJEAAGX9SFNBQEGA9999&quot;\n",
       "  },\n",
       "  &quot;BundleHash&quot;: {\n",
       "    &quot;TrytesLength&quot;: 81,\n",
       "    &quot;Value&quot;: &quot;HMCU9CJIIGJLNCJJSYACUYZNFPDREPKLADUU9EHBEZNQUAHWGXJ9BZZHZPBLWXCXBHSLSKSLZZYFLVHZB&quot;\n",
       "  },\n",
       "  &quot;CurrentIndex&quot;: 0,\n",
       "  &quot;Fragment&quot;: {\n",
       "    &quot;IsEmpty&quot;: false,\n",
       "    &quot;TrytesLength&quot;: 2187,\n",
       "    &quot;Value&quot;: &quot;RBTCFDTCEARCCDADTCGDEAPCEAUCXCFDGDHDEAADTCGDGDPCVCTCSAEAXBCDKDEAXCGDEACBTAVABBTAWAUAVACB99999999999999999999999999999999999999999999999999999999999999999999999999999999999999999999999999999999999999999999999999999999999999999999999999999999999999999999999999999999999999999999999999999999999999999999999999999999999999999999999999999999999999999999999999999999999999999999999999999999999999999999999999999999999999999999999999999999999999999999999999999999999999999999999999999999999999999999999999999999999999999999999999999999999999999999999999999999999999999999999999999999999999999999999999999999999999999999999999999999999999999999999999999999999999999999999999999999999999999999999999999999999999999999999999999999999999999999999999999999999999999999999999999999999999999999999999999999999999999999999999999999999999999999999999999999999999999999999999999999999999999999999999999999999999999999999999999999999999999999999999999999999999999999999999999999999999999999999999999999999999999999999999999999999999999999999999999999999999999999999999999999999999999999999999999999999999999999999999999999999999999999999999999999999999999999999999999999999999999999999999999999999999999999999999999999999999999999999999999999999999999999999999999999999999999999999999999999999999999999999999999999999999999999999999999999999999999999999999999999999999999999999999999999999999999999999999999999999999999999999999999999999999999999999999999999999999999999999999999999999999999999999999999999999999999999999999999999999999999999999999999999999999999999999999999999999999999999999999999999999999999999999999999999999999999999999999999999999999999999999999999999999999999999999999999999999999999999999999999999999999999999999999999999999999999999999999999999999999999999999999999999999999999999999999999999999999999999999999999999999999999999999999999999999999999999999999999999999999999999999999999999999999999999999999999999999999999999999999999999999999999999999999999999999999999999999999999999999999999999999999999999999999999999999999999999999999999999999999999999999999999999999999999999999999999999999999999999999999999999999999999999999999999999999999999999999999999999999999999999999&quot;\n",
       "  },\n",
       "  &quot;Hash&quot;: {\n",
       "    &quot;TrytesLength&quot;: 81,\n",
       "    &quot;Value&quot;: &quot;UBYOAKEZQVNLJGWFDOAZMSLQAENFXCQXLDAVEDGOIDR9GVTRCGWCZOQQXACSMFLNLKGORPSVYFVYA9999&quot;\n",
       "  },\n",
       "  &quot;IsTail&quot;: true,\n",
       "  &quot;LastIndex&quot;: 1,\n",
       "  &quot;Nonce&quot;: {\n",
       "    &quot;TrytesLength&quot;: 27,\n",
       "    &quot;Value&quot;: &quot;XCTWK9RUPQKE9SKVCKUPFSKMRK9&quot;\n",
       "  },\n",
       "  &quot;ObsoleteTag&quot;: {\n",
       "    &quot;TrytesLength&quot;: 27,\n",
       "    &quot;Value&quot;: &quot;LWIBEK999IOTA999TUTORIAL999&quot;\n",
       "  },\n",
       "  &quot;Tag&quot;: {\n",
       "    &quot;TrytesLength&quot;: 27,\n",
       "    &quot;Value&quot;: &quot;HRIBEK999IOTA999TUTORIAL999&quot;\n",
       "  },\n",
       "  &quot;Timestamp&quot;: 0,\n",
       "  &quot;TrunkTransaction&quot;: {\n",
       "    &quot;TrytesLength&quot;: 81,\n",
       "    &quot;Value&quot;: &quot;HWDLLFJQNSYKBLARRVAZUSQPKI9UQJGFRTPMZIGBIHERXDNDLZVHGCMGLVOGSZBVJMW9FBTWKIKL99999&quot;\n",
       "  },\n",
       "  &quot;Value&quot;: 0\n",
       "}"
      ],
      "text/plain": [
       "{\n",
       "  \"Address\": {\n",
       "    \"Balance\": 0,\n",
       "    \"Checksum\": null,\n",
       "    \"KeyIndex\": 0,\n",
       "    \"PrivateKey\": null,\n",
       "    \"SecurityLevel\": 0,\n",
       "    \"SpentFrom\": false,\n",
       "    \"TrytesLength\": 81,\n",
       "    \"Value\": \"CXDUYK9XGHC9DTSPDMKGGGXAIARSRVAFGHJOCDDHWADLVBBOEHLICHTMGKVDOGRU9TBESJNHAXYPVJ9R9\"\n",
       "  },\n",
       "  \"AttachmentTimestamp\": 1568821547502,\n",
       "  \"AttachmentTimestampLowerBound\": 0,\n",
       "  \"AttachmentTimestampUpperBound\": 3812798742493,\n",
       "  \"BranchTransaction\": {\n",
       "    \"TrytesLength\": 81,\n",
       "    \"Value\": \"FJLKIGRKBQSZACPBIGWVCMNWAMKJIUXAGETZOGKW9YZFSKAATWTKVXFERUBZXUJEAAGX9SFNBQEGA9999\"\n",
       "  },\n",
       "  \"BundleHash\": {\n",
       "    \"TrytesLength\": 81,\n",
       "    \"Value\": \"HMCU9CJIIGJLNCJJSYACUYZNFPDREPKLADUU9EHBEZNQUAHWGXJ9BZZHZPBLWXCXBHSLSKSLZZYFLVHZB\"\n",
       "  },\n",
       "  \"CurrentIndex\": 0,\n",
       "  \"Fragment\": {\n",
       "    \"IsEmpty\": false,\n",
       "    \"TrytesLength\": 2187,\n",
       "    \"Value\": \"RBTCFDTCEARCCDADTCGDEAPCEAUCXCFDGDHDEAADTCGDGDPCVCTCSAEAXBCDKDEAXCGDEACBTAVABBTAWAUAVACB99999999999999999999999999999999999999999999999999999999999999999999999999999999999999999999999999999999999999999999999999999999999999999999999999999999999999999999999999999999999999999999999999999999999999999999999999999999999999999999999999999999999999999999999999999999999999999999999999999999999999999999999999999999999999999999999999999999999999999999999999999999999999999999999999999999999999999999999999999999999999999999999999999999999999999999999999999999999999999999999999999999999999999999999999999999999999999999999999999999999999999999999999999999999999999999999999999999999999999999999999999999999999999999999999999999999999999999999999999999999999999999999999999999999999999999999999999999999999999999999999999999999999999999999999999999999999999999999999999999999999999999999999999999999999999999999999999999999999999999999999999999999999999999999999999999999999999999999999999999999999999999999999999999999999999999999999999999999999999999999999999999999999999999999999999999999999999999999999999999999999999999999999999999999999999999999999999999999999999999999999999999999999999999999999999999999999999999999999999999999999999999999999999999999999999999999999999999999999999999999999999999999999999999999999999999999999999999999999999999999999999999999999999999999999999999999999999999999999999999999999999999999999999999999999999999999999999999999999999999999999999999999999999999999999999999999999999999999999999999999999999999999999999999999999999999999999999999999999999999999999999999999999999999999999999999999999999999999999999999999999999999999999999999999999999999999999999999999999999999999999999999999999999999999999999999999999999999999999999999999999999999999999999999999999999999999999999999999999999999999999999999999999999999999999999999999999999999999999999999999999999999999999999999999999999999999999999999999999999999999999999999999999999999999999999999999999999999999999999999999999999999999999999999999999999999999999999999999999999999999999999999999999999999999999999999999999999999999999999999999999999999999999999999999999999999999999999999999999999999999\"\n",
       "  },\n",
       "  \"Hash\": {\n",
       "    \"TrytesLength\": 81,\n",
       "    \"Value\": \"UBYOAKEZQVNLJGWFDOAZMSLQAENFXCQXLDAVEDGOIDR9GVTRCGWCZOQQXACSMFLNLKGORPSVYFVYA9999\"\n",
       "  },\n",
       "  \"IsTail\": true,\n",
       "  \"LastIndex\": 1,\n",
       "  \"Nonce\": {\n",
       "    \"TrytesLength\": 27,\n",
       "    \"Value\": \"XCTWK9RUPQKE9SKVCKUPFSKMRK9\"\n",
       "  },\n",
       "  \"ObsoleteTag\": {\n",
       "    \"TrytesLength\": 27,\n",
       "    \"Value\": \"LWIBEK999IOTA999TUTORIAL999\"\n",
       "  },\n",
       "  \"Tag\": {\n",
       "    \"TrytesLength\": 27,\n",
       "    \"Value\": \"HRIBEK999IOTA999TUTORIAL999\"\n",
       "  },\n",
       "  \"Timestamp\": 0,\n",
       "  \"TrunkTransaction\": {\n",
       "    \"TrytesLength\": 81,\n",
       "    \"Value\": \"HWDLLFJQNSYKBLARRVAZUSQPKI9UQJGFRTPMZIGBIHERXDNDLZVHGCMGLVOGSZBVJMW9FBTWKIKL99999\"\n",
       "  },\n",
       "  \"Value\": 0\n",
       "}"
      ]
     },
     "metadata": {},
     "output_type": "display_data"
    },
    {
     "data": {
      "text/html": [
       "{\n",
       "  &quot;Address&quot;: {\n",
       "    &quot;Balance&quot;: 0,\n",
       "    &quot;Checksum&quot;: null,\n",
       "    &quot;KeyIndex&quot;: 0,\n",
       "    &quot;PrivateKey&quot;: null,\n",
       "    &quot;SecurityLevel&quot;: 0,\n",
       "    &quot;SpentFrom&quot;: false,\n",
       "    &quot;TrytesLength&quot;: 81,\n",
       "    &quot;Value&quot;: &quot;CYJV9DRIE9NCQJYLOYOJOGKQGOOELTWXVWUYGQSWCNODHJAHACADUAAHQ9ODUICCESOIVZABA9LTMM9RW&quot;\n",
       "  },\n",
       "  &quot;AttachmentTimestamp&quot;: 1568821537421,\n",
       "  &quot;AttachmentTimestampLowerBound&quot;: 0,\n",
       "  &quot;AttachmentTimestampUpperBound&quot;: 3812798742493,\n",
       "  &quot;BranchTransaction&quot;: {\n",
       "    &quot;TrytesLength&quot;: 81,\n",
       "    &quot;Value&quot;: &quot;ST9UIYSDLEFDUGCZOEODUHTRKZETSTBRNVWOWEXYLZHIUHOQJLMROASLDKNTCEOABFXIWNWUHMLJZ9999&quot;\n",
       "  },\n",
       "  &quot;BundleHash&quot;: {\n",
       "    &quot;TrytesLength&quot;: 81,\n",
       "    &quot;Value&quot;: &quot;HMCU9CJIIGJLNCJJSYACUYZNFPDREPKLADUU9EHBEZNQUAHWGXJ9BZZHZPBLWXCXBHSLSKSLZZYFLVHZB&quot;\n",
       "  },\n",
       "  &quot;CurrentIndex&quot;: 1,\n",
       "  &quot;Fragment&quot;: {\n",
       "    &quot;IsEmpty&quot;: false,\n",
       "    &quot;TrytesLength&quot;: 2187,\n",
       "    &quot;Value&quot;: &quot;RBTCFDTCEARCCDADTCGDEAPCEAGDTCRCCDBDSCEAADTCGDGDPCVCTCSAEAXBCDKDEAXCGDEACBTAVABBTAWAUAVACB999999999999999999999999999999999999999999999999999999999999999999999999999999999999999999999999999999999999999999999999999999999999999999999999999999999999999999999999999999999999999999999999999999999999999999999999999999999999999999999999999999999999999999999999999999999999999999999999999999999999999999999999999999999999999999999999999999999999999999999999999999999999999999999999999999999999999999999999999999999999999999999999999999999999999999999999999999999999999999999999999999999999999999999999999999999999999999999999999999999999999999999999999999999999999999999999999999999999999999999999999999999999999999999999999999999999999999999999999999999999999999999999999999999999999999999999999999999999999999999999999999999999999999999999999999999999999999999999999999999999999999999999999999999999999999999999999999999999999999999999999999999999999999999999999999999999999999999999999999999999999999999999999999999999999999999999999999999999999999999999999999999999999999999999999999999999999999999999999999999999999999999999999999999999999999999999999999999999999999999999999999999999999999999999999999999999999999999999999999999999999999999999999999999999999999999999999999999999999999999999999999999999999999999999999999999999999999999999999999999999999999999999999999999999999999999999999999999999999999999999999999999999999999999999999999999999999999999999999999999999999999999999999999999999999999999999999999999999999999999999999999999999999999999999999999999999999999999999999999999999999999999999999999999999999999999999999999999999999999999999999999999999999999999999999999999999999999999999999999999999999999999999999999999999999999999999999999999999999999999999999999999999999999999999999999999999999999999999999999999999999999999999999999999999999999999999999999999999999999999999999999999999999999999999999999999999999999999999999999999999999999999999999999999999999999999999999999999999999999999999999999999999999999999999999999999999999999999999999999999999999999999999999999999999999999999999999999999999999999999999999999999999999999999999999999999999999999999999999999999&quot;\n",
       "  },\n",
       "  &quot;Hash&quot;: {\n",
       "    &quot;TrytesLength&quot;: 81,\n",
       "    &quot;Value&quot;: &quot;HWDLLFJQNSYKBLARRVAZUSQPKI9UQJGFRTPMZIGBIHERXDNDLZVHGCMGLVOGSZBVJMW9FBTWKIKL99999&quot;\n",
       "  },\n",
       "  &quot;IsTail&quot;: false,\n",
       "  &quot;LastIndex&quot;: 1,\n",
       "  &quot;Nonce&quot;: {\n",
       "    &quot;TrytesLength&quot;: 27,\n",
       "    &quot;Value&quot;: &quot;ZODHZWOXUBC9JIUIQYHEULDYLTV&quot;\n",
       "  },\n",
       "  &quot;ObsoleteTag&quot;: {\n",
       "    &quot;TrytesLength&quot;: 27,\n",
       "    &quot;Value&quot;: &quot;HRIBEK999IOTA999TUTORIAL999&quot;\n",
       "  },\n",
       "  &quot;Tag&quot;: {\n",
       "    &quot;TrytesLength&quot;: 27,\n",
       "    &quot;Value&quot;: &quot;HRIBEK999IOTA999TUTORIAL999&quot;\n",
       "  },\n",
       "  &quot;Timestamp&quot;: 0,\n",
       "  &quot;TrunkTransaction&quot;: {\n",
       "    &quot;TrytesLength&quot;: 81,\n",
       "    &quot;Value&quot;: &quot;FJLKIGRKBQSZACPBIGWVCMNWAMKJIUXAGETZOGKW9YZFSKAATWTKVXFERUBZXUJEAAGX9SFNBQEGA9999&quot;\n",
       "  },\n",
       "  &quot;Value&quot;: 0\n",
       "}"
      ],
      "text/plain": [
       "{\n",
       "  \"Address\": {\n",
       "    \"Balance\": 0,\n",
       "    \"Checksum\": null,\n",
       "    \"KeyIndex\": 0,\n",
       "    \"PrivateKey\": null,\n",
       "    \"SecurityLevel\": 0,\n",
       "    \"SpentFrom\": false,\n",
       "    \"TrytesLength\": 81,\n",
       "    \"Value\": \"CYJV9DRIE9NCQJYLOYOJOGKQGOOELTWXVWUYGQSWCNODHJAHACADUAAHQ9ODUICCESOIVZABA9LTMM9RW\"\n",
       "  },\n",
       "  \"AttachmentTimestamp\": 1568821537421,\n",
       "  \"AttachmentTimestampLowerBound\": 0,\n",
       "  \"AttachmentTimestampUpperBound\": 3812798742493,\n",
       "  \"BranchTransaction\": {\n",
       "    \"TrytesLength\": 81,\n",
       "    \"Value\": \"ST9UIYSDLEFDUGCZOEODUHTRKZETSTBRNVWOWEXYLZHIUHOQJLMROASLDKNTCEOABFXIWNWUHMLJZ9999\"\n",
       "  },\n",
       "  \"BundleHash\": {\n",
       "    \"TrytesLength\": 81,\n",
       "    \"Value\": \"HMCU9CJIIGJLNCJJSYACUYZNFPDREPKLADUU9EHBEZNQUAHWGXJ9BZZHZPBLWXCXBHSLSKSLZZYFLVHZB\"\n",
       "  },\n",
       "  \"CurrentIndex\": 1,\n",
       "  \"Fragment\": {\n",
       "    \"IsEmpty\": false,\n",
       "    \"TrytesLength\": 2187,\n",
       "    \"Value\": \"RBTCFDTCEARCCDADTCGDEAPCEAGDTCRCCDBDSCEAADTCGDGDPCVCTCSAEAXBCDKDEAXCGDEACBTAVABBTAWAUAVACB999999999999999999999999999999999999999999999999999999999999999999999999999999999999999999999999999999999999999999999999999999999999999999999999999999999999999999999999999999999999999999999999999999999999999999999999999999999999999999999999999999999999999999999999999999999999999999999999999999999999999999999999999999999999999999999999999999999999999999999999999999999999999999999999999999999999999999999999999999999999999999999999999999999999999999999999999999999999999999999999999999999999999999999999999999999999999999999999999999999999999999999999999999999999999999999999999999999999999999999999999999999999999999999999999999999999999999999999999999999999999999999999999999999999999999999999999999999999999999999999999999999999999999999999999999999999999999999999999999999999999999999999999999999999999999999999999999999999999999999999999999999999999999999999999999999999999999999999999999999999999999999999999999999999999999999999999999999999999999999999999999999999999999999999999999999999999999999999999999999999999999999999999999999999999999999999999999999999999999999999999999999999999999999999999999999999999999999999999999999999999999999999999999999999999999999999999999999999999999999999999999999999999999999999999999999999999999999999999999999999999999999999999999999999999999999999999999999999999999999999999999999999999999999999999999999999999999999999999999999999999999999999999999999999999999999999999999999999999999999999999999999999999999999999999999999999999999999999999999999999999999999999999999999999999999999999999999999999999999999999999999999999999999999999999999999999999999999999999999999999999999999999999999999999999999999999999999999999999999999999999999999999999999999999999999999999999999999999999999999999999999999999999999999999999999999999999999999999999999999999999999999999999999999999999999999999999999999999999999999999999999999999999999999999999999999999999999999999999999999999999999999999999999999999999999999999999999999999999999999999999999999999999999999999999999999999999999999999999999999999999999999999999999999999999999999999999999999999999999999\"\n",
       "  },\n",
       "  \"Hash\": {\n",
       "    \"TrytesLength\": 81,\n",
       "    \"Value\": \"HWDLLFJQNSYKBLARRVAZUSQPKI9UQJGFRTPMZIGBIHERXDNDLZVHGCMGLVOGSZBVJMW9FBTWKIKL99999\"\n",
       "  },\n",
       "  \"IsTail\": false,\n",
       "  \"LastIndex\": 1,\n",
       "  \"Nonce\": {\n",
       "    \"TrytesLength\": 27,\n",
       "    \"Value\": \"ZODHZWOXUBC9JIUIQYHEULDYLTV\"\n",
       "  },\n",
       "  \"ObsoleteTag\": {\n",
       "    \"TrytesLength\": 27,\n",
       "    \"Value\": \"HRIBEK999IOTA999TUTORIAL999\"\n",
       "  },\n",
       "  \"Tag\": {\n",
       "    \"TrytesLength\": 27,\n",
       "    \"Value\": \"HRIBEK999IOTA999TUTORIAL999\"\n",
       "  },\n",
       "  \"Timestamp\": 0,\n",
       "  \"TrunkTransaction\": {\n",
       "    \"TrytesLength\": 81,\n",
       "    \"Value\": \"FJLKIGRKBQSZACPBIGWVCMNWAMKJIUXAGETZOGKW9YZFSKAATWTKVXFERUBZXUJEAAGX9SFNBQEGA9999\"\n",
       "  },\n",
       "  \"Value\": 0\n",
       "}"
      ]
     },
     "metadata": {},
     "output_type": "display_data"
    }
   ],
   "source": [
    "#r \"Tangle.Net.dll\"\n",
    "#r \"Newtonsoft.Json.dll\"\n",
    "#r \"RestSharp.dll\"\n",
    "\n",
    "using Tangle.Net.Entity;\n",
    "using Newtonsoft.Json;\n",
    "using RestSharp;\n",
    "using Tangle.Net.Repository;\n",
    "\n",
    "\n",
    "var MySeed = \"HGW9HB9LJPYUGVHNGCPLFKKPNZAIIFHZBDHKSGMQKFMANUBASSMSV9TAJSSMPRZZU9SFZULXKJ9YLAIUA\";\n",
    "var TargetAddress1 = \"CXDUYK9XGHC9DTSPDMKGGGXAIARSRVAFGHJOCDDHWADLVBBOEHLICHTMGKVDOGRU9TBESJNHAXYPVJ9R9\";\n",
    "var TargetAddress2 = \"CYJV9DRIE9NCQJYLOYOJOGKQGOOELTWXVWUYGQSWCNODHJAHACADUAAHQ9ODUICCESOIVZABA9LTMM9RW\";\n",
    "\n",
    "var NowIs = DateTime.Now.ToShortDateString(); //this is not important - just to have some meaningful message\n",
    "\n",
    "var pt = new Transfer() // creating a first transfer (a proposed transaction)\n",
    "{\n",
    "    Address=new Address(TargetAddress1),\n",
    "    ValueToTransfer=0,\n",
    "    Message=TryteString.FromUtf8String(\"Here comes a first message. Now is \" + NowIs),\n",
    "    Tag=new Tag(\"HRIBEK999IOTA999TUTORIAL\")\n",
    "};\n",
    "\n",
    "var pt2 = new Transfer() // creating a second transfer (a proposed transaction)\n",
    "{\n",
    "    Address = new Address(TargetAddress2),\n",
    "    ValueToTransfer = 0,\n",
    "    Message = TryteString.FromUtf8String(\"Here comes a second message. Now is \" + NowIs),\n",
    "    Tag = new Tag(\"HRIBEK999IOTA999TUTORIAL\")\n",
    "};\n",
    "\n",
    "Console.WriteLine(\"Preparing/Broadcasting... Wait please...\");\n",
    "var bundle = new Bundle();\n",
    "bundle.AddTransfer(pt);\n",
    "bundle.AddTransfer(pt2);\n",
    "\n",
    "var NodeURL = \"https://nodes.thetangle.org:443\";\n",
    "var repo = new RestIotaRepository(new RestClient(NodeURL)); // ctor initialization of the Tangle.Net library\n",
    "\n",
    "// the whole process initiated in a single call\n",
    "var sentBundle = repo.SendTransfer(seed: new Seed(MySeed),\n",
    "                                   bundle: bundle,\n",
    "                                   securityLevel: 2,\n",
    "                                   depth: 3,\n",
    "                                   minWeightMagnitude: 14); //it returns a bundle object\n",
    "\n",
    "Console.WriteLine(\"Generated bundle hash: \" + sentBundle.Hash.ToString());\n",
    "Console.WriteLine(\"Tail Transaction in the Bundle is a transaction #\" + sentBundle.TailTransaction.CurrentIndex + \".\");\n",
    "\n",
    "Console.WriteLine(\"List of all transactions in the bundle:\");\n",
    "foreach (var tx in sentBundle.Transactions)\n",
    "{\n",
    "    Console.WriteLine(JsonConvert.SerializeObject(tx, Formatting.Indented));\n",
    "}"
   ]
  }
 ],
 "metadata": {
  "kernelspec": {
   "display_name": "C#",
   "language": "csharp",
   "name": "icsharp"
  },
  "language_info": {
   "file_extension": ".cs",
   "mimetype": "text/x-csharp",
   "name": "C#",
   "pygments_lexer": "c#",
   "version": "4.0.30319"
  }
 },
 "nbformat": 4,
 "nbformat_minor": 2
}
