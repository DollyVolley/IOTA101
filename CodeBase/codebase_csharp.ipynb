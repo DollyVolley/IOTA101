{
 "cells": [
  {
   "cell_type": "code",
   "execution_count": 20,
   "metadata": {
    "iotadev": {
     "codeid": "3BB8C879CCAE"
    }
   },
   "outputs": [
    {
     "data": {
      "text/html": [
       "YZJEATEQ9JKLZ"
      ],
      "text/plain": [
       "YZJEATEQ9JKLZ"
      ]
     },
     "metadata": {},
     "output_type": "display_data"
    },
    {
     "data": {
      "text/html": [
       "Number of Trytes: 13"
      ],
      "text/plain": [
       "Number of Trytes: 13"
      ]
     },
     "metadata": {},
     "output_type": "display_data"
    },
    {
     "data": {
      "text/html": [
       "1,-1,0,-1,0,0,1,0,1,-1,-1,1,1,0,0,-1,1,-1,-1,-1,1,-1,0,-1,0,0,0,1,0,1,-1,1,1,0,1,1,-1,0,0"
      ],
      "text/plain": [
       "1,-1,0,-1,0,0,1,0,1,-1,-1,1,1,0,0,-1,1,-1,-1,-1,1,-1,0,-1,0,0,0,1,0,1,-1,1,1,0,1,1,-1,0,0"
      ]
     },
     "metadata": {},
     "output_type": "display_data"
    },
    {
     "data": {
      "text/html": [
       "Number of Trits: 39"
      ],
      "text/plain": [
       "Number of Trits: 39"
      ]
     },
     "metadata": {},
     "output_type": "display_data"
    }
   ],
   "source": [
    "#r \"Tangle.Net.dll\"\n",
    "using Tangle.Net.Entity;    \n",
    "\n",
    "var trytes = new TryteString(\"YZJEATEQ9JKLZ\");\n",
    "Console.WriteLine(trytes.ToString());\n",
    "Console.WriteLine(\"Number of Trytes: \" + trytes.TrytesLength);\n",
    "\n",
    "var trits = trytes.ToTrits();\n",
    "\n",
    "Console.WriteLine(String.Join(\",\", trits));\n",
    "Console.WriteLine(\"Number of Trits: \" + trits.Length);"
   ]
  },
  {
   "cell_type": "code",
   "execution_count": 19,
   "metadata": {
    "iotadev": {
     "codeid": "696A395DC61B"
    }
   },
   "outputs": [
    {
     "data": {
      "text/html": [
       "{\n",
       "  &quot;AppName&quot;: &quot;IRI&quot;,\n",
       "  &quot;AppVersion&quot;: &quot;1.8.1&quot;,\n",
       "  &quot;Duration&quot;: 0,\n",
       "  &quot;JreAvailableProcessors&quot;: 16,\n",
       "  &quot;JreFreeMemory&quot;: 1854364030,\n",
       "  &quot;JreMaxMemory&quot;: 20997734400,\n",
       "  &quot;JreTotalMemory&quot;: 4585458676,\n",
       "  &quot;LatestMilestone&quot;: &quot;UNFVFYFRHCKCYSCSLDAJROUSBEPYTOOHHJOGZGLJXJIBSTXAYTIKDMWEKPMMKHVOSETQJYEFUXLOZ9999&quot;,\n",
       "  &quot;LatestMilestoneIndex&quot;: 1178174,\n",
       "  &quot;LatestSolidSubtangleMilestone&quot;: &quot;UNFVFYFRHCKCYSCSLDAJROUSBEPYTOOHHJOGZGLJXJIBSTXAYTIKDMWEKPMMKHVOSETQJYEFUXLOZ9999&quot;,\n",
       "  &quot;LatestSolidSubtangleMilestoneIndex&quot;: 1178174,\n",
       "  &quot;Neighbors&quot;: 24,\n",
       "  &quot;PacketsQueueSize&quot;: 0,\n",
       "  &quot;Time&quot;: 1568711224721,\n",
       "  &quot;Tips&quot;: 7991,\n",
       "  &quot;TransactionsToRequest&quot;: 0\n",
       "}"
      ],
      "text/plain": [
       "{\n",
       "  \"AppName\": \"IRI\",\n",
       "  \"AppVersion\": \"1.8.1\",\n",
       "  \"Duration\": 0,\n",
       "  \"JreAvailableProcessors\": 16,\n",
       "  \"JreFreeMemory\": 1854364030,\n",
       "  \"JreMaxMemory\": 20997734400,\n",
       "  \"JreTotalMemory\": 4585458676,\n",
       "  \"LatestMilestone\": \"UNFVFYFRHCKCYSCSLDAJROUSBEPYTOOHHJOGZGLJXJIBSTXAYTIKDMWEKPMMKHVOSETQJYEFUXLOZ9999\",\n",
       "  \"LatestMilestoneIndex\": 1178174,\n",
       "  \"LatestSolidSubtangleMilestone\": \"UNFVFYFRHCKCYSCSLDAJROUSBEPYTOOHHJOGZGLJXJIBSTXAYTIKDMWEKPMMKHVOSETQJYEFUXLOZ9999\",\n",
       "  \"LatestSolidSubtangleMilestoneIndex\": 1178174,\n",
       "  \"Neighbors\": 24,\n",
       "  \"PacketsQueueSize\": 0,\n",
       "  \"Time\": 1568711224721,\n",
       "  \"Tips\": 7991,\n",
       "  \"TransactionsToRequest\": 0\n",
       "}"
      ]
     },
     "metadata": {},
     "output_type": "display_data"
    },
    {
     "data": {
      "text/html": [
       "Node is probably synced!"
      ],
      "text/plain": [
       "Node is probably synced!"
      ]
     },
     "metadata": {},
     "output_type": "display_data"
    }
   ],
   "source": [
    "#r \"Tangle.Net.dll\"\n",
    "#r \"Newtonsoft.Json.dll\"\n",
    "#r \"RestSharp.dll\"\n",
    "\n",
    "using Tangle.Net.Repository;\n",
    "using Newtonsoft.Json;\n",
    "using RestSharp;\n",
    "\n",
    "var NodeURL = \"https://nodes.thetangle.org:443\";\n",
    "\n",
    "var repo = new RestIotaRepository(new RestClient(NodeURL)); // ctor initialization of the Tangle.Net library\n",
    "var nodeInfo = repo.GetNodeInfo(); // Getting information about the current node\n",
    "Console.WriteLine(JsonConvert.SerializeObject(nodeInfo, Formatting.Indented)); //Result is printed in JSON notation\n",
    "\n",
    "// Basic check whether node is in sync or not\n",
    "// Elementary rule is that \"latestMilestoneIndex\" should equal to \"latestSolidSubtangleMilestoneIndex\" or be very close\n",
    "Console.WriteLine(\n",
    "                  Math.Abs(nodeInfo.LatestMilestoneIndex - nodeInfo.LatestSolidSubtangleMilestoneIndex) > 3 ? \n",
    "                            \"Node is probably not synced!\" : \"Node is probably synced!\"\n",
    "                );"
   ]
  },
  {
   "cell_type": "code",
   "execution_count": 18,
   "metadata": {
    "iotadev": {
     "codeid": "67D98D069B61"
    }
   },
   "outputs": [
    {
     "data": {
      "text/html": [
       "U9LYFWEPCQATZ9MNDQJZPMSCVQZMTNTWRWOIIPDCXOORZAPYATQGRZHVHSQ9DL9RYKGP9PAEBOTKAFM9R"
      ],
      "text/plain": [
       "U9LYFWEPCQATZ9MNDQJZPMSCVQZMTNTWRWOIIPDCXOORZAPYATQGRZHVHSQ9DL9RYKGP9PAEBOTKAFM9R"
      ]
     },
     "metadata": {},
     "output_type": "display_data"
    }
   ],
   "source": [
    "//based on https://github.com/siqniz/IOTA-Random-Seed-Generator\n",
    "using System.Security.Cryptography;\n",
    "\n",
    "private static string NewRandomSeed()\n",
    "{\n",
    "    string iotaseed = string.Empty;\n",
    "    using (RNGCryptoServiceProvider _ran = new RNGCryptoServiceProvider()) // The class provides crypto-safe random generator\n",
    "    {\n",
    "        string[] _seed = new string[] { \"A\", \"B\", \"C\", \"D\", \"E\", \"F\", \"G\", \"H\", \"I\", \"J\", \"K\", \"L\", \"M\", \"N\", \"O\", \"P\", \"Q\", \"R\", \"S\", \"T\", \"U\", \"V\", \"W\", \"X\", \"Y\", \"Z\", \"9\" };                \n",
    "\n",
    "        byte[] _data = new byte[8];  //8 bytes to hold an unsigned bits int\n",
    "        for (int i = 0; i <= 80; i++)   //The number times this will run in orde to fill the 81 char requirment\n",
    "        {\n",
    "            _ran.GetBytes(_data);\n",
    "            var gennum = BitConverter.ToUInt64(_data, 0);\n",
    "            var _num = (gennum % 27);\n",
    "            iotaseed += _seed[_num];\n",
    "        }\n",
    "    }\n",
    "\n",
    "    return iotaseed;\n",
    "}\n",
    "\n",
    "Console.WriteLine(NewRandomSeed());\n"
   ]
  },
  {
   "cell_type": "code",
   "execution_count": 17,
   "metadata": {
    "iotadev": {
     "codeid": "65788F1C3FCB"
    }
   },
   "outputs": [
    {
     "data": {
      "text/html": [
       "9KCKAMKL9JDWXTQKSEDBKJHZHBBARHBD9HXTDLSWQTGOXWBGDVOKOAFVHYKUYHIJKYCI9AETEKXIYQCAV"
      ],
      "text/plain": [
       "9KCKAMKL9JDWXTQKSEDBKJHZHBBARHBD9HXTDLSWQTGOXWBGDVOKOAFVHYKUYHIJKYCI9AETEKXIYQCAV"
      ]
     },
     "metadata": {},
     "output_type": "display_data"
    },
    {
     "data": {
      "text/html": [
       "Length :81"
      ],
      "text/plain": [
       "Length :81"
      ]
     },
     "metadata": {},
     "output_type": "display_data"
    }
   ],
   "source": [
    "#r \"Tangle.Net.dll\"\n",
    "using Tangle.Net.Entity;\n",
    "\n",
    "var seed = Seed.Random(); // Initializing new random seed\n",
    "Console.WriteLine(seed.ToString());\n",
    "Console.WriteLine(\"Length :\" + seed.ToString().Length);"
   ]
  },
  {
   "cell_type": "code",
   "execution_count": 18,
   "metadata": {
    "iotadev": {
     "codeid": "2508A6FF9241"
    }
   },
   "outputs": [
    {
     "data": {
      "text/html": [
       "[\n",
       "  &quot;HRLKBQUZAEB9HIVWJEWVDYQ9G9VRQXQAXR9ZWGBFQJKRPOPJYHGAT9LBEIE9RWRMUFSNLCWYHQGYAECHD&quot;,\n",
       "  &quot;XEXIDJJTANADOUBPWTCSPPRYYRTITRAHDEOZAEXWDPCYKUPTFMKVQM9KCPPLOCESFRGRVSIYZHXQZNYKC&quot;,\n",
       "  &quot;KY9DLZCHET9ATLMADPXGDVDYMPHKRKQPJZ9MB9HEIMMFCRRTNJIJIHPKGZNKKDTFMYPZRRQYAQKVAHMYX&quot;\n",
       "]"
      ],
      "text/plain": [
       "[\n",
       "  \"HRLKBQUZAEB9HIVWJEWVDYQ9G9VRQXQAXR9ZWGBFQJKRPOPJYHGAT9LBEIE9RWRMUFSNLCWYHQGYAECHD\",\n",
       "  \"XEXIDJJTANADOUBPWTCSPPRYYRTITRAHDEOZAEXWDPCYKUPTFMKVQM9KCPPLOCESFRGRVSIYZHXQZNYKC\",\n",
       "  \"KY9DLZCHET9ATLMADPXGDVDYMPHKRKQPJZ9MB9HEIMMFCRRTNJIJIHPKGZNKKDTFMYPZRRQYAQKVAHMYX\"\n",
       "]"
      ]
     },
     "metadata": {},
     "output_type": "display_data"
    }
   ],
   "source": [
    "#r \"Tangle.Net.dll\"\n",
    "#r \"Newtonsoft.Json.dll\"\n",
    "    \n",
    "using Tangle.Net.Cryptography;\n",
    "using Tangle.Net.Entity;\n",
    "using Newtonsoft.Json;\n",
    "\n",
    "var seed = new Seed(\"WKQDUZTGFKSSLACUCHHLZRKZBHSDSCEBHKUPDLKFBQALEBKDMFRPUQGZRXAADPG9TSRTZGGBZOFRJCFMM\");\n",
    "var addressGenerator = new AddressGenerator();\n",
    "\n",
    "// Please also see GetAdrress function for a single individual address\n",
    "var addresses = addressGenerator.GetAddresses(seed,\n",
    "                                              SecurityLevel.Medium //security level 2\n",
    "                                              ,0 // from index\n",
    "                                              ,3 // count\n",
    "                                              );\n",
    "\n",
    "// The Address instance is very detailed and provides so many fields - so showing only address in Trytes for better clarity\n",
    "Console.WriteLine(JsonConvert.SerializeObject(from i in addresses select i.ToTrytes(), Formatting.Indented));"
   ]
  },
  {
   "cell_type": "code",
   "execution_count": 15,
   "metadata": {
    "iotadev": {
     "codeid": "39B011574CF0"
    }
   },
   "outputs": [
    {
     "data": {
      "text/html": [
       "Original input excl. checksum address:"
      ],
      "text/plain": [
       "Original input excl. checksum address:"
      ]
     },
     "metadata": {},
     "output_type": "display_data"
    },
    {
     "data": {
      "text/html": [
       "CYJV9DRIE9NCQJYLOYOJOGKQGOOELTWXVWUYGQSWCNODHJAHACADUAAHQ9ODUICCESOIVZABA9LTMM9RW"
      ],
      "text/plain": [
       "CYJV9DRIE9NCQJYLOYOJOGKQGOOELTWXVWUYGQSWCNODHJAHACADUAAHQ9ODUICCESOIVZABA9LTMM9RW"
      ]
     },
     "metadata": {},
     "output_type": "display_data"
    },
    {
     "data": {
      "text/html": [
       "Length: 81"
      ],
      "text/plain": [
       "Length: 81"
      ]
     },
     "metadata": {},
     "output_type": "display_data"
    },
    {
     "data": {
      "text/html": [
       "Input address including checksum:"
      ],
      "text/plain": [
       "Input address including checksum:"
      ]
     },
     "metadata": {},
     "output_type": "display_data"
    },
    {
     "data": {
      "text/html": [
       "CYJV9DRIE9NCQJYLOYOJOGKQGOOELTWXVWUYGQSWCNODHJAHACADUAAHQ9ODUICCESOIVZABA9LTMM9RWTHBIRSXTA"
      ],
      "text/plain": [
       "CYJV9DRIE9NCQJYLOYOJOGKQGOOELTWXVWUYGQSWCNODHJAHACADUAAHQ9ODUICCESOIVZABA9LTMM9RWTHBIRSXTA"
      ]
     },
     "metadata": {},
     "output_type": "display_data"
    },
    {
     "data": {
      "text/html": [
       "Length incl checksum: 90"
      ],
      "text/plain": [
       "Length incl checksum: 90"
      ]
     },
     "metadata": {},
     "output_type": "display_data"
    }
   ],
   "source": [
    "#r \"Tangle.Net.dll\"\n",
    "using Tangle.Net.Entity;\n",
    "\n",
    "var myAddr = new Address(\"CYJV9DRIE9NCQJYLOYOJOGKQGOOELTWXVWUYGQSWCNODHJAHACADUAAHQ9ODUICCESOIVZABA9LTMM9RW\"); //some IOTA address\n",
    "\n",
    "Console.WriteLine(\"Original input excl. checksum address:\");\n",
    "Console.WriteLine(myAddr.ToString());\n",
    "Console.WriteLine(\"Length: \" + myAddr.ToString().Length);\n",
    "\n",
    "var AdrIncludingChecksum = new Address(myAddr.ToString() + Checksum.FromAddress(myAddr).ToString()); //generate checksum for the given address and return new address instance that includes checksum\n",
    "// There is a function Withchecksum() but it did not work when tested\n",
    "            \n",
    "Console.WriteLine(\"Input address including checksum:\");\n",
    "Console.WriteLine(AdrIncludingChecksum.ToString() + AdrIncludingChecksum.Checksum.ToString()); //Library still thinks of the address as 2 separate components\n",
    "Console.WriteLine(\"Length incl checksum: \" + (AdrIncludingChecksum.ToString().Length + AdrIncludingChecksum.Checksum.ToString().Length));"
   ]
  },
  {
   "cell_type": "code",
   "execution_count": 16,
   "metadata": {
    "iotadev": {
     "codeid": "C65223B0864A"
    }
   },
   "outputs": [
    {
     "data": {
      "text/html": [
       "Input address incl checksum:"
      ],
      "text/plain": [
       "Input address incl checksum:"
      ]
     },
     "metadata": {},
     "output_type": "display_data"
    },
    {
     "data": {
      "text/html": [
       "CYJV9DRIE9NCQJYLOYOJOGKQGOOELTWXVWUYGQSWCNODHJAHACADUAAHQ9ODUICCESOIVZABA9LTMM9RWTHBIRSXTA"
      ],
      "text/plain": [
       "CYJV9DRIE9NCQJYLOYOJOGKQGOOELTWXVWUYGQSWCNODHJAHACADUAAHQ9ODUICCESOIVZABA9LTMM9RWTHBIRSXTA"
      ]
     },
     "metadata": {},
     "output_type": "display_data"
    },
    {
     "data": {
      "text/html": [
       "Is it valid addr based on checksum? True"
      ],
      "text/plain": [
       "Is it valid addr based on checksum? True"
      ]
     },
     "metadata": {},
     "output_type": "display_data"
    },
    {
     "data": {
      "text/html": [
       "Input address excl checksum:"
      ],
      "text/plain": [
       "Input address excl checksum:"
      ]
     },
     "metadata": {},
     "output_type": "display_data"
    },
    {
     "data": {
      "text/html": [
       "CYJV9DRIE9NCQJYLOYOJOGKQGOOELTWXVWUYGQSWCNODHJAHACADUAAHQ9ODUICCESOIVZABA9LTMM9RW"
      ],
      "text/plain": [
       "CYJV9DRIE9NCQJYLOYOJOGKQGOOELTWXVWUYGQSWCNODHJAHACADUAAHQ9ODUICCESOIVZABA9LTMM9RW"
      ]
     },
     "metadata": {},
     "output_type": "display_data"
    }
   ],
   "source": [
    "#r \"Tangle.Net.dll\"\n",
    "using Tangle.Net.Entity;\n",
    "using Tangle.Net.Utils;\n",
    "\n",
    "//address including checksum\n",
    "var InputAddr = \"CYJV9DRIE9NCQJYLOYOJOGKQGOOELTWXVWUYGQSWCNODHJAHACADUAAHQ9ODUICCESOIVZABA9LTMM9RWTHBIRSXTA\";\n",
    "\n",
    "if (!InputValidator.IsTrytes(InputAddr) || InputAddr.Length != 90)\n",
    "{\n",
    "    Console.WriteLine(\"Not valid input address incl. checksum was given.\");\n",
    "} else {\n",
    "    var Adr = new Address(InputAddr);                \n",
    "\n",
    "    Console.WriteLine(\"Input address incl checksum:\");\n",
    "    Console.WriteLine(InputAddr);\n",
    "    Console.WriteLine(\"Is it valid addr based on checksum? \" + Adr.HasValidChecksum().ToString());\n",
    "    Console.WriteLine(\"Input address excl checksum:\");\n",
    "    Console.WriteLine(Adr.ToString());\n",
    "}"
   ]
  },
  {
   "cell_type": "code",
   "execution_count": 2,
   "metadata": {
    "iotadev": {
     "codeid": "445C2B9485C6"
    }
   },
   "outputs": [
    {
     "data": {
      "text/html": [
       "Created transaction objects - mandatory fields only:"
      ],
      "text/plain": [
       "Created transaction objects - mandatory fields only:"
      ]
     },
     "metadata": {},
     "output_type": "display_data"
    },
    {
     "data": {
      "text/html": [
       "{\n",
       "  &quot;Address&quot;: {\n",
       "    &quot;Balance&quot;: 0,\n",
       "    &quot;Checksum&quot;: null,\n",
       "    &quot;KeyIndex&quot;: 0,\n",
       "    &quot;PrivateKey&quot;: null,\n",
       "    &quot;SecurityLevel&quot;: 0,\n",
       "    &quot;SpentFrom&quot;: false,\n",
       "    &quot;TrytesLength&quot;: 81,\n",
       "    &quot;Value&quot;: &quot;CXDUYK9XGHC9DTSPDMKGGGXAIARSRVAFGHJOCDDHWADLVBBOEHLICHTMGKVDOGRU9TBESJNHAXYPVJ9R9&quot;\n",
       "  },\n",
       "  &quot;Message&quot;: {\n",
       "    &quot;TrytesLength&quot;: 88,\n",
       "    &quot;Value&quot;: &quot;RBTCFDTCEARCCDADTCGDEAPCEAUCXCFDGDHDEAADTCGDGDPCVCTCSAEAXBCDKDEAXCGDEACBTAVABBTAWAUAVACB&quot;\n",
       "  },\n",
       "  &quot;Tag&quot;: {\n",
       "    &quot;TrytesLength&quot;: 27,\n",
       "    &quot;Value&quot;: &quot;HRIBEK999IOTA999TUTORIAL999&quot;\n",
       "  },\n",
       "  &quot;Timestamp&quot;: 0,\n",
       "  &quot;ValueToTransfer&quot;: 0\n",
       "}"
      ],
      "text/plain": [
       "{\n",
       "  \"Address\": {\n",
       "    \"Balance\": 0,\n",
       "    \"Checksum\": null,\n",
       "    \"KeyIndex\": 0,\n",
       "    \"PrivateKey\": null,\n",
       "    \"SecurityLevel\": 0,\n",
       "    \"SpentFrom\": false,\n",
       "    \"TrytesLength\": 81,\n",
       "    \"Value\": \"CXDUYK9XGHC9DTSPDMKGGGXAIARSRVAFGHJOCDDHWADLVBBOEHLICHTMGKVDOGRU9TBESJNHAXYPVJ9R9\"\n",
       "  },\n",
       "  \"Message\": {\n",
       "    \"TrytesLength\": 88,\n",
       "    \"Value\": \"RBTCFDTCEARCCDADTCGDEAPCEAUCXCFDGDHDEAADTCGDGDPCVCTCSAEAXBCDKDEAXCGDEACBTAVABBTAWAUAVACB\"\n",
       "  },\n",
       "  \"Tag\": {\n",
       "    \"TrytesLength\": 27,\n",
       "    \"Value\": \"HRIBEK999IOTA999TUTORIAL999\"\n",
       "  },\n",
       "  \"Timestamp\": 0,\n",
       "  \"ValueToTransfer\": 0\n",
       "}"
      ]
     },
     "metadata": {},
     "output_type": "display_data"
    },
    {
     "data": {
      "text/html": [
       "{\n",
       "  &quot;Address&quot;: {\n",
       "    &quot;Balance&quot;: 0,\n",
       "    &quot;Checksum&quot;: null,\n",
       "    &quot;KeyIndex&quot;: 0,\n",
       "    &quot;PrivateKey&quot;: null,\n",
       "    &quot;SecurityLevel&quot;: 0,\n",
       "    &quot;SpentFrom&quot;: false,\n",
       "    &quot;TrytesLength&quot;: 81,\n",
       "    &quot;Value&quot;: &quot;CYJV9DRIE9NCQJYLOYOJOGKQGOOELTWXVWUYGQSWCNODHJAHACADUAAHQ9ODUICCESOIVZABA9LTMM9RW&quot;\n",
       "  },\n",
       "  &quot;Message&quot;: {\n",
       "    &quot;TrytesLength&quot;: 90,\n",
       "    &quot;Value&quot;: &quot;RBTCFDTCEARCCDADTCGDEAPCEAGDTCRCCDBDSCEAADTCGDGDPCVCTCSAEAXBCDKDEAXCGDEACBTAVABBTAWAUAVACB&quot;\n",
       "  },\n",
       "  &quot;Tag&quot;: {\n",
       "    &quot;TrytesLength&quot;: 27,\n",
       "    &quot;Value&quot;: &quot;HRIBEK999IOTA999TUTORIAL999&quot;\n",
       "  },\n",
       "  &quot;Timestamp&quot;: 0,\n",
       "  &quot;ValueToTransfer&quot;: 0\n",
       "}"
      ],
      "text/plain": [
       "{\n",
       "  \"Address\": {\n",
       "    \"Balance\": 0,\n",
       "    \"Checksum\": null,\n",
       "    \"KeyIndex\": 0,\n",
       "    \"PrivateKey\": null,\n",
       "    \"SecurityLevel\": 0,\n",
       "    \"SpentFrom\": false,\n",
       "    \"TrytesLength\": 81,\n",
       "    \"Value\": \"CYJV9DRIE9NCQJYLOYOJOGKQGOOELTWXVWUYGQSWCNODHJAHACADUAAHQ9ODUICCESOIVZABA9LTMM9RW\"\n",
       "  },\n",
       "  \"Message\": {\n",
       "    \"TrytesLength\": 90,\n",
       "    \"Value\": \"RBTCFDTCEARCCDADTCGDEAPCEAGDTCRCCDBDSCEAADTCGDGDPCVCTCSAEAXBCDKDEAXCGDEACBTAVABBTAWAUAVACB\"\n",
       "  },\n",
       "  \"Tag\": {\n",
       "    \"TrytesLength\": 27,\n",
       "    \"Value\": \"HRIBEK999IOTA999TUTORIAL999\"\n",
       "  },\n",
       "  \"Timestamp\": 0,\n",
       "  \"ValueToTransfer\": 0\n",
       "}"
      ]
     },
     "metadata": {},
     "output_type": "display_data"
    }
   ],
   "source": [
    "#r \"Tangle.Net.dll\"\n",
    "#r \"Newtonsoft.Json.dll\"\n",
    "using Tangle.Net.Entity;\n",
    "using Newtonsoft.Json;\n",
    "\n",
    "var MySeed = \"HGW9HB9LJPYUGVHNGCPLFKKPNZAIIFHZBDHKSGMQKFMANUBASSMSV9TAJSSMPRZZU9SFZULXKJ9YLAIUA\";\n",
    "var TargetAddress1 = \"CXDUYK9XGHC9DTSPDMKGGGXAIARSRVAFGHJOCDDHWADLVBBOEHLICHTMGKVDOGRU9TBESJNHAXYPVJ9R9\";\n",
    "var TargetAddress2 = \"CYJV9DRIE9NCQJYLOYOJOGKQGOOELTWXVWUYGQSWCNODHJAHACADUAAHQ9ODUICCESOIVZABA9LTMM9RW\";\n",
    "\n",
    "var NowIs = DateTime.Now.ToShortDateString(); //this is not important - just to have some meaningful message\n",
    "\n",
    "var pt = new Transfer() // creating a first transfer (a proposed transaction)\n",
    "{\n",
    "    Address=new Address(TargetAddress1),\n",
    "    ValueToTransfer=0,\n",
    "    Message=TryteString.FromUtf8String(\"Here comes a first message. Now is \" + NowIs),\n",
    "    Tag=new Tag(\"HRIBEK999IOTA999TUTORIAL\"),\n",
    "    Timestamp = Timestamp.UnixSecondsTimestamp // please note, Tangle.Net library does not enter timestamp for you\n",
    "};\n",
    "\n",
    "var pt2 = new Transfer() // creating a second transfer (a proposed transaction)\n",
    "{\n",
    "    Address = new Address(TargetAddress2),\n",
    "    ValueToTransfer = 0,\n",
    "    Message = TryteString.FromUtf8String(\"Here comes a second message. Now is \" + NowIs),\n",
    "    Tag = new Tag(\"HRIBEK999IOTA999TUTORIAL\"),\n",
    "    Timestamp = Timestamp.UnixSecondsTimestamp // please note, Tangle.Net library does not enter timestamp for you\n",
    "};\n",
    "\n",
    "Console.WriteLine(\"Created transaction objects - mandatory fields only:\");\n",
    "Console.WriteLine(JsonConvert.SerializeObject(pt, Formatting.Indented));\n",
    "Console.WriteLine(JsonConvert.SerializeObject(pt2, Formatting.Indented));"
   ]
  },
  {
   "cell_type": "code",
   "execution_count": 9,
   "metadata": {
    "iotadev": {
     "codeid": "C4C3A3808862"
    }
   },
   "outputs": [
    {
     "data": {
      "text/html": [
       "Generated bundle hash: HMCU9CJIIGJLNCJJSYACUYZNFPDREPKLADUU9EHBEZNQUAHWGXJ9BZZHZPBLWXCXBHSLSKSLZZYFLVHZB"
      ],
      "text/plain": [
       "Generated bundle hash: HMCU9CJIIGJLNCJJSYACUYZNFPDREPKLADUU9EHBEZNQUAHWGXJ9BZZHZPBLWXCXBHSLSKSLZZYFLVHZB"
      ]
     },
     "metadata": {},
     "output_type": "display_data"
    },
    {
     "data": {
      "text/html": [
       "Tail Transaction in the Bundle is a transaction #0."
      ],
      "text/plain": [
       "Tail Transaction in the Bundle is a transaction #0."
      ]
     },
     "metadata": {},
     "output_type": "display_data"
    },
    {
     "data": {
      "text/html": [
       "List of all transactions in the bundle:"
      ],
      "text/plain": [
       "List of all transactions in the bundle:"
      ]
     },
     "metadata": {},
     "output_type": "display_data"
    },
    {
     "data": {
      "text/html": [
       "[\n",
       "  {\n",
       "    &quot;Address&quot;: {\n",
       "      &quot;Balance&quot;: 0,\n",
       "      &quot;Checksum&quot;: null,\n",
       "      &quot;KeyIndex&quot;: 0,\n",
       "      &quot;PrivateKey&quot;: null,\n",
       "      &quot;SecurityLevel&quot;: 0,\n",
       "      &quot;SpentFrom&quot;: false,\n",
       "      &quot;TrytesLength&quot;: 81,\n",
       "      &quot;Value&quot;: &quot;CXDUYK9XGHC9DTSPDMKGGGXAIARSRVAFGHJOCDDHWADLVBBOEHLICHTMGKVDOGRU9TBESJNHAXYPVJ9R9&quot;\n",
       "    },\n",
       "    &quot;AttachmentTimestamp&quot;: 999999999,\n",
       "    &quot;AttachmentTimestampLowerBound&quot;: 999999999,\n",
       "    &quot;AttachmentTimestampUpperBound&quot;: 999999999,\n",
       "    &quot;BranchTransaction&quot;: {\n",
       "      &quot;TrytesLength&quot;: 81,\n",
       "      &quot;Value&quot;: &quot;999999999999999999999999999999999999999999999999999999999999999999999999999999999&quot;\n",
       "    },\n",
       "    &quot;BundleHash&quot;: {\n",
       "      &quot;TrytesLength&quot;: 81,\n",
       "      &quot;Value&quot;: &quot;HMCU9CJIIGJLNCJJSYACUYZNFPDREPKLADUU9EHBEZNQUAHWGXJ9BZZHZPBLWXCXBHSLSKSLZZYFLVHZB&quot;\n",
       "    },\n",
       "    &quot;CurrentIndex&quot;: 0,\n",
       "    &quot;Fragment&quot;: {\n",
       "      &quot;IsEmpty&quot;: false,\n",
       "      &quot;TrytesLength&quot;: 2187,\n",
       "      &quot;Value&quot;: &quot;RBTCFDTCEARCCDADTCGDEAPCEAUCXCFDGDHDEAADTCGDGDPCVCTCSAEAXBCDKDEAXCGDEACBTAVABBTAWAUAVACB99999999999999999999999999999999999999999999999999999999999999999999999999999999999999999999999999999999999999999999999999999999999999999999999999999999999999999999999999999999999999999999999999999999999999999999999999999999999999999999999999999999999999999999999999999999999999999999999999999999999999999999999999999999999999999999999999999999999999999999999999999999999999999999999999999999999999999999999999999999999999999999999999999999999999999999999999999999999999999999999999999999999999999999999999999999999999999999999999999999999999999999999999999999999999999999999999999999999999999999999999999999999999999999999999999999999999999999999999999999999999999999999999999999999999999999999999999999999999999999999999999999999999999999999999999999999999999999999999999999999999999999999999999999999999999999999999999999999999999999999999999999999999999999999999999999999999999999999999999999999999999999999999999999999999999999999999999999999999999999999999999999999999999999999999999999999999999999999999999999999999999999999999999999999999999999999999999999999999999999999999999999999999999999999999999999999999999999999999999999999999999999999999999999999999999999999999999999999999999999999999999999999999999999999999999999999999999999999999999999999999999999999999999999999999999999999999999999999999999999999999999999999999999999999999999999999999999999999999999999999999999999999999999999999999999999999999999999999999999999999999999999999999999999999999999999999999999999999999999999999999999999999999999999999999999999999999999999999999999999999999999999999999999999999999999999999999999999999999999999999999999999999999999999999999999999999999999999999999999999999999999999999999999999999999999999999999999999999999999999999999999999999999999999999999999999999999999999999999999999999999999999999999999999999999999999999999999999999999999999999999999999999999999999999999999999999999999999999999999999999999999999999999999999999999999999999999999999999999999999999999999999999999999999999999999999999999999999999999999999999999999999999999999999999999999999999999999999999999999999999&quot;\n",
       "    },\n",
       "    &quot;Hash&quot;: null,\n",
       "    &quot;IsTail&quot;: true,\n",
       "    &quot;LastIndex&quot;: 1,\n",
       "    &quot;Nonce&quot;: {\n",
       "      &quot;TrytesLength&quot;: 27,\n",
       "      &quot;Value&quot;: &quot;999999999999999999999999999&quot;\n",
       "    },\n",
       "    &quot;ObsoleteTag&quot;: {\n",
       "      &quot;TrytesLength&quot;: 27,\n",
       "      &quot;Value&quot;: &quot;LWIBEK999IOTA999TUTORIAL999&quot;\n",
       "    },\n",
       "    &quot;Tag&quot;: {\n",
       "      &quot;TrytesLength&quot;: 27,\n",
       "      &quot;Value&quot;: &quot;HRIBEK999IOTA999TUTORIAL999&quot;\n",
       "    },\n",
       "    &quot;Timestamp&quot;: 0,\n",
       "    &quot;TrunkTransaction&quot;: {\n",
       "      &quot;TrytesLength&quot;: 81,\n",
       "      &quot;Value&quot;: &quot;999999999999999999999999999999999999999999999999999999999999999999999999999999999&quot;\n",
       "    },\n",
       "    &quot;Value&quot;: 0\n",
       "  },\n",
       "  {\n",
       "    &quot;Address&quot;: {\n",
       "      &quot;Balance&quot;: 0,\n",
       "      &quot;Checksum&quot;: null,\n",
       "      &quot;KeyIndex&quot;: 0,\n",
       "      &quot;PrivateKey&quot;: null,\n",
       "      &quot;SecurityLevel&quot;: 0,\n",
       "      &quot;SpentFrom&quot;: false,\n",
       "      &quot;TrytesLength&quot;: 81,\n",
       "      &quot;Value&quot;: &quot;CYJV9DRIE9NCQJYLOYOJOGKQGOOELTWXVWUYGQSWCNODHJAHACADUAAHQ9ODUICCESOIVZABA9LTMM9RW&quot;\n",
       "    },\n",
       "    &quot;AttachmentTimestamp&quot;: 999999999,\n",
       "    &quot;AttachmentTimestampLowerBound&quot;: 999999999,\n",
       "    &quot;AttachmentTimestampUpperBound&quot;: 999999999,\n",
       "    &quot;BranchTransaction&quot;: {\n",
       "      &quot;TrytesLength&quot;: 81,\n",
       "      &quot;Value&quot;: &quot;999999999999999999999999999999999999999999999999999999999999999999999999999999999&quot;\n",
       "    },\n",
       "    &quot;BundleHash&quot;: {\n",
       "      &quot;TrytesLength&quot;: 81,\n",
       "      &quot;Value&quot;: &quot;HMCU9CJIIGJLNCJJSYACUYZNFPDREPKLADUU9EHBEZNQUAHWGXJ9BZZHZPBLWXCXBHSLSKSLZZYFLVHZB&quot;\n",
       "    },\n",
       "    &quot;CurrentIndex&quot;: 1,\n",
       "    &quot;Fragment&quot;: {\n",
       "      &quot;IsEmpty&quot;: false,\n",
       "      &quot;TrytesLength&quot;: 2187,\n",
       "      &quot;Value&quot;: &quot;RBTCFDTCEARCCDADTCGDEAPCEAGDTCRCCDBDSCEAADTCGDGDPCVCTCSAEAXBCDKDEAXCGDEACBTAVABBTAWAUAVACB999999999999999999999999999999999999999999999999999999999999999999999999999999999999999999999999999999999999999999999999999999999999999999999999999999999999999999999999999999999999999999999999999999999999999999999999999999999999999999999999999999999999999999999999999999999999999999999999999999999999999999999999999999999999999999999999999999999999999999999999999999999999999999999999999999999999999999999999999999999999999999999999999999999999999999999999999999999999999999999999999999999999999999999999999999999999999999999999999999999999999999999999999999999999999999999999999999999999999999999999999999999999999999999999999999999999999999999999999999999999999999999999999999999999999999999999999999999999999999999999999999999999999999999999999999999999999999999999999999999999999999999999999999999999999999999999999999999999999999999999999999999999999999999999999999999999999999999999999999999999999999999999999999999999999999999999999999999999999999999999999999999999999999999999999999999999999999999999999999999999999999999999999999999999999999999999999999999999999999999999999999999999999999999999999999999999999999999999999999999999999999999999999999999999999999999999999999999999999999999999999999999999999999999999999999999999999999999999999999999999999999999999999999999999999999999999999999999999999999999999999999999999999999999999999999999999999999999999999999999999999999999999999999999999999999999999999999999999999999999999999999999999999999999999999999999999999999999999999999999999999999999999999999999999999999999999999999999999999999999999999999999999999999999999999999999999999999999999999999999999999999999999999999999999999999999999999999999999999999999999999999999999999999999999999999999999999999999999999999999999999999999999999999999999999999999999999999999999999999999999999999999999999999999999999999999999999999999999999999999999999999999999999999999999999999999999999999999999999999999999999999999999999999999999999999999999999999999999999999999999999999999999999999999999999999999999999999999999999999999999999999999999999999999999999999999999999999999999999999999&quot;\n",
       "    },\n",
       "    &quot;Hash&quot;: null,\n",
       "    &quot;IsTail&quot;: false,\n",
       "    &quot;LastIndex&quot;: 1,\n",
       "    &quot;Nonce&quot;: {\n",
       "      &quot;TrytesLength&quot;: 27,\n",
       "      &quot;Value&quot;: &quot;999999999999999999999999999&quot;\n",
       "    },\n",
       "    &quot;ObsoleteTag&quot;: {\n",
       "      &quot;TrytesLength&quot;: 27,\n",
       "      &quot;Value&quot;: &quot;HRIBEK999IOTA999TUTORIAL999&quot;\n",
       "    },\n",
       "    &quot;Tag&quot;: {\n",
       "      &quot;TrytesLength&quot;: 27,\n",
       "      &quot;Value&quot;: &quot;HRIBEK999IOTA999TUTORIAL999&quot;\n",
       "    },\n",
       "    &quot;Timestamp&quot;: 0,\n",
       "    &quot;TrunkTransaction&quot;: {\n",
       "      &quot;TrytesLength&quot;: 81,\n",
       "      &quot;Value&quot;: &quot;999999999999999999999999999999999999999999999999999999999999999999999999999999999&quot;\n",
       "    },\n",
       "    &quot;Value&quot;: 0\n",
       "  }\n",
       "]"
      ],
      "text/plain": [
       "[\n",
       "  {\n",
       "    \"Address\": {\n",
       "      \"Balance\": 0,\n",
       "      \"Checksum\": null,\n",
       "      \"KeyIndex\": 0,\n",
       "      \"PrivateKey\": null,\n",
       "      \"SecurityLevel\": 0,\n",
       "      \"SpentFrom\": false,\n",
       "      \"TrytesLength\": 81,\n",
       "      \"Value\": \"CXDUYK9XGHC9DTSPDMKGGGXAIARSRVAFGHJOCDDHWADLVBBOEHLICHTMGKVDOGRU9TBESJNHAXYPVJ9R9\"\n",
       "    },\n",
       "    \"AttachmentTimestamp\": 999999999,\n",
       "    \"AttachmentTimestampLowerBound\": 999999999,\n",
       "    \"AttachmentTimestampUpperBound\": 999999999,\n",
       "    \"BranchTransaction\": {\n",
       "      \"TrytesLength\": 81,\n",
       "      \"Value\": \"999999999999999999999999999999999999999999999999999999999999999999999999999999999\"\n",
       "    },\n",
       "    \"BundleHash\": {\n",
       "      \"TrytesLength\": 81,\n",
       "      \"Value\": \"HMCU9CJIIGJLNCJJSYACUYZNFPDREPKLADUU9EHBEZNQUAHWGXJ9BZZHZPBLWXCXBHSLSKSLZZYFLVHZB\"\n",
       "    },\n",
       "    \"CurrentIndex\": 0,\n",
       "    \"Fragment\": {\n",
       "      \"IsEmpty\": false,\n",
       "      \"TrytesLength\": 2187,\n",
       "      \"Value\": \"RBTCFDTCEARCCDADTCGDEAPCEAUCXCFDGDHDEAADTCGDGDPCVCTCSAEAXBCDKDEAXCGDEACBTAVABBTAWAUAVACB99999999999999999999999999999999999999999999999999999999999999999999999999999999999999999999999999999999999999999999999999999999999999999999999999999999999999999999999999999999999999999999999999999999999999999999999999999999999999999999999999999999999999999999999999999999999999999999999999999999999999999999999999999999999999999999999999999999999999999999999999999999999999999999999999999999999999999999999999999999999999999999999999999999999999999999999999999999999999999999999999999999999999999999999999999999999999999999999999999999999999999999999999999999999999999999999999999999999999999999999999999999999999999999999999999999999999999999999999999999999999999999999999999999999999999999999999999999999999999999999999999999999999999999999999999999999999999999999999999999999999999999999999999999999999999999999999999999999999999999999999999999999999999999999999999999999999999999999999999999999999999999999999999999999999999999999999999999999999999999999999999999999999999999999999999999999999999999999999999999999999999999999999999999999999999999999999999999999999999999999999999999999999999999999999999999999999999999999999999999999999999999999999999999999999999999999999999999999999999999999999999999999999999999999999999999999999999999999999999999999999999999999999999999999999999999999999999999999999999999999999999999999999999999999999999999999999999999999999999999999999999999999999999999999999999999999999999999999999999999999999999999999999999999999999999999999999999999999999999999999999999999999999999999999999999999999999999999999999999999999999999999999999999999999999999999999999999999999999999999999999999999999999999999999999999999999999999999999999999999999999999999999999999999999999999999999999999999999999999999999999999999999999999999999999999999999999999999999999999999999999999999999999999999999999999999999999999999999999999999999999999999999999999999999999999999999999999999999999999999999999999999999999999999999999999999999999999999999999999999999999999999999999999999999999999999999999999999999999999999999999999999999999999999999999999999999999999999999999999999999\"\n",
       "    },\n",
       "    \"Hash\": null,\n",
       "    \"IsTail\": true,\n",
       "    \"LastIndex\": 1,\n",
       "    \"Nonce\": {\n",
       "      \"TrytesLength\": 27,\n",
       "      \"Value\": \"999999999999999999999999999\"\n",
       "    },\n",
       "    \"ObsoleteTag\": {\n",
       "      \"TrytesLength\": 27,\n",
       "      \"Value\": \"LWIBEK999IOTA999TUTORIAL999\"\n",
       "    },\n",
       "    \"Tag\": {\n",
       "      \"TrytesLength\": 27,\n",
       "      \"Value\": \"HRIBEK999IOTA999TUTORIAL999\"\n",
       "    },\n",
       "    \"Timestamp\": 0,\n",
       "    \"TrunkTransaction\": {\n",
       "      \"TrytesLength\": 81,\n",
       "      \"Value\": \"999999999999999999999999999999999999999999999999999999999999999999999999999999999\"\n",
       "    },\n",
       "    \"Value\": 0\n",
       "  },\n",
       "  {\n",
       "    \"Address\": {\n",
       "      \"Balance\": 0,\n",
       "      \"Checksum\": null,\n",
       "      \"KeyIndex\": 0,\n",
       "      \"PrivateKey\": null,\n",
       "      \"SecurityLevel\": 0,\n",
       "      \"SpentFrom\": false,\n",
       "      \"TrytesLength\": 81,\n",
       "      \"Value\": \"CYJV9DRIE9NCQJYLOYOJOGKQGOOELTWXVWUYGQSWCNODHJAHACADUAAHQ9ODUICCESOIVZABA9LTMM9RW\"\n",
       "    },\n",
       "    \"AttachmentTimestamp\": 999999999,\n",
       "    \"AttachmentTimestampLowerBound\": 999999999,\n",
       "    \"AttachmentTimestampUpperBound\": 999999999,\n",
       "    \"BranchTransaction\": {\n",
       "      \"TrytesLength\": 81,\n",
       "      \"Value\": \"999999999999999999999999999999999999999999999999999999999999999999999999999999999\"\n",
       "    },\n",
       "    \"BundleHash\": {\n",
       "      \"TrytesLength\": 81,\n",
       "      \"Value\": \"HMCU9CJIIGJLNCJJSYACUYZNFPDREPKLADUU9EHBEZNQUAHWGXJ9BZZHZPBLWXCXBHSLSKSLZZYFLVHZB\"\n",
       "    },\n",
       "    \"CurrentIndex\": 1,\n",
       "    \"Fragment\": {\n",
       "      \"IsEmpty\": false,\n",
       "      \"TrytesLength\": 2187,\n",
       "      \"Value\": \"RBTCFDTCEARCCDADTCGDEAPCEAGDTCRCCDBDSCEAADTCGDGDPCVCTCSAEAXBCDKDEAXCGDEACBTAVABBTAWAUAVACB999999999999999999999999999999999999999999999999999999999999999999999999999999999999999999999999999999999999999999999999999999999999999999999999999999999999999999999999999999999999999999999999999999999999999999999999999999999999999999999999999999999999999999999999999999999999999999999999999999999999999999999999999999999999999999999999999999999999999999999999999999999999999999999999999999999999999999999999999999999999999999999999999999999999999999999999999999999999999999999999999999999999999999999999999999999999999999999999999999999999999999999999999999999999999999999999999999999999999999999999999999999999999999999999999999999999999999999999999999999999999999999999999999999999999999999999999999999999999999999999999999999999999999999999999999999999999999999999999999999999999999999999999999999999999999999999999999999999999999999999999999999999999999999999999999999999999999999999999999999999999999999999999999999999999999999999999999999999999999999999999999999999999999999999999999999999999999999999999999999999999999999999999999999999999999999999999999999999999999999999999999999999999999999999999999999999999999999999999999999999999999999999999999999999999999999999999999999999999999999999999999999999999999999999999999999999999999999999999999999999999999999999999999999999999999999999999999999999999999999999999999999999999999999999999999999999999999999999999999999999999999999999999999999999999999999999999999999999999999999999999999999999999999999999999999999999999999999999999999999999999999999999999999999999999999999999999999999999999999999999999999999999999999999999999999999999999999999999999999999999999999999999999999999999999999999999999999999999999999999999999999999999999999999999999999999999999999999999999999999999999999999999999999999999999999999999999999999999999999999999999999999999999999999999999999999999999999999999999999999999999999999999999999999999999999999999999999999999999999999999999999999999999999999999999999999999999999999999999999999999999999999999999999999999999999999999999999999999999999999999999999999999999999999999999999999999999999999999999999999\"\n",
       "    },\n",
       "    \"Hash\": null,\n",
       "    \"IsTail\": false,\n",
       "    \"LastIndex\": 1,\n",
       "    \"Nonce\": {\n",
       "      \"TrytesLength\": 27,\n",
       "      \"Value\": \"999999999999999999999999999\"\n",
       "    },\n",
       "    \"ObsoleteTag\": {\n",
       "      \"TrytesLength\": 27,\n",
       "      \"Value\": \"HRIBEK999IOTA999TUTORIAL999\"\n",
       "    },\n",
       "    \"Tag\": {\n",
       "      \"TrytesLength\": 27,\n",
       "      \"Value\": \"HRIBEK999IOTA999TUTORIAL999\"\n",
       "    },\n",
       "    \"Timestamp\": 0,\n",
       "    \"TrunkTransaction\": {\n",
       "      \"TrytesLength\": 81,\n",
       "      \"Value\": \"999999999999999999999999999999999999999999999999999999999999999999999999999999999\"\n",
       "    },\n",
       "    \"Value\": 0\n",
       "  }\n",
       "]"
      ]
     },
     "metadata": {},
     "output_type": "display_data"
    }
   ],
   "source": [
    "//preparing bundle that consists of both transactions prepared in the previous example\n",
    "var bundle = new Bundle();\n",
    "\n",
    "bundle.AddTransfer(pt);\n",
    "bundle.AddTransfer(pt2);\n",
    "\n",
    "//generate a bundle hash using sponge/absorb function + normalize bundle hash + copy bundle hash into each transaction / bundle\n",
    "bundle.Finalize();\n",
    "bundle.Sign();\n",
    "\n",
    "Console.WriteLine(\"Generated bundle hash: \" + bundle.Hash.ToString());\n",
    "Console.WriteLine(\"Tail Transaction in the Bundle is a transaction #\" + bundle.TailTransaction.CurrentIndex + \".\");\n",
    "\n",
    "Console.WriteLine(\"List of all transactions in the bundle:\");\n",
    "Console.WriteLine(JsonConvert.SerializeObject(bundle.Transactions, Formatting.Indented));"
   ]
  },
  {
   "cell_type": "code",
   "execution_count": 10,
   "metadata": {
    "iotadev": {
     "codeid": "B4FE2962FB5C"
    }
   },
   "outputs": [
    {
     "data": {
      "text/html": [
       "[\n",
       "  {\n",
       "    &quot;TrytesLength&quot;: 2673,\n",
       "    &quot;Value&quot;: &quot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quot;\n",
       "  },\n",
       "  {\n",
       "    &quot;TrytesLength&quot;: 2673,\n",
       "    &quot;Value&quot;: &quot;RBTCFDTCEARCCDADTCGDEAPCEAGDTCRCCDBDSCEAADTCGDGDPCVCTCSAEAXBCDKDEAXCGDEACBTAVABBTAWAUAVACB999999999999999999999999999999999999999999999999999999999999999999999999999999999999999999999999999999999999999999999999999999999999999999999999999999999999999999999999999999999999999999999999999999999999999999999999999999999999999999999999999999999999999999999999999999999999999999999999999999999999999999999999999999999999999999999999999999999999999999999999999999999999999999999999999999999999999999999999999999999999999999999999999999999999999999999999999999999999999999999999999999999999999999999999999999999999999999999999999999999999999999999999999999999999999999999999999999999999999999999999999999999999999999999999999999999999999999999999999999999999999999999999999999999999999999999999999999999999999999999999999999999999999999999999999999999999999999999999999999999999999999999999999999999999999999999999999999999999999999999999999999999999999999999999999999999999999999999999999999999999999999999999999999999999999999999999999999999999999999999999999999999999999999999999999999999999999999999999999999999999999999999999999999999999999999999999999999999999999999999999999999999999999999999999999999999999999999999999999999999999999999999999999999999999999999999999999999999999999999999999999999999999999999999999999999999999999999999999999999999999999999999999999999999999999999999999999999999999999999999999999999999999999999999999999999999999999999999999999999999999999999999999999999999999999999999999999999999999999999999999999999999999999999999999999999999999999999999999999999999999999999999999999999999999999999999999999999999999999999999999999999999999999999999999999999999999999999999999999999999999999999999999999999999999999999999999999999999999999999999999999999999999999999999999999999999999999999999999999999999999999999999999999999999999999999999999999999999999999999999999999999999999999999999999999999999999999999999999999999999999999999999999999999999999999999999999999999999999999999999999999999999999999999999999999999999999999999999999999999999999999999999999999999999999999999999999999999999999999999999999999999999999999999999999999999999999999999999999999999999CYJV9DRIE9NCQJYLOYOJOGKQGOOELTWXVWUYGQSWCNODHJAHACADUAAHQ9ODUICCESOIVZABA9LTMM9RW999999999999999999999999999HRIBEK999IOTA999TUTORIAL999999999999A99999999A99999999HMCU9CJIIGJLNCJJSYACUYZNFPDREPKLADUU9EHBEZNQUAHWGXJ9BZZHZPBLWXCXBHSLSKSLZZYFLVHZB999999999999999999999999999999999999999999999999999999999999999999999999999999999999999999999999999999999999999999999999999999999999999999999999999999999999999999HRIBEK999IOTA999TUTORIAL9999CGRSPC999CGRSPC999CGRSPC99999999999999999999999999999&quot;\n",
       "  }\n",
       "]"
      ],
      "text/plain": [
       "[\n",
       "  {\n",
       "    \"TrytesLength\": 2673,\n",
       "    \"Value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n",
       "  },\n",
       "  {\n",
       "    \"TrytesLength\": 2673,\n",
       "    \"Value\": \"RBTCFDTCEARCCDADTCGDEAPCEAGDTCRCCDBDSCEAADTCGDGDPCVCTCSAEAXBCDKDEAXCGDEACBTAVABBTAWAUAVACB999999999999999999999999999999999999999999999999999999999999999999999999999999999999999999999999999999999999999999999999999999999999999999999999999999999999999999999999999999999999999999999999999999999999999999999999999999999999999999999999999999999999999999999999999999999999999999999999999999999999999999999999999999999999999999999999999999999999999999999999999999999999999999999999999999999999999999999999999999999999999999999999999999999999999999999999999999999999999999999999999999999999999999999999999999999999999999999999999999999999999999999999999999999999999999999999999999999999999999999999999999999999999999999999999999999999999999999999999999999999999999999999999999999999999999999999999999999999999999999999999999999999999999999999999999999999999999999999999999999999999999999999999999999999999999999999999999999999999999999999999999999999999999999999999999999999999999999999999999999999999999999999999999999999999999999999999999999999999999999999999999999999999999999999999999999999999999999999999999999999999999999999999999999999999999999999999999999999999999999999999999999999999999999999999999999999999999999999999999999999999999999999999999999999999999999999999999999999999999999999999999999999999999999999999999999999999999999999999999999999999999999999999999999999999999999999999999999999999999999999999999999999999999999999999999999999999999999999999999999999999999999999999999999999999999999999999999999999999999999999999999999999999999999999999999999999999999999999999999999999999999999999999999999999999999999999999999999999999999999999999999999999999999999999999999999999999999999999999999999999999999999999999999999999999999999999999999999999999999999999999999999999999999999999999999999999999999999999999999999999999999999999999999999999999999999999999999999999999999999999999999999999999999999999999999999999999999999999999999999999999999999999999999999999999999999999999999999999999999999999999999999999999999999999999999999999999999999999999999999999999999999999999999999999999999999999999999999999999999999999999999999999999999999999999999999999999999999999999999999CYJV9DRIE9NCQJYLOYOJOGKQGOOELTWXVWUYGQSWCNODHJAHACADUAAHQ9ODUICCESOIVZABA9LTMM9RW999999999999999999999999999HRIBEK999IOTA999TUTORIAL999999999999A99999999A99999999HMCU9CJIIGJLNCJJSYACUYZNFPDREPKLADUU9EHBEZNQUAHWGXJ9BZZHZPBLWXCXBHSLSKSLZZYFLVHZB999999999999999999999999999999999999999999999999999999999999999999999999999999999999999999999999999999999999999999999999999999999999999999999999999999999999999999HRIBEK999IOTA999TUTORIAL9999CGRSPC999CGRSPC999CGRSPC99999999999999999999999999999\"\n",
       "  }\n",
       "]"
      ]
     },
     "metadata": {},
     "output_type": "display_data"
    }
   ],
   "source": [
    "Console.WriteLine(JsonConvert.SerializeObject(bundle.ToTrytes(), Formatting.Indented)); //bundle as trytes - there is no bundle just transactions"
   ]
  },
  {
   "cell_type": "code",
   "execution_count": 11,
   "metadata": {
    "iotadev": {
     "codeid": "20F0C730001B"
    }
   },
   "outputs": [
    {
     "data": {
      "text/html": [
       "{\n",
       "  &quot;BranchTransaction&quot;: {\n",
       "    &quot;TrytesLength&quot;: 81,\n",
       "    &quot;Value&quot;: &quot;KAIQDBQEOHPOQELQZXIMICACCRPHGAZCZAUAUKZVSRZLKUD9BBKKAMNNBGUTQTKLVMLGGO9ZZLWKA9999&quot;\n",
       "  },\n",
       "  &quot;Duration&quot;: 190,\n",
       "  &quot;TrunkTransaction&quot;: {\n",
       "    &quot;TrytesLength&quot;: 81,\n",
       "    &quot;Value&quot;: &quot;AZYDOXZLYNILMCSCWBXRPNNXWFZGTHOVSEQBYMKEXBZZRKWTPHSWPZCERVSPHUXPXAEGEILXITVA99999&quot;\n",
       "  }\n",
       "}"
      ],
      "text/plain": [
       "{\n",
       "  \"BranchTransaction\": {\n",
       "    \"TrytesLength\": 81,\n",
       "    \"Value\": \"KAIQDBQEOHPOQELQZXIMICACCRPHGAZCZAUAUKZVSRZLKUD9BBKKAMNNBGUTQTKLVMLGGO9ZZLWKA9999\"\n",
       "  },\n",
       "  \"Duration\": 190,\n",
       "  \"TrunkTransaction\": {\n",
       "    \"TrytesLength\": 81,\n",
       "    \"Value\": \"AZYDOXZLYNILMCSCWBXRPNNXWFZGTHOVSEQBYMKEXBZZRKWTPHSWPZCERVSPHUXPXAEGEILXITVA99999\"\n",
       "  }\n",
       "}"
      ]
     },
     "metadata": {},
     "output_type": "display_data"
    }
   ],
   "source": [
    "#r \"RestSharp.dll\"\n",
    "using RestSharp;\n",
    "using Tangle.Net.Repository;\n",
    "\n",
    "var NodeURL = \"https://nodes.thetangle.org:443\";\n",
    "var repo = new RestIotaRepository(new RestClient(NodeURL)); // ctor initialization of the Tangle.Net library\n",
    "\n",
    "var gta = repo.GetTransactionsToApprove(3);\n",
    "Console.WriteLine(JsonConvert.SerializeObject(gta, Formatting.Indented));"
   ]
  },
  {
   "cell_type": "code",
   "execution_count": 12,
   "metadata": {
    "iotadev": {
     "codeid": "1DFBE208CD1D"
    }
   },
   "outputs": [
    {
     "data": {
      "text/html": [
       "Performing POW... Wait please..."
      ],
      "text/plain": [
       "Performing POW... Wait please..."
      ]
     },
     "metadata": {},
     "output_type": "display_data"
    },
    {
     "data": {
      "text/html": [
       "[\n",
       "  {\n",
       "    &quot;TrytesLength&quot;: 2673,\n",
       "    &quot;Value&quot;: &quot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quot;\n",
       "  },\n",
       "  {\n",
       "    &quot;TrytesLength&quot;: 2673,\n",
       "    &quot;Value&quot;: &quot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quot;\n",
       "  }\n",
       "]"
      ],
      "text/plain": [
       "[\n",
       "  {\n",
       "    \"TrytesLength\": 2673,\n",
       "    \"Value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n",
       "  },\n",
       "  {\n",
       "    \"TrytesLength\": 2673,\n",
       "    \"Value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n",
       "  }\n",
       "]"
      ]
     },
     "metadata": {},
     "output_type": "display_data"
    }
   ],
   "source": [
    "Console.WriteLine(\"Performing POW... Wait please...\");\n",
    "var att = repo.AttachToTangle(branchTransaction: gta.BranchTransaction, //first tip selected\n",
    "                              trunkTransaction: gta.TrunkTransaction, //second tip selected\n",
    "                              transactions: bundle.Transactions, //our finalized transactions\n",
    "                              minWeightMagnitude: 14); // MWMN\n",
    "\n",
    "Console.WriteLine(JsonConvert.SerializeObject(att, Formatting.Indented));"
   ]
  },
  {
   "cell_type": "code",
   "execution_count": 13,
   "metadata": {
    "iotadev": {
     "codeid": "8817C6010CDD"
    }
   },
   "outputs": [
    {
     "data": {
      "text/html": [
       "Final bundle including POW and branch/trunk transactions:"
      ],
      "text/plain": [
       "Final bundle including POW and branch/trunk transactions:"
      ]
     },
     "metadata": {},
     "output_type": "display_data"
    },
    {
     "data": {
      "text/html": [
       "{\n",
       "  &quot;Address&quot;: {\n",
       "    &quot;Balance&quot;: 0,\n",
       "    &quot;Checksum&quot;: null,\n",
       "    &quot;KeyIndex&quot;: 0,\n",
       "    &quot;PrivateKey&quot;: null,\n",
       "    &quot;SecurityLevel&quot;: 0,\n",
       "    &quot;SpentFrom&quot;: false,\n",
       "    &quot;TrytesLength&quot;: 81,\n",
       "    &quot;Value&quot;: &quot;CYJV9DRIE9NCQJYLOYOJOGKQGOOELTWXVWUYGQSWCNODHJAHACADUAAHQ9ODUICCESOIVZABA9LTMM9RW&quot;\n",
       "  },\n",
       "  &quot;AttachmentTimestamp&quot;: 1568818706823,\n",
       "  &quot;AttachmentTimestampLowerBound&quot;: 0,\n",
       "  &quot;AttachmentTimestampUpperBound&quot;: 3812798742493,\n",
       "  &quot;BranchTransaction&quot;: {\n",
       "    &quot;TrytesLength&quot;: 81,\n",
       "    &quot;Value&quot;: &quot;KAIQDBQEOHPOQELQZXIMICACCRPHGAZCZAUAUKZVSRZLKUD9BBKKAMNNBGUTQTKLVMLGGO9ZZLWKA9999&quot;\n",
       "  },\n",
       "  &quot;BundleHash&quot;: {\n",
       "    &quot;TrytesLength&quot;: 81,\n",
       "    &quot;Value&quot;: &quot;HMCU9CJIIGJLNCJJSYACUYZNFPDREPKLADUU9EHBEZNQUAHWGXJ9BZZHZPBLWXCXBHSLSKSLZZYFLVHZB&quot;\n",
       "  },\n",
       "  &quot;CurrentIndex&quot;: 1,\n",
       "  &quot;Fragment&quot;: {\n",
       "    &quot;IsEmpty&quot;: false,\n",
       "    &quot;TrytesLength&quot;: 2187,\n",
       "    &quot;Value&quot;: &quot;RBTCFDTCEARCCDADTCGDEAPCEAGDTCRCCDBDSCEAADTCGDGDPCVCTCSAEAXBCDKDEAXCGDEACBTAVABBTAWAUAVACB999999999999999999999999999999999999999999999999999999999999999999999999999999999999999999999999999999999999999999999999999999999999999999999999999999999999999999999999999999999999999999999999999999999999999999999999999999999999999999999999999999999999999999999999999999999999999999999999999999999999999999999999999999999999999999999999999999999999999999999999999999999999999999999999999999999999999999999999999999999999999999999999999999999999999999999999999999999999999999999999999999999999999999999999999999999999999999999999999999999999999999999999999999999999999999999999999999999999999999999999999999999999999999999999999999999999999999999999999999999999999999999999999999999999999999999999999999999999999999999999999999999999999999999999999999999999999999999999999999999999999999999999999999999999999999999999999999999999999999999999999999999999999999999999999999999999999999999999999999999999999999999999999999999999999999999999999999999999999999999999999999999999999999999999999999999999999999999999999999999999999999999999999999999999999999999999999999999999999999999999999999999999999999999999999999999999999999999999999999999999999999999999999999999999999999999999999999999999999999999999999999999999999999999999999999999999999999999999999999999999999999999999999999999999999999999999999999999999999999999999999999999999999999999999999999999999999999999999999999999999999999999999999999999999999999999999999999999999999999999999999999999999999999999999999999999999999999999999999999999999999999999999999999999999999999999999999999999999999999999999999999999999999999999999999999999999999999999999999999999999999999999999999999999999999999999999999999999999999999999999999999999999999999999999999999999999999999999999999999999999999999999999999999999999999999999999999999999999999999999999999999999999999999999999999999999999999999999999999999999999999999999999999999999999999999999999999999999999999999999999999999999999999999999999999999999999999999999999999999999999999999999999999999999999999999999999999999999999999999999999999999999999999999999999999999999999999999999999999999999&quot;\n",
       "  },\n",
       "  &quot;Hash&quot;: {\n",
       "    &quot;TrytesLength&quot;: 81,\n",
       "    &quot;Value&quot;: &quot;OYHIDWXOYTIDSLXUYVPTYJSYSUYGME9OWRFNKISZGENKAJWCAQTDRJXFCJKXBBNHROIGZBNYRXSY99999&quot;\n",
       "  },\n",
       "  &quot;IsTail&quot;: false,\n",
       "  &quot;LastIndex&quot;: 1,\n",
       "  &quot;Nonce&quot;: {\n",
       "    &quot;TrytesLength&quot;: 27,\n",
       "    &quot;Value&quot;: &quot;NYHCWZKAFTLDYXZGUXQN9CGWORG&quot;\n",
       "  },\n",
       "  &quot;ObsoleteTag&quot;: {\n",
       "    &quot;TrytesLength&quot;: 27,\n",
       "    &quot;Value&quot;: &quot;HRIBEK999IOTA999TUTORIAL999&quot;\n",
       "  },\n",
       "  &quot;Tag&quot;: {\n",
       "    &quot;TrytesLength&quot;: 27,\n",
       "    &quot;Value&quot;: &quot;HRIBEK999IOTA999TUTORIAL999&quot;\n",
       "  },\n",
       "  &quot;Timestamp&quot;: 0,\n",
       "  &quot;TrunkTransaction&quot;: {\n",
       "    &quot;TrytesLength&quot;: 81,\n",
       "    &quot;Value&quot;: &quot;AZYDOXZLYNILMCSCWBXRPNNXWFZGTHOVSEQBYMKEXBZZRKWTPHSWPZCERVSPHUXPXAEGEILXITVA99999&quot;\n",
       "  },\n",
       "  &quot;Value&quot;: 0\n",
       "}"
      ],
      "text/plain": [
       "{\n",
       "  \"Address\": {\n",
       "    \"Balance\": 0,\n",
       "    \"Checksum\": null,\n",
       "    \"KeyIndex\": 0,\n",
       "    \"PrivateKey\": null,\n",
       "    \"SecurityLevel\": 0,\n",
       "    \"SpentFrom\": false,\n",
       "    \"TrytesLength\": 81,\n",
       "    \"Value\": \"CYJV9DRIE9NCQJYLOYOJOGKQGOOELTWXVWUYGQSWCNODHJAHACADUAAHQ9ODUICCESOIVZABA9LTMM9RW\"\n",
       "  },\n",
       "  \"AttachmentTimestamp\": 1568818706823,\n",
       "  \"AttachmentTimestampLowerBound\": 0,\n",
       "  \"AttachmentTimestampUpperBound\": 3812798742493,\n",
       "  \"BranchTransaction\": {\n",
       "    \"TrytesLength\": 81,\n",
       "    \"Value\": \"KAIQDBQEOHPOQELQZXIMICACCRPHGAZCZAUAUKZVSRZLKUD9BBKKAMNNBGUTQTKLVMLGGO9ZZLWKA9999\"\n",
       "  },\n",
       "  \"BundleHash\": {\n",
       "    \"TrytesLength\": 81,\n",
       "    \"Value\": \"HMCU9CJIIGJLNCJJSYACUYZNFPDREPKLADUU9EHBEZNQUAHWGXJ9BZZHZPBLWXCXBHSLSKSLZZYFLVHZB\"\n",
       "  },\n",
       "  \"CurrentIndex\": 1,\n",
       "  \"Fragment\": {\n",
       "    \"IsEmpty\": false,\n",
       "    \"TrytesLength\": 2187,\n",
       "    \"Value\": \"RBTCFDTCEARCCDADTCGDEAPCEAGDTCRCCDBDSCEAADTCGDGDPCVCTCSAEAXBCDKDEAXCGDEACBTAVABBTAWAUAVACB999999999999999999999999999999999999999999999999999999999999999999999999999999999999999999999999999999999999999999999999999999999999999999999999999999999999999999999999999999999999999999999999999999999999999999999999999999999999999999999999999999999999999999999999999999999999999999999999999999999999999999999999999999999999999999999999999999999999999999999999999999999999999999999999999999999999999999999999999999999999999999999999999999999999999999999999999999999999999999999999999999999999999999999999999999999999999999999999999999999999999999999999999999999999999999999999999999999999999999999999999999999999999999999999999999999999999999999999999999999999999999999999999999999999999999999999999999999999999999999999999999999999999999999999999999999999999999999999999999999999999999999999999999999999999999999999999999999999999999999999999999999999999999999999999999999999999999999999999999999999999999999999999999999999999999999999999999999999999999999999999999999999999999999999999999999999999999999999999999999999999999999999999999999999999999999999999999999999999999999999999999999999999999999999999999999999999999999999999999999999999999999999999999999999999999999999999999999999999999999999999999999999999999999999999999999999999999999999999999999999999999999999999999999999999999999999999999999999999999999999999999999999999999999999999999999999999999999999999999999999999999999999999999999999999999999999999999999999999999999999999999999999999999999999999999999999999999999999999999999999999999999999999999999999999999999999999999999999999999999999999999999999999999999999999999999999999999999999999999999999999999999999999999999999999999999999999999999999999999999999999999999999999999999999999999999999999999999999999999999999999999999999999999999999999999999999999999999999999999999999999999999999999999999999999999999999999999999999999999999999999999999999999999999999999999999999999999999999999999999999999999999999999999999999999999999999999999999999999999999999999999999999999999999999999999999999999999999999999999999999999999999999999999999999999999999999999999999999999999999\"\n",
       "  },\n",
       "  \"Hash\": {\n",
       "    \"TrytesLength\": 81,\n",
       "    \"Value\": \"OYHIDWXOYTIDSLXUYVPTYJSYSUYGME9OWRFNKISZGENKAJWCAQTDRJXFCJKXBBNHROIGZBNYRXSY99999\"\n",
       "  },\n",
       "  \"IsTail\": false,\n",
       "  \"LastIndex\": 1,\n",
       "  \"Nonce\": {\n",
       "    \"TrytesLength\": 27,\n",
       "    \"Value\": \"NYHCWZKAFTLDYXZGUXQN9CGWORG\"\n",
       "  },\n",
       "  \"ObsoleteTag\": {\n",
       "    \"TrytesLength\": 27,\n",
       "    \"Value\": \"HRIBEK999IOTA999TUTORIAL999\"\n",
       "  },\n",
       "  \"Tag\": {\n",
       "    \"TrytesLength\": 27,\n",
       "    \"Value\": \"HRIBEK999IOTA999TUTORIAL999\"\n",
       "  },\n",
       "  \"Timestamp\": 0,\n",
       "  \"TrunkTransaction\": {\n",
       "    \"TrytesLength\": 81,\n",
       "    \"Value\": \"AZYDOXZLYNILMCSCWBXRPNNXWFZGTHOVSEQBYMKEXBZZRKWTPHSWPZCERVSPHUXPXAEGEILXITVA99999\"\n",
       "  },\n",
       "  \"Value\": 0\n",
       "}"
      ]
     },
     "metadata": {},
     "output_type": "display_data"
    },
    {
     "data": {
      "text/html": [
       "{\n",
       "  &quot;Address&quot;: {\n",
       "    &quot;Balance&quot;: 0,\n",
       "    &quot;Checksum&quot;: null,\n",
       "    &quot;KeyIndex&quot;: 0,\n",
       "    &quot;PrivateKey&quot;: null,\n",
       "    &quot;SecurityLevel&quot;: 0,\n",
       "    &quot;SpentFrom&quot;: false,\n",
       "    &quot;TrytesLength&quot;: 81,\n",
       "    &quot;Value&quot;: &quot;CXDUYK9XGHC9DTSPDMKGGGXAIARSRVAFGHJOCDDHWADLVBBOEHLICHTMGKVDOGRU9TBESJNHAXYPVJ9R9&quot;\n",
       "  },\n",
       "  &quot;AttachmentTimestamp&quot;: 1568818710254,\n",
       "  &quot;AttachmentTimestampLowerBound&quot;: 0,\n",
       "  &quot;AttachmentTimestampUpperBound&quot;: 3812798742493,\n",
       "  &quot;BranchTransaction&quot;: {\n",
       "    &quot;TrytesLength&quot;: 81,\n",
       "    &quot;Value&quot;: &quot;AZYDOXZLYNILMCSCWBXRPNNXWFZGTHOVSEQBYMKEXBZZRKWTPHSWPZCERVSPHUXPXAEGEILXITVA99999&quot;\n",
       "  },\n",
       "  &quot;BundleHash&quot;: {\n",
       "    &quot;TrytesLength&quot;: 81,\n",
       "    &quot;Value&quot;: &quot;HMCU9CJIIGJLNCJJSYACUYZNFPDREPKLADUU9EHBEZNQUAHWGXJ9BZZHZPBLWXCXBHSLSKSLZZYFLVHZB&quot;\n",
       "  },\n",
       "  &quot;CurrentIndex&quot;: 0,\n",
       "  &quot;Fragment&quot;: {\n",
       "    &quot;IsEmpty&quot;: false,\n",
       "    &quot;TrytesLength&quot;: 2187,\n",
       "    &quot;Value&quot;: &quot;RBTCFDTCEARCCDADTCGDEAPCEAUCXCFDGDHDEAADTCGDGDPCVCTCSAEAXBCDKDEAXCGDEACBTAVABBTAWAUAVACB99999999999999999999999999999999999999999999999999999999999999999999999999999999999999999999999999999999999999999999999999999999999999999999999999999999999999999999999999999999999999999999999999999999999999999999999999999999999999999999999999999999999999999999999999999999999999999999999999999999999999999999999999999999999999999999999999999999999999999999999999999999999999999999999999999999999999999999999999999999999999999999999999999999999999999999999999999999999999999999999999999999999999999999999999999999999999999999999999999999999999999999999999999999999999999999999999999999999999999999999999999999999999999999999999999999999999999999999999999999999999999999999999999999999999999999999999999999999999999999999999999999999999999999999999999999999999999999999999999999999999999999999999999999999999999999999999999999999999999999999999999999999999999999999999999999999999999999999999999999999999999999999999999999999999999999999999999999999999999999999999999999999999999999999999999999999999999999999999999999999999999999999999999999999999999999999999999999999999999999999999999999999999999999999999999999999999999999999999999999999999999999999999999999999999999999999999999999999999999999999999999999999999999999999999999999999999999999999999999999999999999999999999999999999999999999999999999999999999999999999999999999999999999999999999999999999999999999999999999999999999999999999999999999999999999999999999999999999999999999999999999999999999999999999999999999999999999999999999999999999999999999999999999999999999999999999999999999999999999999999999999999999999999999999999999999999999999999999999999999999999999999999999999999999999999999999999999999999999999999999999999999999999999999999999999999999999999999999999999999999999999999999999999999999999999999999999999999999999999999999999999999999999999999999999999999999999999999999999999999999999999999999999999999999999999999999999999999999999999999999999999999999999999999999999999999999999999999999999999999999999999999999999999999999999999999999999999999999999999999999999999999999999999999999999999999999999999999999999999999999&quot;\n",
       "  },\n",
       "  &quot;Hash&quot;: {\n",
       "    &quot;TrytesLength&quot;: 81,\n",
       "    &quot;Value&quot;: &quot;RBE9XKMLBBTXFTNANSTOTW9VHWSAZJM9FBCALBQESWTOKURWQEAJUJEKQJXUOOSAIDXABSOJXMBB99999&quot;\n",
       "  },\n",
       "  &quot;IsTail&quot;: true,\n",
       "  &quot;LastIndex&quot;: 1,\n",
       "  &quot;Nonce&quot;: {\n",
       "    &quot;TrytesLength&quot;: 27,\n",
       "    &quot;Value&quot;: &quot;NXO9XFRKWJIPJOGSREFDHPHRIJQ&quot;\n",
       "  },\n",
       "  &quot;ObsoleteTag&quot;: {\n",
       "    &quot;TrytesLength&quot;: 27,\n",
       "    &quot;Value&quot;: &quot;LWIBEK999IOTA999TUTORIAL999&quot;\n",
       "  },\n",
       "  &quot;Tag&quot;: {\n",
       "    &quot;TrytesLength&quot;: 27,\n",
       "    &quot;Value&quot;: &quot;HRIBEK999IOTA999TUTORIAL999&quot;\n",
       "  },\n",
       "  &quot;Timestamp&quot;: 0,\n",
       "  &quot;TrunkTransaction&quot;: {\n",
       "    &quot;TrytesLength&quot;: 81,\n",
       "    &quot;Value&quot;: &quot;OYHIDWXOYTIDSLXUYVPTYJSYSUYGME9OWRFNKISZGENKAJWCAQTDRJXFCJKXBBNHROIGZBNYRXSY99999&quot;\n",
       "  },\n",
       "  &quot;Value&quot;: 0\n",
       "}"
      ],
      "text/plain": [
       "{\n",
       "  \"Address\": {\n",
       "    \"Balance\": 0,\n",
       "    \"Checksum\": null,\n",
       "    \"KeyIndex\": 0,\n",
       "    \"PrivateKey\": null,\n",
       "    \"SecurityLevel\": 0,\n",
       "    \"SpentFrom\": false,\n",
       "    \"TrytesLength\": 81,\n",
       "    \"Value\": \"CXDUYK9XGHC9DTSPDMKGGGXAIARSRVAFGHJOCDDHWADLVBBOEHLICHTMGKVDOGRU9TBESJNHAXYPVJ9R9\"\n",
       "  },\n",
       "  \"AttachmentTimestamp\": 1568818710254,\n",
       "  \"AttachmentTimestampLowerBound\": 0,\n",
       "  \"AttachmentTimestampUpperBound\": 3812798742493,\n",
       "  \"BranchTransaction\": {\n",
       "    \"TrytesLength\": 81,\n",
       "    \"Value\": \"AZYDOXZLYNILMCSCWBXRPNNXWFZGTHOVSEQBYMKEXBZZRKWTPHSWPZCERVSPHUXPXAEGEILXITVA99999\"\n",
       "  },\n",
       "  \"BundleHash\": {\n",
       "    \"TrytesLength\": 81,\n",
       "    \"Value\": \"HMCU9CJIIGJLNCJJSYACUYZNFPDREPKLADUU9EHBEZNQUAHWGXJ9BZZHZPBLWXCXBHSLSKSLZZYFLVHZB\"\n",
       "  },\n",
       "  \"CurrentIndex\": 0,\n",
       "  \"Fragment\": {\n",
       "    \"IsEmpty\": false,\n",
       "    \"TrytesLength\": 2187,\n",
       "    \"Value\": \"RBTCFDTCEARCCDADTCGDEAPCEAUCXCFDGDHDEAADTCGDGDPCVCTCSAEAXBCDKDEAXCGDEACBTAVABBTAWAUAVACB99999999999999999999999999999999999999999999999999999999999999999999999999999999999999999999999999999999999999999999999999999999999999999999999999999999999999999999999999999999999999999999999999999999999999999999999999999999999999999999999999999999999999999999999999999999999999999999999999999999999999999999999999999999999999999999999999999999999999999999999999999999999999999999999999999999999999999999999999999999999999999999999999999999999999999999999999999999999999999999999999999999999999999999999999999999999999999999999999999999999999999999999999999999999999999999999999999999999999999999999999999999999999999999999999999999999999999999999999999999999999999999999999999999999999999999999999999999999999999999999999999999999999999999999999999999999999999999999999999999999999999999999999999999999999999999999999999999999999999999999999999999999999999999999999999999999999999999999999999999999999999999999999999999999999999999999999999999999999999999999999999999999999999999999999999999999999999999999999999999999999999999999999999999999999999999999999999999999999999999999999999999999999999999999999999999999999999999999999999999999999999999999999999999999999999999999999999999999999999999999999999999999999999999999999999999999999999999999999999999999999999999999999999999999999999999999999999999999999999999999999999999999999999999999999999999999999999999999999999999999999999999999999999999999999999999999999999999999999999999999999999999999999999999999999999999999999999999999999999999999999999999999999999999999999999999999999999999999999999999999999999999999999999999999999999999999999999999999999999999999999999999999999999999999999999999999999999999999999999999999999999999999999999999999999999999999999999999999999999999999999999999999999999999999999999999999999999999999999999999999999999999999999999999999999999999999999999999999999999999999999999999999999999999999999999999999999999999999999999999999999999999999999999999999999999999999999999999999999999999999999999999999999999999999999999999999999999999999999999999999999999999999999999999999999999999999999999999999999999999999\"\n",
       "  },\n",
       "  \"Hash\": {\n",
       "    \"TrytesLength\": 81,\n",
       "    \"Value\": \"RBE9XKMLBBTXFTNANSTOTW9VHWSAZJM9FBCALBQESWTOKURWQEAJUJEKQJXUOOSAIDXABSOJXMBB99999\"\n",
       "  },\n",
       "  \"IsTail\": true,\n",
       "  \"LastIndex\": 1,\n",
       "  \"Nonce\": {\n",
       "    \"TrytesLength\": 27,\n",
       "    \"Value\": \"NXO9XFRKWJIPJOGSREFDHPHRIJQ\"\n",
       "  },\n",
       "  \"ObsoleteTag\": {\n",
       "    \"TrytesLength\": 27,\n",
       "    \"Value\": \"LWIBEK999IOTA999TUTORIAL999\"\n",
       "  },\n",
       "  \"Tag\": {\n",
       "    \"TrytesLength\": 27,\n",
       "    \"Value\": \"HRIBEK999IOTA999TUTORIAL999\"\n",
       "  },\n",
       "  \"Timestamp\": 0,\n",
       "  \"TrunkTransaction\": {\n",
       "    \"TrytesLength\": 81,\n",
       "    \"Value\": \"OYHIDWXOYTIDSLXUYVPTYJSYSUYGME9OWRFNKISZGENKAJWCAQTDRJXFCJKXBBNHROIGZBNYRXSY99999\"\n",
       "  },\n",
       "  \"Value\": 0\n",
       "}"
      ]
     },
     "metadata": {},
     "output_type": "display_data"
    }
   ],
   "source": [
    "// show what has been broadcasted - hash transaction + nonce (POW)\n",
    "\n",
    "Console.WriteLine(\"Final bundle including POW and branch/trunk transactions:\");\n",
    "\n",
    "foreach (var tr in att)\n",
    "{\n",
    "    Console.WriteLine(JsonConvert.SerializeObject(Transaction.FromTrytes(tr), Formatting.Indented));\n",
    "}"
   ]
  },
  {
   "cell_type": "code",
   "execution_count": 14,
   "metadata": {
    "iotadev": {
     "codeid": "CD0C67713BF9"
    }
   },
   "outputs": [
    {
     "data": {
      "text/html": [
       "Broadcasting transactions..."
      ],
      "text/plain": [
       "Broadcasting transactions..."
      ]
     },
     "metadata": {},
     "output_type": "display_data"
    },
    {
     "data": {
      "text/html": [
       "Broadcasted."
      ],
      "text/plain": [
       "Broadcasted."
      ]
     },
     "metadata": {},
     "output_type": "display_data"
    }
   ],
   "source": [
    "Console.WriteLine(\"Broadcasting transactions...\");\n",
    "repo.BroadcastAndStoreTransactions(att);\n",
    "Console.WriteLine(\"Broadcasted.\");      "
   ]
  },
  {
   "cell_type": "code",
   "execution_count": 2,
   "metadata": {
    "iotadev": {
     "codeid": "00663E550ADF"
    }
   },
   "outputs": [
    {
     "data": {
      "text/html": [
       "Preparing/Broadcasting... Wait please..."
      ],
      "text/plain": [
       "Preparing/Broadcasting... Wait please..."
      ]
     },
     "metadata": {},
     "output_type": "display_data"
    },
    {
     "data": {
      "text/html": [
       "Generated bundle hash: MJZPGDLCDKOIWFTNKJJZUC9STN9RGXWC9EBRWKBGOCLIGRZCJQEUYUARGPDCFUJXIHI9UKDDVXKBZVFD9"
      ],
      "text/plain": [
       "Generated bundle hash: MJZPGDLCDKOIWFTNKJJZUC9STN9RGXWC9EBRWKBGOCLIGRZCJQEUYUARGPDCFUJXIHI9UKDDVXKBZVFD9"
      ]
     },
     "metadata": {},
     "output_type": "display_data"
    },
    {
     "data": {
      "text/html": [
       "Tail Transaction in the Bundle is a transaction #0."
      ],
      "text/plain": [
       "Tail Transaction in the Bundle is a transaction #0."
      ]
     },
     "metadata": {},
     "output_type": "display_data"
    },
    {
     "data": {
      "text/html": [
       "List of all transactions in the bundle:"
      ],
      "text/plain": [
       "List of all transactions in the bundle:"
      ]
     },
     "metadata": {},
     "output_type": "display_data"
    },
    {
     "data": {
      "text/html": [
       "{\n",
       "  &quot;Address&quot;: {\n",
       "    &quot;Balance&quot;: 0,\n",
       "    &quot;Checksum&quot;: null,\n",
       "    &quot;KeyIndex&quot;: 0,\n",
       "    &quot;PrivateKey&quot;: null,\n",
       "    &quot;SecurityLevel&quot;: 0,\n",
       "    &quot;SpentFrom&quot;: false,\n",
       "    &quot;TrytesLength&quot;: 81,\n",
       "    &quot;Value&quot;: &quot;CXDUYK9XGHC9DTSPDMKGGGXAIARSRVAFGHJOCDDHWADLVBBOEHLICHTMGKVDOGRU9TBESJNHAXYPVJ9R9&quot;\n",
       "  },\n",
       "  &quot;AttachmentTimestamp&quot;: 1568832066884,\n",
       "  &quot;AttachmentTimestampLowerBound&quot;: 0,\n",
       "  &quot;AttachmentTimestampUpperBound&quot;: 3812798742493,\n",
       "  &quot;BranchTransaction&quot;: {\n",
       "    &quot;TrytesLength&quot;: 81,\n",
       "    &quot;Value&quot;: &quot;WYLFSDUXVFRYYPDH9GOCHKLASCXTPAFUMAC9JKMPAXZIOZVGCJ9LARVDFFJPCTAXLBIYSSZEYKNHA9999&quot;\n",
       "  },\n",
       "  &quot;BundleHash&quot;: {\n",
       "    &quot;TrytesLength&quot;: 81,\n",
       "    &quot;Value&quot;: &quot;MJZPGDLCDKOIWFTNKJJZUC9STN9RGXWC9EBRWKBGOCLIGRZCJQEUYUARGPDCFUJXIHI9UKDDVXKBZVFD9&quot;\n",
       "  },\n",
       "  &quot;CurrentIndex&quot;: 0,\n",
       "  &quot;Fragment&quot;: {\n",
       "    &quot;IsEmpty&quot;: false,\n",
       "    &quot;TrytesLength&quot;: 2187,\n",
       "    &quot;Value&quot;: &quot;RBTCFDTCEARCCDADTCGDEAPCEAUCXCFDGDHDEAADTCGDGDPCVCTCSAEAXBCDKDEAXCGDEACBTAVABBTAWAUAVACB99999999999999999999999999999999999999999999999999999999999999999999999999999999999999999999999999999999999999999999999999999999999999999999999999999999999999999999999999999999999999999999999999999999999999999999999999999999999999999999999999999999999999999999999999999999999999999999999999999999999999999999999999999999999999999999999999999999999999999999999999999999999999999999999999999999999999999999999999999999999999999999999999999999999999999999999999999999999999999999999999999999999999999999999999999999999999999999999999999999999999999999999999999999999999999999999999999999999999999999999999999999999999999999999999999999999999999999999999999999999999999999999999999999999999999999999999999999999999999999999999999999999999999999999999999999999999999999999999999999999999999999999999999999999999999999999999999999999999999999999999999999999999999999999999999999999999999999999999999999999999999999999999999999999999999999999999999999999999999999999999999999999999999999999999999999999999999999999999999999999999999999999999999999999999999999999999999999999999999999999999999999999999999999999999999999999999999999999999999999999999999999999999999999999999999999999999999999999999999999999999999999999999999999999999999999999999999999999999999999999999999999999999999999999999999999999999999999999999999999999999999999999999999999999999999999999999999999999999999999999999999999999999999999999999999999999999999999999999999999999999999999999999999999999999999999999999999999999999999999999999999999999999999999999999999999999999999999999999999999999999999999999999999999999999999999999999999999999999999999999999999999999999999999999999999999999999999999999999999999999999999999999999999999999999999999999999999999999999999999999999999999999999999999999999999999999999999999999999999999999999999999999999999999999999999999999999999999999999999999999999999999999999999999999999999999999999999999999999999999999999999999999999999999999999999999999999999999999999999999999999999999999999999999999999999999999999999999999999999999999999999999999999999999999999999999999999999999999999999999999&quot;\n",
       "  },\n",
       "  &quot;Hash&quot;: {\n",
       "    &quot;TrytesLength&quot;: 81,\n",
       "    &quot;Value&quot;: &quot;PUM9YUXZWH9TZQKEUKIBIBVAIPWXNGIUEKBQHLM9PRHGGOJPTASEKHMXHHMK9EBXZSJOPXYQUIHRZ9999&quot;\n",
       "  },\n",
       "  &quot;IsTail&quot;: true,\n",
       "  &quot;LastIndex&quot;: 1,\n",
       "  &quot;Nonce&quot;: {\n",
       "    &quot;TrytesLength&quot;: 27,\n",
       "    &quot;Value&quot;: &quot;BSVCUUWALVPHMHXBINNMXAEJ9VA&quot;\n",
       "  },\n",
       "  &quot;ObsoleteTag&quot;: {\n",
       "    &quot;TrytesLength&quot;: 27,\n",
       "    &quot;Value&quot;: &quot;ODIBEK999IOTA999TUTORIAL999&quot;\n",
       "  },\n",
       "  &quot;Tag&quot;: {\n",
       "    &quot;TrytesLength&quot;: 27,\n",
       "    &quot;Value&quot;: &quot;HRIBEK999IOTA999TUTORIAL999&quot;\n",
       "  },\n",
       "  &quot;Timestamp&quot;: 1568832063,\n",
       "  &quot;TrunkTransaction&quot;: {\n",
       "    &quot;TrytesLength&quot;: 81,\n",
       "    &quot;Value&quot;: &quot;YBJB9C9T9CFSKTLMHKOMHDRNT9MZTPNZIHTJ9DMNDJSYECMGLAGIIY9RH9PNSTPJXMHUIUCPVLLYZ9999&quot;\n",
       "  },\n",
       "  &quot;Value&quot;: 0\n",
       "}"
      ],
      "text/plain": [
       "{\n",
       "  \"Address\": {\n",
       "    \"Balance\": 0,\n",
       "    \"Checksum\": null,\n",
       "    \"KeyIndex\": 0,\n",
       "    \"PrivateKey\": null,\n",
       "    \"SecurityLevel\": 0,\n",
       "    \"SpentFrom\": false,\n",
       "    \"TrytesLength\": 81,\n",
       "    \"Value\": \"CXDUYK9XGHC9DTSPDMKGGGXAIARSRVAFGHJOCDDHWADLVBBOEHLICHTMGKVDOGRU9TBESJNHAXYPVJ9R9\"\n",
       "  },\n",
       "  \"AttachmentTimestamp\": 1568832066884,\n",
       "  \"AttachmentTimestampLowerBound\": 0,\n",
       "  \"AttachmentTimestampUpperBound\": 3812798742493,\n",
       "  \"BranchTransaction\": {\n",
       "    \"TrytesLength\": 81,\n",
       "    \"Value\": \"WYLFSDUXVFRYYPDH9GOCHKLASCXTPAFUMAC9JKMPAXZIOZVGCJ9LARVDFFJPCTAXLBIYSSZEYKNHA9999\"\n",
       "  },\n",
       "  \"BundleHash\": {\n",
       "    \"TrytesLength\": 81,\n",
       "    \"Value\": \"MJZPGDLCDKOIWFTNKJJZUC9STN9RGXWC9EBRWKBGOCLIGRZCJQEUYUARGPDCFUJXIHI9UKDDVXKBZVFD9\"\n",
       "  },\n",
       "  \"CurrentIndex\": 0,\n",
       "  \"Fragment\": {\n",
       "    \"IsEmpty\": false,\n",
       "    \"TrytesLength\": 2187,\n",
       "    \"Value\": \"RBTCFDTCEARCCDADTCGDEAPCEAUCXCFDGDHDEAADTCGDGDPCVCTCSAEAXBCDKDEAXCGDEACBTAVABBTAWAUAVACB99999999999999999999999999999999999999999999999999999999999999999999999999999999999999999999999999999999999999999999999999999999999999999999999999999999999999999999999999999999999999999999999999999999999999999999999999999999999999999999999999999999999999999999999999999999999999999999999999999999999999999999999999999999999999999999999999999999999999999999999999999999999999999999999999999999999999999999999999999999999999999999999999999999999999999999999999999999999999999999999999999999999999999999999999999999999999999999999999999999999999999999999999999999999999999999999999999999999999999999999999999999999999999999999999999999999999999999999999999999999999999999999999999999999999999999999999999999999999999999999999999999999999999999999999999999999999999999999999999999999999999999999999999999999999999999999999999999999999999999999999999999999999999999999999999999999999999999999999999999999999999999999999999999999999999999999999999999999999999999999999999999999999999999999999999999999999999999999999999999999999999999999999999999999999999999999999999999999999999999999999999999999999999999999999999999999999999999999999999999999999999999999999999999999999999999999999999999999999999999999999999999999999999999999999999999999999999999999999999999999999999999999999999999999999999999999999999999999999999999999999999999999999999999999999999999999999999999999999999999999999999999999999999999999999999999999999999999999999999999999999999999999999999999999999999999999999999999999999999999999999999999999999999999999999999999999999999999999999999999999999999999999999999999999999999999999999999999999999999999999999999999999999999999999999999999999999999999999999999999999999999999999999999999999999999999999999999999999999999999999999999999999999999999999999999999999999999999999999999999999999999999999999999999999999999999999999999999999999999999999999999999999999999999999999999999999999999999999999999999999999999999999999999999999999999999999999999999999999999999999999999999999999999999999999999999999999999999999999999999999999999999999999999999999999999999999999999999999999999999999\"\n",
       "  },\n",
       "  \"Hash\": {\n",
       "    \"TrytesLength\": 81,\n",
       "    \"Value\": \"PUM9YUXZWH9TZQKEUKIBIBVAIPWXNGIUEKBQHLM9PRHGGOJPTASEKHMXHHMK9EBXZSJOPXYQUIHRZ9999\"\n",
       "  },\n",
       "  \"IsTail\": true,\n",
       "  \"LastIndex\": 1,\n",
       "  \"Nonce\": {\n",
       "    \"TrytesLength\": 27,\n",
       "    \"Value\": \"BSVCUUWALVPHMHXBINNMXAEJ9VA\"\n",
       "  },\n",
       "  \"ObsoleteTag\": {\n",
       "    \"TrytesLength\": 27,\n",
       "    \"Value\": \"ODIBEK999IOTA999TUTORIAL999\"\n",
       "  },\n",
       "  \"Tag\": {\n",
       "    \"TrytesLength\": 27,\n",
       "    \"Value\": \"HRIBEK999IOTA999TUTORIAL999\"\n",
       "  },\n",
       "  \"Timestamp\": 1568832063,\n",
       "  \"TrunkTransaction\": {\n",
       "    \"TrytesLength\": 81,\n",
       "    \"Value\": \"YBJB9C9T9CFSKTLMHKOMHDRNT9MZTPNZIHTJ9DMNDJSYECMGLAGIIY9RH9PNSTPJXMHUIUCPVLLYZ9999\"\n",
       "  },\n",
       "  \"Value\": 0\n",
       "}"
      ]
     },
     "metadata": {},
     "output_type": "display_data"
    },
    {
     "data": {
      "text/html": [
       "{\n",
       "  &quot;Address&quot;: {\n",
       "    &quot;Balance&quot;: 0,\n",
       "    &quot;Checksum&quot;: null,\n",
       "    &quot;KeyIndex&quot;: 0,\n",
       "    &quot;PrivateKey&quot;: null,\n",
       "    &quot;SecurityLevel&quot;: 0,\n",
       "    &quot;SpentFrom&quot;: false,\n",
       "    &quot;TrytesLength&quot;: 81,\n",
       "    &quot;Value&quot;: &quot;CYJV9DRIE9NCQJYLOYOJOGKQGOOELTWXVWUYGQSWCNODHJAHACADUAAHQ9ODUICCESOIVZABA9LTMM9RW&quot;\n",
       "  },\n",
       "  &quot;AttachmentTimestamp&quot;: 1568832066523,\n",
       "  &quot;AttachmentTimestampLowerBound&quot;: 0,\n",
       "  &quot;AttachmentTimestampUpperBound&quot;: 3812798742493,\n",
       "  &quot;BranchTransaction&quot;: {\n",
       "    &quot;TrytesLength&quot;: 81,\n",
       "    &quot;Value&quot;: &quot;WYLFSDUXVFRYYPDH9GOCHKLASCXTPAFUMAC9JKMPAXZIOZVGCJ9LARVDFFJPCTAXLBIYSSZEYKNHA9999&quot;\n",
       "  },\n",
       "  &quot;BundleHash&quot;: {\n",
       "    &quot;TrytesLength&quot;: 81,\n",
       "    &quot;Value&quot;: &quot;MJZPGDLCDKOIWFTNKJJZUC9STN9RGXWC9EBRWKBGOCLIGRZCJQEUYUARGPDCFUJXIHI9UKDDVXKBZVFD9&quot;\n",
       "  },\n",
       "  &quot;CurrentIndex&quot;: 1,\n",
       "  &quot;Fragment&quot;: {\n",
       "    &quot;IsEmpty&quot;: false,\n",
       "    &quot;TrytesLength&quot;: 2187,\n",
       "    &quot;Value&quot;: &quot;RBTCFDTCEARCCDADTCGDEAPCEAGDTCRCCDBDSCEAADTCGDGDPCVCTCSAEAXBCDKDEAXCGDEACBTAVABBTAWAUAVACB999999999999999999999999999999999999999999999999999999999999999999999999999999999999999999999999999999999999999999999999999999999999999999999999999999999999999999999999999999999999999999999999999999999999999999999999999999999999999999999999999999999999999999999999999999999999999999999999999999999999999999999999999999999999999999999999999999999999999999999999999999999999999999999999999999999999999999999999999999999999999999999999999999999999999999999999999999999999999999999999999999999999999999999999999999999999999999999999999999999999999999999999999999999999999999999999999999999999999999999999999999999999999999999999999999999999999999999999999999999999999999999999999999999999999999999999999999999999999999999999999999999999999999999999999999999999999999999999999999999999999999999999999999999999999999999999999999999999999999999999999999999999999999999999999999999999999999999999999999999999999999999999999999999999999999999999999999999999999999999999999999999999999999999999999999999999999999999999999999999999999999999999999999999999999999999999999999999999999999999999999999999999999999999999999999999999999999999999999999999999999999999999999999999999999999999999999999999999999999999999999999999999999999999999999999999999999999999999999999999999999999999999999999999999999999999999999999999999999999999999999999999999999999999999999999999999999999999999999999999999999999999999999999999999999999999999999999999999999999999999999999999999999999999999999999999999999999999999999999999999999999999999999999999999999999999999999999999999999999999999999999999999999999999999999999999999999999999999999999999999999999999999999999999999999999999999999999999999999999999999999999999999999999999999999999999999999999999999999999999999999999999999999999999999999999999999999999999999999999999999999999999999999999999999999999999999999999999999999999999999999999999999999999999999999999999999999999999999999999999999999999999999999999999999999999999999999999999999999999999999999999999999999999999999999999999999999999999999999999999999999999999999999999999999999999999999999999999999999999999&quot;\n",
       "  },\n",
       "  &quot;Hash&quot;: {\n",
       "    &quot;TrytesLength&quot;: 81,\n",
       "    &quot;Value&quot;: &quot;YBJB9C9T9CFSKTLMHKOMHDRNT9MZTPNZIHTJ9DMNDJSYECMGLAGIIY9RH9PNSTPJXMHUIUCPVLLYZ9999&quot;\n",
       "  },\n",
       "  &quot;IsTail&quot;: false,\n",
       "  &quot;LastIndex&quot;: 1,\n",
       "  &quot;Nonce&quot;: {\n",
       "    &quot;TrytesLength&quot;: 27,\n",
       "    &quot;Value&quot;: &quot;GFSZAC9PCWNJNNWDLG9WZKTAVJX&quot;\n",
       "  },\n",
       "  &quot;ObsoleteTag&quot;: {\n",
       "    &quot;TrytesLength&quot;: 27,\n",
       "    &quot;Value&quot;: &quot;HRIBEK999IOTA999TUTORIAL999&quot;\n",
       "  },\n",
       "  &quot;Tag&quot;: {\n",
       "    &quot;TrytesLength&quot;: 27,\n",
       "    &quot;Value&quot;: &quot;HRIBEK999IOTA999TUTORIAL999&quot;\n",
       "  },\n",
       "  &quot;Timestamp&quot;: 1568832063,\n",
       "  &quot;TrunkTransaction&quot;: {\n",
       "    &quot;TrytesLength&quot;: 81,\n",
       "    &quot;Value&quot;: &quot;WYLFSDUXVFRYYPDH9GOCHKLASCXTPAFUMAC9JKMPAXZIOZVGCJ9LARVDFFJPCTAXLBIYSSZEYKNHA9999&quot;\n",
       "  },\n",
       "  &quot;Value&quot;: 0\n",
       "}"
      ],
      "text/plain": [
       "{\n",
       "  \"Address\": {\n",
       "    \"Balance\": 0,\n",
       "    \"Checksum\": null,\n",
       "    \"KeyIndex\": 0,\n",
       "    \"PrivateKey\": null,\n",
       "    \"SecurityLevel\": 0,\n",
       "    \"SpentFrom\": false,\n",
       "    \"TrytesLength\": 81,\n",
       "    \"Value\": \"CYJV9DRIE9NCQJYLOYOJOGKQGOOELTWXVWUYGQSWCNODHJAHACADUAAHQ9ODUICCESOIVZABA9LTMM9RW\"\n",
       "  },\n",
       "  \"AttachmentTimestamp\": 1568832066523,\n",
       "  \"AttachmentTimestampLowerBound\": 0,\n",
       "  \"AttachmentTimestampUpperBound\": 3812798742493,\n",
       "  \"BranchTransaction\": {\n",
       "    \"TrytesLength\": 81,\n",
       "    \"Value\": \"WYLFSDUXVFRYYPDH9GOCHKLASCXTPAFUMAC9JKMPAXZIOZVGCJ9LARVDFFJPCTAXLBIYSSZEYKNHA9999\"\n",
       "  },\n",
       "  \"BundleHash\": {\n",
       "    \"TrytesLength\": 81,\n",
       "    \"Value\": \"MJZPGDLCDKOIWFTNKJJZUC9STN9RGXWC9EBRWKBGOCLIGRZCJQEUYUARGPDCFUJXIHI9UKDDVXKBZVFD9\"\n",
       "  },\n",
       "  \"CurrentIndex\": 1,\n",
       "  \"Fragment\": {\n",
       "    \"IsEmpty\": false,\n",
       "    \"TrytesLength\": 2187,\n",
       "    \"Value\": \"RBTCFDTCEARCCDADTCGDEAPCEAGDTCRCCDBDSCEAADTCGDGDPCVCTCSAEAXBCDKDEAXCGDEACBTAVABBTAWAUAVACB999999999999999999999999999999999999999999999999999999999999999999999999999999999999999999999999999999999999999999999999999999999999999999999999999999999999999999999999999999999999999999999999999999999999999999999999999999999999999999999999999999999999999999999999999999999999999999999999999999999999999999999999999999999999999999999999999999999999999999999999999999999999999999999999999999999999999999999999999999999999999999999999999999999999999999999999999999999999999999999999999999999999999999999999999999999999999999999999999999999999999999999999999999999999999999999999999999999999999999999999999999999999999999999999999999999999999999999999999999999999999999999999999999999999999999999999999999999999999999999999999999999999999999999999999999999999999999999999999999999999999999999999999999999999999999999999999999999999999999999999999999999999999999999999999999999999999999999999999999999999999999999999999999999999999999999999999999999999999999999999999999999999999999999999999999999999999999999999999999999999999999999999999999999999999999999999999999999999999999999999999999999999999999999999999999999999999999999999999999999999999999999999999999999999999999999999999999999999999999999999999999999999999999999999999999999999999999999999999999999999999999999999999999999999999999999999999999999999999999999999999999999999999999999999999999999999999999999999999999999999999999999999999999999999999999999999999999999999999999999999999999999999999999999999999999999999999999999999999999999999999999999999999999999999999999999999999999999999999999999999999999999999999999999999999999999999999999999999999999999999999999999999999999999999999999999999999999999999999999999999999999999999999999999999999999999999999999999999999999999999999999999999999999999999999999999999999999999999999999999999999999999999999999999999999999999999999999999999999999999999999999999999999999999999999999999999999999999999999999999999999999999999999999999999999999999999999999999999999999999999999999999999999999999999999999999999999999999999999999999999999999999999999999999999999999999999999999999999999999999\"\n",
       "  },\n",
       "  \"Hash\": {\n",
       "    \"TrytesLength\": 81,\n",
       "    \"Value\": \"YBJB9C9T9CFSKTLMHKOMHDRNT9MZTPNZIHTJ9DMNDJSYECMGLAGIIY9RH9PNSTPJXMHUIUCPVLLYZ9999\"\n",
       "  },\n",
       "  \"IsTail\": false,\n",
       "  \"LastIndex\": 1,\n",
       "  \"Nonce\": {\n",
       "    \"TrytesLength\": 27,\n",
       "    \"Value\": \"GFSZAC9PCWNJNNWDLG9WZKTAVJX\"\n",
       "  },\n",
       "  \"ObsoleteTag\": {\n",
       "    \"TrytesLength\": 27,\n",
       "    \"Value\": \"HRIBEK999IOTA999TUTORIAL999\"\n",
       "  },\n",
       "  \"Tag\": {\n",
       "    \"TrytesLength\": 27,\n",
       "    \"Value\": \"HRIBEK999IOTA999TUTORIAL999\"\n",
       "  },\n",
       "  \"Timestamp\": 1568832063,\n",
       "  \"TrunkTransaction\": {\n",
       "    \"TrytesLength\": 81,\n",
       "    \"Value\": \"WYLFSDUXVFRYYPDH9GOCHKLASCXTPAFUMAC9JKMPAXZIOZVGCJ9LARVDFFJPCTAXLBIYSSZEYKNHA9999\"\n",
       "  },\n",
       "  \"Value\": 0\n",
       "}"
      ]
     },
     "metadata": {},
     "output_type": "display_data"
    }
   ],
   "source": [
    "#r \"Tangle.Net.dll\"\n",
    "#r \"Newtonsoft.Json.dll\"\n",
    "#r \"RestSharp.dll\"\n",
    "\n",
    "using Tangle.Net.Entity;\n",
    "using Newtonsoft.Json;\n",
    "using RestSharp;\n",
    "using Tangle.Net.Repository;\n",
    "using Tangle.Net.Utils; //this is needed because of Timestamp function\n",
    "\n",
    "\n",
    "var MySeed = \"HGW9HB9LJPYUGVHNGCPLFKKPNZAIIFHZBDHKSGMQKFMANUBASSMSV9TAJSSMPRZZU9SFZULXKJ9YLAIUA\";\n",
    "var TargetAddress1 = \"CXDUYK9XGHC9DTSPDMKGGGXAIARSRVAFGHJOCDDHWADLVBBOEHLICHTMGKVDOGRU9TBESJNHAXYPVJ9R9\";\n",
    "var TargetAddress2 = \"CYJV9DRIE9NCQJYLOYOJOGKQGOOELTWXVWUYGQSWCNODHJAHACADUAAHQ9ODUICCESOIVZABA9LTMM9RW\";\n",
    "\n",
    "var NowIs = DateTime.Now.ToShortDateString(); //this is not important - just to have some meaningful message\n",
    "\n",
    "var pt = new Transfer() // creating a first transfer (a proposed transaction)\n",
    "{\n",
    "    Address=new Address(TargetAddress1),\n",
    "    ValueToTransfer=0,\n",
    "    Message=TryteString.FromUtf8String(\"Here comes a first message. Now is \" + NowIs),\n",
    "    Tag=new Tag(\"HRIBEK999IOTA999TUTORIAL\"),\n",
    "    Timestamp = Timestamp.UnixSecondsTimestamp // please note, Tangle.Net library does not enter timestamp for you but it is very important since it has impact on bundle hash\n",
    "};\n",
    "\n",
    "var pt2 = new Transfer() // creating a second transfer (a proposed transaction)\n",
    "{\n",
    "    Address = new Address(TargetAddress2),\n",
    "    ValueToTransfer = 0,\n",
    "    Message = TryteString.FromUtf8String(\"Here comes a second message. Now is \" + NowIs),\n",
    "    Tag = new Tag(\"HRIBEK999IOTA999TUTORIAL\"),\n",
    "    Timestamp = Timestamp.UnixSecondsTimestamp // please note, Tangle.Net library does not enter timestamp for you but it is very important since it has impact on bundle hash\n",
    "};\n",
    "\n",
    "Console.WriteLine(\"Preparing/Broadcasting... Wait please...\");\n",
    "var bundle = new Bundle();\n",
    "bundle.AddTransfer(pt);\n",
    "bundle.AddTransfer(pt2);\n",
    "\n",
    "var NodeURL = \"https://nodes.thetangle.org:443\";\n",
    "var repo = new RestIotaRepository(new RestClient(NodeURL)); // ctor initialization of the Tangle.Net library\n",
    "\n",
    "// the whole process initiated in a single call\n",
    "var sentBundle = repo.SendTransfer(seed: new Seed(MySeed),\n",
    "                                   bundle: bundle,\n",
    "                                   securityLevel: 2,\n",
    "                                   depth: 3,\n",
    "                                   minWeightMagnitude: 14); //it returns a bundle object\n",
    "\n",
    "Console.WriteLine(\"Generated bundle hash: \" + sentBundle.Hash.ToString());\n",
    "Console.WriteLine(\"Tail Transaction in the Bundle is a transaction #\" + sentBundle.TailTransaction.CurrentIndex + \".\");\n",
    "\n",
    "Console.WriteLine(\"List of all transactions in the bundle:\");\n",
    "foreach (var tx in sentBundle.Transactions)\n",
    "{\n",
    "    Console.WriteLine(JsonConvert.SerializeObject(tx, Formatting.Indented));\n",
    "}"
   ]
  },
  {
   "cell_type": "code",
   "execution_count": 1,
   "metadata": {
    "iotadev": {
     "codeid": "07CFD43B146C"
    }
   },
   "outputs": [
    {
     "data": {
      "text/html": [
       "Almost prepared bundle - tips and POW are still missing"
      ],
      "text/plain": [
       "Almost prepared bundle - tips and POW are still missing"
      ]
     },
     "metadata": {},
     "output_type": "display_data"
    },
    {
     "data": {
      "text/html": [
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
      ],
      "text/plain": [
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
      ]
     },
     "metadata": {},
     "output_type": "display_data"
    },
    {
     "data": {
      "text/html": [
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
      ],
      "text/plain": [
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
      ]
     },
     "metadata": {},
     "output_type": "display_data"
    },
    {
     "data": {
      "text/html": [
       "Searching for tips and performing POW... Wait please..."
      ],
      "text/plain": [
       "Searching for tips and performing POW... Wait please..."
      ]
     },
     "metadata": {},
     "output_type": "display_data"
    },
    {
     "data": {
      "text/html": [
       "Bundle was broadcasted."
      ],
      "text/plain": [
       "Bundle was broadcasted."
      ]
     },
     "metadata": {},
     "output_type": "display_data"
    },
    {
     "data": {
      "text/html": [
       "Final transactions were returned - including nonce(POW)"
      ],
      "text/plain": [
       "Final transactions were returned - including nonce(POW)"
      ]
     },
     "metadata": {},
     "output_type": "display_data"
    },
    {
     "data": {
      "text/html": [
       "RBTCFDTCEARCCDADTCGDEAPCEAGDTCRCCDBDSCEAADTCGDGDPCVCTCSAEAXBCDKDEAXCGDEACBTAVABBTAWAUAVACB999999999999999999999999999999999999999999999999999999999999999999999999999999999999999999999999999999999999999999999999999999999999999999999999999999999999999999999999999999999999999999999999999999999999999999999999999999999999999999999999999999999999999999999999999999999999999999999999999999999999999999999999999999999999999999999999999999999999999999999999999999999999999999999999999999999999999999999999999999999999999999999999999999999999999999999999999999999999999999999999999999999999999999999999999999999999999999999999999999999999999999999999999999999999999999999999999999999999999999999999999999999999999999999999999999999999999999999999999999999999999999999999999999999999999999999999999999999999999999999999999999999999999999999999999999999999999999999999999999999999999999999999999999999999999999999999999999999999999999999999999999999999999999999999999999999999999999999999999999999999999999999999999999999999999999999999999999999999999999999999999999999999999999999999999999999999999999999999999999999999999999999999999999999999999999999999999999999999999999999999999999999999999999999999999999999999999999999999999999999999999999999999999999999999999999999999999999999999999999999999999999999999999999999999999999999999999999999999999999999999999999999999999999999999999999999999999999999999999999999999999999999999999999999999999999999999999999999999999999999999999999999999999999999999999999999999999999999999999999999999999999999999999999999999999999999999999999999999999999999999999999999999999999999999999999999999999999999999999999999999999999999999999999999999999999999999999999999999999999999999999999999999999999999999999999999999999999999999999999999999999999999999999999999999999999999999999999999999999999999999999999999999999999999999999999999999999999999999999999999999999999999999999999999999999999999999999999999999999999999999999999999999999999999999999999999999999999999999999999999999999999999999999999999999999999999999999999999999999999999999999999999999999999999999999999999999999999999999999999999999999999999999999999999999999999999999999999999999999999999CYJV9DRIE9NCQJYLOYOJOGKQGOOELTWXVWUYGQSWCNODHJAHACADUAAHQ9ODUICCESOIVZABA9LTMM9RW999999999999999999999999999HRIBEK999IOTA999TUTORIAL9999KAAIAD99A99999999A99999999MJCVGAPSTFRW99JCEBCWHGFXWCZCLTVPWJD9QKYEZX9UIZSIJXTHDBAQFJ9ANVAUOEDY9GIAHBCECJYGXJVEXQTEBULMLJQJCBASUKVGWTANPOOXNQJDWEGMZQKCHCFPXTGRYPWFFETSDYWUIQMNQUSCIQCTFZ9999NGUCOMI9ZIUNMDODGKUP9WHKXN9ECNDRMRKQKMFFNWMVXBUEUS9LJCUYHZZFJD9LEHDBFPMQJHFP99999HRIBEK999IOTA999TUTORIAL999BJIZULZOF999999999MMMMMMMMMBQFMPJJQWUGGIJWJTJQCEJU9BU9"
      ],
      "text/plain": [
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
      ]
     },
     "metadata": {},
     "output_type": "display_data"
    },
    {
     "data": {
      "text/html": [
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
      ],
      "text/plain": [
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
      ]
     },
     "metadata": {},
     "output_type": "display_data"
    }
   ],
   "source": [
    "#r \"Tangle.Net.dll\"\n",
    "#r \"Newtonsoft.Json.dll\"\n",
    "#r \"RestSharp.dll\"\n",
    "\n",
    "using Tangle.Net.Entity;\n",
    "using Newtonsoft.Json;\n",
    "using RestSharp;\n",
    "using Tangle.Net.Repository;\n",
    "using Tangle.Net.Utils;\n",
    "\n",
    "var MySeed = \"HGW9HB9LJPYUGVHNGCPLFKKPNZAIIFHZBDHKSGMQKFMANUBASSMSV9TAJSSMPRZZU9SFZULXKJ9YLAIUA\";\n",
    "var TargetAddress1 = \"CXDUYK9XGHC9DTSPDMKGGGXAIARSRVAFGHJOCDDHWADLVBBOEHLICHTMGKVDOGRU9TBESJNHAXYPVJ9R9\";\n",
    "var TargetAddress2 = \"CYJV9DRIE9NCQJYLOYOJOGKQGOOELTWXVWUYGQSWCNODHJAHACADUAAHQ9ODUICCESOIVZABA9LTMM9RW\";\n",
    "\n",
    "var NowIs = DateTime.Now.ToShortDateString(); //this is not important - just to have some meaningful message\n",
    "\n",
    "var pt = new Transfer() // creating a first transfer (a proposed transaction)\n",
    "{\n",
    "    Address=new Address(TargetAddress1),\n",
    "    ValueToTransfer=0,\n",
    "    Message=TryteString.FromUtf8String(\"Here comes a first message. Now is \" + NowIs),\n",
    "    Tag=new Tag(\"HRIBEK999IOTA999TUTORIAL\"),\n",
    "    Timestamp = Timestamp.UnixSecondsTimestamp // please note, Tangle.Net library does not enter timestamp for you but it is very important since it has impact on bundle hash\n",
    "};\n",
    "\n",
    "var pt2 = new Transfer() // creating a second transfer (a proposed transaction)\n",
    "{\n",
    "    Address = new Address(TargetAddress2),\n",
    "    ValueToTransfer = 0,\n",
    "    Message = TryteString.FromUtf8String(\"Here comes a second message. Now is \" + NowIs),\n",
    "    Tag = new Tag(\"HRIBEK999IOTA999TUTORIAL\"),\n",
    "    Timestamp = Timestamp.UnixSecondsTimestamp // please note, Tangle.Net library does not enter timestamp for you but it is very important since it has impact on bundle hash\n",
    "};\n",
    "\n",
    "var bundle = new Bundle();\n",
    "bundle.AddTransfer(pt);\n",
    "bundle.AddTransfer(pt2);\n",
    "\n",
    "var NodeURL = \"https://nodes.thetangle.org:443\";\n",
    "var repo = new RestIotaRepository(new RestClient(NodeURL)); // ctor initialization of the Tangle.Net library\n",
    "\n",
    "Console.WriteLine(\"Almost prepared bundle - tips and POW are still missing\");\n",
    "\n",
    "var preparedBundle = repo.PrepareTransfer(seed: new Seed(MySeed),\n",
    "                                          bundle: bundle,\n",
    "                                          securityLevel: 2); // please note, depth and MNWM are not needed since neither GTTA nor ATT is performed\n",
    "foreach (var tx in preparedBundle.ToTrytes())\n",
    "{\n",
    "    Console.WriteLine(tx.ToString());\n",
    "}\n",
    "\n",
    "Console.WriteLine(\"Searching for tips and performing POW... Wait please...\");\n",
    "var sentBundle = repo.SendTrytes(transactions: preparedBundle.Transactions,\n",
    "                                 depth: 3,\n",
    "                                 minWeightMagnitude: 14);\n",
    "\n",
    "Console.WriteLine(\"Bundle was broadcasted.\");\n",
    "Console.WriteLine(\"Final transactions were returned - including nonce(POW)\");\n",
    "foreach (var tx in sentBundle)\n",
    "{\n",
    "    Console.WriteLine(tx.ToString());\n",
    "}\n"
   ]
  },
  {
   "cell_type": "code",
   "execution_count": 1,
   "metadata": {
    "iotadev": {
     "codeid": "F0DD441072CC"
    }
   },
   "outputs": [
    {
     "data": {
      "text/html": [
       "Variables were initialized."
      ],
      "text/plain": [
       "Variables were initialized."
      ]
     },
     "metadata": {},
     "output_type": "display_data"
    },
    {
     "data": {
      "text/html": [
       "(6,17): error CS0103: The name `Timestamp&#39; does not exist in the current context"
      ],
      "text/plain": [
       "(6,17): error CS0103: The name `Timestamp' does not exist in the current context"
      ]
     },
     "metadata": {},
     "output_type": "display_data"
    },
    {
     "data": {
      "text/html": [
       "(6,17): error CS0103: The name `Timestamp&#39; does not exist in the current context"
      ],
      "text/plain": [
       "(6,17): error CS0103: The name `Timestamp' does not exist in the current context"
      ]
     },
     "metadata": {},
     "output_type": "display_data"
    }
   ],
   "source": [
    "// Sender's side\n",
    "// Sender seed\n",
    "var SeedSender = \"HGW9HB9LJPYUGVHNGCPLFKKPNZAIIFHZBDHKSGMQKFMANUBASSMSV9TAJSSMPRZZU9SFZULXKJ9YLAIUA\";\n",
    "\n",
    "// Receiver's side\n",
    "// Recipient's seed - this is actually not needed for the exercise - it is just to have corresponding seed somewhere written\n",
    "var SeedReceiver = \"NVPDKGLESTYNJEH9DTWD9DUBYWHZJDDWTBLKWEYLVZKBKKAZTIZ9CFFJMHPEKIFUWQTXRGAVRXAQZCPHL\";\n",
    "\n",
    "//This is our target address to which we are going to send tokens to (BTW: it is a first generated address based on recipient's seed)\n",
    "var AddressReceiver = \"BMFSMZMNBGKHAWPIZIOMJGRBXZETVSAYDSTDQCHLYTBWZMIXLNXF9XHLTMOCATFVFOMBQF9IOQGPEBPDC\";\n",
    "\n",
    "\n",
    "var DevnetNode = \"https://nodes.devnet.iota.org:443\";\n",
    "Console.WriteLine(\"Variables were initialized.\");"
   ]
  },
  {
   "cell_type": "code",
   "execution_count": 9,
   "metadata": {
    "iotadev": {
     "codeid": "0847FCD36DFF"
    }
   },
   "outputs": [
    {
     "data": {
      "text/html": [
       "Checking the total balance"
      ],
      "text/plain": [
       "Checking the total balance"
      ]
     },
     "metadata": {},
     "output_type": "display_data"
    },
    {
     "data": {
      "text/html": [
       "Please note, this may take some time if many addresses has been used already..."
      ],
      "text/plain": [
       "Please note, this may take some time if many addresses has been used already..."
      ]
     },
     "metadata": {},
     "output_type": "display_data"
    },
    {
     "data": {
      "text/html": [
       "Total Balance:"
      ],
      "text/plain": [
       "Total Balance:"
      ]
     },
     "metadata": {},
     "output_type": "display_data"
    },
    {
     "data": {
      "text/html": [
       "3828"
      ],
      "text/plain": [
       "3828"
      ]
     },
     "metadata": {},
     "output_type": "display_data"
    },
    {
     "data": {
      "text/html": [
       "Latest Unused Address:"
      ],
      "text/plain": [
       "Latest Unused Address:"
      ]
     },
     "metadata": {},
     "output_type": "display_data"
    },
    {
     "data": {
      "text/html": [
       "&quot;MHJIRKPUVSXBZWUXKUBNT9MRSEG9CRR9DNKIVNSCBZVGEDIDYTXIAVJLSTKQGVGDBFHRCRHBEMMZXPUFZ&quot;"
      ],
      "text/plain": [
       "\"MHJIRKPUVSXBZWUXKUBNT9MRSEG9CRR9DNKIVNSCBZVGEDIDYTXIAVJLSTKQGVGDBFHRCRHBEMMZXPUFZ\""
      ]
     },
     "metadata": {},
     "output_type": "display_data"
    },
    {
     "data": {
      "text/html": [
       "Used Addresses:"
      ],
      "text/plain": [
       "Used Addresses:"
      ]
     },
     "metadata": {},
     "output_type": "display_data"
    },
    {
     "data": {
      "text/html": [
       "[\n",
       "  {\n",
       "    &quot;Balance&quot;: 0,\n",
       "    &quot;Address&quot;: &quot;SUYDJCMS9XMBKOPIPOXKGXMFVYXQ9YRNZLDYLRFARZFOFJDDH9JZLCQVO9GBRQKBCXHSPHOAPPWFFLMBW&quot;\n",
       "  },\n",
       "  {\n",
       "    &quot;Balance&quot;: 0,\n",
       "    &quot;Address&quot;: &quot;NHVGPRAXYTDZJLMLSUMZGVBBMICDQGGAAZ9UJGLIPPOTUEZJXABCSDFUTRTBFOLDOQZIBS9QTRXAB9IUX&quot;\n",
       "  },\n",
       "  {\n",
       "    &quot;Balance&quot;: 0,\n",
       "    &quot;Address&quot;: &quot;VZITIWJF99TH9REMKLYZUWELFLEW9FVYXPZPVMVFZVIQHAOEMEDABUUZGFROKKIVMT999PWGGLICKJOAD&quot;\n",
       "  },\n",
       "  {\n",
       "    &quot;Balance&quot;: 0,\n",
       "    &quot;Address&quot;: &quot;XPV9CTUC9JEKATOVABXXLICTDAQEOHR9HXXFLHKN9OZFMFAZKKUDZMREOBZJONZAHXCGNN9FHGNFBAKMC&quot;\n",
       "  },\n",
       "  {\n",
       "    &quot;Balance&quot;: 0,\n",
       "    &quot;Address&quot;: &quot;NDQMBGBQIBAQURVAQEUVONVMECKXSNYZZNKMMMOHOLPEYHJHDBTFWOZMAPFUAHLHIQUAV9GVZPEMBKL9Z&quot;\n",
       "  },\n",
       "  {\n",
       "    &quot;Balance&quot;: 2979,\n",
       "    &quot;Address&quot;: &quot;QYENROHVANIYBSIIMWGFDOUHXTMFOXIHOQXTJZLRFRJMOOINFTWCVVEJUFIITLBIHLVTESPVLUOSCFJDZ&quot;\n",
       "  },\n",
       "  {\n",
       "    &quot;Balance&quot;: 849,\n",
       "    &quot;Address&quot;: &quot;SZAVDSKTHNQFWTTINRAYQKJAXTLD9CRFFWWBSEXIEXPLBBEP9FT9IVGICWIXTJCFUKJSTOUFANJGBTPQX&quot;\n",
       "  }\n",
       "]"
      ],
      "text/plain": [
       "[\n",
       "  {\n",
       "    \"Balance\": 0,\n",
       "    \"Address\": \"SUYDJCMS9XMBKOPIPOXKGXMFVYXQ9YRNZLDYLRFARZFOFJDDH9JZLCQVO9GBRQKBCXHSPHOAPPWFFLMBW\"\n",
       "  },\n",
       "  {\n",
       "    \"Balance\": 0,\n",
       "    \"Address\": \"NHVGPRAXYTDZJLMLSUMZGVBBMICDQGGAAZ9UJGLIPPOTUEZJXABCSDFUTRTBFOLDOQZIBS9QTRXAB9IUX\"\n",
       "  },\n",
       "  {\n",
       "    \"Balance\": 0,\n",
       "    \"Address\": \"VZITIWJF99TH9REMKLYZUWELFLEW9FVYXPZPVMVFZVIQHAOEMEDABUUZGFROKKIVMT999PWGGLICKJOAD\"\n",
       "  },\n",
       "  {\n",
       "    \"Balance\": 0,\n",
       "    \"Address\": \"XPV9CTUC9JEKATOVABXXLICTDAQEOHR9HXXFLHKN9OZFMFAZKKUDZMREOBZJONZAHXCGNN9FHGNFBAKMC\"\n",
       "  },\n",
       "  {\n",
       "    \"Balance\": 0,\n",
       "    \"Address\": \"NDQMBGBQIBAQURVAQEUVONVMECKXSNYZZNKMMMOHOLPEYHJHDBTFWOZMAPFUAHLHIQUAV9GVZPEMBKL9Z\"\n",
       "  },\n",
       "  {\n",
       "    \"Balance\": 2979,\n",
       "    \"Address\": \"QYENROHVANIYBSIIMWGFDOUHXTMFOXIHOQXTJZLRFRJMOOINFTWCVVEJUFIITLBIHLVTESPVLUOSCFJDZ\"\n",
       "  },\n",
       "  {\n",
       "    \"Balance\": 849,\n",
       "    \"Address\": \"SZAVDSKTHNQFWTTINRAYQKJAXTLD9CRFFWWBSEXIEXPLBBEP9FT9IVGICWIXTJCFUKJSTOUFANJGBTPQX\"\n",
       "  }\n",
       "]"
      ]
     },
     "metadata": {},
     "output_type": "display_data"
    },
    {
     "data": {
      "text/html": [
       "Yes, there are some token available! Hurray"
      ],
      "text/plain": [
       "Yes, there are some token available! Hurray"
      ]
     },
     "metadata": {},
     "output_type": "display_data"
    }
   ],
   "source": [
    "#r \"Tangle.Net.dll\"\n",
    "#r \"Newtonsoft.Json.dll\"\n",
    "#r \"RestSharp.dll\"\n",
    "\n",
    "using Tangle.Net.Entity;\n",
    "using Newtonsoft.Json;\n",
    "using RestSharp;\n",
    "using Tangle.Net.Repository;\n",
    "using Tangle.Net.Utils;\n",
    "\n",
    "Console.WriteLine(\"Checking the total balance\");\n",
    "Console.WriteLine(\"Please note, this may take some time if many addresses has been used already...\");\n",
    "\n",
    "var repo = new RestIotaRepository(new RestClient(DevnetNode)); // ctor initialization of the Tangle.Net library\n",
    "\n",
    "// Get the total available balance for the given seed and all related used addresses\n",
    "var accountData = repo.GetAccountData(seed: new Seed(SeedSender),\n",
    "                                      includeInclusionStates: false,\n",
    "                                      securityLevel: 2,\n",
    "                                      addressStartIndex: 29, // Library will start from the address at index 0. please note I increased it to start from index 29 to save time\n",
    "                                      addressStopIndex: 0); // it will search until first unused address is found\n",
    "\n",
    "// Tangle.Net library returns very detailed info including Private Keys and so outputing only some\n",
    "Console.WriteLine(\"Total Balance:\");\n",
    "Console.WriteLine(JsonConvert.SerializeObject(accountData.Balance, Formatting.Indented));\n",
    "\n",
    "Console.WriteLine(\"Latest Unused Address:\");\n",
    "Console.WriteLine(JsonConvert.SerializeObject(accountData.LatestUnusedAddress.Value, Formatting.Indented));\n",
    "\n",
    "Console.WriteLine(\"Used Addresses:\");\n",
    "Console.WriteLine(JsonConvert.SerializeObject((from adr in accountData.UsedAddresses\n",
    "                                               select new {Balance = adr.Balance, Address = adr.Value}).ToList(),\n",
    "                                              Formatting.Indented));\n",
    "\n",
    "if (accountData.Balance>0){\n",
    "    Console.WriteLine(\"Yes, there are some token available! Hurray\");\n",
    "}"
   ]
  },
  {
   "cell_type": "code",
   "execution_count": 3,
   "metadata": {
    "iotadev": {
     "codeid": "6CD1F81E2588"
    }
   },
   "outputs": [
    {
     "data": {
      "text/html": [
       "Please note, this may take some time if many addresses has been used already..."
      ],
      "text/plain": [
       "Please note, this may take some time if many addresses has been used already..."
      ]
     },
     "metadata": {},
     "output_type": "display_data"
    },
    {
     "data": {
      "text/html": [
       "This is the first unused address that can be used for new tokens or unspent tokens:"
      ],
      "text/plain": [
       "This is the first unused address that can be used for new tokens or unspent tokens:"
      ]
     },
     "metadata": {},
     "output_type": "display_data"
    },
    {
     "data": {
      "text/html": [
       "SZAVDSKTHNQFWTTINRAYQKJAXTLD9CRFFWWBSEXIEXPLBBEP9FT9IVGICWIXTJCFUKJSTOUFANJGBTPQX"
      ],
      "text/plain": [
       "SZAVDSKTHNQFWTTINRAYQKJAXTLD9CRFFWWBSEXIEXPLBBEP9FT9IVGICWIXTJCFUKJSTOUFANJGBTPQX"
      ]
     },
     "metadata": {},
     "output_type": "display_data"
    }
   ],
   "source": [
    "// Now let's find a first unused address that can be used as a destination address for unspent/new tokens\n",
    "// This step is not required in case of NodeJS/Tangle.Net library, please see result above\n",
    "Console.WriteLine(\"Please note, this may take some time if many addresses has been used already...\");\n",
    "\n",
    "var unusedAdr = repo.GetNewAddresses(seed: new Seed(SeedSender),\n",
    "                                     addressStartIndex: 29, // please note the index below starts from 29 to save some time. If you would like to start from beginning it should be 0 \n",
    "                                     count: 1, // how many new unused addresses we want ?\n",
    "                                     securityLevel: 2);\n",
    "\n",
    "Console.WriteLine(\"This is the first unused address that can be used for new tokens or unspent tokens:\");\n",
    "Console.WriteLine(unusedAdr[0].Value);\n",
    "\n"
   ]
  },
  {
   "cell_type": "code",
   "execution_count": 5,
   "metadata": {
    "iotadev": {
     "codeid": "5036ABE14324"
    }
   },
   "outputs": [
    {
     "data": {
      "text/html": [
       "[\n",
       "  {\n",
       "    &quot;Balance&quot;: 0,\n",
       "    &quot;Address&quot;: &quot;SUYDJCMS9XMBKOPIPOXKGXMFVYXQ9YRNZLDYLRFARZFOFJDDH9JZLCQVO9GBRQKBCXHSPHOAPPWFFLMBW&quot;\n",
       "  },\n",
       "  {\n",
       "    &quot;Balance&quot;: 0,\n",
       "    &quot;Address&quot;: &quot;NHVGPRAXYTDZJLMLSUMZGVBBMICDQGGAAZ9UJGLIPPOTUEZJXABCSDFUTRTBFOLDOQZIBS9QTRXAB9IUX&quot;\n",
       "  },\n",
       "  {\n",
       "    &quot;Balance&quot;: 0,\n",
       "    &quot;Address&quot;: &quot;VZITIWJF99TH9REMKLYZUWELFLEW9FVYXPZPVMVFZVIQHAOEMEDABUUZGFROKKIVMT999PWGGLICKJOAD&quot;\n",
       "  },\n",
       "  {\n",
       "    &quot;Balance&quot;: 0,\n",
       "    &quot;Address&quot;: &quot;XPV9CTUC9JEKATOVABXXLICTDAQEOHR9HXXFLHKN9OZFMFAZKKUDZMREOBZJONZAHXCGNN9FHGNFBAKMC&quot;\n",
       "  },\n",
       "  {\n",
       "    &quot;Balance&quot;: 0,\n",
       "    &quot;Address&quot;: &quot;NDQMBGBQIBAQURVAQEUVONVMECKXSNYZZNKMMMOHOLPEYHJHDBTFWOZMAPFUAHLHIQUAV9GVZPEMBKL9Z&quot;\n",
       "  },\n",
       "  {\n",
       "    &quot;Balance&quot;: 2979,\n",
       "    &quot;Address&quot;: &quot;QYENROHVANIYBSIIMWGFDOUHXTMFOXIHOQXTJZLRFRJMOOINFTWCVVEJUFIITLBIHLVTESPVLUOSCFJDZ&quot;\n",
       "  }\n",
       "]"
      ],
      "text/plain": [
       "[\n",
       "  {\n",
       "    \"Balance\": 0,\n",
       "    \"Address\": \"SUYDJCMS9XMBKOPIPOXKGXMFVYXQ9YRNZLDYLRFARZFOFJDDH9JZLCQVO9GBRQKBCXHSPHOAPPWFFLMBW\"\n",
       "  },\n",
       "  {\n",
       "    \"Balance\": 0,\n",
       "    \"Address\": \"NHVGPRAXYTDZJLMLSUMZGVBBMICDQGGAAZ9UJGLIPPOTUEZJXABCSDFUTRTBFOLDOQZIBS9QTRXAB9IUX\"\n",
       "  },\n",
       "  {\n",
       "    \"Balance\": 0,\n",
       "    \"Address\": \"VZITIWJF99TH9REMKLYZUWELFLEW9FVYXPZPVMVFZVIQHAOEMEDABUUZGFROKKIVMT999PWGGLICKJOAD\"\n",
       "  },\n",
       "  {\n",
       "    \"Balance\": 0,\n",
       "    \"Address\": \"XPV9CTUC9JEKATOVABXXLICTDAQEOHR9HXXFLHKN9OZFMFAZKKUDZMREOBZJONZAHXCGNN9FHGNFBAKMC\"\n",
       "  },\n",
       "  {\n",
       "    \"Balance\": 0,\n",
       "    \"Address\": \"NDQMBGBQIBAQURVAQEUVONVMECKXSNYZZNKMMMOHOLPEYHJHDBTFWOZMAPFUAHLHIQUAV9GVZPEMBKL9Z\"\n",
       "  },\n",
       "  {\n",
       "    \"Balance\": 2979,\n",
       "    \"Address\": \"QYENROHVANIYBSIIMWGFDOUHXTMFOXIHOQXTJZLRFRJMOOINFTWCVVEJUFIITLBIHLVTESPVLUOSCFJDZ\"\n",
       "  }\n",
       "]"
      ]
     },
     "metadata": {},
     "output_type": "display_data"
    }
   ],
   "source": [
    "if (accountData.UsedAddresses.Count>0)\n",
    "{\n",
    "    var balances = repo.GetBalances(addresses: accountData.UsedAddresses,\n",
    "                                    threshold: 100);\n",
    "\n",
    "    Console.WriteLine(JsonConvert.SerializeObject(from adr in balances.Addresses\n",
    "                                                  select new { Balance = adr.Balance, Address = adr.Value }, Formatting.Indented));\n",
    "}\n"
   ]
  },
  {
   "cell_type": "code",
   "execution_count": 8,
   "metadata": {
    "iotadev": {
     "codeid": "6195D3132B6B"
    }
   },
   "outputs": [
    {
     "data": {
      "text/html": [
       "Sending iotas... Please wait..."
      ],
      "text/plain": [
       "Sending iotas... Please wait..."
      ]
     },
     "metadata": {},
     "output_type": "display_data"
    },
    {
     "data": {
      "text/html": [
       "{\n",
       "  &quot;Address&quot;: {\n",
       "    &quot;Balance&quot;: 0,\n",
       "    &quot;Checksum&quot;: null,\n",
       "    &quot;KeyIndex&quot;: 0,\n",
       "    &quot;PrivateKey&quot;: null,\n",
       "    &quot;SecurityLevel&quot;: 0,\n",
       "    &quot;SpentFrom&quot;: false,\n",
       "    &quot;TrytesLength&quot;: 81,\n",
       "    &quot;Value&quot;: &quot;BMFSMZMNBGKHAWPIZIOMJGRBXZETVSAYDSTDQCHLYTBWZMIXLNXF9XHLTMOCATFVFOMBQF9IOQGPEBPDC&quot;\n",
       "  },\n",
       "  &quot;AttachmentTimestamp&quot;: 1568994476124,\n",
       "  &quot;AttachmentTimestampLowerBound&quot;: 0,\n",
       "  &quot;AttachmentTimestampUpperBound&quot;: 3812798742493,\n",
       "  &quot;BranchTransaction&quot;: {\n",
       "    &quot;TrytesLength&quot;: 81,\n",
       "    &quot;Value&quot;: &quot;ODHVT9ZVBUOOUBKCYUZMFJTZQAGECIMWJKO9ZVAHAPVTEZFOEPDPMKSCTPRAIHWPYLERCOFWAHNYKS999&quot;\n",
       "  },\n",
       "  &quot;BundleHash&quot;: {\n",
       "    &quot;TrytesLength&quot;: 81,\n",
       "    &quot;Value&quot;: &quot;POKCELONFRIBFFQAOLKSOQAIGESODBDIXCASS99SCIW9LOHGCZNLGTNKISQISOZOPWIKEYZXDALCJCZ9W&quot;\n",
       "  },\n",
       "  &quot;CurrentIndex&quot;: 0,\n",
       "  &quot;Fragment&quot;: {\n",
       "    &quot;IsEmpty&quot;: true,\n",
       "    &quot;TrytesLength&quot;: 2187,\n",
       "    &quot;Value&quot;: &quot;999999999999999999999999999999999999999999999999999999999999999999999999999999999999999999999999999999999999999999999999999999999999999999999999999999999999999999999999999999999999999999999999999999999999999999999999999999999999999999999999999999999999999999999999999999999999999999999999999999999999999999999999999999999999999999999999999999999999999999999999999999999999999999999999999999999999999999999999999999999999999999999999999999999999999999999999999999999999999999999999999999999999999999999999999999999999999999999999999999999999999999999999999999999999999999999999999999999999999999999999999999999999999999999999999999999999999999999999999999999999999999999999999999999999999999999999999999999999999999999999999999999999999999999999999999999999999999999999999999999999999999999999999999999999999999999999999999999999999999999999999999999999999999999999999999999999999999999999999999999999999999999999999999999999999999999999999999999999999999999999999999999999999999999999999999999999999999999999999999999999999999999999999999999999999999999999999999999999999999999999999999999999999999999999999999999999999999999999999999999999999999999999999999999999999999999999999999999999999999999999999999999999999999999999999999999999999999999999999999999999999999999999999999999999999999999999999999999999999999999999999999999999999999999999999999999999999999999999999999999999999999999999999999999999999999999999999999999999999999999999999999999999999999999999999999999999999999999999999999999999999999999999999999999999999999999999999999999999999999999999999999999999999999999999999999999999999999999999999999999999999999999999999999999999999999999999999999999999999999999999999999999999999999999999999999999999999999999999999999999999999999999999999999999999999999999999999999999999999999999999999999999999999999999999999999999999999999999999999999999999999999999999999999999999999999999999999999999999999999999999999999999999999999999999999999999999999999999999999999999999999999999999999999999999999999999999999999999999999999999999999999999999999999999999999999999999999999999999999999999999999999999999999999999999999999999999999999999999999999999999999999999999999999999999999&quot;\n",
       "  },\n",
       "  &quot;Hash&quot;: {\n",
       "    &quot;TrytesLength&quot;: 81,\n",
       "    &quot;Value&quot;: &quot;TVNUVTJMDUQPJTETSUQZDSCNLQEOZVUQBSFCBESFGOVTDQAP9ILCLUXACSBFFNSRX9SGTNBOA9YPCO999&quot;\n",
       "  },\n",
       "  &quot;IsTail&quot;: true,\n",
       "  &quot;LastIndex&quot;: 3,\n",
       "  &quot;Nonce&quot;: {\n",
       "    &quot;TrytesLength&quot;: 27,\n",
       "    &quot;Value&quot;: &quot;QJIHDOADLJORTVSFXQLPVCTWPEF&quot;\n",
       "  },\n",
       "  &quot;ObsoleteTag&quot;: {\n",
       "    &quot;TrytesLength&quot;: 27,\n",
       "    &quot;Value&quot;: &quot;VEIBEK999IOTA999TUTORIAL999&quot;\n",
       "  },\n",
       "  &quot;Tag&quot;: {\n",
       "    &quot;TrytesLength&quot;: 27,\n",
       "    &quot;Value&quot;: &quot;HRIBEK999IOTA999TUTORIAL999&quot;\n",
       "  },\n",
       "  &quot;Timestamp&quot;: 1568994271,\n",
       "  &quot;TrunkTransaction&quot;: {\n",
       "    &quot;TrytesLength&quot;: 81,\n",
       "    &quot;Value&quot;: &quot;RLYSXEDFSDOHCZYLXNXZWQRRTUHWNAVUDTWDFKGTTALSVKRUGWO9XHOHXQANXRHAWFPRJWEYGCKWFI999&quot;\n",
       "  },\n",
       "  &quot;Value&quot;: 10\n",
       "}"
      ],
      "text/plain": [
       "{\n",
       "  \"Address\": {\n",
       "    \"Balance\": 0,\n",
       "    \"Checksum\": null,\n",
       "    \"KeyIndex\": 0,\n",
       "    \"PrivateKey\": null,\n",
       "    \"SecurityLevel\": 0,\n",
       "    \"SpentFrom\": false,\n",
       "    \"TrytesLength\": 81,\n",
       "    \"Value\": \"BMFSMZMNBGKHAWPIZIOMJGRBXZETVSAYDSTDQCHLYTBWZMIXLNXF9XHLTMOCATFVFOMBQF9IOQGPEBPDC\"\n",
       "  },\n",
       "  \"AttachmentTimestamp\": 1568994476124,\n",
       "  \"AttachmentTimestampLowerBound\": 0,\n",
       "  \"AttachmentTimestampUpperBound\": 3812798742493,\n",
       "  \"BranchTransaction\": {\n",
       "    \"TrytesLength\": 81,\n",
       "    \"Value\": \"ODHVT9ZVBUOOUBKCYUZMFJTZQAGECIMWJKO9ZVAHAPVTEZFOEPDPMKSCTPRAIHWPYLERCOFWAHNYKS999\"\n",
       "  },\n",
       "  \"BundleHash\": {\n",
       "    \"TrytesLength\": 81,\n",
       "    \"Value\": \"POKCELONFRIBFFQAOLKSOQAIGESODBDIXCASS99SCIW9LOHGCZNLGTNKISQISOZOPWIKEYZXDALCJCZ9W\"\n",
       "  },\n",
       "  \"CurrentIndex\": 0,\n",
       "  \"Fragment\": {\n",
       "    \"IsEmpty\": true,\n",
       "    \"TrytesLength\": 2187,\n",
       "    \"Value\": \"999999999999999999999999999999999999999999999999999999999999999999999999999999999999999999999999999999999999999999999999999999999999999999999999999999999999999999999999999999999999999999999999999999999999999999999999999999999999999999999999999999999999999999999999999999999999999999999999999999999999999999999999999999999999999999999999999999999999999999999999999999999999999999999999999999999999999999999999999999999999999999999999999999999999999999999999999999999999999999999999999999999999999999999999999999999999999999999999999999999999999999999999999999999999999999999999999999999999999999999999999999999999999999999999999999999999999999999999999999999999999999999999999999999999999999999999999999999999999999999999999999999999999999999999999999999999999999999999999999999999999999999999999999999999999999999999999999999999999999999999999999999999999999999999999999999999999999999999999999999999999999999999999999999999999999999999999999999999999999999999999999999999999999999999999999999999999999999999999999999999999999999999999999999999999999999999999999999999999999999999999999999999999999999999999999999999999999999999999999999999999999999999999999999999999999999999999999999999999999999999999999999999999999999999999999999999999999999999999999999999999999999999999999999999999999999999999999999999999999999999999999999999999999999999999999999999999999999999999999999999999999999999999999999999999999999999999999999999999999999999999999999999999999999999999999999999999999999999999999999999999999999999999999999999999999999999999999999999999999999999999999999999999999999999999999999999999999999999999999999999999999999999999999999999999999999999999999999999999999999999999999999999999999999999999999999999999999999999999999999999999999999999999999999999999999999999999999999999999999999999999999999999999999999999999999999999999999999999999999999999999999999999999999999999999999999999999999999999999999999999999999999999999999999999999999999999999999999999999999999999999999999999999999999999999999999999999999999999999999999999999999999999999999999999999999999999999999999999999999999999999999999999999999999999999999999999999999999999999999999999999999999999999999999999999\"\n",
       "  },\n",
       "  \"Hash\": {\n",
       "    \"TrytesLength\": 81,\n",
       "    \"Value\": \"TVNUVTJMDUQPJTETSUQZDSCNLQEOZVUQBSFCBESFGOVTDQAP9ILCLUXACSBFFNSRX9SGTNBOA9YPCO999\"\n",
       "  },\n",
       "  \"IsTail\": true,\n",
       "  \"LastIndex\": 3,\n",
       "  \"Nonce\": {\n",
       "    \"TrytesLength\": 27,\n",
       "    \"Value\": \"QJIHDOADLJORTVSFXQLPVCTWPEF\"\n",
       "  },\n",
       "  \"ObsoleteTag\": {\n",
       "    \"TrytesLength\": 27,\n",
       "    \"Value\": \"VEIBEK999IOTA999TUTORIAL999\"\n",
       "  },\n",
       "  \"Tag\": {\n",
       "    \"TrytesLength\": 27,\n",
       "    \"Value\": \"HRIBEK999IOTA999TUTORIAL999\"\n",
       "  },\n",
       "  \"Timestamp\": 1568994271,\n",
       "  \"TrunkTransaction\": {\n",
       "    \"TrytesLength\": 81,\n",
       "    \"Value\": \"RLYSXEDFSDOHCZYLXNXZWQRRTUHWNAVUDTWDFKGTTALSVKRUGWO9XHOHXQANXRHAWFPRJWEYGCKWFI999\"\n",
       "  },\n",
       "  \"Value\": 10\n",
       "}"
      ]
     },
     "metadata": {},
     "output_type": "display_data"
    },
    {
     "data": {
      "text/html": [
       "{\n",
       "  &quot;Address&quot;: {\n",
       "    &quot;Balance&quot;: 0,\n",
       "    &quot;Checksum&quot;: null,\n",
       "    &quot;KeyIndex&quot;: 0,\n",
       "    &quot;PrivateKey&quot;: null,\n",
       "    &quot;SecurityLevel&quot;: 0,\n",
       "    &quot;SpentFrom&quot;: false,\n",
       "    &quot;TrytesLength&quot;: 81,\n",
       "    &quot;Value&quot;: &quot;OTJSUNSQ9DLJVLKMVVPLDUTRHZAJDISDPZQCEPWNJWUGZOSFWRRBTUJAWCKKXACMZQIUP9NVVFYWRISWA&quot;\n",
       "  },\n",
       "  &quot;AttachmentTimestamp&quot;: 1568994476100,\n",
       "  &quot;AttachmentTimestampLowerBound&quot;: 0,\n",
       "  &quot;AttachmentTimestampUpperBound&quot;: 3812798742493,\n",
       "  &quot;BranchTransaction&quot;: {\n",
       "    &quot;TrytesLength&quot;: 81,\n",
       "    &quot;Value&quot;: &quot;ODHVT9ZVBUOOUBKCYUZMFJTZQAGECIMWJKO9ZVAHAPVTEZFOEPDPMKSCTPRAIHWPYLERCOFWAHNYKS999&quot;\n",
       "  },\n",
       "  &quot;BundleHash&quot;: {\n",
       "    &quot;TrytesLength&quot;: 81,\n",
       "    &quot;Value&quot;: &quot;POKCELONFRIBFFQAOLKSOQAIGESODBDIXCASS99SCIW9LOHGCZNLGTNKISQISOZOPWIKEYZXDALCJCZ9W&quot;\n",
       "  },\n",
       "  &quot;CurrentIndex&quot;: 1,\n",
       "  &quot;Fragment&quot;: {\n",
       "    &quot;IsEmpty&quot;: false,\n",
       "    &quot;TrytesLength&quot;: 2187,\n",
       "    &quot;Value&quot;: &quot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quot;\n",
       "  },\n",
       "  &quot;Hash&quot;: {\n",
       "    &quot;TrytesLength&quot;: 81,\n",
       "    &quot;Value&quot;: &quot;RLYSXEDFSDOHCZYLXNXZWQRRTUHWNAVUDTWDFKGTTALSVKRUGWO9XHOHXQANXRHAWFPRJWEYGCKWFI999&quot;\n",
       "  },\n",
       "  &quot;IsTail&quot;: false,\n",
       "  &quot;LastIndex&quot;: 3,\n",
       "  &quot;Nonce&quot;: {\n",
       "    &quot;TrytesLength&quot;: 27,\n",
       "    &quot;Value&quot;: &quot;9MGJNMEMMYIEIUXMAFQTAAPOCSN&quot;\n",
       "  },\n",
       "  &quot;ObsoleteTag&quot;: {\n",
       "    &quot;TrytesLength&quot;: 27,\n",
       "    &quot;Value&quot;: &quot;999999999999999999999999999&quot;\n",
       "  },\n",
       "  &quot;Tag&quot;: {\n",
       "    &quot;TrytesLength&quot;: 27,\n",
       "    &quot;Value&quot;: &quot;999999999999999999999999999&quot;\n",
       "  },\n",
       "  &quot;Timestamp&quot;: 1568994378,\n",
       "  &quot;TrunkTransaction&quot;: {\n",
       "    &quot;TrytesLength&quot;: 81,\n",
       "    &quot;Value&quot;: &quot;QHWMHCGTVIIJOWONJMOHQIMG9XZPPWGQHJFGDAPRSPVZBDI9SBAQNEHWJTHBSWQZUHUUDKKKKHOIUL999&quot;\n",
       "  },\n",
       "  &quot;Value&quot;: -859\n",
       "}"
      ],
      "text/plain": [
       "{\n",
       "  \"Address\": {\n",
       "    \"Balance\": 0,\n",
       "    \"Checksum\": null,\n",
       "    \"KeyIndex\": 0,\n",
       "    \"PrivateKey\": null,\n",
       "    \"SecurityLevel\": 0,\n",
       "    \"SpentFrom\": false,\n",
       "    \"TrytesLength\": 81,\n",
       "    \"Value\": \"OTJSUNSQ9DLJVLKMVVPLDUTRHZAJDISDPZQCEPWNJWUGZOSFWRRBTUJAWCKKXACMZQIUP9NVVFYWRISWA\"\n",
       "  },\n",
       "  \"AttachmentTimestamp\": 1568994476100,\n",
       "  \"AttachmentTimestampLowerBound\": 0,\n",
       "  \"AttachmentTimestampUpperBound\": 3812798742493,\n",
       "  \"BranchTransaction\": {\n",
       "    \"TrytesLength\": 81,\n",
       "    \"Value\": \"ODHVT9ZVBUOOUBKCYUZMFJTZQAGECIMWJKO9ZVAHAPVTEZFOEPDPMKSCTPRAIHWPYLERCOFWAHNYKS999\"\n",
       "  },\n",
       "  \"BundleHash\": {\n",
       "    \"TrytesLength\": 81,\n",
       "    \"Value\": \"POKCELONFRIBFFQAOLKSOQAIGESODBDIXCASS99SCIW9LOHGCZNLGTNKISQISOZOPWIKEYZXDALCJCZ9W\"\n",
       "  },\n",
       "  \"CurrentIndex\": 1,\n",
       "  \"Fragment\": {\n",
       "    \"IsEmpty\": false,\n",
       "    \"TrytesLength\": 2187,\n",
       "    \"Value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n",
       "  },\n",
       "  \"Hash\": {\n",
       "    \"TrytesLength\": 81,\n",
       "    \"Value\": \"RLYSXEDFSDOHCZYLXNXZWQRRTUHWNAVUDTWDFKGTTALSVKRUGWO9XHOHXQANXRHAWFPRJWEYGCKWFI999\"\n",
       "  },\n",
       "  \"IsTail\": false,\n",
       "  \"LastIndex\": 3,\n",
       "  \"Nonce\": {\n",
       "    \"TrytesLength\": 27,\n",
       "    \"Value\": \"9MGJNMEMMYIEIUXMAFQTAAPOCSN\"\n",
       "  },\n",
       "  \"ObsoleteTag\": {\n",
       "    \"TrytesLength\": 27,\n",
       "    \"Value\": \"999999999999999999999999999\"\n",
       "  },\n",
       "  \"Tag\": {\n",
       "    \"TrytesLength\": 27,\n",
       "    \"Value\": \"999999999999999999999999999\"\n",
       "  },\n",
       "  \"Timestamp\": 1568994378,\n",
       "  \"TrunkTransaction\": {\n",
       "    \"TrytesLength\": 81,\n",
       "    \"Value\": \"QHWMHCGTVIIJOWONJMOHQIMG9XZPPWGQHJFGDAPRSPVZBDI9SBAQNEHWJTHBSWQZUHUUDKKKKHOIUL999\"\n",
       "  },\n",
       "  \"Value\": -859\n",
       "}"
      ]
     },
     "metadata": {},
     "output_type": "display_data"
    },
    {
     "data": {
      "text/html": [
       "{\n",
       "  &quot;Address&quot;: {\n",
       "    &quot;Balance&quot;: 0,\n",
       "    &quot;Checksum&quot;: null,\n",
       "    &quot;KeyIndex&quot;: 0,\n",
       "    &quot;PrivateKey&quot;: null,\n",
       "    &quot;SecurityLevel&quot;: 0,\n",
       "    &quot;SpentFrom&quot;: false,\n",
       "    &quot;TrytesLength&quot;: 81,\n",
       "    &quot;Value&quot;: &quot;OTJSUNSQ9DLJVLKMVVPLDUTRHZAJDISDPZQCEPWNJWUGZOSFWRRBTUJAWCKKXACMZQIUP9NVVFYWRISWA&quot;\n",
       "  },\n",
       "  &quot;AttachmentTimestamp&quot;: 1568994476061,\n",
       "  &quot;AttachmentTimestampLowerBound&quot;: 0,\n",
       "  &quot;AttachmentTimestampUpperBound&quot;: 3812798742493,\n",
       "  &quot;BranchTransaction&quot;: {\n",
       "    &quot;TrytesLength&quot;: 81,\n",
       "    &quot;Value&quot;: &quot;ODHVT9ZVBUOOUBKCYUZMFJTZQAGECIMWJKO9ZVAHAPVTEZFOEPDPMKSCTPRAIHWPYLERCOFWAHNYKS999&quot;\n",
       "  },\n",
       "  &quot;BundleHash&quot;: {\n",
       "    &quot;TrytesLength&quot;: 81,\n",
       "    &quot;Value&quot;: &quot;POKCELONFRIBFFQAOLKSOQAIGESODBDIXCASS99SCIW9LOHGCZNLGTNKISQISOZOPWIKEYZXDALCJCZ9W&quot;\n",
       "  },\n",
       "  &quot;CurrentIndex&quot;: 2,\n",
       "  &quot;Fragment&quot;: {\n",
       "    &quot;IsEmpty&quot;: false,\n",
       "    &quot;TrytesLength&quot;: 2187,\n",
       "    &quot;Value&quot;: &quot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quot;\n",
       "  },\n",
       "  &quot;Hash&quot;: {\n",
       "    &quot;TrytesLength&quot;: 81,\n",
       "    &quot;Value&quot;: &quot;QHWMHCGTVIIJOWONJMOHQIMG9XZPPWGQHJFGDAPRSPVZBDI9SBAQNEHWJTHBSWQZUHUUDKKKKHOIUL999&quot;\n",
       "  },\n",
       "  &quot;IsTail&quot;: false,\n",
       "  &quot;LastIndex&quot;: 3,\n",
       "  &quot;Nonce&quot;: {\n",
       "    &quot;TrytesLength&quot;: 27,\n",
       "    &quot;Value&quot;: &quot;AGSRO9XBGFMRZCJYRKWXTTEUGFW&quot;\n",
       "  },\n",
       "  &quot;ObsoleteTag&quot;: {\n",
       "    &quot;TrytesLength&quot;: 27,\n",
       "    &quot;Value&quot;: &quot;999999999999999999999999999&quot;\n",
       "  },\n",
       "  &quot;Tag&quot;: {\n",
       "    &quot;TrytesLength&quot;: 27,\n",
       "    &quot;Value&quot;: &quot;999999999999999999999999999&quot;\n",
       "  },\n",
       "  &quot;Timestamp&quot;: 1568994378,\n",
       "  &quot;TrunkTransaction&quot;: {\n",
       "    &quot;TrytesLength&quot;: 81,\n",
       "    &quot;Value&quot;: &quot;MRSAOMMNAAQGWHIKN9YBFENJMFMCSXJRWKDGZIWXBRRGIS9HJZGPSXZTD9MCIZORKBCORDUSKUFKBF999&quot;\n",
       "  },\n",
       "  &quot;Value&quot;: 0\n",
       "}"
      ],
      "text/plain": [
       "{\n",
       "  \"Address\": {\n",
       "    \"Balance\": 0,\n",
       "    \"Checksum\": null,\n",
       "    \"KeyIndex\": 0,\n",
       "    \"PrivateKey\": null,\n",
       "    \"SecurityLevel\": 0,\n",
       "    \"SpentFrom\": false,\n",
       "    \"TrytesLength\": 81,\n",
       "    \"Value\": \"OTJSUNSQ9DLJVLKMVVPLDUTRHZAJDISDPZQCEPWNJWUGZOSFWRRBTUJAWCKKXACMZQIUP9NVVFYWRISWA\"\n",
       "  },\n",
       "  \"AttachmentTimestamp\": 1568994476061,\n",
       "  \"AttachmentTimestampLowerBound\": 0,\n",
       "  \"AttachmentTimestampUpperBound\": 3812798742493,\n",
       "  \"BranchTransaction\": {\n",
       "    \"TrytesLength\": 81,\n",
       "    \"Value\": \"ODHVT9ZVBUOOUBKCYUZMFJTZQAGECIMWJKO9ZVAHAPVTEZFOEPDPMKSCTPRAIHWPYLERCOFWAHNYKS999\"\n",
       "  },\n",
       "  \"BundleHash\": {\n",
       "    \"TrytesLength\": 81,\n",
       "    \"Value\": \"POKCELONFRIBFFQAOLKSOQAIGESODBDIXCASS99SCIW9LOHGCZNLGTNKISQISOZOPWIKEYZXDALCJCZ9W\"\n",
       "  },\n",
       "  \"CurrentIndex\": 2,\n",
       "  \"Fragment\": {\n",
       "    \"IsEmpty\": false,\n",
       "    \"TrytesLength\": 2187,\n",
       "    \"Value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n",
       "  },\n",
       "  \"Hash\": {\n",
       "    \"TrytesLength\": 81,\n",
       "    \"Value\": \"QHWMHCGTVIIJOWONJMOHQIMG9XZPPWGQHJFGDAPRSPVZBDI9SBAQNEHWJTHBSWQZUHUUDKKKKHOIUL999\"\n",
       "  },\n",
       "  \"IsTail\": false,\n",
       "  \"LastIndex\": 3,\n",
       "  \"Nonce\": {\n",
       "    \"TrytesLength\": 27,\n",
       "    \"Value\": \"AGSRO9XBGFMRZCJYRKWXTTEUGFW\"\n",
       "  },\n",
       "  \"ObsoleteTag\": {\n",
       "    \"TrytesLength\": 27,\n",
       "    \"Value\": \"999999999999999999999999999\"\n",
       "  },\n",
       "  \"Tag\": {\n",
       "    \"TrytesLength\": 27,\n",
       "    \"Value\": \"999999999999999999999999999\"\n",
       "  },\n",
       "  \"Timestamp\": 1568994378,\n",
       "  \"TrunkTransaction\": {\n",
       "    \"TrytesLength\": 81,\n",
       "    \"Value\": \"MRSAOMMNAAQGWHIKN9YBFENJMFMCSXJRWKDGZIWXBRRGIS9HJZGPSXZTD9MCIZORKBCORDUSKUFKBF999\"\n",
       "  },\n",
       "  \"Value\": 0\n",
       "}"
      ]
     },
     "metadata": {},
     "output_type": "display_data"
    },
    {
     "data": {
      "text/html": [
       "{\n",
       "  &quot;Address&quot;: {\n",
       "    &quot;Balance&quot;: 0,\n",
       "    &quot;Checksum&quot;: null,\n",
       "    &quot;KeyIndex&quot;: 0,\n",
       "    &quot;PrivateKey&quot;: null,\n",
       "    &quot;SecurityLevel&quot;: 0,\n",
       "    &quot;SpentFrom&quot;: false,\n",
       "    &quot;TrytesLength&quot;: 81,\n",
       "    &quot;Value&quot;: &quot;SZAVDSKTHNQFWTTINRAYQKJAXTLD9CRFFWWBSEXIEXPLBBEP9FT9IVGICWIXTJCFUKJSTOUFANJGBTPQX&quot;\n",
       "  },\n",
       "  &quot;AttachmentTimestamp&quot;: 1568994476035,\n",
       "  &quot;AttachmentTimestampLowerBound&quot;: 0,\n",
       "  &quot;AttachmentTimestampUpperBound&quot;: 3812798742493,\n",
       "  &quot;BranchTransaction&quot;: {\n",
       "    &quot;TrytesLength&quot;: 81,\n",
       "    &quot;Value&quot;: &quot;ODHVT9ZVBUOOUBKCYUZMFJTZQAGECIMWJKO9ZVAHAPVTEZFOEPDPMKSCTPRAIHWPYLERCOFWAHNYKS999&quot;\n",
       "  },\n",
       "  &quot;BundleHash&quot;: {\n",
       "    &quot;TrytesLength&quot;: 81,\n",
       "    &quot;Value&quot;: &quot;POKCELONFRIBFFQAOLKSOQAIGESODBDIXCASS99SCIW9LOHGCZNLGTNKISQISOZOPWIKEYZXDALCJCZ9W&quot;\n",
       "  },\n",
       "  &quot;CurrentIndex&quot;: 3,\n",
       "  &quot;Fragment&quot;: {\n",
       "    &quot;IsEmpty&quot;: true,\n",
       "    &quot;TrytesLength&quot;: 2187,\n",
       "    &quot;Value&quot;: &quot;999999999999999999999999999999999999999999999999999999999999999999999999999999999999999999999999999999999999999999999999999999999999999999999999999999999999999999999999999999999999999999999999999999999999999999999999999999999999999999999999999999999999999999999999999999999999999999999999999999999999999999999999999999999999999999999999999999999999999999999999999999999999999999999999999999999999999999999999999999999999999999999999999999999999999999999999999999999999999999999999999999999999999999999999999999999999999999999999999999999999999999999999999999999999999999999999999999999999999999999999999999999999999999999999999999999999999999999999999999999999999999999999999999999999999999999999999999999999999999999999999999999999999999999999999999999999999999999999999999999999999999999999999999999999999999999999999999999999999999999999999999999999999999999999999999999999999999999999999999999999999999999999999999999999999999999999999999999999999999999999999999999999999999999999999999999999999999999999999999999999999999999999999999999999999999999999999999999999999999999999999999999999999999999999999999999999999999999999999999999999999999999999999999999999999999999999999999999999999999999999999999999999999999999999999999999999999999999999999999999999999999999999999999999999999999999999999999999999999999999999999999999999999999999999999999999999999999999999999999999999999999999999999999999999999999999999999999999999999999999999999999999999999999999999999999999999999999999999999999999999999999999999999999999999999999999999999999999999999999999999999999999999999999999999999999999999999999999999999999999999999999999999999999999999999999999999999999999999999999999999999999999999999999999999999999999999999999999999999999999999999999999999999999999999999999999999999999999999999999999999999999999999999999999999999999999999999999999999999999999999999999999999999999999999999999999999999999999999999999999999999999999999999999999999999999999999999999999999999999999999999999999999999999999999999999999999999999999999999999999999999999999999999999999999999999999999999999999999999999999999999999999999999999999999999999999999999999999999999999999999999999999999999999999999999&quot;\n",
       "  },\n",
       "  &quot;Hash&quot;: {\n",
       "    &quot;TrytesLength&quot;: 81,\n",
       "    &quot;Value&quot;: &quot;MRSAOMMNAAQGWHIKN9YBFENJMFMCSXJRWKDGZIWXBRRGIS9HJZGPSXZTD9MCIZORKBCORDUSKUFKBF999&quot;\n",
       "  },\n",
       "  &quot;IsTail&quot;: false,\n",
       "  &quot;LastIndex&quot;: 3,\n",
       "  &quot;Nonce&quot;: {\n",
       "    &quot;TrytesLength&quot;: 27,\n",
       "    &quot;Value&quot;: &quot;GLKUMZVXVLHZXXFALUYZJHZJJZI&quot;\n",
       "  },\n",
       "  &quot;ObsoleteTag&quot;: {\n",
       "    &quot;TrytesLength&quot;: 27,\n",
       "    &quot;Value&quot;: &quot;999999999999999999999999999&quot;\n",
       "  },\n",
       "  &quot;Tag&quot;: {\n",
       "    &quot;TrytesLength&quot;: 27,\n",
       "    &quot;Value&quot;: &quot;999999999999999999999999999&quot;\n",
       "  },\n",
       "  &quot;Timestamp&quot;: 1568994471,\n",
       "  &quot;TrunkTransaction&quot;: {\n",
       "    &quot;TrytesLength&quot;: 81,\n",
       "    &quot;Value&quot;: &quot;ODHVT9ZVBUOOUBKCYUZMFJTZQAGECIMWJKO9ZVAHAPVTEZFOEPDPMKSCTPRAIHWPYLERCOFWAHNYKS999&quot;\n",
       "  },\n",
       "  &quot;Value&quot;: 849\n",
       "}"
      ],
      "text/plain": [
       "{\n",
       "  \"Address\": {\n",
       "    \"Balance\": 0,\n",
       "    \"Checksum\": null,\n",
       "    \"KeyIndex\": 0,\n",
       "    \"PrivateKey\": null,\n",
       "    \"SecurityLevel\": 0,\n",
       "    \"SpentFrom\": false,\n",
       "    \"TrytesLength\": 81,\n",
       "    \"Value\": \"SZAVDSKTHNQFWTTINRAYQKJAXTLD9CRFFWWBSEXIEXPLBBEP9FT9IVGICWIXTJCFUKJSTOUFANJGBTPQX\"\n",
       "  },\n",
       "  \"AttachmentTimestamp\": 1568994476035,\n",
       "  \"AttachmentTimestampLowerBound\": 0,\n",
       "  \"AttachmentTimestampUpperBound\": 3812798742493,\n",
       "  \"BranchTransaction\": {\n",
       "    \"TrytesLength\": 81,\n",
       "    \"Value\": \"ODHVT9ZVBUOOUBKCYUZMFJTZQAGECIMWJKO9ZVAHAPVTEZFOEPDPMKSCTPRAIHWPYLERCOFWAHNYKS999\"\n",
       "  },\n",
       "  \"BundleHash\": {\n",
       "    \"TrytesLength\": 81,\n",
       "    \"Value\": \"POKCELONFRIBFFQAOLKSOQAIGESODBDIXCASS99SCIW9LOHGCZNLGTNKISQISOZOPWIKEYZXDALCJCZ9W\"\n",
       "  },\n",
       "  \"CurrentIndex\": 3,\n",
       "  \"Fragment\": {\n",
       "    \"IsEmpty\": true,\n",
       "    \"TrytesLength\": 2187,\n",
       "    \"Value\": \"999999999999999999999999999999999999999999999999999999999999999999999999999999999999999999999999999999999999999999999999999999999999999999999999999999999999999999999999999999999999999999999999999999999999999999999999999999999999999999999999999999999999999999999999999999999999999999999999999999999999999999999999999999999999999999999999999999999999999999999999999999999999999999999999999999999999999999999999999999999999999999999999999999999999999999999999999999999999999999999999999999999999999999999999999999999999999999999999999999999999999999999999999999999999999999999999999999999999999999999999999999999999999999999999999999999999999999999999999999999999999999999999999999999999999999999999999999999999999999999999999999999999999999999999999999999999999999999999999999999999999999999999999999999999999999999999999999999999999999999999999999999999999999999999999999999999999999999999999999999999999999999999999999999999999999999999999999999999999999999999999999999999999999999999999999999999999999999999999999999999999999999999999999999999999999999999999999999999999999999999999999999999999999999999999999999999999999999999999999999999999999999999999999999999999999999999999999999999999999999999999999999999999999999999999999999999999999999999999999999999999999999999999999999999999999999999999999999999999999999999999999999999999999999999999999999999999999999999999999999999999999999999999999999999999999999999999999999999999999999999999999999999999999999999999999999999999999999999999999999999999999999999999999999999999999999999999999999999999999999999999999999999999999999999999999999999999999999999999999999999999999999999999999999999999999999999999999999999999999999999999999999999999999999999999999999999999999999999999999999999999999999999999999999999999999999999999999999999999999999999999999999999999999999999999999999999999999999999999999999999999999999999999999999999999999999999999999999999999999999999999999999999999999999999999999999999999999999999999999999999999999999999999999999999999999999999999999999999999999999999999999999999999999999999999999999999999999999999999999999999999999999999999999999999999999999999999999999999999999999999999999999999999999999999999\"\n",
       "  },\n",
       "  \"Hash\": {\n",
       "    \"TrytesLength\": 81,\n",
       "    \"Value\": \"MRSAOMMNAAQGWHIKN9YBFENJMFMCSXJRWKDGZIWXBRRGIS9HJZGPSXZTD9MCIZORKBCORDUSKUFKBF999\"\n",
       "  },\n",
       "  \"IsTail\": false,\n",
       "  \"LastIndex\": 3,\n",
       "  \"Nonce\": {\n",
       "    \"TrytesLength\": 27,\n",
       "    \"Value\": \"GLKUMZVXVLHZXXFALUYZJHZJJZI\"\n",
       "  },\n",
       "  \"ObsoleteTag\": {\n",
       "    \"TrytesLength\": 27,\n",
       "    \"Value\": \"999999999999999999999999999\"\n",
       "  },\n",
       "  \"Tag\": {\n",
       "    \"TrytesLength\": 27,\n",
       "    \"Value\": \"999999999999999999999999999\"\n",
       "  },\n",
       "  \"Timestamp\": 1568994471,\n",
       "  \"TrunkTransaction\": {\n",
       "    \"TrytesLength\": 81,\n",
       "    \"Value\": \"ODHVT9ZVBUOOUBKCYUZMFJTZQAGECIMWJKO9ZVAHAPVTEZFOEPDPMKSCTPRAIHWPYLERCOFWAHNYKS999\"\n",
       "  },\n",
       "  \"Value\": 849\n",
       "}"
      ]
     },
     "metadata": {},
     "output_type": "display_data"
    }
   ],
   "source": [
    "using Tangle.Net.Utils;\n",
    "var bundleMoney = new Bundle();\n",
    "\n",
    "bundleMoney.AddTransfer(new Transfer()\n",
    "{\n",
    "    Address = new Address(AddressReceiver),\n",
    "    ValueToTransfer = 10,\n",
    "    Tag = new Tag(\"HRIBEK999IOTA999TUTORIAL\"),\n",
    "    Timestamp = Timestamp.UnixSecondsTimestamp\n",
    "});\n",
    "\n",
    "if (accountData.Balance > 0) // there are some tokens\n",
    "{\n",
    "    Console.WriteLine(\"Sending iotas... Please wait...\");\n",
    "    var sentBundle = repo.SendTransfer(seed: new Seed(SeedSender),\n",
    "                                       bundle: bundleMoney,\n",
    "                                       securityLevel: 2,\n",
    "                                       depth: 3,\n",
    "                                       minWeightMagnitude: 9, // MWM; in case of Devnet it is 9\n",
    "                                       remainderAddress: accountData.LatestUnusedAddress, // This should be your address where remaining token should go. If null then the client library finds the first unused address itself\n",
    "                                       inputAddresses: (from adr in accountData.UsedAddresses\n",
    "                                                        where adr.Balance>0\n",
    "                                                        select adr).ToList()); // These should be addresses from which your tokens should be spent from\n",
    "\n",
    "    // you can specify null in remainderAddress or inputAddresses, however it may be quite time consuming then.\n",
    "    // It starts to search addresses from the index 0 and searchs until it finds some funds and/or unused address\n",
    "    // so it is better to specify it manually as above (using accountData for instance) if you have such info\n",
    "    \n",
    "    foreach (var tx in sentBundle.Transactions)\n",
    "    {\n",
    "        Console.WriteLine(JsonConvert.SerializeObject(tx, Formatting.Indented));\n",
    "    }\n",
    "}\n"
   ]
  }
 ],
 "metadata": {
  "celltoolbar": "Edit Metadata",
  "kernelspec": {
   "display_name": "C#",
   "language": "csharp",
   "name": "icsharp"
  },
  "language_info": {
   "file_extension": ".cs",
   "mimetype": "text/x-csharp",
   "name": "C#",
   "pygments_lexer": "c#",
   "version": "4.0.30319"
  }
 },
 "nbformat": 4,
 "nbformat_minor": 2
}
