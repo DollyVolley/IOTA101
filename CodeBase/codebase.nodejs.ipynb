{
 "cells": [
  {
   "cell_type": "code",
   "execution_count": 2,
   "metadata": {
    "init_cell": true,
    "iotadev": {
     "codeid": "10.12"
    }
   },
   "outputs": [
    {
     "name": "stdout",
     "output_type": "stream",
     "text": [
      "pixiedust_node 0.2.5 started. Cells starting '%%node' may contain Node.js code.\n"
     ]
    }
   ],
   "source": [
    "%%capture\n",
    "import pixiedust_node ;\n"
   ]
  },
  {
   "cell_type": "code",
   "execution_count": 10,
   "metadata": {
    "iotadev": {
     "codeid": "3BB8C879CCAE"
    }
   },
   "outputs": [],
   "source": [
    "%%node\n",
    "var Converter = require('../library/node_modules/iota.lib.js/lib/crypto/converter/converter') //loading helping converter functions of iota.lib.js library\n",
    "\n",
    "var Trytes = \"YZJEATEQ9JKLZ\" //some data encoded in Trytes\n",
    "console.log(Trytes)\n",
    "console.log(\"Number of Trytes: %s\" , Trytes.length)\n",
    "\n",
    "var Trits = Converter.trits(Trytes) //converting Trytes to Trits\n",
    "\n",
    "console.log(Trits.join(\",\"))\n",
    "console.log(\"Number of trits: %s\", Trits.length) //Number of trits is three times the number of trytes obviously"
   ]
  },
  {
   "cell_type": "code",
   "execution_count": 3,
   "metadata": {
    "iotadev": {
     "codeid": "696A395DC61B"
    }
   },
   "outputs": [
    {
     "name": "stdout",
     "output_type": "stream",
     "text": [
      "... ...\n",
      "... ..... ..... ..... ..... ..... ..... ..... ..... ..... ....... ....... ....... ....... ..... ...\n",
      "{ appName: 'IRI',\n",
      "appVersion: '1.5.0',\n",
      "jreAvailableProcessors: 2,\n",
      "jreFreeMemory: 1653843656,\n",
      "jreVersion: '1.8.0_162',\n",
      "jreMaxMemory: 5176295424,\n",
      "jreTotalMemory: 3153592320,\n",
      "latestMilestone: 'DXP9JTOXWFTAVUIKVICITDKUMMEGKUNDXWCUBUAAJMYNWJEHNBYAKHZUJADOPBNGLWONXWIKNSIOZ9999',\n",
      "latestMilestoneIndex: 604618,\n",
      "latestSolidSubtangleMilestone: 'DXP9JTOXWFTAVUIKVICITDKUMMEGKUNDXWCUBUAAJMYNWJEHNBYAKHZUJADOPBNGLWONXWIKNSIOZ9999',\n",
      "latestSolidSubtangleMilestoneIndex: 604618,\n",
      "milestoneStartIndex: 426550,\n",
      "neighbors: 6,\n",
      "packetsQueueSize: 0,\n",
      "time: 1531637436349,\n",
      "tips: 5160,\n",
      "transactionsToRequest: 6,\n",
      "duration: 18,\n",
      "fieldPublicId: '6e00b0d08b941a5e',\n",
      "fieldName: 'ZAPALOT',\n",
      "fieldVersion: '0.1.6' }\n",
      "Node is probably synced!\n"
     ]
    }
   ],
   "source": [
    "%%node\n",
    "var IOTA = require('../library/node_modules/iota.lib.js/lib/iota') // load iota.lib.js\n",
    "\n",
    "// # ctor initialization of the iota.lib.js library\n",
    "var iota = new IOTA({\n",
    "    'provider': 'https://field.carriota.com:443'\n",
    "});\n",
    "\n",
    "// basic API call to double check health conditions\n",
    "iota.api.getNodeInfo(function (error, success) {\n",
    "    if (error) {\n",
    "        // unable to perform getNodeInfo call\n",
    "        console.error(error);\n",
    "    } else {\n",
    "        // result is printed out\n",
    "        console.log(success);\n",
    "        \n",
    "        // Basic check whether node is in sync or not\n",
    "        // Elementary rule is that \"latestMilestoneIndex\" should equal to \"latestSolidSubtangleMilestoneIndex\" or be very close\n",
    "        if (Math.abs(success['latestMilestoneIndex'] - success['latestSolidSubtangleMilestoneIndex']) > 3) {\n",
    "            console.log('\\r\\nNode is probably not synced!');\n",
    "        } else {\n",
    "            console.log('\\r\\nNode is probably synced!');\n",
    "        }\n",
    "    }\n",
    "});"
   ]
  },
  {
   "cell_type": "code",
   "execution_count": 39,
   "metadata": {
    "iotadev": {
     "codeid": "67D98D069B61"
    }
   },
   "outputs": [
    {
     "name": "stdout",
     "output_type": "stream",
     "text": [
      "... ... ... ... ... ... ... ... ... ... ..... ..... ..... ... ...\n",
      "U9IBFHDYRJFQEHSBWCFHBRUOZGIULIVCZEMYQICKTEOWCNEAREQFXZLA99MAIZGTPTIXJRVEZTGOLTCEW\n",
      "Length: 81\n"
     ]
    }
   ],
   "source": [
    "%%node\n",
    "//based on https://gist.github.com/SteveFromTheOffice/c8448a09352337386f135a16bbb20d93\n",
    "//modified by Petr Zizka\n",
    "    \n",
    "var GenerateSeed = function () {\n",
    "    const length       = 81;                            // The length of the seed and int array.\n",
    "    const chars        = \"ABCDEFGHIJKLMNOPQRSTUVWXYZ9\"; // The allowed characters in the seed.\n",
    "    var result       = new Array(length);               // An empty array to store the seed characters.\n",
    "    var randomValues = Buffer.alloc(length)\n",
    "    \n",
    "    // Generate random values and store them to array.\n",
    "    crypto.randomFillSync(randomValues);\n",
    "    \n",
    "    var cursor = 0;                                     // A cursor is introduced to remove modulus bias.\n",
    "    for (var i = 0; i < randomValues.length; i++) {     // Loop through each of the 81 random values.\n",
    "        cursor += randomValues[i];                      // Add them to the cursor.\n",
    "        result[i] = chars[cursor % chars.length];       // Assign a new character to the seed based on cursor mod 81.\n",
    "    }\n",
    "    return result.join('');                             // Merge the array into a single string and return it.\n",
    "};\n",
    "\n",
    "var NewSeed = GenerateSeed();\n",
    "console.log(NewSeed);\n",
    "console.log(\"Length: %s\", NewSeed.length)"
   ]
  },
  {
   "cell_type": "code",
   "execution_count": 10,
   "metadata": {
    "iotadev": {
     "codeid": "0FF479CB6C0A"
    }
   },
   "outputs": [
    {
     "name": "stdout",
     "output_type": "stream",
     "text": [
      "... ...\n",
      "... ... ..... ....... ....... ....... ....... ....... .....\n",
      "[ 'HRLKBQUZAEB9HIVWJEWVDYQ9G9VRQXQAXR9ZWGBFQJKRPOPJYHGAT9LBEIE9RWRMUFSNLCWYHQGYAECHD',\n",
      "'XEXIDJJTANADOUBPWTCSPPRYYRTITRAHDEOZAEXWDPCYKUPTFMKVQM9KCPPLOCESFRGRVSIYZHXQZNYKC',\n",
      "'KY9DLZCHET9ATLMADPXGDVDYMPHKRKQPJZ9MB9HEIMMFCRRTNJIJIHPKGZNKKDTFMYPZRRQYAQKVAHMYX' ]\n"
     ]
    }
   ],
   "source": [
    "%%node\n",
    "var IOTA = require('../library/node_modules/iota.lib.js/lib/iota')\n",
    "\n",
    "//For this particular task the Node URL is not important as it will not be contacted at all\n",
    "//However it has to be well - formatted URI\n",
    "var NodeURL = \"https://field.carriota.com:443\";\n",
    "\n",
    "var MySeed = \"WKQDUZTGFKSSLACUCHHLZRKZBHSDSCEBHKUPDLKFBQALEBKDMFRPUQGZRXAADPG9TSRTZGGBZOFRJCFMM\";\n",
    "\n",
    "var iota = new IOTA({\n",
    "    'provider': NodeURL\n",
    "});\n",
    "\n",
    "//Let's generate 3 addresses using default security level=2.\n",
    "//It is deterministic function - it always generates same addresses as long as the Seed, Security Level and Index are the same\n",
    "\n",
    "// Please note, it is async method - result is returned via callback function\n",
    "\n",
    "iota.api.getNewAddress(MySeed,\n",
    "    { \"index\": 0, \"total\": 3, \"security\": 2 },\n",
    "    function (error, success) {\n",
    "        if (error) {\n",
    "            console.log(\"Error occured: %s\", error);\n",
    "        } else {\n",
    "            console.log();\n",
    "            console.log(success); //returned addresses are printed out\n",
    "        }        \n",
    "    });\n"
   ]
  },
  {
   "cell_type": "code",
   "execution_count": 11,
   "metadata": {
    "iotadev": {
     "codeid": "2508A6FF9241"
    }
   },
   "outputs": [
    {
     "name": "stdout",
     "output_type": "stream",
     "text": [
      "... ...\n",
      "... ... ... HRLKBQUZAEB9HIVWJEWVDYQ9G9VRQXQAXR9ZWGBFQJKRPOPJYHGAT9LBEIE9RWRMUFSNLCWYHQGYAECHD\n",
      "XEXIDJJTANADOUBPWTCSPPRYYRTITRAHDEOZAEXWDPCYKUPTFMKVQM9KCPPLOCESFRGRVSIYZHXQZNYKC\n",
      "KY9DLZCHET9ATLMADPXGDVDYMPHKRKQPJZ9MB9HEIMMFCRRTNJIJIHPKGZNKKDTFMYPZRRQYAQKVAHMYX\n"
     ]
    }
   ],
   "source": [
    "%%node\n",
    "var IOTA = require('../library/node_modules/iota.lib.js/lib/iota')\n",
    "\n",
    "var NodeURL = \"https://field.carriota.com:443\";\n",
    "var MySeed = \"WKQDUZTGFKSSLACUCHHLZRKZBHSDSCEBHKUPDLKFBQALEBKDMFRPUQGZRXAADPG9TSRTZGGBZOFRJCFMM\";\n",
    "\n",
    "var iota = new IOTA({\n",
    "    'provider': NodeURL\n",
    "});\n",
    "\n",
    "//Please note, it is sync function\n",
    "for (var i = 0; i < 3; i++ ) {\n",
    "    var address = iota.api._newAddress(MySeed, i, 2, false);\n",
    "    console.log(address);\n",
    "}"
   ]
  },
  {
   "cell_type": "code",
   "execution_count": 44,
   "metadata": {
    "iotadev": {
     "codeid": "39B011574CF0"
    }
   },
   "outputs": [
    {
     "name": "stdout",
     "output_type": "stream",
     "text": [
      "... ...\n",
      "Original input excl. checksum address:\n",
      "CYJV9DRIE9NCQJYLOYOJOGKQGOOELTWXVWUYGQSWCNODHJAHACADUAAHQ9ODUICCESOIVZABA9LTMM9RW\n",
      "Length: 81\n",
      "Input address including checksum:\n",
      "CYJV9DRIE9NCQJYLOYOJOGKQGOOELTWXVWUYGQSWCNODHJAHACADUAAHQ9ODUICCESOIVZABA9LTMM9RWTHBIRSXTA\n",
      "Length incl checksum: 90\n"
     ]
    }
   ],
   "source": [
    "%%node\n",
    "var IOTA = require('../library/node_modules/iota.lib.js/lib/iota')\n",
    "var NodeURL = \"https://field.carriota.com:443\";\n",
    "\n",
    "var iota = new IOTA({\n",
    "    'provider': NodeURL\n",
    "});\n",
    "\n",
    "//some IOTA address\n",
    "var Adr = \"CYJV9DRIE9NCQJYLOYOJOGKQGOOELTWXVWUYGQSWCNODHJAHACADUAAHQ9ODUICCESOIVZABA9LTMM9RW\";\n",
    "\n",
    "console.log(\"Original input excl. checksum address:\");\n",
    "console.log(Adr);\n",
    "console.log(\"Length: %s\", Adr.length)\n",
    "\n",
    "var AdrInclCheckSum = iota.utils.addChecksum(Adr); //generate checksum\n",
    "console.log(\"Input address including checksum:\")\n",
    "console.log(AdrInclCheckSum) // the last 9 trytes is the checksum\n",
    "console.log(\"Length incl checksum: %s\", AdrInclCheckSum.length)"
   ]
  },
  {
   "cell_type": "code",
   "execution_count": 4,
   "metadata": {
    "iotadev": {
     "codeid": "C65223B0864A"
    }
   },
   "outputs": [
    {
     "name": "stdout",
     "output_type": "stream",
     "text": [
      "... ...\n",
      "... ... ... ... ... ... ... ... ... Input address incl checksum:\n",
      "CYJV9DRIE9NCQJYLOYOJOGKQGOOELTWXVWUYGQSWCNODHJAHACADUAAHQ9ODUICCESOIVZABA9LTMM9RWTHBIRSXTA\n",
      "Is it valid addr based on checksum? true\n",
      "Input address excl checksum:\n",
      "CYJV9DRIE9NCQJYLOYOJOGKQGOOELTWXVWUYGQSWCNODHJAHACADUAAHQ9ODUICCESOIVZABA9LTMM9RW\n"
     ]
    }
   ],
   "source": [
    "%%node\n",
    "var IOTA = require('../library/node_modules/iota.lib.js/lib/iota')\n",
    "var NodeURL = \"https://field.carriota.com:443\";\n",
    "\n",
    "var iota = new IOTA({\n",
    "    'provider': NodeURL\n",
    "});\n",
    "\n",
    "//address including checksum\n",
    "var InputAddr = \"CYJV9DRIE9NCQJYLOYOJOGKQGOOELTWXVWUYGQSWCNODHJAHACADUAAHQ9ODUICCESOIVZABA9LTMM9RWTHBIRSXTA\";\n",
    "\n",
    "if (!iota.valid.isAddress(InputAddr) || InputAddr.length!=90) {\n",
    "    console.log(\"Not valid input address given.\");    \n",
    "} else {\n",
    "    console.log(\"Input address incl checksum:\");\n",
    "    console.log(InputAddr);\n",
    "\n",
    "    console.log(\"Is it valid addr based on checksum? %s\", iota.utils.isValidChecksum(InputAddr));\n",
    "    console.log(\"Input address excl checksum:\");\n",
    "    console.log(iota.utils.noChecksum(InputAddr))    \n",
    "}"
   ]
  },
  {
   "cell_type": "code",
   "execution_count": 16,
   "metadata": {
    "iotadev": {
     "codeid": "445C2B9485C6"
    }
   },
   "outputs": [
    {
     "name": "stdout",
     "output_type": "stream",
     "text": [
      "... ...\n",
      "... ... ... ... ...\n",
      "... ... ... ... ...\n",
      "Created transaction objects - mandatory fields only:\n",
      "{ address: 'CXDUYK9XGHC9DTSPDMKGGGXAIARSRVAFGHJOCDDHWADLVBBOEHLICHTMGKVDOGRU9TBESJNHAXYPVJ9R9',\n",
      "value: 0,\n",
      "message: 'RBTCFDTCEARCCDADTCGDEAPCEAUCXCFDGDHDEAADTCGDGDPCVCTCSAEAXBCDKDEAXCGDEABCIDBDEATBID9DEAVAZAEAWAUAVABBEAVA9BDBWABBDBUACBEAQBWBCCPAUAUAUAUAEAMADCCCMBNA',\n",
      "tag: 'HRIBEK999IOTA999TUTORIAL' }\n",
      "{ address: 'CYJV9DRIE9NCQJYLOYOJOGKQGOOELTWXVWUYGQSWCNODHJAHACADUAAHQ9ODUICCESOIVZABA9LTMM9RW',\n",
      "value: 0,\n",
      "message: 'RBTCFDTCEARCCDADTCGDEAPCEAGDTCRCCDBDSCEAADTCGDGDPCVCTCSAEAXBCDKDEAXCGDEABCIDBDEATBID9DEAVAZAEAWAUAVABBEAVA9BDBWABBDBUACBEAQBWBCCPAUAUAUAUAEAMADCCCMBNA',\n",
      "tag: 'HRIBEK999IOTA999TUTORIAL' }\n"
     ]
    }
   ],
   "source": [
    "%%node\n",
    "var IOTA = require('../library/node_modules/iota.lib.js/lib/iota')\n",
    "var NodeURL = \"https://field.carriota.com:443\";\n",
    "\n",
    "var iota = new IOTA({\n",
    "    'provider': NodeURL\n",
    "});\n",
    "\n",
    "var MySeed = \"HGW9HB9LJPYUGVHNGCPLFKKPNZAIIFHZBDHKSGMQKFMANUBASSMSV9TAJSSMPRZZU9SFZULXKJ9YLAIUA\";\n",
    "var TargetAddress1 = \"CXDUYK9XGHC9DTSPDMKGGGXAIARSRVAFGHJOCDDHWADLVBBOEHLICHTMGKVDOGRU9TBESJNHAXYPVJ9R9\";\n",
    "var TargetAddress2 = \"CYJV9DRIE9NCQJYLOYOJOGKQGOOELTWXVWUYGQSWCNODHJAHACADUAAHQ9ODUICCESOIVZABA9LTMM9RW\";\n",
    "\n",
    "var NowIs = new Date() //get a actual date & time - just to have some meaningfull info\n",
    "\n",
    "// preparing transactions\n",
    "var pt = {\n",
    "    'address': TargetAddress1, //81 trytes long address\n",
    "    'value': 0,\n",
    "    'message': iota.utils.toTrytes('Here comes a first message. Now is ' + NowIs),\n",
    "    'tag': 'HRIBEK999IOTA999TUTORIAL' //Up to 27 trytes\n",
    "}\n",
    "\n",
    "var pt2 = {\n",
    "    'address': TargetAddress2, //81 trytes long address\n",
    "    'value': 0,\n",
    "    'message': iota.utils.toTrytes('Here comes a second message. Now is ' + NowIs),\n",
    "    'tag': 'HRIBEK999IOTA999TUTORIAL' //Up to 27 trytes\n",
    "}\n",
    "\n",
    "console.log(\"Created transaction objects - mandatory fields only:\")\n",
    "console.log(pt)\n",
    "console.log(pt2)"
   ]
  },
  {
   "cell_type": "code",
   "execution_count": 3,
   "metadata": {
    "iotadev": {
     "codeid": "C4C3A3808862"
    }
   },
   "outputs": [
    {
     "name": "stdout",
     "output_type": "stream",
     "text": [
      "... ...\n",
      "... ... ... ... ...\n",
      "... ... ... ... ...\n",
      "... ... ... ... ..... ....... ....... ..... ....... ....... ....... ......... ......... ....... ....... ..... ... Something went wrong: Error: Invalid transfers object\n"
     ]
    }
   ],
   "source": [
    "%%node\n",
    "var IOTA = require('../library/node_modules/iota.lib.js/lib/iota');\n",
    "var NodeURL = \"https://field.carriota.com:443\";\n",
    "\n",
    "var iota = new IOTA({\n",
    "    'provider': NodeURL\n",
    "});\n",
    "\n",
    "var MySeed = \"HGW9HB9LJPYUGVHNGCPLFKKPNZAIIFHZBDHKSGMQKFMANUBASSMSV9TAJSSMPRZZU9SFZULXKJ9YLAIUA\";\n",
    "var TargetAddress1 = \"CXDUYK9XGHC9DTSPDMKGGGXAIARSRVAFGHJOCDDHWADLVBBOEHLICHTMGKVDOGRU9TBESJNHAXYPVJ9R9\";\n",
    "var TargetAddress2 = \"CYJV9DRIE9NCQJYLOYOJOGKQGOOELTWXVWUYGQSWCNODHJAHACADUAAHQ9ODUICCESOIVZABA9LTMM9RW\";\n",
    "\n",
    "var NowIs = new Date(); \n",
    "\n",
    "var pt = {\n",
    "    'address': TargetAddress1, \n",
    "    'value': 0,\n",
    "    'message': iota.utils.toTrytes('Here comes a first message. Now is ' + NowIs),\n",
    "    'tag': 'HRIBEK999IOTA999TUTORIAL'\n",
    "};\n",
    "\n",
    "var pt2 = {\n",
    "    'address': TargetAddress2, \n",
    "    'value': 0,\n",
    "    'message': iota.utils.toTrytes('Here comes a second message. Now is ' + NowIs),\n",
    "    'tag': 'HRIBEK999IOTA999TUTORIAL999'\n",
    "};\n",
    "\n",
    "var bundle;\n",
    "\n",
    "iota.api.prepareTransfers(\n",
    "    MySeed,\n",
    "    [pt,pt2],\n",
    "    {},\n",
    "    function (e, r) {\n",
    "        if (e) {\n",
    "            console.log(\"Something went wrong: %s\", e);\n",
    "        }\n",
    "        else {\n",
    "            console.log(\"Generated bundle hash: %s\", iota.utils.transactionObject(r[0]).bundle);\n",
    "            console.log(\"List of all transactions in the bundle:\");\n",
    "            for (var i in r) {\n",
    "                console.log(iota.utils.transactionObject(r[i]));\n",
    "            }\n",
    "            bundle=r;\n",
    "        }\n",
    "    }\n",
    ");\n"
   ]
  },
  {
   "cell_type": "code",
   "execution_count": 15,
   "metadata": {
    "iotadev": {
     "codeid": "B4FE2962FB5C"
    }
   },
   "outputs": [
    {
     "name": "stdout",
     "output_type": "stream",
     "text": [
      "undefined\n"
     ]
    }
   ],
   "source": [
    "%%node\n",
    "console.log(bundle);"
   ]
  },
  {
   "cell_type": "code",
   "execution_count": 20,
   "metadata": {
    "iotadev": {
     "codeid": "20F0C730001B"
    }
   },
   "outputs": [
    {
     "name": "stdout",
     "output_type": "stream",
     "text": [
      "... ... ... ..... ....... ....... ..... ....... ....... ....... ..... ...\n",
      "{ trunkTransaction: 'JPKEXNQGFHYGVEKRKWKKYG9ILRRMZYTSDTQIZSRPSH9LZTOWULPNUNV9VJ9PDLMRIMUOOWDAEPKXA9999',\n",
      "branchTransaction: 'TZX9XEQKHSM9VSQKKDRXOGHS9OIVBPNBIFZVVHOTDZMRQQDHGRHBRFGQDLDUS9NSQF9MCK9LSLAO99999',\n",
      "duration: 478,\n",
      "fieldPublicId: '91edc0d6b0911401',\n",
      "fieldName: 'TOBG',\n",
      "fieldVersion: '0.1.6' }\n"
     ]
    }
   ],
   "source": [
    "%%node\n",
    "var gta;\n",
    "iota.api.getTransactionsToApprove(\n",
    "    3,\n",
    "    null,\n",
    "    function (e, r) {\n",
    "        if (e) {\n",
    "            console.log(\"Something went wrong: %s\", e);\n",
    "        }\n",
    "        else {\n",
    "            console.log(r);\n",
    "            gta=r;\n",
    "        }\n",
    "    }\n",
    ");"
   ]
  },
  {
   "cell_type": "code",
   "execution_count": null,
   "metadata": {
    "iotadev": {
     "codeid": "1DFBE208CD1D"
    }
   },
   "outputs": [],
   "source": [
    "%%node\n",
    "console.log(\"Performing POW...Wait please...\");\n",
    "\n",
    "var att;\n",
    "iota.api.attachToTangle(gta['trunkTransaction'],\n",
    "                        gta['branchTransaction'],\n",
    "                        14,\n",
    "                        bundle,\n",
    "                        function (e, r) {\n",
    "                            if (e) {\n",
    "                                console.log(\"Something went wrong: %s\", e);\n",
    "                            }\n",
    "                            else {\n",
    "                                console.log(r);\n",
    "                                att = r;                                    \n",
    "                            }\n",
    "                        }\n",
    "                  );                            \n"
   ]
  },
  {
   "cell_type": "code",
   "execution_count": null,
   "metadata": {
    "iotadev": {
     "codeid": "8817C6010CDD"
    }
   },
   "outputs": [],
   "source": [
    "%%node\n",
    "//show what has been broadcasted - hash transaction + nonce (POW)\n",
    "console.log(\"Final bundle including POW and branch/trunk transactions:\");\n",
    "for (var i in att) {\n",
    "    console.log(iota.utils.transactionObject(att[i])) //Let's print attributes of each TX\n",
    "}"
   ]
  },
  {
   "cell_type": "code",
   "execution_count": null,
   "metadata": {
    "iotadev": {
     "codeid": "CD0C67713BF9"
    }
   },
   "outputs": [],
   "source": [
    "%%node\n",
    "//broadcast and store\n",
    "console.log(\"Broadcasting transaction...\");\n",
    "iota.api.storeAndBroadcast(\n",
    "                           att,\n",
    "                           function (e, r) {\n",
    "                               if (e) {\n",
    "                                   console.log(\"Something went wrong: %s\", e);\n",
    "                               }\n",
    "                               else {\n",
    "                                   console.log(r);\n",
    "                               }\n",
    "                           }\n",
    "                        );"
   ]
  }
 ],
 "metadata": {
  "celltoolbar": "Edit Metadata",
  "kernelspec": {
   "display_name": "Python 3.6",
   "language": "python",
   "name": "python36"
  },
  "language_info": {
   "codemirror_mode": {
    "name": "ipython",
    "version": 3
   },
   "file_extension": ".py",
   "mimetype": "text/x-python",
   "name": "python",
   "nbconvert_exporter": "python",
   "pygments_lexer": "ipython3",
   "version": "3.6.3"
  }
 },
 "nbformat": 4,
 "nbformat_minor": 2
}
