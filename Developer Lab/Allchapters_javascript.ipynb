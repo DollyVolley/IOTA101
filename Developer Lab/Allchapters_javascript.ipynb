{
 "cells": [
  {
   "cell_type": "markdown",
   "metadata": {},
   "source": [
    "> *This textbook was generated automatically from a [GitHub Repo](https://github.com/Hribek25/IOTA101). Visit the repo for more information.* \n",
    "\n",
    "![IOTA Developer Essentials Banner](https://raw.githubusercontent.com/Hribek25/IOTA101/master/Graphics/IOTA-Developer-Essentials.png)\n",
    "# IOTA Developer Essentials\n",
    "![Languages Covered](https://img.shields.io/badge/Coverage-Python%20%7C%20NodeJS-brightgreen.svg \"Languages covered\")\n",
    "[![GitHub Repo](https://img.shields.io/badge/GitHub-Repo-green.svg \"Home of the tutorial\")](https://github.com/Hribek25/IOTA101)\n",
    "[![Interactive Lab](https://img.shields.io/badge/Interactive-Lab-blue.svg \"Interactive experience with the tutorial\")](https://notebooks.azure.com/pzizka/libraries/iota101)\n",
    "[![Complete Textbook](https://img.shields.io/badge/Complete-Textbook-yellow.svg \"All chapters combined on a single page\")](https://hribek25.github.io/IOTA101/)\n",
    "[![IOTA Ecosystem](https://img.shields.io/badge/iota-ecosystem-yellowgreen.svg \"IOTA Ecosystem\")](https://ecosystem.iota.org/tutorials/iota-developer-essentials)\n",
    "\n",
    "These notebooks provide a self-study introduction to IOTA protocol and are designed for developers and tech enthusiasts who would like to get quickly familiar with the IOTA. Technical-related information is accompanied with interactive code snippets to help you to quickly jump on the platform and be ready to build own solutions based on it.\n",
    "\n",
    "> Motto of this tutorial: \"Let's start with baby steps before we can try and fly.\"\n",
    "\n",
    "## Main Goal\n",
    "Main goal of this guide is to provide a comprehensive yet well-balanced proportion of deep-dive technical information and essentials.\n",
    "\n",
    "## Getting Started\n",
    "There are several chapters available. If you are not familiar with IOTA then it is highly recommended to follow them in the particular order to understand all important IOTA concepts properly. Otherwise you may get quickly confused later.\n",
    "\n",
    "## Code Snippets\n",
    "Code snippets are currently based on Python and NodeJs. Since Python is very descriptive language and easy to understand, I believe the tutorial is basically understandable to anyone. Anyway, all important IOTA concepts are described in language-agnostic way and so you would be able to use any language of your choice.\n",
    "\n",
    "Even if you ignore code snippets completely there is still plenty info left.\n",
    "\n",
    "The tutotorial is accompanied by IOTA Developer Lab and so you can play with all code snippets directly in your web browser, please see the next chapter. Feel free to experiment with the prepared code snippets and get your hands dirty. It is a best way how to get familiar quickly.\n",
    "\n",
    "## Viewing and running\n",
    "### Interactive Mode\n",
    "Copies of the tutorial notebooks (based on Jupyter) are hosted on the Microsoft Azure Notebooks:\n",
    "\n",
    "[![Azure Notebooks](https://raw.githubusercontent.com/Hribek25/IOTA101/master/Graphics/launch-azurenb-blue.png)](https://notebooks.azure.com/pzizka/libraries/iota101)\n",
    "\n",
    "It is recommended that you use the notebooks via the above link if you would like to have an interactive experience. For the best experience, 'clone' the library to use the notebooks in the interactive mode.\n",
    "\n",
    "### Static Mode\n",
    "If you prefer a static experience (for printing purposes, for instance) you can reach the given notebooks as a Complete Textbook that is compiled from source materials on regular basis:\n",
    "\n",
    "[![Complete Textbook](https://raw.githubusercontent.com/Hribek25/IOTA101/master/Graphics/Complete-Textbook-yellow.png)](https://hribek25.github.io/IOTA101/)\n",
    "\n",
    "## Feedback and corrections\n",
    "These notebooks are maintained at [GitHub](https://github.com/Hribek25/IOTA101).\n",
    "Issues can be submited via [issue tracker](https://github.com/Hribek25/IOTA101/issues).\n",
    "\n",
    "## About\n",
    "These notebooks are developed and maintained by Petr Zizka (petr@zizkovi.name).\n",
    "\n",
    "It is ongoing process since IOTA is still under heavy development and rapidly emerging every day. So stay tuned - the plan is to keep adding fresh content on regular basis.\n",
    "\n",
    "Feel free to follow me at [Twitter](https://twitter.com/petrzizka) or IOTA Discord Channel (@hribek25#2683).\n",
    "*(New to Discord? Invitation link: https://discord.gg/fNGZXvh)*\n",
    "\n",
    "Disclaimer: I am not associated with the IOTA foundation. I am IOTA supporter.\n",
    "\n",
    "----\n",
    "![Thank You](https://img.shields.io/badge/thank-you-lightgrey.svg \"Your support is deeply appreciated\")\n",
    "\n",
    "The IOTA Developer Essentials and IOTA Developer Lab are long-term projects. The main goal is to provide a comprehensive onboarding information to anybody interested in the IOTA protocol. It will cover much more chapters, more code snippets and it will also cover more languages. There is a [roadmap](https://github.com/Hribek25/IOTA101/projects/1) available. Your kind donations will support the vision pushing forward. Thank you.\n",
    "\n",
    "Donations (IOTA):\n",
    "DSZRO9TCIJIKZOKUPVNOJFKVAHFCKL9YMLPVZUAEVZPOFXLIUWLPRQWBMVVSFTKGMGPPHXCYE9MIZEVBXQNFYKYUA9\n",
    "\n",
    "![qr code](http://api.qrserver.com/v1/create-qr-code/?color=000000&bgcolor=FFFFFF&data=DSZRO9TCIJIKZOKUPVNOJFKVAHFCKL9YMLPVZUAEVZPOFXLIUWLPRQWBMVVSFTKGMGPPHXCYE9MIZEVBXQNFYKYUA9&qzone=1&margin=0&size=120x120&ecc=L \"donation address in QR code\")\n",
    "\n",
    "\n",
    "--- \n"
   ]
  },
  {
   "cell_type": "markdown",
   "metadata": {},
   "source": [
    "# IOTA 101: Essentials and IOTA Terminology\n",
    "IOTA is an open-source Distributed Ledger Technology (DLT) with the following characteristics: *permissionless*, *feeless* and *trustless*. In contrary to the blockchain technology, the IOTA transactions are stored in a form of Directed Acyclic Graph (DAG) called *the Tangle*.\n",
    "![Blockchain and Tangle comparison](https://raw.githubusercontent.com/Hribek25/IOTA101/master/Graphics/Blockchain_And_Tangle_iota_org.png \"(c) iota.org\")\n",
    "\n",
    "## Transactions\n",
    "Transactions (TXs) in the tangle can be of two types:\n",
    "* **Value transactions** (*IOTA token* represents funds in case of value transactions)\n",
    "* **Zero-value transactions** (aka meta transactions)\n",
    "\n",
    "Every transaction is attached to a specific *IOTA Address*.\n",
    "There are no miners with IOTA protocol to validate transactions. The *consensus* is achieved by network participants themselves. Each participant that wants to broadcast a new transaction has to approve 2 past transactions and basically attach transaction as a children node. Transactions without children transactions (waiting to be confirmed) are called *tips*.\n",
    "\n",
    "## Seed, private key and address\n",
    "Pair of unique IOTA address and corresponding *Private Key* is determistically generated from a *Seed*. You can generate (2<sup>53</sup> - 1) different addresses/private keys based on one Seed. Anybody can send anything to the given address however only Seed owner can send funds from IOTA address since only the Seed owner is able to generate corresponding *Private Key*.\n",
    "\n",
    "IOTA protocol uses One-Time Signature (OTS) for \"verifying\" whether private key matches to the given address, specifically Winternitz OTS (WOTS). So *Private Key* (specifically *Key Fragments* of the private key) is the key component while signing transactions using WOTS.\n",
    "\n",
    "That's the reason why nobody should use IOTA address that have been already funds spent from. New IOTA address (of the given seed) should be generated and used instead. Please note, it applies only to fund-spending. Receiving funds/data is totaly fine even multiple times.\n",
    "\n",
    "To summarize the key concept here. Only *Seed* is needed to be stored somewhere. Everything else can be safely generated from it: private key as well as address.\n",
    "\n",
    "## IOTA nodes\n",
    "The Tangle runs on a *distributed network* of IOTA nodes called *mainnet*. There are also other separate \"Tangles\" serving for specific purposes: Devnet, SPAMnet, etc. You can interact with the network via public nodes using collection of public *API calls*. You can interact with any public node of the given network since all nodes \"gossiping\" all TXs across the whole network. Nodes are powered by a reference piece of software called *IRI* (IOTA Reference Implementation) **as of now**.\n",
    "\n",
    "It is also important to mention that you do not exchange any sensitive information such as *Seed* with a node. Every sensitive operation such as TX signing is done on client's side and node is just a \"messenger\" that delivers your TX to the IOTA network.\n",
    "![Centralized, decentralized and distributed models](https://raw.githubusercontent.com/Hribek25/IOTA101/master/Graphics/Centralized-decentralized-and-distributed-network-models-by-Paul-Baran-1964-part-of-a.png \"(c) Paul Baran, researchgate\")\n",
    "\n",
    "## Custom node\n",
    "You can even run own IOTA node and actively participate to the whole network. There is a big advantage for developers in that case. Actual implementation of IRI  provides an usefull real-time information via messaging platform called ZeroMQ and so developers can leverage that.\n",
    "\n",
    "## API calls\n",
    "There are ready-made libraries for major programming languages available and so you have more developer-friendly way how to interact with the IOTA network. Anyway, you can interact with IOTA network using pure API calls without any library. It is up to you.\n"
   ]
  },
  {
   "cell_type": "markdown",
   "metadata": {},
   "source": [
    "## Ternary\n",
    "It is difficult to avoid mentioning *Ternary numeral system* while discussing IOTA at all. IOTA is based on ternary system under the hood and so you have got to be aware of some basic terminology in this respect. You are going to face this fact in any developer-related IOTA guide out there.\n",
    "\n",
    "### Ternary\n",
    "Ternary has three as its base (aka base 3) as opposted to *binary* which is base 2. Instead of two states (0 and 1) it recognizes three states (for ex. -1, 0, 1).\n",
    "\n",
    "### Trit\n",
    "One *Trite* is analogous to one *bit*. It is the smallest digit and has three states. Trit = **Tri**nary dig**it**.\n",
    "\n",
    "### Tryte\n",
    "*Tryte* consists of three *trits* meaning 27 combinations.\n",
    "$$3^3=27$$\n",
    "\n",
    "You will recognize soon that almost everything is encoded in *Trytes* in the IOTA world. Tryte is visually represented using [A..Z] alphabets and number 9. One character represents one tryte (here comes 27 possible characters again). *Don't be mad, IOTA libraries are going to help us.*\n",
    "\n",
    "Small example:"
   ]
  },
  {
   "cell_type": "code",
   "execution_count": 0,
   "metadata": {
    "iotadev": {
     "codeid": "3BB8C879CCAE",
     "standalone": "true",
     "title": "Dealing with trytes and trits"
    }
   },
   "outputs": [
    {
     "name": "stdout",
     "output_type": "stream",
     "text": [
      "YZJEATEQ9JKLZ\n",
      "Number of Trytes: 13\n",
      "1,-1,0,-1,0,0,1,0,1,-1,-1,1,1,0,0,-1,1,-1,-1,-1,1,-1,0,-1,0,0,0,1,0,1,-1,1,1,0,1,1,-1,0,0\n",
      "Number of trits: 39\n"
     ]
    }
   ],
   "source": [
    "var Converter = require('../../node_modules/iota.lib.js/lib/crypto/converter/converter') //loading helping converter functions of iota.lib.js library\n",
    "\n",
    "var Trytes = \"YZJEATEQ9JKLZ\" //some data encoded in Trytes\n",
    "console.log(Trytes)\n",
    "console.log(\"Number of Trytes: %s\" , Trytes.length)\n",
    "\n",
    "var Trits = Converter.trits(Trytes) //converting Trytes to Trits\n",
    "\n",
    "console.log(Trits.join(\",\"))\n",
    "console.log(\"Number of trits: %s\", Trits.length) //Number of trits is three times the number of trytes obviously"
   ]
  },
  {
   "cell_type": "markdown",
   "metadata": {},
   "source": [
    "# IOTA 101: Basic network interactions\n",
    "The tutorial is based on an official Python library called *PyOTA*. It encapsulates all official IRI API calls and it can be installed via *PIP* in any Python environment. If you are viewing this tutorial on *Azure Notebooks* then you do not have to worry about it. The Python environment is already configured for you including the PyOTA. So you can just directly playing with code snippets in your web browser.\n",
    "\n",
    "Anyway, most of the information in the tutorial is language-agnostic and so only implementation details slightly differ across different programming languages. Top-level details are the same regardless programming language you are going to use for your project. I based all code snippets on the Python language since it is understandable language even for beginners.\n",
    "\n",
    "\n",
    "## Conneting to IOTA nodes\n",
    "Before you can interact with the IOTA network you need an URL of the running IOTA node. There are dozen of directories of public nodes available, feel free to google them.\n",
    "\n",
    "For a sake of this tutorial I use a project called *Carriota Field*. It is a load ballancer and incentivizer that provides you an access to a pool of participanting nodes (thousands of nodes) effortlessly.\n",
    "* *Advantage:* you do not have to care about public nodes and whether they are running or not\n",
    "* *Disadvantage:* you do not know in advance which specific node will process your API call. So in some respect results of API calls may differ since some API calls depend on specific node, such as GetNodeInfo().\n",
    "\n",
    "### Node is not synced\n",
    "Even if a node is up and running it may not be fully prepared to process your API calls correctly. The node should be \"synced\", meaning should be aware of all TXs in the Tangle. It is better to avoid not fully synced nodes.\n",
    "\n",
    "### Health checking\n",
    "Once you connect to an IOTA node you should be able to send API calls. However it is better to do some checks in advance in order to find out whether the given node is in good condition or not. IOTA nodes can be run by anyone and so health check is always a good practice.\n",
    "\n",
    "Basic healthcheck can be done via *GetNodeInfo()* API call. It returns a basic information about the given IOTA node."
   ]
  },
  {
   "cell_type": "code",
   "execution_count": 0,
   "metadata": {
    "iotadev": {
     "codeid": "696A395DC61B",
     "standalone": "true",
     "title": "Basic node interaction - GetNodeInfo()"
    },
    "scrolled": false
   },
   "outputs": [
    {
     "name": "stdout",
     "output_type": "stream",
     "text": [
      "{ appName: 'IRI',\n",
      "  appVersion: '1.5.1',\n",
      "  jreAvailableProcessors: 4,\n",
      "  jreFreeMemory: 190778000,\n",
      "  jreVersion: '1.8.0_172',\n",
      "  jreMaxMemory: 5299503104,\n",
      "  jreTotalMemory: 3226468352,\n",
      "  latestMilestone: 'A9BOOLGW9WYDKUC9CMPVMGXMXRYFTYVCNXCUPSHOYYLZLEJXNPSCEYRGNRXTHZX9KR9TDMAYUEGT99999',\n",
      "  latestMilestoneIndex: 609026,\n",
      "  latestSolidSubtangleMilestone: 'A9BOOLGW9WYDKUC9CMPVMGXMXRYFTYVCNXCUPSHOYYLZLEJXNPSCEYRGNRXTHZX9KR9TDMAYUEGT99999',\n",
      "  latestSolidSubtangleMilestoneIndex: 609026,\n",
      "  milestoneStartIndex: 590000,\n",
      "  neighbors: 9,\n",
      "  packetsQueueSize: 0,\n",
      "  time: 1531833237991,\n",
      "  tips: 8156,\n",
      "  transactionsToRequest: 0,\n",
      "  duration: 17,\n",
      "  fieldPublicId: '8351d440184018fd',\n",
      "  fieldName: 'CHRYSEN_1',\n",
      "  fieldVersion: '0.1.6' }\n",
      "\n",
      "Node is probably synced!\n"
     ]
    }
   ],
   "source": [
    "var IOTA = require('../../node_modules/iota.lib.js/lib/iota'); // load iota.lib.js\n",
    "\n",
    "// # ctor initialization of the iota.lib.js library\n",
    "var iota = new IOTA({\n",
    "    'provider': 'https://field.carriota.com:443'\n",
    "});\n",
    "\n",
    "// basic API call to double check health conditions\n",
    "iota.api.getNodeInfo(function (error, success) {\n",
    "    if (error) {\n",
    "        // unable to perform getNodeInfo call\n",
    "        console.error(error);\n",
    "    } else {\n",
    "        // result is printed out\n",
    "        console.log(success);\n",
    "        \n",
    "        // Basic check whether node is in sync or not\n",
    "        // Elementary rule is that \"latestMilestoneIndex\" should equal to \"latestSolidSubtangleMilestoneIndex\" or be very close\n",
    "        if (Math.abs(success['latestMilestoneIndex'] - success['latestSolidSubtangleMilestoneIndex']) > 3) {\n",
    "            console.log('\\r\\nNode is probably not synced!');\n",
    "        } else {\n",
    "            console.log('\\r\\nNode is probably synced!');\n",
    "        }\n",
    "    }\n",
    "});"
   ]
  },
  {
   "cell_type": "markdown",
   "metadata": {},
   "source": [
    "*Please note: When using *Carriota Field service* then this type of check is quite useless since other API calls of yours may be served by different node that has not been checked obviously. On the other hand, Carriota Field uses some smart techniques under the hood that should prevent you to use node that is not in a good condition.*"
   ]
  },
  {
   "cell_type": "markdown",
   "metadata": {},
   "source": [
    "## Generating IOTA seed and IOTA address\n",
    "Since the IOTA network is *permissionless* type of network, anybody is able to use it and interact with it. No central authority is required at any stage.\n",
    "\n",
    "So anybody is able to generate own seed and respective private key/address anytime. It is highly recommended to *NOT* use online generators at all.\n",
    "\n",
    "The Seed is the only key to the given addresses. Anyone who owns the Seed owns also all funds related to respective IOTA addresses (all of them).\n",
    "\n",
    "Seed and addresses only consists of characters [A-Z] and number 9. Length is always 81 charaters. There are usually also used additional 9 characters in IOTA addresses (so total lenght is 90 then) which is a *checksum*. It provides a way how to prevent typos while manipulating with IOTA addresses.\n"
   ]
  },
  {
   "cell_type": "markdown",
   "metadata": {},
   "source": [
    "### Seed\n",
    "A seed generation is a process that is based on random quessing of each character in the seed. Of course, you should always use cryptographically secure pseudo-random generator!"
   ]
  },
  {
   "cell_type": "code",
   "execution_count": 0,
   "metadata": {
    "iotadev": {
     "codeid": "67D98D069B61",
     "standalone": "true",
     "title": "Generating a seed - general approach"
    }
   },
   "outputs": [
    {
     "name": "stdout",
     "output_type": "stream",
     "text": [
      "FDVZOYFGNXHGMHJOFONAWHTBFFWHTHTNONNKDLJIGASFJOU9TNUOFLIQ9AUX9NMTBJOLDWPHAZZRIMBDS\n",
      "Length: 81\n"
     ]
    }
   ],
   "source": [
    "//based on https://gist.github.com/SteveFromTheOffice/c8448a09352337386f135a16bbb20d93\n",
    "//modified by Petr Zizka\n",
    "    \n",
    "var GenerateSeed = function () {\n",
    "    const length       = 81;                            // The length of the seed and int array.\n",
    "    const chars        = \"ABCDEFGHIJKLMNOPQRSTUVWXYZ9\"; // The allowed characters in the seed.\n",
    "    var result       = new Array(length);               // An empty array to store the seed characters.\n",
    "    var randomValues = Buffer.alloc(length)\n",
    "    \n",
    "    // Generate random values and store them to array.\n",
    "    crypto.randomFillSync(randomValues);\n",
    "    \n",
    "    var cursor = 0;                                     // A cursor is introduced to remove modulus bias.\n",
    "    for (var i = 0; i < randomValues.length; i++) {     // Loop through each of the 81 random values.\n",
    "        cursor += randomValues[i];                      // Add them to the cursor.\n",
    "        result[i] = chars[cursor % chars.length];       // Assign a new character to the seed based on cursor mod 81.\n",
    "    }\n",
    "    return result.join('');                             // Merge the array into a single string and return it.\n",
    "};\n",
    "\n",
    "var NewSeed = GenerateSeed();\n",
    "console.log(NewSeed);\n",
    "console.log(\"Length: %s\", NewSeed.length)"
   ]
  },
  {
   "cell_type": "markdown",
   "metadata": {},
   "source": [
    "Alternatively you can leverage also PyOTA library since it has own implementation of the pseudo-random Seed generator (Python 2.7+ compatible). Difference between both methods is very subtle. I just wanted to illustrate both ways: Fully independent and IOTA-library-dependant."
   ]
  },
  {
   "cell_type": "code",
   "execution_count": 0,
   "metadata": {
    "iotadev": {
     "codeid": "65788F1C3FCB",
     "missing": "true",
     "standalone": "true",
     "title": "Generating a seed - library-based"
    }
   },
   "outputs": [],
   "source": [
    "// No code snippet available for the selected language: javascript"
   ]
  },
  {
   "cell_type": "markdown",
   "metadata": {},
   "source": [
    "### Address\n",
    "There is a deterministic function how to get an address from a seed. It is a basically an indexed collection of addresses starting with address at index 0, 1, 2, etc.\n",
    "\n",
    "While generating addresses you should be also aware there are three different so called *Security Levels* (1, 2 and 3). Each security level generates totally independent pool of addresses. Addresses of Security Level 1 are totally different from addresses of Security Level 2, etc.\n",
    "\n",
    "In a nutshell, Security Level indicates how difficult is to generate *Private key* from the Seed and also what is its size. The higher security level, the more secure (longer) is the given private key. Default Security Level is 2. Most of IOTA wallets uses Security Level=2 and users are usually not allowed to change it. So be carefull while designing your app.\n",
    "\n",
    "As long as *seed, address index and security level* are the same, you always get the same address and corresponding private key:\n",
    "\n",
    "$$PrivateKey/Address = fce(Seed, AddressIndex, SecurityLevel)$$\n",
    "\n",
    "General example:\n",
    "$$PrivateKey/Address1 = fce(Seed, 1, 2)$$\n",
    "$$PrivateKey/Address2 = fce(Seed, 2, 2)$$\n",
    "$$PrivateKey/Address3 = fce(Seed, 3, 2)$$\n",
    "\n",
    "![Anatomy of IOTA address](https://raw.githubusercontent.com/Hribek25/IOTA101/master/Graphics/IOTA_Address_Generation.png \"By Petr Zizka\")"
   ]
  },
  {
   "cell_type": "code",
   "execution_count": 0,
   "metadata": {
    "iotadev": {
     "codeid": "0FF479CB6C0A",
     "standalone": "true",
     "title": "Generating an address"
    },
    "scrolled": true
   },
   "outputs": [
    {
     "name": "stdout",
     "output_type": "stream",
     "text": [
      "\n",
      "[ 'HRLKBQUZAEB9HIVWJEWVDYQ9G9VRQXQAXR9ZWGBFQJKRPOPJYHGAT9LBEIE9RWRMUFSNLCWYHQGYAECHD',\n",
      "  'XEXIDJJTANADOUBPWTCSPPRYYRTITRAHDEOZAEXWDPCYKUPTFMKVQM9KCPPLOCESFRGRVSIYZHXQZNYKC',\n",
      "  'KY9DLZCHET9ATLMADPXGDVDYMPHKRKQPJZ9MB9HEIMMFCRRTNJIJIHPKGZNKKDTFMYPZRRQYAQKVAHMYX' ]\n"
     ]
    }
   ],
   "source": [
    "var IOTA = require('../../node_modules/iota.lib.js/lib/iota');\n",
    "\n",
    "//For this particular task the Node URL is not important as it will not be contacted at all\n",
    "//However it has to be well - formatted URI\n",
    "var NodeURL = \"https://field.carriota.com:443\";\n",
    "\n",
    "var MySeed = \"WKQDUZTGFKSSLACUCHHLZRKZBHSDSCEBHKUPDLKFBQALEBKDMFRPUQGZRXAADPG9TSRTZGGBZOFRJCFMM\";\n",
    "\n",
    "var iota = new IOTA({\n",
    "    'provider': NodeURL\n",
    "});\n",
    "\n",
    "//Let's generate 3 addresses using default security level=2.\n",
    "//It is deterministic function - it always generates same addresses as long as the Seed, Security Level and Index are the same\n",
    "\n",
    "// Please note, it is async method - result is returned via callback function\n",
    "\n",
    "iota.api.getNewAddress(MySeed,\n",
    "    { \"index\": 0, \"total\": 3, \"security\": 2 },\n",
    "    function (error, success) {\n",
    "        if (error) {\n",
    "            console.log(\"Error occured: %s\", error);\n",
    "        } else {\n",
    "            console.log();\n",
    "            console.log(success); //returned addresses are printed out\n",
    "        }        \n",
    "    });\n"
   ]
  },
  {
   "cell_type": "markdown",
   "metadata": {},
   "source": [
    "Needless to say, `NodeURL` is not important for this task at all. As mentioned earlier, some actions are purely done on client's side. This is one of them.\n",
    "\n",
    "Anyway, in case of PyOTA library you can directly use an address generator component instead of the whole library. Outputs are equivalent in both cases."
   ]
  },
  {
   "cell_type": "code",
   "execution_count": 0,
   "metadata": {
    "iotadev": {
     "codeid": "2508A6FF9241",
     "standalone": "true",
     "title": "Generating an address #2"
    }
   },
   "outputs": [
    {
     "name": "stdout",
     "output_type": "stream",
     "text": [
      "HRLKBQUZAEB9HIVWJEWVDYQ9G9VRQXQAXR9ZWGBFQJKRPOPJYHGAT9LBEIE9RWRMUFSNLCWYHQGYAECHD\n",
      "XEXIDJJTANADOUBPWTCSPPRYYRTITRAHDEOZAEXWDPCYKUPTFMKVQM9KCPPLOCESFRGRVSIYZHXQZNYKC\n",
      "KY9DLZCHET9ATLMADPXGDVDYMPHKRKQPJZ9MB9HEIMMFCRRTNJIJIHPKGZNKKDTFMYPZRRQYAQKVAHMYX\n"
     ]
    }
   ],
   "source": [
    "var IOTA = require('../../node_modules/iota.lib.js/lib/iota');\n",
    "\n",
    "var NodeURL = \"https://field.carriota.com:443\";\n",
    "var MySeed = \"WKQDUZTGFKSSLACUCHHLZRKZBHSDSCEBHKUPDLKFBQALEBKDMFRPUQGZRXAADPG9TSRTZGGBZOFRJCFMM\";\n",
    "\n",
    "var iota = new IOTA({\n",
    "    'provider': NodeURL\n",
    "});\n",
    "\n",
    "//Please note, it is sync function\n",
    "for (var i = 0; i < 3; i++ ) {\n",
    "    var address = iota.api._newAddress(MySeed, i, 2, false);\n",
    "    console.log(address);\n",
    "}"
   ]
  },
  {
   "cell_type": "markdown",
   "metadata": {},
   "source": [
    "## Validating IOTA address\n",
    "As mentioned earlier, IOTA address consists of 81 trytes ([A..Z9] characters) or 90 trytes including checksum. Checksum is useful when you want to make sure a valid address was given (no typos, etc.) and so it is a good practise to encourage user of your app using IOTA addresses including checksums = 90 trytes.\n",
    "\n",
    "PyOTA library is able to help you to deal with some basic patterns such as validating addresses, generating checksums, etc."
   ]
  },
  {
   "cell_type": "code",
   "execution_count": 0,
   "metadata": {
    "iotadev": {
     "codeid": "39B011574CF0",
     "standalone": "true",
     "title": "Address and address checksum"
    }
   },
   "outputs": [
    {
     "name": "stdout",
     "output_type": "stream",
     "text": [
      "Original input excl. checksum address:\n",
      "CYJV9DRIE9NCQJYLOYOJOGKQGOOELTWXVWUYGQSWCNODHJAHACADUAAHQ9ODUICCESOIVZABA9LTMM9RW\n",
      "Length: 81\n",
      "Input address including checksum:\n",
      "CYJV9DRIE9NCQJYLOYOJOGKQGOOELTWXVWUYGQSWCNODHJAHACADUAAHQ9ODUICCESOIVZABA9LTMM9RWTHBIRSXTA\n",
      "Length incl checksum: 90\n"
     ]
    }
   ],
   "source": [
    "var IOTA = require('../../node_modules/iota.lib.js/lib/iota');\n",
    "var NodeURL = \"https://field.carriota.com:443\";\n",
    "\n",
    "var iota = new IOTA({\n",
    "    'provider': NodeURL\n",
    "});\n",
    "\n",
    "//some IOTA address\n",
    "var Adr = \"CYJV9DRIE9NCQJYLOYOJOGKQGOOELTWXVWUYGQSWCNODHJAHACADUAAHQ9ODUICCESOIVZABA9LTMM9RW\";\n",
    "\n",
    "console.log(\"Original input excl. checksum address:\");\n",
    "console.log(Adr);\n",
    "console.log(\"Length: %s\", Adr.length)\n",
    "\n",
    "var AdrInclCheckSum = iota.utils.addChecksum(Adr); //generate checksum\n",
    "console.log(\"Input address including checksum:\")\n",
    "console.log(AdrInclCheckSum) // the last 9 trytes is the checksum\n",
    "console.log(\"Length incl checksum: %s\", AdrInclCheckSum.length)"
   ]
  },
  {
   "cell_type": "markdown",
   "metadata": {},
   "source": [
    "You should always make sure your app is dealing with valid IOTA address. Please note, you should also make sure an address is of correct length and consists only of allowed characters.\n",
    "\n",
    "For example the following snippet:\n",
    "* Checks length manually - since PyOTA library accepts also addresses with less than 80 trytes\n",
    "* Checks valid characters are used - PyOTA library would thrown an exception in that case"
   ]
  },
  {
   "cell_type": "code",
   "execution_count": 0,
   "metadata": {
    "iotadev": {
     "codeid": "C65223B0864A",
     "standalone": "true",
     "title": "Validating an address"
    }
   },
   "outputs": [
    {
     "name": "stdout",
     "output_type": "stream",
     "text": [
      "Input address incl checksum:\n",
      "CYJV9DRIE9NCQJYLOYOJOGKQGOOELTWXVWUYGQSWCNODHJAHACADUAAHQ9ODUICCESOIVZABA9LTMM9RWTHBIRSXTA\n",
      "Is it valid addr based on checksum? true\n",
      "Input address excl checksum:\n",
      "CYJV9DRIE9NCQJYLOYOJOGKQGOOELTWXVWUYGQSWCNODHJAHACADUAAHQ9ODUICCESOIVZABA9LTMM9RW\n"
     ]
    }
   ],
   "source": [
    "var IOTA = require('../../node_modules/iota.lib.js/lib/iota');\n",
    "var NodeURL = \"https://field.carriota.com:443\";\n",
    "\n",
    "var iota = new IOTA({\n",
    "    'provider': NodeURL\n",
    "});\n",
    "\n",
    "//address including checksum\n",
    "var InputAddr = \"CYJV9DRIE9NCQJYLOYOJOGKQGOOELTWXVWUYGQSWCNODHJAHACADUAAHQ9ODUICCESOIVZABA9LTMM9RWTHBIRSXTA\";\n",
    "\n",
    "if (!iota.valid.isAddress(InputAddr) || InputAddr.length!=90) {\n",
    "    console.log(\"Not valid input address given.\");    \n",
    "} else {\n",
    "    console.log(\"Input address incl checksum:\");\n",
    "    console.log(InputAddr);\n",
    "\n",
    "    console.log(\"Is it valid addr based on checksum? %s\", iota.utils.isValidChecksum(InputAddr));\n",
    "    console.log(\"Input address excl checksum:\");\n",
    "    console.log(iota.utils.noChecksum(InputAddr))    \n",
    "}"
   ]
  },
  {
   "cell_type": "markdown",
   "metadata": {},
   "source": [
    "# IOTA 101: Transactions\n",
    "A transaction is a smallest piece of data that can be broadcasted to the network. Each transaction consists of fixed 2673 trytes. Transactions (TXs) are basically of two types:\n",
    "* **Value TXs:** those transactions change ownership of IOTA tokens. Two possible states: spending TXs or receiving TXs\n",
    "* **Non-Value TXs:** those transactions include piece of data that can be broadcasted and read from the Tangle\n",
    "\n",
    "Transactions are broadcasted in an envelope called *Bundle*. Bundle may consist of multiple TXs. Bundle is processed by the Tangle as a single entity; meaning only the whole bundle is confirmed by the network (and all TXs within) or nothing. You have to prepare a bundle even if you broadcast single transaction only. Bundle is also described as *atomic* since every bundle includes all information needed to process it antonomously.\n",
    "\n",
    "Each transaction includes several fields, let's name the most important ones:\n",
    "* **`Value`:** Value can be *positive* number = receiving IOTA tokens, *negative* number = spending IOTA tokens or *zero* = broadcasting only piece of data\n",
    "* **`Address`:** It is IOTA address that is associated with the given transaction. *Value* indicates whether it is an address of a receiver or a sender\n",
    "* **`Tag`:** It is an user-defined tag that can be used for searching, etc.\n",
    "* **`SignatureMessageFragment`:** This is the most lenghty attribute (2187 trytes) and could include: *transaction signature* based on private key in case it is a spending TX or *piece of data (message)* in case it is non-value TX. Alternatively it can be also left blank (in case of non-value TXs)\n",
    "* **`tTrunkTransaction` / `branchTransaction`:** Those two fields refer to some previous transactions in the Tangle (tips) that the given bundle is going to approve\n",
    "* **`Timestamp`:** TX timestamp. It is actually UNIX timestamp (UTC)\n",
    "![Creating TX in 5 steps](https://raw.githubusercontent.com/Hribek25/IOTA101/master/Graphics/Creating_TX_in_5_steps.png \"By Petr Zizka\")\n",
    "\n",
    "A process of sending IOTA transaction can be summarized in 5 steps:\n",
    "* To create transation(s) with the given attributes: *value*, *address* and potentially also *tag* or *message*\n",
    "* To finalize a bundle that includes all transactions. Once the bundle is finalized no new transactions can be added. It basically means to generate a *bundle hash*\n",
    "* To search for two tips in the Tangle that you are going to validate. There is not a strict rule how to search them but it is generally recommended to leave it on a *tip selection algorithm* implemented on node's side \n",
    "* To do a *Proof-of-Work* for each transaction in the bundle. Result of POW is *Nonce* and *Transaction hash* stored with each transaction\n",
    "* Finally you need to *broadcast* the whole bundle to the network\n",
    "\n",
    "### A secret of a bundle\n",
    "There is a secret to be shared. You have to understand one important thing. Bundle is a top level construct that link all related transactions under one entity however the bundle itself is not broadcasted in fact. You still broadcast \"only\" collection of individual transactions instead. All transactions are recognized to be part of a bundle by the IOTA protocol however any data peering is based on individual transactions (in trytes).\n",
    "\n",
    "In other words, a bundle can be reconstructed anytime from a collection of transactions via fields `bundle hash`, `current index` and `last index`."
   ]
  },
  {
   "cell_type": "markdown",
   "metadata": {},
   "source": [
    "## Non-value transactions\n",
    "Let's start with non-value transactions (meta transactions) first since they are a bit easier for starters.\n",
    "\n",
    "*Please note, the chapter is divided in two separate sections. In the first section, examples are really close to bare metal (still not too close:) to illustrate the whole process and describing implementation details wherever possible. It is also useful when you want to experiment with different settings at each step (hey \"non-existing tips\", looking at you).*\n",
    "\n",
    "*In the second section, PyOTA library is fully levearged since it is capable to hide all implementation details behind a curtain. Needless to say, if you are not interested in such details then you probably would like to start with the second section.*\n",
    "\n",
    "### Creating and broadcasting transaction in 5 steps (you want to understand the process)\n",
    "#### Create a transaction\n",
    "First of all let's create transactions (offline; in memory) and set main fields.\n",
    "\n",
    "BTW: `Timestamp` field is defined automatically by the PyOTA library and so please make sure it is also defined while using other IOTA-facing libraries. It is an important field while creating `bundle hash`.\n",
    "\n",
    "In the examples within this chapter we are going to broadcast meta transactions (data only) to two different IOTA addresses."
   ]
  },
  {
   "cell_type": "code",
   "execution_count": 0,
   "metadata": {
    "iotadev": {
     "codeid": "445C2B9485C6",
     "standalone": "true",
     "title": "Preparing transactions"
    }
   },
   "outputs": [
    {
     "name": "stdout",
     "output_type": "stream",
     "text": [
      "Created transaction objects - mandatory fields only:\n",
      "{ address: 'CXDUYK9XGHC9DTSPDMKGGGXAIARSRVAFGHJOCDDHWADLVBBOEHLICHTMGKVDOGRU9TBESJNHAXYPVJ9R9',\n",
      "  value: 0,\n",
      "  message: 'RBTCFDTCEARCCDADTCGDEAPCEAUCXCFDGDHDEAADTCGDGDPCVCTCSAEAXBCDKDEAXCGDEACCIDTCEATBID9DEAVAABEAWAUAVABBEAVAZADBVAZADBVABBEAQBWBCCPAUAWAUAUAEAMAMBOBBCCCNA',\n",
      "  tag: 'HRIBEK999IOTA999TUTORIAL' }\n",
      "{ address: 'CYJV9DRIE9NCQJYLOYOJOGKQGOOELTWXVWUYGQSWCNODHJAHACADUAAHQ9ODUICCESOIVZABA9LTMM9RW',\n",
      "  value: 0,\n",
      "  message: 'RBTCFDTCEARCCDADTCGDEAPCEAGDTCRCCDBDSCEAADTCGDGDPCVCTCSAEAXBCDKDEAXCGDEACCIDTCEATBID9DEAVAABEAWAUAVABBEAVAZADBVAZADBVABBEAQBWBCCPAUAWAUAUAEAMAMBOBBCCCNA',\n",
      "  tag: 'HRIBEK999IOTA999TUTORIAL' }\n"
     ]
    }
   ],
   "source": [
    "var IOTA = require('../../node_modules/iota.lib.js/lib/iota');\n",
    "var NodeURL = \"https://field.carriota.com:443\";\n",
    "\n",
    "var iota = new IOTA({\n",
    "    'provider': NodeURL\n",
    "});\n",
    "\n",
    "var MySeed = \"HGW9HB9LJPYUGVHNGCPLFKKPNZAIIFHZBDHKSGMQKFMANUBASSMSV9TAJSSMPRZZU9SFZULXKJ9YLAIUA\";\n",
    "var TargetAddress1 = \"CXDUYK9XGHC9DTSPDMKGGGXAIARSRVAFGHJOCDDHWADLVBBOEHLICHTMGKVDOGRU9TBESJNHAXYPVJ9R9\";\n",
    "var TargetAddress2 = \"CYJV9DRIE9NCQJYLOYOJOGKQGOOELTWXVWUYGQSWCNODHJAHACADUAAHQ9ODUICCESOIVZABA9LTMM9RW\";\n",
    "\n",
    "var NowIs = new Date() //get a actual date & time - just to have some meaningfull info\n",
    "\n",
    "// preparing transactions\n",
    "var pt = {\n",
    "    'address': TargetAddress1, //81 trytes long address\n",
    "    'value': 0,\n",
    "    'message': iota.utils.toTrytes('Here comes a first message. Now is ' + NowIs),\n",
    "    'tag': 'HRIBEK999IOTA999TUTORIAL' //Up to 27 trytes\n",
    "}\n",
    "\n",
    "var pt2 = {\n",
    "    'address': TargetAddress2, //81 trytes long address\n",
    "    'value': 0,\n",
    "    'message': iota.utils.toTrytes('Here comes a second message. Now is ' + NowIs),\n",
    "    'tag': 'HRIBEK999IOTA999TUTORIAL' //Up to 27 trytes\n",
    "}\n",
    "\n",
    "console.log(\"Created transaction objects - mandatory fields only:\")\n",
    "console.log(pt)\n",
    "console.log(pt2)"
   ]
  },
  {
   "cell_type": "markdown",
   "metadata": {},
   "source": [
    "#### Finalizing bundle\n",
    "Once all individual transactions are created it is time to prepare and finalize the bundle. While preparing the bundle you need at least to specify list of prepared transaction(s). In case of non-value transactions it is quite straightforward process. However, it is a bit more complicated in case of value transactions - please see later.\n",
    "\n",
    "Finalizing the bundle consists of several tasks under the hood:\n",
    "* Each transaction is indexed. Attributes `current_index` / `last_index` are set\n",
    "* `Bundle hash` is generated (*Sponge function* + normalization) and assigned to each transaction\n",
    "* `signatureMessageFragment` is bascially copy of `message` field in case of non-value transactions\n",
    "* PyOTA library also checks whether the data in `message` field is larger than transaction allows (2187 trytes). If this is the case then it takes care of it and split your data into several transactions\n",
    "\n",
    "*Please note, finalizing the bundle also means you are no longer able to add new transactions to the bundle post the finalization process.*\n",
    "\n",
    "Simply put, `bundle hash` is a cryptographic \"fingerprint\" of all transactions in the bundle. It uniquely represents them and so as long as transactions are the same (incl their particular order) the `bundle hash` is also the same.\n",
    "\n",
    "$$BundleHash = fce(address, value, legacy tag, timestamp, current index, last index)$$\n",
    "\n",
    "You may be wondering what is a difference between `tag` and `legacy_tag`. `Tag` includes actualy the tag that was defined during the transaction creation. `Legacy_tag` is also based on it however it is modified during the normalization process while bundle hashing to be sure that `bundle hash` is can be securely used while TX signing. That's why the `bundle hash` is sometimes refered as `normalized bundle hash`.\n",
    "\n",
    "The bundle refers to the first transaction in collection as `tail_transaction`. You can perceive `tail transaction` as an official representative of the whole bundle while checking for confirmation status, etc. Remember, the bundle is an atomic entity and so whatever is done to bundle it applies to ALL transactions within."
   ]
  },
  {
   "cell_type": "code",
   "execution_count": 0,
   "metadata": {
    "iotadev": {
     "codeid": "C4C3A3808862",
     "standalone": "false",
     "title": "Preparing bundle"
    }
   },
   "outputs": [
    {
     "name": "stdout",
     "output_type": "stream",
     "text": [
      "Generated bundle hash: GDTWCVGFQCLKTXKBTSFRYSSAYTIZLUZCBRKVGGIEBCHCBUYEGWGTGBUYJFTA9WWNKQTCGZUFEJSLQAAJD\n",
      "List of all transactions in the bundle:\n",
      "{ hash: 'XOZAZREKXGHJKZFFGI9DFBLCAPMRRWRNER9ESCNCOFAA9GVSEDIWCUVLSJCWLUTEJDMJCIN99AAJMIUBP',\n",
      "  signatureMessageFragment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n",
      "  address: 'CYJV9DRIE9NCQJYLOYOJOGKQGOOELTWXVWUYGQSWCNODHJAHACADUAAHQ9ODUICCESOIVZABA9LTMM9RW',\n",
      "  value: 0,\n",
      "  obsoleteTag: 'HRIBEK999IOTA999TUTORIAL999',\n",
      "  timestamp: 1531833342,\n",
      "  currentIndex: 1,\n",
      "  lastIndex: 1,\n",
      "  bundle: 'GDTWCVGFQCLKTXKBTSFRYSSAYTIZLUZCBRKVGGIEBCHCBUYEGWGTGBUYJFTA9WWNKQTCGZUFEJSLQAAJD',\n",
      "  trunkTransaction: '999999999999999999999999999999999999999999999999999999999999999999999999999999999',\n",
      "  branchTransaction: '999999999999999999999999999999999999999999999999999999999999999999999999999999999',\n",
      "  tag: 'HRIBEK999IOTA999TUTORIAL999',\n",
      "  attachmentTimestamp: 0,\n",
      "  attachmentTimestampLowerBound: 0,\n",
      "  attachmentTimestampUpperBound: 0,\n",
      "  nonce: '999999999999999999999999999' }\n",
      "{ hash: 'QZBGGEATAJALRFMPUANRUSOGQJIXPFAECWTDXFMSDBAECRZEDONAONDGDHYQKQJ9GA9VUUQMCKBZNUAHD',\n",
      "  signatureMessageFragment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n",
      "  address: 'CXDUYK9XGHC9DTSPDMKGGGXAIARSRVAFGHJOCDDHWADLVBBOEHLICHTMGKVDOGRU9TBESJNHAXYPVJ9R9',\n",
      "  value: 0,\n",
      "  obsoleteTag: 'WXIBEK999IOTA999TUTORIAL999',\n",
      "  timestamp: 1531833342,\n",
      "  currentIndex: 0,\n",
      "  lastIndex: 1,\n",
      "  bundle: 'GDTWCVGFQCLKTXKBTSFRYSSAYTIZLUZCBRKVGGIEBCHCBUYEGWGTGBUYJFTA9WWNKQTCGZUFEJSLQAAJD',\n",
      "  trunkTransaction: '999999999999999999999999999999999999999999999999999999999999999999999999999999999',\n",
      "  branchTransaction: '999999999999999999999999999999999999999999999999999999999999999999999999999999999',\n",
      "  tag: 'HRIBEK999IOTA999TUTORIAL999',\n",
      "  attachmentTimestamp: 0,\n",
      "  attachmentTimestampLowerBound: 0,\n",
      "  attachmentTimestampUpperBound: 0,\n",
      "  nonce: '999999999999999999999999999' }\n"
     ]
    }
   ],
   "source": [
    "var IOTA = require('../../node_modules/iota.lib.js/lib/iota');\n",
    "var NodeURL = \"https://field.carriota.com:443\";\n",
    "\n",
    "var iota = new IOTA({\n",
    "    'provider': NodeURL\n",
    "});\n",
    "\n",
    "var MySeed = \"HGW9HB9LJPYUGVHNGCPLFKKPNZAIIFHZBDHKSGMQKFMANUBASSMSV9TAJSSMPRZZU9SFZULXKJ9YLAIUA\";\n",
    "var TargetAddress1 = \"CXDUYK9XGHC9DTSPDMKGGGXAIARSRVAFGHJOCDDHWADLVBBOEHLICHTMGKVDOGRU9TBESJNHAXYPVJ9R9\";\n",
    "var TargetAddress2 = \"CYJV9DRIE9NCQJYLOYOJOGKQGOOELTWXVWUYGQSWCNODHJAHACADUAAHQ9ODUICCESOIVZABA9LTMM9RW\";\n",
    "\n",
    "var NowIs = new Date(); \n",
    "\n",
    "var pt = {\n",
    "    'address': TargetAddress1, \n",
    "    'value': 0,\n",
    "    'message': iota.utils.toTrytes('Here comes a first message. Now is ' + NowIs),\n",
    "    'tag': 'HRIBEK999IOTA999TUTORIAL'\n",
    "};\n",
    "\n",
    "var pt2 = {\n",
    "    'address': TargetAddress2, \n",
    "    'value': 0,\n",
    "    'message': iota.utils.toTrytes('Here comes a second message. Now is ' + NowIs),\n",
    "    'tag': 'HRIBEK999IOTA999TUTORIAL999'\n",
    "};\n",
    "\n",
    "var bundle;\n",
    "\n",
    "iota.api.prepareTransfers(\n",
    "    MySeed,\n",
    "    [pt,pt2],\n",
    "    {},\n",
    "    function (e, r) {\n",
    "        if (e) {\n",
    "            console.log(\"Something went wrong: %s\", e);\n",
    "        }\n",
    "        else {\n",
    "            console.log(\"Generated bundle hash: %s\", iota.utils.transactionObject(r[0]).bundle);\n",
    "            console.log(\"List of all transactions in the bundle:\");\n",
    "            for (var i in r) {\n",
    "                console.log(iota.utils.transactionObject(r[i]));\n",
    "            }\n",
    "            bundle=r;\n",
    "        }\n",
    "    }\n",
    ");\n"
   ]
  },
  {
   "cell_type": "markdown",
   "metadata": {},
   "source": [
    "At this stage you can also see how does our finalized bundle look encoded in Trytes so far. It is also a proof that there is no bundle to be broadcasted itself, only list of transations matter."
   ]
  },
  {
   "cell_type": "code",
   "execution_count": 0,
   "metadata": {
    "iotadev": {
     "codeid": "B4FE2962FB5C",
     "standalone": "false",
     "title": "Bundle as trytes"
    }
   },
   "outputs": [
    {
     "name": "stdout",
     "output_type": "stream",
     "text": [
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n",
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n"
     ]
    }
   ],
   "source": [
    "console.log(bundle);"
   ]
  },
  {
   "cell_type": "markdown",
   "metadata": {},
   "source": [
    "#### Selecting two tips\n",
    "As mentioned earlier you need to find two tips that you are going to validate together with your bundle for a sake of network participation. This will be outsourced to an IOTA node and so it will be for the first time we interact with the network (via API call `get_transactions_to_approve`).\n",
    "\n",
    "There is a `depth` parameter needed. It instructs a node how many milestones it should go in the past while confirming tips. The higher value the better to network however more resources needed. `Depth=3` is considered to be well-balanced compromise. Higher value than `depth=10` will probably throw an exception depending on node's configuration.\n",
    "\n",
    "It should return two selected tips as `branch` and `trunk` transactions. Those transactions will be used while broadcasting the bundle."
   ]
  },
  {
   "cell_type": "code",
   "execution_count": 0,
   "metadata": {
    "iotadev": {
     "codeid": "20F0C730001B",
     "standalone": "false",
     "title": "Get transactions to approve"
    }
   },
   "outputs": [
    {
     "name": "stdout",
     "output_type": "stream",
     "text": [
      "{ trunkTransaction: 'BVLJJASHPJBVREAKYZHANSZU99HUJKRNWRHD9IUHOAVLFDBJGNAZPBUNIGEOSGOCUYVYTXKCUAQXA9999',\n",
      "  branchTransaction: 'TZDQHHYAELIGG9KZVGBPOFNDGTIXELQZTCNGN99ATTRAKULUXAAMLAQJAHTQJTEEJXNVCORECCHWZ9999',\n",
      "  duration: 1659,\n",
      "  fieldPublicId: '48fb519c27e0a687',\n",
      "  fieldName: 'TingleTangleServer',\n",
      "  fieldVersion: '0.1.6' }\n"
     ]
    }
   ],
   "source": [
    "var gta;\n",
    "iota.api.getTransactionsToApprove(\n",
    "    3,\n",
    "    null,\n",
    "    function (e, r) {\n",
    "        if (e) {\n",
    "            console.log(\"Something went wrong: %s\", e);\n",
    "        }\n",
    "        else {\n",
    "            console.log(r);\n",
    "            gta=r;\n",
    "        }\n",
    "    }\n",
    ");"
   ]
  },
  {
   "cell_type": "markdown",
   "metadata": {},
   "source": [
    "#### Performin' POW\n",
    "*Proof of work* is a relatively simple cryptograhic puzzle to be solved. It represents energy-based costs of your transaction. It also helps to minimize risks of some attack vectors to the network.\n",
    "\n",
    "This task can be also outsourced to IOTA nodes. In order to perform it you need *selected tips*, *finalized bundle* (in trytes) and also `Minimum Weight Magnitude` parameter. This parameter defines how diffciult the given cryptographic puzzle should be to be accepted by the network. As of now, you should set at least `min_weight_magnitude=14` in case of mainnet.\n",
    "\n",
    "Please note, POW is performed per each transaction and so it can take some time. That's why it is not recommended to have more than 30 transactions in a bundle.\n",
    "\n",
    "Once succesfully performed, the modified bundle (list of all transactions in trytes) is returned in order to be broadcasted.\n",
    "\n",
    "Specifically:\n",
    "* Fields `nonce` and `transaction hash` are calculated per each transaction\n",
    "* `Trunk` and `Branch` tips are correctly mapped among transactions within the bundle. Check that `trunk` of the first TX refers to the second TX, etc."
   ]
  },
  {
   "cell_type": "code",
   "execution_count": 0,
   "metadata": {
    "iotadev": {
     "codeid": "1DFBE208CD1D",
     "standalone": "false",
     "title": "Attach to tangle"
    }
   },
   "outputs": [
    {
     "name": "stdout",
     "output_type": "stream",
     "text": [
      "Performing POW...Wait please...\n",
      "[ 'RBTCFDTCEARCCDADTCGDEAPCEAUCXCFDGDHDEAADTCGDGDPCVCTCSAEAXBCDKDEAXCGDEACCIDTCEATBID9DEAVAABEAWAUAVABBEAVAZADBVAZADBYAWAEAQBWBCCPAUAWAUAUAEAMAMBOBBCCCNA999999999999999999999999999999999999999999999999999999999999999999999999999999999999999999999999999999999999999999999999999999999999999999999999999999999999999999999999999999999999999999999999999999999999999999999999999999999999999999999999999999999999999999999999999999999999999999999999999999999999999999999999999999999999999999999999999999999999999999999999999999999999999999999999999999999999999999999999999999999999999999999999999999999999999999999999999999999999999999999999999999999999999999999999999999999999999999999999999999999999999999999999999999999999999999999999999999999999999999999999999999999999999999999999999999999999999999999999999999999999999999999999999999999999999999999999999999999999999999999999999999999999999999999999999999999999999999999999999999999999999999999999999999999999999999999999999999999999999999999999999999999999999999999999999999999999999999999999999999999999999999999999999999999999999999999999999999999999999999999999999999999999999999999999999999999999999999999999999999999999999999999999999999999999999999999999999999999999999999999999999999999999999999999999999999999999999999999999999999999999999999999999999999999999999999999999999999999999999999999999999999999999999999999999999999999999999999999999999999999999999999999999999999999999999999999999999999999999999999999999999999999999999999999999999999999999999999999999999999999999999999999999999999999999999999999999999999999999999999999999999999999999999999999999999999999999999999999999999999999999999999999999999999999999999999999999999999999999999999999999999999999999999999999999999999999999999999999999999999999999999999999999999999999999999999999999999999999999999999999999999999999999999999999999999999999999999999999999999999999999999999999999999999999999999999999999999999999999999999999999999999999999999999999999999999999999999999999999999999999999999999999999999999999999999999999999999999999999999999999999999999999999999999999999999999999999999999999999999999999999999999999999999999999999999999999999999999999999999999999CXDUYK9XGHC9DTSPDMKGGGXAIARSRVAFGHJOCDDHWADLVBBOEHLICHTMGKVDOGRU9TBESJNHAXYPVJ9R9999999999999999999999999999WXIBEK999IOTA999TUTORIAL999FHEKTZD99999999999A99999999GDTWCVGFQCLKTXKBTSFRYSSAYTIZLUZCBRKVGGIEBCHCBUYEGWGTGBUYJFTA9WWNKQTCGZUFEJSLQAAJDZUZZWZYQFHYBZIMMGYZSXYSDMB9MRKQQLLYWXPRUDXWHKJEMCWSXKERISUBWVAEWEVQUNPVHHLVOZ9999BVLJJASHPJBVREAKYZHANSZU99HUJKRNWRHD9IUHOAVLFDBJGNAZPBUNIGEOSGOCUYVYTXKCUAQXA9999HRIBEK999IOTA999TUTORIAL999CWOVCYLKE999999999MMMMMMMMMYZWWAMKZXP9KVWKNQVMEUSFHORV',\n",
      "  'RBTCFDTCEARCCDADTCGDEAPCEAGDTCRCCDBDSCEAADTCGDGDPCVCTCSAEAXBCDKDEAXCGDEACCIDTCEATBID9DEAVAABEAWAUAVABBEAVAZADBVAZADBYAWAEAQBWBCCPAUAWAUAUAEAMAMBOBBCCCNA9999999999999999999999999999999999999999999999999999999999999999999999999999999999999999999999999999999999999999999999999999999999999999999999999999999999999999999999999999999999999999999999999999999999999999999999999999999999999999999999999999999999999999999999999999999999999999999999999999999999999999999999999999999999999999999999999999999999999999999999999999999999999999999999999999999999999999999999999999999999999999999999999999999999999999999999999999999999999999999999999999999999999999999999999999999999999999999999999999999999999999999999999999999999999999999999999999999999999999999999999999999999999999999999999999999999999999999999999999999999999999999999999999999999999999999999999999999999999999999999999999999999999999999999999999999999999999999999999999999999999999999999999999999999999999999999999999999999999999999999999999999999999999999999999999999999999999999999999999999999999999999999999999999999999999999999999999999999999999999999999999999999999999999999999999999999999999999999999999999999999999999999999999999999999999999999999999999999999999999999999999999999999999999999999999999999999999999999999999999999999999999999999999999999999999999999999999999999999999999999999999999999999999999999999999999999999999999999999999999999999999999999999999999999999999999999999999999999999999999999999999999999999999999999999999999999999999999999999999999999999999999999999999999999999999999999999999999999999999999999999999999999999999999999999999999999999999999999999999999999999999999999999999999999999999999999999999999999999999999999999999999999999999999999999999999999999999999999999999999999999999999999999999999999999999999999999999999999999999999999999999999999999999999999999999999999999999999999999999999999999999999999999999999999999999999999999999999999999999999999999999999999999999999999999999999999999999999999999999999999999999999999999999999999999999999999999999999999999999999999999999999999999999999999999999999999999999999999999999999999999999999999999999999999999999999999999999999999999999999CYJV9DRIE9NCQJYLOYOJOGKQGOOELTWXVWUYGQSWCNODHJAHACADUAAHQ9ODUICCESOIVZABA9LTMM9RW999999999999999999999999999HRIBEK999IOTA999TUTORIAL999FHEKTZD99A99999999A99999999GDTWCVGFQCLKTXKBTSFRYSSAYTIZLUZCBRKVGGIEBCHCBUYEGWGTGBUYJFTA9WWNKQTCGZUFEJSLQAAJDBVLJJASHPJBVREAKYZHANSZU99HUJKRNWRHD9IUHOAVLFDBJGNAZPBUNIGEOSGOCUYVYTXKCUAQXA9999TZDQHHYAELIGG9KZVGBPOFNDGTIXELQZTCNGN99ATTRAKULUXAAMLAQJAHTQJTEEJXNVCORECCHWZ9999HRIBEK999IOTA999TUTORIAL999RDLUCYLKE999999999MMMMMMMMMBZFZLOLXIROMWKWOAPVFKVN9EPK' ]\n"
     ]
    }
   ],
   "source": [
    "console.log(\"Performing POW...Wait please...\");\n",
    "\n",
    "var att;\n",
    "iota.api.attachToTangle(gta['trunkTransaction'],\n",
    "                        gta['branchTransaction'],\n",
    "                        14,\n",
    "                        bundle,\n",
    "                        function (e, r) {\n",
    "                            if (e) {\n",
    "                                console.log(\"Something went wrong: %s\", e);\n",
    "                            }\n",
    "                            else {\n",
    "                                console.log(r);\n",
    "                                att = r;                                    \n",
    "                            }\n",
    "                        }\n",
    "                  );                            \n"
   ]
  },
  {
   "cell_type": "markdown",
   "metadata": {},
   "source": [
    "You can eventually also preview what specific fields have been modified using transaction objects. The bundle is ready to be broadcasted and so it also show you all fields/values that will be stored in the network."
   ]
  },
  {
   "cell_type": "code",
   "execution_count": 0,
   "metadata": {
    "iotadev": {
     "codeid": "8817C6010CDD",
     "standalone": "false",
     "title": "Transaction preview"
    }
   },
   "outputs": [
    {
     "name": "stdout",
     "output_type": "stream",
     "text": [
      "Final bundle including POW and branch/trunk transactions:\n",
      "{ hash: 'WSXRCNWLVGWJVOVORHVHKLQCUTMNGBSHKLWVRCVHWEFSAOSZTESATIJYPLCUTPRSEOZPORGVPKLMA9999',\n",
      "  signatureMessageFragment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n",
      "  address: 'CXDUYK9XGHC9DTSPDMKGGGXAIARSRVAFGHJOCDDHWADLVBBOEHLICHTMGKVDOGRU9TBESJNHAXYPVJ9R9',\n",
      "  value: 0,\n",
      "  obsoleteTag: 'WXIBEK999IOTA999TUTORIAL999',\n",
      "  timestamp: 1531833342,\n",
      "  currentIndex: 0,\n",
      "  lastIndex: 1,\n",
      "  bundle: 'GDTWCVGFQCLKTXKBTSFRYSSAYTIZLUZCBRKVGGIEBCHCBUYEGWGTGBUYJFTA9WWNKQTCGZUFEJSLQAAJD',\n",
      "  trunkTransaction: 'ZUZZWZYQFHYBZIMMGYZSXYSDMB9MRKQQLLYWXPRUDXWHKJEMCWSXKERISUBWVAEWEVQUNPVHHLVOZ9999',\n",
      "  branchTransaction: 'BVLJJASHPJBVREAKYZHANSZU99HUJKRNWRHD9IUHOAVLFDBJGNAZPBUNIGEOSGOCUYVYTXKCUAQXA9999',\n",
      "  tag: 'HRIBEK999IOTA999TUTORIAL999',\n",
      "  attachmentTimestamp: 1531833402747,\n",
      "  attachmentTimestampLowerBound: 0,\n",
      "  attachmentTimestampUpperBound: 3812798742493,\n",
      "  nonce: 'YZWWAMKZXP9KVWKNQVMEUSFHORV' }\n",
      "{ hash: 'ZUZZWZYQFHYBZIMMGYZSXYSDMB9MRKQQLLYWXPRUDXWHKJEMCWSXKERISUBWVAEWEVQUNPVHHLVOZ9999',\n",
      "  signatureMessageFragment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n",
      "  address: 'CYJV9DRIE9NCQJYLOYOJOGKQGOOELTWXVWUYGQSWCNODHJAHACADUAAHQ9ODUICCESOIVZABA9LTMM9RW',\n",
      "  value: 0,\n",
      "  obsoleteTag: 'HRIBEK999IOTA999TUTORIAL999',\n",
      "  timestamp: 1531833342,\n",
      "  currentIndex: 1,\n",
      "  lastIndex: 1,\n",
      "  bundle: 'GDTWCVGFQCLKTXKBTSFRYSSAYTIZLUZCBRKVGGIEBCHCBUYEGWGTGBUYJFTA9WWNKQTCGZUFEJSLQAAJD',\n",
      "  trunkTransaction: 'BVLJJASHPJBVREAKYZHANSZU99HUJKRNWRHD9IUHOAVLFDBJGNAZPBUNIGEOSGOCUYVYTXKCUAQXA9999',\n",
      "  branchTransaction: 'TZDQHHYAELIGG9KZVGBPOFNDGTIXELQZTCNGN99ATTRAKULUXAAMLAQJAHTQJTEEJXNVCORECCHWZ9999',\n",
      "  tag: 'HRIBEK999IOTA999TUTORIAL999',\n",
      "  attachmentTimestamp: 1531833400764,\n",
      "  attachmentTimestampLowerBound: 0,\n",
      "  attachmentTimestampUpperBound: 3812798742493,\n",
      "  nonce: 'BZFZLOLXIROMWKWOAPVFKVN9EPK' }\n"
     ]
    }
   ],
   "source": [
    "//show what has been broadcasted - hash transaction + nonce (POW)\n",
    "console.log(\"Final bundle including POW and branch/trunk transactions:\");\n",
    "for (var i in att) {\n",
    "    console.log(iota.utils.transactionObject(att[i])) //Let's print attributes of each TX\n",
    "}"
   ]
  },
  {
   "cell_type": "markdown",
   "metadata": {},
   "source": [
    "#### Broadcasting\n",
    "Now it is time to broadcast the given bundle to the network. List of all transations in trytes returned from the previous step is only thing needed.\n",
    "\n",
    "Once succesfully broadcasted it returns the same input bundle as a confirmation."
   ]
  },
  {
   "cell_type": "code",
   "execution_count": 0,
   "metadata": {
    "iotadev": {
     "codeid": "CD0C67713BF9",
     "standalone": "false",
     "title": "Broadcasting bundle"
    }
   },
   "outputs": [
    {
     "name": "stdout",
     "output_type": "stream",
     "text": [
      "Broadcasting transaction...\n",
      "{ duration: 31,\n",
      "  fieldPublicId: '19d64160036f36aa',\n",
      "  fieldName: 'cr4zys4m_Node3',\n",
      "  fieldVersion: '0.1.6' }\n"
     ]
    }
   ],
   "source": [
    "//broadcast and store\n",
    "console.log(\"Broadcasting transaction...\");\n",
    "iota.api.storeAndBroadcast(\n",
    "                           att,\n",
    "                           function (e, r) {\n",
    "                               if (e) {\n",
    "                                   console.log(\"Something went wrong: %s\", e);\n",
    "                               }\n",
    "                               else {\n",
    "                                   console.log(r);\n",
    "                               }\n",
    "                           }\n",
    "                        );"
   ]
  },
  {
   "cell_type": "markdown",
   "metadata": {},
   "source": [
    "You can check the broadcasted bundle via The Tangle Explorer at any of the receiving addresses:\n",
    "* Target address 1: https://thetangle.org/address/CXDUYK9XGHC9DTSPDMKGGGXAIARSRVAFGHJOCDDHWADLVBBOEHLICHTMGKVDOGRU9TBESJNHAXYPVJ9R9\n",
    "* Target address 2: \n",
    "https://thetangle.org/address/CYJV9DRIE9NCQJYLOYOJOGKQGOOELTWXVWUYGQSWCNODHJAHACADUAAHQ9ODUICCESOIVZABA9LTMM9RW"
   ]
  },
  {
   "cell_type": "markdown",
   "metadata": {},
   "source": [
    "### Creating and broadcasting transaction in a single call (you want send a transaction quickly)\n",
    "As mentioned above, PyOTA library (and almost any other IOTA-facing library) is able to encapsulate all implementation details and so you do not need to care of them anymore. It is usually based on *extended API calls* that were proposed to be included by IOTA Foundation to make developer's life easier (https://github.com/iotaledger/wiki/blob/master/api-proposal.md).\n",
    "\n",
    "Even if using extended API calls you can still slightly control a level of your involvement in the whole process. From almost no involvement and fully automatic (*send_transfer()*) to semi-manual approach discussed above.\n",
    "\n",
    "![Different API calls](https://raw.githubusercontent.com/Hribek25/IOTA101/master/Graphics/Different_API_calls.png \"By Petr Zizka\")\n",
    "\n",
    "There are some specifics you should consider while designing your app:\n",
    "* You are loosing a bit of control of individual steps of the process and you have to rely of some predefined parameters (tip selection algo, etc.)\n",
    "* If there is an exception raised during the process then you need to go back at beginning and restart the whole process again\n",
    "\n",
    "So it is basically your call to decide what works best for you.\n",
    "\n",
    "Now back to our exercise. Here comes a code that basically broadcasts transactions in a single call (*send_transfer()*) and you do not have to care of any implemenation details that are hidden under the hood."
   ]
  },
  {
   "cell_type": "code",
   "execution_count": 0,
   "metadata": {
    "iotadev": {
     "codeid": "00663E550ADF",
     "missing": "true",
     "standalone": "true",
     "title": "Send transfer()"
    }
   },
   "outputs": [],
   "source": [
    "// No code snippet available for the selected language: javascript"
   ]
  },
  {
   "cell_type": "markdown",
   "metadata": {},
   "source": [
    "You can check the broadcasted bundle via The Tangle Explorer at any of the receiving addresses:\n",
    "* Target address 1: https://thetangle.org/address/CXDUYK9XGHC9DTSPDMKGGGXAIARSRVAFGHJOCDDHWADLVBBOEHLICHTMGKVDOGRU9TBESJNHAXYPVJ9R9\n",
    "* Target address 2: \n",
    "https://thetangle.org/address/CYJV9DRIE9NCQJYLOYOJOGKQGOOELTWXVWUYGQSWCNODHJAHACADUAAHQ9ODUICCESOIVZABA9LTMM9RW"
   ]
  },
  {
   "cell_type": "markdown",
   "metadata": {},
   "source": [
    "And to complete the picture here is addtional code that uses prepare_transfer() and send_trytes() combo."
   ]
  },
  {
   "cell_type": "code",
   "execution_count": 0,
   "metadata": {
    "iotadev": {
     "codeid": "07CFD43B146C",
     "missing": "true",
     "standalone": "true",
     "title": "Prepare transfer and send transfer"
    }
   },
   "outputs": [],
   "source": [
    "// No code snippet available for the selected language: javascript"
   ]
  },
  {
   "cell_type": "markdown",
   "metadata": {},
   "source": [
    "You can check the broadcasted bundle via The Tangle Explorer at any of the receiving addresses:\n",
    "* Target address 1: https://thetangle.org/address/CXDUYK9XGHC9DTSPDMKGGGXAIARSRVAFGHJOCDDHWADLVBBOEHLICHTMGKVDOGRU9TBESJNHAXYPVJ9R9\n",
    "* Target address 2: \n",
    "https://thetangle.org/address/CYJV9DRIE9NCQJYLOYOJOGKQGOOELTWXVWUYGQSWCNODHJAHACADUAAHQ9ODUICCESOIVZABA9LTMM9RW"
   ]
  },
  {
   "cell_type": "markdown",
   "metadata": {},
   "source": [
    "## Value transactions\n",
    "Meta transactions were discussed in the previous chapter. This chapter describes `value transactions` which are transactions that transfer IOTA tokens between IOTA addresses. Tokens are fully premined and so number of tokens in the network is given. So `transfering tokens` means changing their ownership only.\n",
    "\n",
    "While preparing a bundle with `value transations` it is important to distinguish three different transaction types within a bundle:\n",
    "* **Input TXs:** those are transactions that *deducting* (spending) value from address(es). Those transactions have negative `value` field. They usually refer to `senders`\n",
    "* **Output TXs:** those are transactions that *adding* (receiving) value to address(es). Those transactions have positive `value` field. They usually refer to `recipients`\n",
    "* **Unspent/change TX:** technically speaking it is also *output* transaction that *adding* value however it usually refers to `senders` and so it is better to consider it separated from other output TXs\n",
    "\n",
    "All three types have to be part of each bundle otherwise you are under a risk of loosing IOTA tokens. In other words, each bundle should consists of at least one `input` TX, one `output` TX and one `unspent` TX. Total balance of the bundle should be zero since the number of tokens is the same, just token owners have been \"changed\".\n",
    "\n",
    "Example:\n",
    "* Alice owns 100 tokens (*input = 100*)\n",
    "* Alice is going to send 20 tokens to John from the address that includes 100 tokens of her (*Alice -100*)\n",
    "* John is going to receive 20 tokens from Alice (*output = 20*; *John +20*)\n",
    "* Alice still owns 80 tokens after the transaction (*unspent = 80*; *Alice +80*)\n",
    "\n",
    "Alice's bundle should look like:\n",
    "\\begin{align}\n",
    "Input - Output & = \\ Unspent \\\\\n",
    "Input - Output - Unspent & = \\ 0 \\\\\n",
    "100 - 20 - 80 & = \\ 0\n",
    "\\end{align}\n",
    "\n",
    "Why Alice has to \"put\" all 100 tokens in the bundle while she is going to actually spend only 20 tokens? The reason is that IOTA protocol uses one-time signature scheme (OTS) for transaction signing while spending tokens. And with every signing process a half of a private key of the given address is revealed. That's why no one should ever spend tokens from the same address again.\n",
    "![Never reuse address](https://raw.githubusercontent.com/Hribek25/IOTA101/17cde67e39b66dd7c481577497e08399fc888f96/Graphics/never-reuse-address-again.png \"By Petr Zizka\")\n",
    "\n",
    "### Spending tokens\n",
    "*Please note: for a purpose of this chapter we are going to switch to a test network called `devnet`. It is the testing Tangle. Tokens are not real and everything you do have no implication to the mainnet at all. However it is stil powered by standard node software and so technicaly speaking it behaves like the mainnet. If you need more info regarding devnet please refer to [the official documentation](https://docs.iota.org/introduction/testnet/introduction).*\n",
    "\n",
    "Everything what has been mentioned in the previous chapter focused on `non-value` transations is still valid also in case of value transactions however there are several additional tasks you should take care of. Needless to say, IOTA libraries (PyOTA and others) are ready to help you and are able to hide all implementation details in case you would like to. In this case I would encourage everyone to prefer a functionality that is offered by extended API calls, such as `send_transfer`. Experimenting with value transactions and trying to tweak them does not seem to be a good idea (on the mainnet).\n",
    "\n",
    "Anyway, even in this chapter I am going to describe main tasks that are performed under the hood to be able to understand the whole concept.\n",
    "\n",
    "Let's have the following setup:"
   ]
  },
  {
   "cell_type": "code",
   "execution_count": 0,
   "metadata": {
    "iotadev": {
     "codeid": "F0DD441072CC",
     "missing": "true",
     "standalone": "false",
     "title": "Preparing variables for spending tokens"
    }
   },
   "outputs": [],
   "source": [
    "// No code snippet available for the selected language: javascript"
   ]
  },
  {
   "cell_type": "markdown",
   "metadata": {},
   "source": [
    "You may be wondering why only the seed for sender's side is defined. As mentioned above the reason is that the address with tokens is changing with every spending exercise and so you have to find address with tokens that left in a bucket programatically (if any tokens left:).\n",
    "\n",
    "Let's find out. For this purpose you can use extended API call `get_account_data` which returns a list of used addresses and total sum of all tokens available accross all of them:"
   ]
  },
  {
   "cell_type": "code",
   "execution_count": 0,
   "metadata": {
    "iotadev": {
     "codeid": "0847FCD36DFF",
     "missing": "true",
     "standalone": "false",
     "title": "Checking total balance"
    }
   },
   "outputs": [],
   "source": [
    "// No code snippet available for the selected language: javascript"
   ]
  },
  {
   "cell_type": "markdown",
   "metadata": {},
   "source": [
    "*Please note: API call `get_account_data` consider only confirmed transactions while calculating total balance. So it is better to wait until all transactions are cleared before you send additional tokens.*\n",
    "\n",
    "Are there any tokens left (value in `balance` field)? If yes then continue - no action is needed.\n",
    "If not, then you need to obtain some. It can be done visiting [IOTA faucet](http://faucet.devnet.iota.org) and entering an unused address of the given seed:"
   ]
  },
  {
   "cell_type": "code",
   "execution_count": 0,
   "metadata": {
    "iotadev": {
     "codeid": "6CD1F81E2588",
     "missing": "true",
     "standalone": "false",
     "title": "Searching for unused address"
    }
   },
   "outputs": [],
   "source": [
    "// No code snippet available for the selected language: javascript"
   ]
  },
  {
   "cell_type": "markdown",
   "metadata": {},
   "source": [
    "What have just happened behind the curtain?\n",
    "* The PyOTA library started to generating addresses from the `index=0` of the given seed and at the same time it also checked whether there are any transactions registered for each address\n",
    "* If yes, then in case we are after balances, the balance is saved. In case we are after new unused address then the given address is skipped. First address for which there are not registered transactions is returned\n",
    "* That's why it may be quite time consuming. And now you also understand all issues regarding `zero balances` after the snapshot\n",
    "\n",
    "You may be also wondering how to get individual balances for each used address? This can be checked using the core API call `get_balances` which provides you with a balance for any address you specify. Let's query for used addresses from the previous exercise:"
   ]
  },
  {
   "cell_type": "code",
   "execution_count": 0,
   "metadata": {
    "iotadev": {
     "codeid": "5036ABE14324",
     "missing": "true",
     "standalone": "false",
     "title": "Checking a balance"
    }
   },
   "outputs": [],
   "source": [
    "// No code snippet available for the selected language: javascript"
   ]
  },
  {
   "cell_type": "markdown",
   "metadata": {},
   "source": [
    "It returns `balances` and you can see how the remaining tokens move to new unused address every time you spend some tokens. Needless to say, used addresses with zero balances should not be used anymore since tokens were already spent from them. So let's spend some tokens:"
   ]
  },
  {
   "cell_type": "code",
   "execution_count": 0,
   "metadata": {
    "iotadev": {
     "codeid": "6195D3132B6B",
     "missing": "true",
     "standalone": "false",
     "title": "Send value transaction"
    },
    "scrolled": false
   },
   "outputs": [],
   "source": [
    "// No code snippet available for the selected language: javascript"
   ]
  },
  {
   "cell_type": "markdown",
   "metadata": {},
   "source": [
    "Let's review all transactions that has been prepared and sent eventually:\n",
    "* The first transaction `current_index=0` is the `output TX` that basically adds tokens to some address\n",
    "* Transactions `current_index=1` and `current_index=2` are two parts of the same transaction - `Input TX`. This transaction deducts tokens from the address(es). You can see negative `value` in the transaction `current_index=1`\n",
    "* Why there are two parts? Since the transaction spends tokens it has to be signed in order to validate the ownership. Signature is generated from the private key and the signature can be observed in the field `signature_message_fragment`. Here is the thing. Do you remember when different `security levels` were discussed? There are three security levels available and the given level has the direct impact on length of the signature. Since `signature_message_fragment` is of the fixed size, if `SL>1` then the transaction has to be split to be able to accommodate full signature.\n",
    "* The last transaction `current_index=3` moves unspent tokens to the first unused address of the given seed.\n",
    "\n",
    "The following tasks have to be done behind the curtain in addition to the standard transaction preparation process:\n",
    "* Search for address(es) with some balance until total amount of tokens available is large enough to be spent. You can use more input addresses if needed\n",
    "* If there would be some unspent amount of tokens then also search for the first unused address\n",
    "* Spending transactions (Input TX) has to be properly signed and split in case of `SL>1`\n",
    "* There is also some quick check performed whether resulting number of tokens is zero (no more tokens, no less tokens. Number of tokens has to be balanced).\n",
    "\n",
    "So basically all steps we tried in the chapter had to be done also behind the curtain while using `send_transfer` extended API call. You can also see that some of those operations may be quite expensive in terms of time while being completely stateless. In real world applications it would be better to save some states (index of last address, used addresses, etc.) to avoid too many expensive operations.\n",
    "\n",
    "You can review the given broadcasted transactions also in the tangle explorer (for devnet):\n",
    "* https://devnet.thetangle.org/address/BMFSMZMNBGKHAWPIZIOMJGRBXZETVSAYDSTDQCHLYTBWZMIXLNXF9XHLTMOCATFVFOMBQF9IOQGPEBPDC"
   ]
  }
 ],
 "metadata": {
  "celltoolbar": "Edit Metadata",
  "kernelspec": {
   "display_name": "Javascript (Node.js)",
   "language": "javascript",
   "name": "javascript"
  },
  "language_info": {
   "file_extension": ".js",
   "mimetype": "application/javascript",
   "name": "javascript",
   "version": "8.11.1"
  },
  "title": "Complete IOTA Developer Essentials Textbook",
  "toc": {
   "nav_menu": {},
   "number_sections": true,
   "sideBar": true,
   "skip_h1_title": false,
   "toc_cell": false,
   "toc_position": {
    "height": "819px",
    "left": "0px",
    "right": "auto",
    "top": "111px",
    "width": "212px"
   },
   "toc_section_display": "block",
   "toc_window_display": true
  }
 },
 "nbformat": 4,
 "nbformat_minor": 2
}
