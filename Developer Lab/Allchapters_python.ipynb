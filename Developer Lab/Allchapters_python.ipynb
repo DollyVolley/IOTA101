{
 "cells": [
  {
   "cell_type": "markdown",
   "metadata": {},
   "source": [
    "> *This textbook was generated automatically from a [GitHub Repo](https://github.com/Hribek25/IOTA101). Visit the repo for more information.* \n",
    "\n",
    "![IOTA Developer Essentials Banner](https://raw.githubusercontent.com/Hribek25/IOTA101/master/Graphics/IOTA-Developer-Essentials.png)\n",
    "# IOTA Developer Essentials\n",
    "[![Languages Covered](https://img.shields.io/badge/Coverage-Python%20%7C%20NodeJS%20%7C%20C%23-brightgreen.svg \"Languages covered\")](https://hribek25.github.io/IOTA101/devlab.html#Language-Coverage)\n",
    "[![GitHub Repo](https://img.shields.io/badge/GitHub-Repo-green.svg \"Home of the tutorial\")](https://github.com/Hribek25/IOTA101)\n",
    "[![GitHub Gist](https://img.shields.io/badge/Gist-Integrated-orange.svg \"View @ Gist\")](https://gist.github.com/search?utf8=%E2%9C%93&q=IOTA101)\n",
    "[![Interactive Lab](https://img.shields.io/badge/Interactive-Lab-blue.svg \"Interactive experience with code snippets\")](https://hribek25.github.io/IOTA101/devlab.html)\n",
    "[![Complete Textbook](https://img.shields.io/badge/Complete-Textbook-yellow.svg \"All chapters combined on a single page for all languages\")](https://hribek25.github.io/IOTA101/)\n",
    "[![IOTA Ecosystem](https://img.shields.io/badge/iota-ecosystem-yellowgreen.svg \"IOTA Ecosystem\")](https://ecosystem.iota.org/tutorials/iota-developer-essentials)\n",
    "\n",
    "These notebooks provide a self-study introduction to IOTA protocol and are designed for developers and tech enthusiasts who would like to get quickly familiar with the IOTA. Technical-related information is accompanied with interactive code snippets to help you to quickly jump on the platform and be ready to build own solutions based on it.\n",
    "\n",
    "> Motto of this tutorial: \"Let's start with baby steps before we can try and fly.\"\n",
    "\n",
    "## Main Goal\n",
    "Main goal of this guide is to provide a comprehensive yet well-balanced proportion of deep-dive technical information and essentials.\n",
    "\n",
    "## Getting Started\n",
    "There are several chapters available. If you are not familiar with IOTA then it is highly recommended to follow them in the particular order to understand all important IOTA concepts properly. Otherwise you may get quickly confused later.\n",
    "\n",
    "## Code Snippets\n",
    "Code snippets are currently based on Python, NodeJs and C#. Since Python is very descriptive language and easy to understand, I believe the tutorial is basically understandable to anyone. Anyway, all important IOTA concepts are described in language-agnostic way and so you would be able to use any language of your choice.\n",
    "\n",
    "Interested to see what is the overall code base coverage breaked down to a specific language? The following page provides you such an info. Needless to say, we are working hard to be sure there is no language that would be a second-class citizen.\n",
    "\n",
    "[![Languages Covered](https://img.shields.io/badge/Coverage-Python%20%7C%20NodeJS%20%7C%20C%23-brightgreen.svg \"Languages covered\")](https://hribek25.github.io/IOTA101/devlab.html#Language-Coverage)\n",
    "\n",
    "IOTA Developer Essentials are accompanied by *IOTA Developer Lab* and so you can play with all code snippets directly in your web browser. Feel free to experiment with the prepared code snippets and get your hands dirty. It is a best way how to get familiar quickly.\n",
    "\n",
    "[![Interactive Lab](https://img.shields.io/badge/Interactive-Lab-blue.svg \"Interactive experience with code snippets\")](https://hribek25.github.io/IOTA101/devlab.html)\n",
    "\n",
    "All *standalone* code snippets are also maintained @ GitHub Gist. It enables you to fork them, comment them, share them, embed them and track all changes to them. See the action panel next to each code snippet.\n",
    "\n",
    "[![GitHub Gist](https://img.shields.io/badge/Gist-Integrated-orange.svg \"View @ Gist\")](https://gist.github.com/search?utf8=%E2%9C%93&q=IOTA101)\n",
    "\n",
    "## Viewing and running\n",
    "### Interactive Mode\n",
    "There exists a side project called *IOTA Developer Lab* that is built on top of *IOTA Developer Essentials*. The project provides infrastructure services for you to be able to get an interactive experience with all code snippets.\n",
    "\n",
    "[![Interactive Lab](https://img.shields.io/badge/Interactive-Lab-blue.svg \"Interactive experience with the tutorial\")](https://hribek25.github.io/IOTA101/devlab.html)\n",
    "\n",
    "### Static Mode\n",
    "If you prefer a static experience (for printing purposes, for instance) you can reach the given notebooks as a Complete Textbook that is compiled from all source materials:\n",
    "\n",
    "[![Complete Textbook](https://img.shields.io/badge/Complete-Textbook-yellow.svg)](https://hribek25.github.io/IOTA101/)\n",
    "\n",
    "Everything is tightly linked together and so you can easily switch between different languages for instance, or you can share links to specific chapters, code snippets, etc. All links are static so feel free to share them.\n",
    "\n",
    "\n",
    "## Feedback and corrections\n",
    "These notebooks are maintained at [GitHub](https://github.com/Hribek25/IOTA101).\n",
    "Issues can be submited via [issue tracker](https://github.com/Hribek25/IOTA101/issues).\n",
    "\n",
    "## About\n",
    "These notebooks are developed and maintained by Petr Zizka (petr@zizkovi.name). It has been supported by the EDF Grant (https://blog.iota.org/the-5th-cohort-of-iota-ecosystem-development-fund-grantees-5cbf05227525).\n",
    "\n",
    "It is ongoing process since IOTA is still under heavy development and rapidly emerging every day. So stay tuned - the plan is to keep adding fresh content on regular basis.\n",
    "\n",
    "Feel free to follow me at [Twitter](https://twitter.com/petrzizka) or IOTA Discord Channel (@hribek25#2683).\n",
    "*(New to Discord? Invitation link: https://discord.gg/fNGZXvh)*\n",
    "\n",
    "Disclaimer: I am not associated with the IOTA foundation. I am IOTA supporter.\n",
    "\n",
    "----\n",
    "![Thank You](https://img.shields.io/badge/thank-you-lightgrey.svg \"Your support is deeply appreciated\")\n",
    "\n",
    "The IOTA Developer Essentials and IOTA Developer Lab are long-term projects. The main goal is to provide a comprehensive onboarding information to anybody interested in the IOTA protocol. It will cover much more chapters, more code snippets and it will also cover more languages. Your kind donations will support the vision pushing forward. Thank you.\n",
    "\n",
    "Donations (IOTA):\n",
    "DSZRO9TCIJIKZOKUPVNOJFKVAHFCKL9YMLPVZUAEVZPOFXLIUWLPRQWBMVVSFTKGMGPPHXCYE9MIZEVBXQNFYKYUA9\n",
    "\n",
    "![qr code](http://api.qrserver.com/v1/create-qr-code/?color=000000&bgcolor=FFFFFF&data=DSZRO9TCIJIKZOKUPVNOJFKVAHFCKL9YMLPVZUAEVZPOFXLIUWLPRQWBMVVSFTKGMGPPHXCYE9MIZEVBXQNFYKYUA9&qzone=1&margin=0&size=120x120&ecc=L \"donation address in QR code\")\n",
    "\n",
    "\n",
    "--- \n"
   ]
  },
  {
   "cell_type": "markdown",
   "metadata": {},
   "source": [
    "# IOTA 101: Essentials and IOTA Terminology\n",
    "IOTA is an open-source Distributed Ledger Technology (DLT) with the following characteristics: *permissionless*, *feeless* and *trustless*. In contrary to the blockchain technology, the IOTA transactions are stored in a form of Directed Acyclic Graph (DAG) called *the Tangle*.\n",
    "![Blockchain and Tangle comparison](https://raw.githubusercontent.com/Hribek25/IOTA101/master/Graphics/Blockchain_And_Tangle_iota_org.png \"(c) iota.org\")\n",
    "\n",
    "## Transactions\n",
    "Transactions (TXs) in the tangle can be of two types:\n",
    "* **Value transactions** (*IOTA token* represents funds in case of value transactions)\n",
    "* **Zero-value transactions** (aka meta transactions)\n",
    "\n",
    "Every transaction is attached to a specific *IOTA Address*.\n",
    "There are no miners with IOTA protocol to validate transactions. The *consensus* is achieved by network participants themselves. Each participant that wants to broadcast a new transaction has to approve 2 past transactions and basically attach transaction as a children node. Transactions without children transactions (waiting to be confirmed) are called *tips*.\n",
    "\n",
    "## Seed, private key and address\n",
    "Pair of unique IOTA address and corresponding *Private Key* is determistically generated from a *Seed*. You can generate (2<sup>53</sup> - 1) different addresses/private keys based on one Seed. Anybody can send anything to the given address however only Seed owner can send funds from IOTA address since only the Seed owner is able to generate corresponding *Private Key*.\n",
    "\n",
    "IOTA protocol uses One-Time Signature (OTS) for \"verifying\" whether private key matches to the given address, specifically Winternitz OTS (WOTS). So *Private Key* (specifically *Key Fragments* of the private key) is the key component while signing transactions using WOTS.\n",
    "\n",
    "That's the reason why nobody should use IOTA address that have been already funds spent from. New IOTA address (of the given seed) should be generated and used instead. Please note, it applies only to fund-spending. Receiving funds/data is totaly fine even multiple times.\n",
    "\n",
    "To summarize the key concept here. Only *Seed* is needed to be stored somewhere. Everything else can be safely generated from it: private key as well as address.\n",
    "\n",
    "## IOTA nodes\n",
    "The Tangle runs on a *distributed network* of IOTA nodes called *mainnet*. There are also other separate \"Tangles\" serving for specific purposes: Devnet, SPAMnet, etc. You can interact with the network via public nodes using collection of public *API calls*. You can interact with any public node of the given network since all nodes \"gossiping\" all TXs across the whole network. Nodes are powered by a reference piece of software called *IRI* (IOTA Reference Implementation) **as of now**.\n",
    "\n",
    "It is also important to mention that you do not exchange any sensitive information such as *Seed* with a node. Every sensitive operation such as TX signing is done on client's side and node is just a \"messenger\" that delivers your TX to the IOTA network.\n",
    "![Centralized, decentralized and distributed models](https://raw.githubusercontent.com/Hribek25/IOTA101/master/Graphics/Centralized-decentralized-and-distributed-network-models-by-Paul-Baran-1964-part-of-a.png \"(c) Paul Baran, researchgate\")\n",
    "\n",
    "## Custom node\n",
    "You can even run own IOTA node and actively participate to the whole network. There is a big advantage for developers in that case. Actual implementation of IRI  provides an usefull real-time information via messaging platform called ZeroMQ and so developers can leverage that.\n",
    "\n",
    "## API calls\n",
    "There are ready-made libraries for major programming languages available and so you have more developer-friendly way how to interact with the IOTA network. Anyway, you can interact with IOTA network using pure API calls without any library. It is up to you.\n"
   ]
  },
  {
   "cell_type": "markdown",
   "metadata": {},
   "source": [
    "## Ternary\n",
    "It is difficult to avoid mentioning *Ternary numeral system* while discussing IOTA at all. IOTA is based on ternary system under the hood and so you have got to be aware of some basic terminology in this respect. You are going to face this fact in any developer-related IOTA guide out there.\n",
    "\n",
    "### Ternary\n",
    "Ternary has three as its base (aka base 3) as opposted to *binary* which is base 2. Instead of two states (0 and 1) it recognizes three states (for ex. -1, 0, 1).\n",
    "\n",
    "### Trit\n",
    "One *Trite* is analogous to one *bit*. It is the smallest digit and has three states. Trit = **Tri**nary dig**it**.\n",
    "\n",
    "### Tryte\n",
    "*Tryte* consists of three *trits* meaning 27 combinations.\n",
    "$$3^3=27$$\n",
    "\n",
    "You will recognize soon that almost everything is encoded in *Trytes* in the IOTA world. Tryte is visually represented using [A..Z] alphabets and number 9. One character represents one tryte (here comes 27 possible characters again). *Don't get mad, IOTA libraries are going to help us.*\n",
    "\n",
    "Small example:"
   ]
  },
  {
   "cell_type": "code",
   "execution_count": 19,
   "metadata": {
    "iotadev": {
     "codeid": "3BB8C879CCAE",
     "standalone": "true",
     "title": "Conversion: trytes and trits"
    }
   },
   "outputs": [
    {
     "name": "stdout",
     "output_type": "stream",
     "text": [
      "TryteString(b'YZJEATEQ9JKLZ')\n",
      "'Number of Trytes: 13'\n",
      "[1, -1, 0, -1, 0, 0, 1, 0, 1, -1, -1, 1, 1, 0, 0, -1, 1, -1, -1, -1, 1, -1, 0,\n",
      " -1, 0, 0, 0, 1, 0, 1, -1, 1, 1, 0, 1, 1, -1, 0, 0]\n",
      "'Number of trits: 39'\n"
     ]
    }
   ],
   "source": [
    "import iota #importing PyOTA library to interact with\n",
    "from pprint import pprint\n",
    "\n",
    "TrytesAsBytes = b\"YZJEATEQ9JKLZ\" # some data encoded in Trytes (byte string in Python, not unicode string)\n",
    "Trytes = iota.TryteString(TrytesAsBytes) # initializing TryteString type from the PyOTA library - great help while dealing with Trytes/Trits, etc.\n",
    "pprint(Trytes) # getting the same data however using TryteString type of PyOTA library\n",
    "pprint(\"Number of Trytes: %s\" % len(TrytesAsBytes))\n",
    "Trits = Trytes.as_trits() # converting Trytes to Trits\n",
    "pprint(Trits,compact=True)\n",
    "pprint(\"Number of trits: %s\" % len(Trits)) # Number of trits is three times the number of trytes obviously"
   ]
  },
  {
   "cell_type": "markdown",
   "metadata": {},
   "source": [
    "# IOTA 101: Basic network interactions\n",
    "The tutorial is based on IOTA libraries called *PyOTA* for Python, *IOTA Javascript Library (@iota/core)* for JavaScript and Tangle.Net for C# (.NET 4.x and .NET Standard). It encapsulates all official IRI API calls and it can be installed via `pip` in Python environment, via `npm` in JS environment and via `NuGet` in case of .NET environment.\n",
    "\n",
    "Reader is also encouraged to try a ready-made environment via *IOTA Developer Lab* project (at lab.iota101.info) where anyone can run a code directly in a web browser. When viewing it interactively then just select a code snippet and hit `ctrl + enter` which executes it.\n",
    "\n",
    "Anyway, most of the information in the tutorial is language-agnostic and so only particular interfaces slightly differ across different IOTA libraries. Top-level details are the same regardless programming language you are going to use.\n",
    "\n",
    "## A few words about specific IOTA libraries\n",
    "### Python\n",
    "*PyOTA* is well maintained and understandable IOTA library that can be reached at https://github.com/iotaledger/iota.lib.py. It is very good starting point for beginners.\n",
    "It can be installed via `pip`:\n",
    "```pip install pyota```\n",
    "\n",
    "### JavaScipt\n",
    "Official IOTA Javascript library (v1.0) is currently in beta however all main functions are working just fine, please see https://github.com/iotaledger/iota.js/. It is very modular and so you can install only components you really need.\n",
    "\n",
    "Main component is @iota/core and can be installed via `npm`:\n",
    "```npm install @iota/core```\n",
    "\n",
    "As with everything in NodeJS, most of the tasks are asynchronous and they are chained via `callbacks` or `promise`. Snippets below leverage `promise` chaining.\n",
    "### C# (.NET)\n",
    "*Tangle.Net* is well maintained IOTA library for .NET and can be reached at https://github.com/Felandil/tangle-.net.\n",
    "It can be installed via `NuGet`:\n",
    "```nuget.exe install tangle.net```\n",
    "\n",
    "Snippets below uses synchronous functions however the library provides also asynchronous (async postfix) version.\n",
    "\n",
    "\n",
    "## Conneting to IOTA nodes\n",
    "Before you can interact with the IOTA network you need an URL of the running IOTA node. There are dozen of directories of public nodes available, feel free to google them.\n",
    "\n",
    "For a sake of this tutorial I use a project *thetangle.org*. It is a load ballancer that provides you an access to a pool of participanting nodes effortlessly.\n",
    "* *Advantage:* you do not have to care about public nodes and whether they are running or not\n",
    "* *Disadvantage:* you do not know in advance which specific node will process your API call. So in some respect results of API calls may differ since some API calls depend on specific node, such as GetNodeInfo().\n",
    "\n",
    "### Node is not synced\n",
    "Even if a node is up and running it may not be fully prepared to process your API calls correctly. The node should be \"synced\", meaning should be aware of all TXs in the Tangle. It is better to avoid not fully synced nodes.\n",
    "\n",
    "### Health checking\n",
    "Once you connect to an IOTA node you should be able to send API calls. However it is better to do some checks in advance in order to find out whether the given node is in good condition or not. IOTA nodes can be run by anyone and so health check is always a good practice.\n",
    "\n",
    "Basic healthcheck can be done via *GetNodeInfo()* API call. It returns a basic information about the given IOTA node."
   ]
  },
  {
   "cell_type": "code",
   "execution_count": 1,
   "metadata": {
    "iotadev": {
     "codeid": "696A395DC61B",
     "standalone": "true",
     "title": "Basic node interaction: API call Get_node_info()"
    },
    "scrolled": false
   },
   "outputs": [
    {
     "name": "stdout",
     "output_type": "stream",
     "text": [
      "{'appName': 'IRI',\n",
      " 'appVersion': '1.8.1',\n",
      " 'coordinatorAddress': 'EQSAUZXULTTYZCLNJNTXQTQHOMOFZERHTCGTXOLTVAHKSA9OGAZDEKECURBRIXIJWNPFCQIOVFVVXJVD9',\n",
      " 'duration': 0,\n",
      " 'features': ['loadBalancer', 'snapshotPruning', 'RemotePOW'],\n",
      " 'jreAvailableProcessors': 16,\n",
      " 'jreFreeMemory': 1590527138,\n",
      " 'jreMaxMemory': 20997734400,\n",
      " 'jreTotalMemory': 3914679363,\n",
      " 'jreVersion': '1.8.0_191',\n",
      " 'lastSnapshottedMilestoneIndex': 1193175,\n",
      " 'latestMilestone': TransactionHash(b'WODBVHHV9XVGYNDDFQY9WGDLBYEJ9RU9JYDJGELASMJ9KYPPYVGSLPGBMARZRVNYIJZTYEKQTYMAZ9999'),\n",
      " 'latestMilestoneIndex': 1193284,\n",
      " 'latestSolidSubtangleMilestone': TransactionHash(b'WODBVHHV9XVGYNDDFQY9WGDLBYEJ9RU9JYDJGELASMJ9KYPPYVGSLPGBMARZRVNYIJZTYEKQTYMAZ9999'),\n",
      " 'latestSolidSubtangleMilestoneIndex': 1193284,\n",
      " 'milestoneStartIndex': 1157888,\n",
      " 'neighbors': 24,\n",
      " 'packetsQueueSize': 0,\n",
      " 'time': 1569876350354,\n",
      " 'tips': 4566,\n",
      " 'transactionsToRequest': 0}\n",
      "\r\n",
      "Node is probably synced!\n"
     ]
    }
   ],
   "source": [
    "import iota #importing PyOTA library to interact with\n",
    "from pprint import pprint\n",
    "\n",
    "NodeURL = \"https://nodes.thetangle.org:443\"\n",
    "\n",
    "api=iota.Iota(NodeURL) # ctor initialization of the PyOTA library\n",
    "result = api.get_node_info() # basic API call to double check health conditions\n",
    "pprint(result) # result is printed out\n",
    "\n",
    "# Basic check whether node is in sync or not\n",
    "# Elementary rule is that \"latestMilestoneIndex\" should equal to \"latestSolidSubtangleMilestoneIndex\" or be very close\n",
    "if abs(result['latestMilestoneIndex'] - result['latestSolidSubtangleMilestoneIndex']) > 3 :\n",
    "    print (\"\\r\\nNode is probably not synced!\")\n",
    "else:\n",
    "    print (\"\\r\\nNode is probably synced!\")\n"
   ]
  },
  {
   "cell_type": "markdown",
   "metadata": {},
   "source": [
    "*Please note: When using node load balancers then this type of check is quite useless since other API calls of yours may be served by different node that may have not been checked. You should be aware of it and trust that the load balancer participates only with nodes that are in a good condition.*"
   ]
  },
  {
   "cell_type": "markdown",
   "metadata": {},
   "source": [
    "## Generating IOTA seed and IOTA address\n",
    "Since the IOTA network is *permissionless* type of network, anybody is able to use it and interact with it. No central authority is required at any stage. So anybody is able to generate own seed and respective private key/address anytime. It is highly recommended to *NOT* use online generators at all.\n",
    "\n",
    "The Seed is the only key to the given addresses. Anyone who owns the Seed owns also all funds related to respective IOTA addresses (all of them).\n",
    "\n",
    "Seed and addresses only consists of characters [A-Z] and number 9. Length is always 81 charaters. There are usually also used additional 9 characters in IOTA addresses (so total lenght is 90 then) which is a *checksum*. It provides a way how to prevent typos while manipulating with IOTA addresses.\n"
   ]
  },
  {
   "cell_type": "markdown",
   "metadata": {},
   "source": [
    "### Seed\n",
    "A seed generation is a process that is based on random quessing of each character in the seed. Of course, you should always use cryptographically secure pseudo-random generator!"
   ]
  },
  {
   "cell_type": "code",
   "execution_count": 21,
   "metadata": {
    "iotadev": {
     "codeid": "67D98D069B61",
     "standalone": "true",
     "title": "Generating a seed: a general approach"
    }
   },
   "outputs": [
    {
     "name": "stdout",
     "output_type": "stream",
     "text": [
      "PYDHTCNKMTVRGORKCKDCHPMIRAIVGB9FZFGUJWZVAQYWUVOEOJUVDEMNGOLWWSOG9QLUHDNVEFYOBFEIK\n",
      "Length: 81\n"
     ]
    }
   ],
   "source": [
    "import random\n",
    "chars=u'9ABCDEFGHIJKLMNOPQRSTUVWXYZ' #27 characters - max number you can express by one Tryte - do you remember?\n",
    "rndgenerator = random.SystemRandom() #cryptographically secure pseudo-random generator\n",
    "\n",
    "NewSeed = u''.join(rndgenerator.choice(chars) for _ in range(81)) #generating 81-chars long seed. This is Python 3.6+ compatible\n",
    "print(NewSeed)\n",
    "print(\"Length: %s\" % len(NewSeed))"
   ]
  },
  {
   "cell_type": "markdown",
   "metadata": {},
   "source": [
    "Alternatively you can leverage also PyOTA library since it has own implementation of the pseudo-random Seed generator (Python 2.7+ compatible). Difference between both methods is very subtle. I just wanted to illustrate both ways: Fully independent and IOTA-library-dependant. *Please note, IOTA Javascript library does not support a seed generation.*"
   ]
  },
  {
   "cell_type": "code",
   "execution_count": 22,
   "metadata": {
    "iotadev": {
     "codeid": "65788F1C3FCB",
     "standalone": "true",
     "title": "Generating a seed: IOTA-facing-library-based approach"
    }
   },
   "outputs": [
    {
     "name": "stdout",
     "output_type": "stream",
     "text": [
      "SVXJAGAMEMBFFXEWZMLEHYXJNUAQQEEPBLWDZOQB9VPDGPWEQMMMXMDYVTNDDPNUHZXKSUXSTSVYIBCTM\n",
      "Length: 81\n"
     ]
    }
   ],
   "source": [
    "from iota.crypto.types import Seed  #importing PyOTA library to interact with\n",
    "\n",
    "NewSeed = Seed.random()\n",
    "print(NewSeed)\n",
    "print(\"Length: %s\" % len(NewSeed))"
   ]
  },
  {
   "cell_type": "markdown",
   "metadata": {},
   "source": [
    "### Address\n",
    "There is a deterministic function how to get an address from a seed. It is a basically an indexed collection of addresses starting with address at index 0, 1, 2, etc.\n",
    "\n",
    "While generating addresses you should be also aware there are three different so called *Security Levels* (1, 2 and 3). Each security level generates totally independent pool of addresses. Addresses of Security Level 1 are totally different from addresses of Security Level 2, etc.\n",
    "\n",
    "In a nutshell, Security Level indicates how difficult is to generate *Private key* from the Seed and also what is its size. The higher security level, the more secure (longer) is the given private key. Default Security Level is 2. Most of IOTA wallets uses Security Level=2 and users are usually not allowed to change it. So be carefull while designing your app.\n",
    "\n",
    "As long as *seed, address index and security level* are the same, you always get the same address and corresponding private key:\n",
    "\n",
    "$$PrivateKey/Address = fce(Seed, AddressIndex, SecurityLevel)$$\n",
    "\n",
    "General example:\n",
    "$$PrivateKey/Address1 = fce(Seed, 1, 2)$$\n",
    "$$PrivateKey/Address2 = fce(Seed, 2, 2)$$\n",
    "$$PrivateKey/Address3 = fce(Seed, 3, 2)$$\n",
    "\n",
    "![Anatomy of IOTA address](https://raw.githubusercontent.com/Hribek25/IOTA101/master/Graphics/IOTA_Address_Generation.png \"By Petr Zizka\")"
   ]
  },
  {
   "cell_type": "code",
   "execution_count": 23,
   "metadata": {
    "iotadev": {
     "codeid": "0FF479CB6C0A",
     "standalone": "true",
     "title": "Generating IOTA addresses from a seed: API call Get_new_addresses()"
    },
    "scrolled": true
   },
   "outputs": [
    {
     "name": "stdout",
     "output_type": "stream",
     "text": [
      "{'addresses': [Address(b'HRLKBQUZAEB9HIVWJEWVDYQ9G9VRQXQAXR9ZWGBFQJKRPOPJYHGAT9LBEIE9RWRMUFSNLCWYHQGYAECHD'),\n",
      "               Address(b'XEXIDJJTANADOUBPWTCSPPRYYRTITRAHDEOZAEXWDPCYKUPTFMKVQM9KCPPLOCESFRGRVSIYZHXQZNYKC'),\n",
      "               Address(b'KY9DLZCHET9ATLMADPXGDVDYMPHKRKQPJZ9MB9HEIMMFCRRTNJIJIHPKGZNKKDTFMYPZRRQYAQKVAHMYX')]}\n"
     ]
    }
   ],
   "source": [
    "import iota\n",
    "from pprint import pprint\n",
    "\n",
    "# For this particular task the Node URL is not important as it will not be contacted at all\n",
    "# However it has to be well-formatted URI\n",
    "NodeURL = \"https://nodes.thetangle.org:443\"\n",
    "MySeed = b\"WKQDUZTGFKSSLACUCHHLZRKZBHSDSCEBHKUPDLKFBQALEBKDMFRPUQGZRXAADPG9TSRTZGGBZOFRJCFMM\"\n",
    "\n",
    "api=iota.Iota(NodeURL,\n",
    "              seed = MySeed) # if you do not specify a seed, PyOTA library randomly generates one for you under the hood\n",
    "    \n",
    "# Let's generate 3 addresses using default security level=2.\n",
    "# It is deterministic function - it always generates same addresses as long as the Seed, Security Level and Index are the same\n",
    "result = api.get_new_addresses(index=0,\n",
    "                               count=3,\n",
    "                               security_level=2)\n",
    "pprint(result)"
   ]
  },
  {
   "cell_type": "markdown",
   "metadata": {},
   "source": [
    "Please note, some IOTA libraries may communicate with a IOTA network while generating addresses to double check whether the given address was used or not.\n",
    "\n",
    "So it is sometimes better to use directly an address generator component. Outputs are equivalent in both cases but the latter one usually only generates pool of addresses locally:"
   ]
  },
  {
   "cell_type": "code",
   "execution_count": 24,
   "metadata": {
    "iotadev": {
     "codeid": "2508A6FF9241",
     "standalone": "true",
     "title": "Generating IOTA addresses from a seed (#2)"
    }
   },
   "outputs": [
    {
     "name": "stdout",
     "output_type": "stream",
     "text": [
      "[Address(b'HRLKBQUZAEB9HIVWJEWVDYQ9G9VRQXQAXR9ZWGBFQJKRPOPJYHGAT9LBEIE9RWRMUFSNLCWYHQGYAECHD'),\n",
      " Address(b'XEXIDJJTANADOUBPWTCSPPRYYRTITRAHDEOZAEXWDPCYKUPTFMKVQM9KCPPLOCESFRGRVSIYZHXQZNYKC'),\n",
      " Address(b'KY9DLZCHET9ATLMADPXGDVDYMPHKRKQPJZ9MB9HEIMMFCRRTNJIJIHPKGZNKKDTFMYPZRRQYAQKVAHMYX')]\n"
     ]
    }
   ],
   "source": [
    "from iota.crypto.addresses import AddressGenerator\n",
    "from pprint import pprint\n",
    "\n",
    "MySeed = b\"WKQDUZTGFKSSLACUCHHLZRKZBHSDSCEBHKUPDLKFBQALEBKDMFRPUQGZRXAADPG9TSRTZGGBZOFRJCFMM\"\n",
    "\n",
    "#security level is defined during generator init\n",
    "generator = AddressGenerator(seed=MySeed,\n",
    "                             security_level=2)\n",
    "\n",
    "result = generator.get_addresses(0, 3) #index, count\n",
    "pprint(result)"
   ]
  },
  {
   "cell_type": "markdown",
   "metadata": {},
   "source": [
    "## Validating IOTA address\n",
    "As mentioned earlier, IOTA address consists of 81 trytes ([A..Z9] characters) or 90 trytes including checksum. Checksum is useful when you want to make sure a valid address was given (no typos, etc.) and so it is a good practise to encourage user of your app using IOTA addresses including checksums = 90 trytes.\n",
    "\n",
    "IOTA libraries are able to help you to deal with some basic patterns such as validating addresses, generating checksums, etc."
   ]
  },
  {
   "cell_type": "code",
   "execution_count": 25,
   "metadata": {
    "iotadev": {
     "codeid": "39B011574CF0",
     "standalone": "true",
     "title": "IOTA address and checksum"
    }
   },
   "outputs": [
    {
     "name": "stdout",
     "output_type": "stream",
     "text": [
      "'Original input excl. checksum address:'\n",
      "Address(b'CYJV9DRIE9NCQJYLOYOJOGKQGOOELTWXVWUYGQSWCNODHJAHACADUAAHQ9ODUICCESOIVZABA9LTMM9RW')\n",
      "Length: 81\n",
      "\n",
      "Input address including checksum:\n",
      "Address(b'CYJV9DRIE9NCQJYLOYOJOGKQGOOELTWXVWUYGQSWCNODHJAHACADUAAHQ9ODUICCESOIVZABA9LTMM9RWTHBIRSXTA')\n",
      "Length incl checksum: 90\n"
     ]
    }
   ],
   "source": [
    "import iota\n",
    "from pprint import pprint\n",
    "\n",
    "# some IOTA address\n",
    "Adr = iota.Address(b\"CYJV9DRIE9NCQJYLOYOJOGKQGOOELTWXVWUYGQSWCNODHJAHACADUAAHQ9ODUICCESOIVZABA9LTMM9RW\")\n",
    "\n",
    "pprint(\"Original input excl. checksum address:\")\n",
    "pprint(Adr)\n",
    "print(\"Length: %s\" % len(Adr))\n",
    "\n",
    "AdrInclCheckSum = Adr.with_valid_checksum()\n",
    "print(\"\\nInput address including checksum:\")\n",
    "pprint(AdrInclCheckSum) # the last 9 trytes is the checksum\n",
    "print(\"Length incl checksum: %s\" % len(AdrInclCheckSum))"
   ]
  },
  {
   "cell_type": "markdown",
   "metadata": {},
   "source": [
    "You should always make sure your app is dealing with valid IOTA address. Please note, you should also make sure an address is of correct length and consists only of allowed characters. IOTA libraries may slightly differ in their approaches but differences are very subtle and both libraries provide enough functions to validate IOTA address.\n",
    "\n",
    "General steps should be:\n",
    "* Checks length\n",
    "* Checks valid characters\n",
    "* Checks address against its checksum"
   ]
  },
  {
   "cell_type": "code",
   "execution_count": 1,
   "metadata": {
    "iotadev": {
     "codeid": "C65223B0864A",
     "standalone": "true",
     "title": "Validating IOTA address"
    }
   },
   "outputs": [
    {
     "name": "stdout",
     "output_type": "stream",
     "text": [
      "'Input address incl checksum:'\n",
      "Address(b'CYJV9DRIE9NCQJYLOYOJOGKQGOOELTWXVWUYGQSWCNODHJAHACADUAAHQ9ODUICCESOIVZABA9LTMM9RWTHBIRSXTA')\n",
      "Is it valid addr based on checksum? True\n",
      "\n",
      "Input address excl checksum:\n",
      "TryteString(b'CYJV9DRIE9NCQJYLOYOJOGKQGOOELTWXVWUYGQSWCNODHJAHACADUAAHQ9ODUICCESOIVZABA9LTMM9RW')\n"
     ]
    }
   ],
   "source": [
    "import iota\n",
    "import sys\n",
    "from pprint import pprint\n",
    "\n",
    "InputAddr = b\"CYJV9DRIE9NCQJYLOYOJOGKQGOOELTWXVWUYGQSWCNODHJAHACADUAAHQ9ODUICCESOIVZABA9LTMM9RWTHBIRSXTA\"\n",
    "if len(InputAddr)!=90:\n",
    "    print(\"Incorrect lenght of the given address. Please, use an address including checksum.\")\n",
    "    exit(2)\n",
    "\n",
    "try:\n",
    "    # address including checksum\n",
    "    Adr2 = iota.Address(InputAddr)\n",
    "except :\n",
    "    print(\"Not valid input address given\")\n",
    "    sys.exit(1)\n",
    "\n",
    "pprint(\"Input address incl checksum:\")\n",
    "pprint(Adr2)\n",
    "print(\"Is it valid addr based on checksum? %s\" % (Adr2.is_checksum_valid()))\n",
    "\n",
    "print(\"\\nInput address excl checksum:\")\n",
    "pprint(Adr2[:81]) # return only first 81 characters"
   ]
  },
  {
   "cell_type": "markdown",
   "metadata": {},
   "source": [
    "# IOTA 101: Transactions\n",
    "A transaction is a smallest piece of data that can be broadcasted to the network. Each transaction consists of fixed 2673 trytes. Transactions (TXs) are basically of two types:\n",
    "* **Value TXs:** those transactions change ownership of IOTA tokens. Two possible states: spending TXs or receiving TXs\n",
    "* **Non-Value TXs:** those transactions include piece of data that can be broadcasted and read from the Tangle\n",
    "\n",
    "Transactions are broadcasted in an envelope called *Bundle*. Bundle may consist of multiple TXs. Bundle is processed by the Tangle as a single entity; meaning only the whole bundle is confirmed by the network (and all TXs within) or nothing. You have to prepare a bundle even if you broadcast single transaction only. Bundle is also described as *atomic* since every bundle includes all information needed to process it antonomously.\n",
    "\n",
    "Each transaction includes several fields, let's name the most important ones:\n",
    "* **`Value`:** Value can be *positive* number = receiving IOTA tokens, *negative* number = spending IOTA tokens or *zero* = broadcasting only piece of data\n",
    "* **`Address`:** It is IOTA address that is associated with the given transaction. *Value* indicates whether it is an address of a receiver or a sender\n",
    "* **`Tag`:** It is an user-defined tag that can be used for searching, etc.\n",
    "* **`SignatureMessageFragment`:** This is the most lenghty attribute (2187 trytes) and could include: *transaction signature* based on private key in case it is a spending TX or *piece of data (message)* in case it is non-value TX. Alternatively it can be also left blank (in case of non-value TXs)\n",
    "* **`TrunkTransaction` / `branchTransaction`:** Those two fields refer to some previous transactions in the Tangle (tips) that the given bundle is going to approve\n",
    "* **`Timestamp`:** TX timestamp. It is actually UNIX timestamp (UTC)\n",
    "![Creating TX in 5 steps](https://raw.githubusercontent.com/Hribek25/IOTA101/master/Graphics/Creating_TX_in_5_steps.png \"By Petr Zizka\")\n",
    "\n",
    "A process of sending IOTA transaction can be summarized in 5 steps:\n",
    "* To create transation(s) with the given attributes: *value*, *address* and potentially also *tag* or *message*\n",
    "* To finalize a bundle that includes all transactions. Once the bundle is finalized no new transactions can be added. It basically means to generate a *bundle hash*\n",
    "* To search for two tips in the Tangle that you are going to validate. There is not a strict rule how to search them but it is generally recommended to leave it on a *tip selection algorithm* implemented on node's side \n",
    "* To do a *Proof-of-Work* for each transaction in the bundle. Result of POW is *Nonce* and *Transaction hash* stored with each transaction\n",
    "* Finally you need to *broadcast* the whole bundle to the network\n",
    "\n",
    "### A secret of a bundle\n",
    "There is a secret to be shared. You have to understand one important thing. Bundle is a top level construct that link all related transactions under one entity however the bundle itself is not broadcasted in fact. You still broadcast \"only\" collection of individual transactions instead. All transactions are recognized to be part of a bundle by the IOTA protocol however any data peering is based on individual transactions (in trytes).\n",
    "\n",
    "In other words, a bundle can be reconstructed anytime from a collection of transactions via fields `bundle hash`, `current index` and `last index`."
   ]
  },
  {
   "cell_type": "markdown",
   "metadata": {},
   "source": [
    "## Non-value transactions\n",
    "Let's start with non-value transactions (meta transactions) first since they are a bit easier for starters.\n",
    "\n",
    "*Please note, the chapter is divided in two separate sections. In the first section, examples are really close to bare metal (still not too close:) to illustrate the whole process and describing implementation details wherever possible. It is also useful when you want to experiment with different settings at each step (hey \"non-existing tips\", looking at you).*\n",
    "\n",
    "*In the second section, IOTA-facing libraries are fully levearged since they are capable to hide all implementation details behind a curtain. Needless to say, if you are not interested in such details then you would probably like to start with the second section.*\n",
    "\n",
    "### Creating and broadcasting transaction in 5 steps (you want to understand the process)\n",
    "#### Create a transaction\n",
    "First of all let's create transactions (offline; in memory) and set main fields.\n",
    "\n",
    "BTW: `Timestamp` field is defined automatically by the IOTA-facing libraries in the process. It is important field while creating `bundle hash`.\n",
    "\n",
    "In the examples within this chapter we are going to broadcast meta transactions (data only) to two different IOTA addresses."
   ]
  },
  {
   "cell_type": "code",
   "execution_count": 2,
   "metadata": {
    "iotadev": {
     "codeid": "445C2B9485C6",
     "standalone": "true",
     "title": "Preparing IOTA transactions to be broadcasted"
    }
   },
   "outputs": [
    {
     "name": "stdout",
     "output_type": "stream",
     "text": [
      "Created transaction objects:\n",
      "\n",
      "{'_legacy_tag': None,\n",
      " 'address': Address(b'CXDUYK9XGHC9DTSPDMKGGGXAIARSRVAFGHJOCDDHWADLVBBOEHLICHTMGKVDOGRU9TBESJNHAXYPVJ9R9'),\n",
      " 'attachment_timestamp': 0,\n",
      " 'attachment_timestamp_lower_bound': 0,\n",
      " 'attachment_timestamp_upper_bound': 0,\n",
      " 'branch_transaction_hash': TransactionHash(b'999999999999999999999999999999999999999999999999999999999999999999999999999999999'),\n",
      " 'bundle_hash': None,\n",
      " 'current_index': None,\n",
      " 'hash': None,\n",
      " 'is_confirmed': None,\n",
      " 'last_index': None,\n",
      " 'message': TryteString(b'RBTCFDTCEARCCDADTCGDEAPCEAUCXCFDGDHDEAADTCGDGDPCVCTCSAEAXBCDKDEAXCGDEAWAUAVABBRAUA9BRAWAABEAUA9BDBWAZADBZACBSAXAVAABXAABWA'),\n",
      " 'nonce': Nonce(b'999999999999999999999999999'),\n",
      " 'signature_message_fragment': None,\n",
      " 'tag': Tag(b'HRIBEK999IOTA999TUTORIAL999'),\n",
      " 'timestamp': 1530080759,\n",
      " 'trunk_transaction_hash': TransactionHash(b'999999999999999999999999999999999999999999999999999999999999999999999999999999999'),\n",
      " 'value': 0}\n",
      "\n",
      "\n",
      "{'_legacy_tag': None,\n",
      " 'address': Address(b'CYJV9DRIE9NCQJYLOYOJOGKQGOOELTWXVWUYGQSWCNODHJAHACADUAAHQ9ODUICCESOIVZABA9LTMM9RW'),\n",
      " 'attachment_timestamp': 0,\n",
      " 'attachment_timestamp_lower_bound': 0,\n",
      " 'attachment_timestamp_upper_bound': 0,\n",
      " 'branch_transaction_hash': TransactionHash(b'999999999999999999999999999999999999999999999999999999999999999999999999999999999'),\n",
      " 'bundle_hash': None,\n",
      " 'current_index': None,\n",
      " 'hash': None,\n",
      " 'is_confirmed': None,\n",
      " 'last_index': None,\n",
      " 'message': TryteString(b'RBTCFDTCEARCCDADTCGDEAPCEAGDTCRCCDBDSCEAADTCGDGDPCVCTCSAEAXBCDKDEAXCGDEAWAUAVABBRAUA9BRAWAABEAUA9BDBWAZADBZACBSAXAVAABXAABWA'),\n",
      " 'nonce': Nonce(b'999999999999999999999999999'),\n",
      " 'signature_message_fragment': None,\n",
      " 'tag': Tag(b'HRIBEK999IOTA999TUTORIAL999'),\n",
      " 'timestamp': 1530080759,\n",
      " 'trunk_transaction_hash': TransactionHash(b'999999999999999999999999999999999999999999999999999999999999999999999999999999999'),\n",
      " 'value': 0}\n"
     ]
    }
   ],
   "source": [
    "import iota\n",
    "from datetime import datetime\n",
    "from pprint import pprint\n",
    "\n",
    "MySeed = b\"HGW9HB9LJPYUGVHNGCPLFKKPNZAIIFHZBDHKSGMQKFMANUBASSMSV9TAJSSMPRZZU9SFZULXKJ9YLAIUA\"\n",
    "TargetAddress1 = b\"CXDUYK9XGHC9DTSPDMKGGGXAIARSRVAFGHJOCDDHWADLVBBOEHLICHTMGKVDOGRU9TBESJNHAXYPVJ9R9\"\n",
    "TargetAddress2 = b\"CYJV9DRIE9NCQJYLOYOJOGKQGOOELTWXVWUYGQSWCNODHJAHACADUAAHQ9ODUICCESOIVZABA9LTMM9RW\"\n",
    "\n",
    "NowIs = datetime.now() # get a actual date & time - just to have some meaningfull info\n",
    "\n",
    "# preparing transactions\n",
    "pt = iota.ProposedTransaction(address = iota.Address(TargetAddress1), # 81 trytes long address\n",
    "                              message = iota.TryteString.from_unicode('Here comes a first message. Now is %s' % (NowIs)),\n",
    "                              tag     = iota.Tag(b'HRIBEK999IOTA999TUTORIAL'), # Up to 27 trytes\n",
    "                              value   = 0)\n",
    "\n",
    "pt2 = iota.ProposedTransaction(address = iota.Address(TargetAddress2), # 81 trytes long address\n",
    "                               message = iota.TryteString.from_unicode('Here comes a second message. Now is %s' % (NowIs)),\n",
    "                               tag     = iota.Tag(b'HRIBEK999IOTA999TUTORIAL'), # Up to 27 trytes\n",
    "                               value   = 0)\n",
    "# besides the given attributes, library also adds a transaction timestamp\n",
    "\n",
    "print(\"Created transaction objects:\\n\")\n",
    "pprint(vars(pt))\n",
    "print(\"\\n\")\n",
    "pprint(vars(pt2))"
   ]
  },
  {
   "cell_type": "markdown",
   "metadata": {},
   "source": [
    "#### Finalizing bundle\n",
    "Once all individual transactions are created it is time to prepare and finalize the bundle. While preparing the bundle you need at least to specify list of prepared transaction(s). In case of non-value transactions it is quite straightforward process. However, it is a bit more complicated in case of value transactions - please see later.\n",
    "\n",
    "Finalizing the bundle consists of several tasks under the hood:\n",
    "* Each transaction is indexed. Attributes `current_index` / `last_index` are set\n",
    "* `Bundle hash` is generated (*Sponge function* + normalization) and assigned to each transaction\n",
    "* `signatureMessageFragment` is bascially copy of `message` field in case of non-value transactions\n",
    "* PyOTA library also checks whether the data in `message` field is larger than transaction allows (2187 trytes). If this is the case then it takes care of it and split your data into several transactions\n",
    "\n",
    "*Please note, finalizing the bundle also means you are no longer able to add new transactions to the bundle post the finalization process.*\n",
    "\n",
    "Simply put, `bundle hash` is a cryptographic \"fingerprint\" of all transactions in the bundle. It uniquely represents them and so as long as transactions are the same (incl their particular order) the `bundle hash` is also the same.\n",
    "\n",
    "$$BundleHash = fce(address, value, legacy tag, timestamp, current index, last index)$$\n",
    "\n",
    "You may be wondering what is a difference between `tag` and `legacy_tag`. `Tag` includes actualy the tag that was defined during the transaction creation. `Legacy_tag` is also based on it however it is modified during the normalization process while bundle hashing to be sure that `bundle hash` is can be securely used while TX signing. That's why the `bundle hash` is sometimes refered as `normalized bundle hash`.\n",
    "\n",
    "The bundle refers to the first transaction in collection as `tail_transaction`. You can perceive `tail transaction` as an official representative of the whole bundle while checking for confirmation status, etc. Remember, the bundle is an atomic entity and so whatever is done to bundle it applies to ALL transactions within."
   ]
  },
  {
   "cell_type": "code",
   "execution_count": 5,
   "metadata": {
    "iotadev": {
     "codeid": "C4C3A3808862",
     "standalone": "false",
     "title": "Preparing IOTA bundle to be broadcasted"
    }
   },
   "outputs": [
    {
     "name": "stdout",
     "output_type": "stream",
     "text": [
      "\n",
      "Generated bundle hash: TL9EHBGBIDCTLCARLPKBSUQIG9CKQPDGTLOVNLG9TALAGEWQRBEK9DPLDDBGOAZIREKGYPYFCWJCTOADW\n",
      "\n",
      "Tail Transaction in the Bundle is a transaction #0.\n",
      "\n",
      "List of all transactions in the bundle:\n",
      "\n",
      "{'_legacy_tag': Tag(b'PVIBEK999IOTA999TUTORIAL999'),\n",
      " 'address': Address(b'CXDUYK9XGHC9DTSPDMKGGGXAIARSRVAFGHJOCDDHWADLVBBOEHLICHTMGKVDOGRU9TBESJNHAXYPVJ9R9'),\n",
      " 'attachment_timestamp': 0,\n",
      " 'attachment_timestamp_lower_bound': 0,\n",
      " 'attachment_timestamp_upper_bound': 0,\n",
      " 'branch_transaction_hash': TransactionHash(b'999999999999999999999999999999999999999999999999999999999999999999999999999999999'),\n",
      " 'bundle_hash': BundleHash(b'TL9EHBGBIDCTLCARLPKBSUQIG9CKQPDGTLOVNLG9TALAGEWQRBEK9DPLDDBGOAZIREKGYPYFCWJCTOADW'),\n",
      " 'current_index': 0,\n",
      " 'hash': None,\n",
      " 'is_confirmed': None,\n",
      " 'last_index': 1,\n",
      " 'message': TryteString(b'RBTCFDTCEARCCDADTCGDEAPCEAUCXCFDGDHDEAADTCGDGDPCVCTCSAEAXBCDKDEAXCGDEAWAUAVABBRAUA9BRAWAABEAUA9BDBWAZADBZACBSAXAVAABXAABWA'),\n",
      " 'nonce': Nonce(b'999999999999999999999999999'),\n",
      " 'signature_message_fragment': Fragment(b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n",
      " 'tag': Tag(b'HRIBEK999IOTA999TUTORIAL999'),\n",
      " 'timestamp': 1530080759,\n",
      " 'trunk_transaction_hash': TransactionHash(b'999999999999999999999999999999999999999999999999999999999999999999999999999999999'),\n",
      " 'value': 0}\n",
      "\n",
      "\n",
      "{'_legacy_tag': None,\n",
      " 'address': Address(b'CYJV9DRIE9NCQJYLOYOJOGKQGOOELTWXVWUYGQSWCNODHJAHACADUAAHQ9ODUICCESOIVZABA9LTMM9RW'),\n",
      " 'attachment_timestamp': 0,\n",
      " 'attachment_timestamp_lower_bound': 0,\n",
      " 'attachment_timestamp_upper_bound': 0,\n",
      " 'branch_transaction_hash': TransactionHash(b'999999999999999999999999999999999999999999999999999999999999999999999999999999999'),\n",
      " 'bundle_hash': BundleHash(b'TL9EHBGBIDCTLCARLPKBSUQIG9CKQPDGTLOVNLG9TALAGEWQRBEK9DPLDDBGOAZIREKGYPYFCWJCTOADW'),\n",
      " 'current_index': 1,\n",
      " 'hash': None,\n",
      " 'is_confirmed': None,\n",
      " 'last_index': 1,\n",
      " 'message': TryteString(b'RBTCFDTCEARCCDADTCGDEAPCEAGDTCRCCDBDSCEAADTCGDGDPCVCTCSAEAXBCDKDEAXCGDEAWAUAVABBRAUA9BRAWAABEAUA9BDBWAZADBZACBSAXAVAABXAABWA'),\n",
      " 'nonce': Nonce(b'999999999999999999999999999'),\n",
      " 'signature_message_fragment': Fragment(b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n",
      " 'tag': Tag(b'HRIBEK999IOTA999TUTORIAL999'),\n",
      " 'timestamp': 1530080759,\n",
      " 'trunk_transaction_hash': TransactionHash(b'999999999999999999999999999999999999999999999999999999999999999999999999999999999'),\n",
      " 'value': 0}\n",
      "\n",
      "\n"
     ]
    }
   ],
   "source": [
    "# preparing bundle that consists of both transactions prepared in the previous example\n",
    "pb = iota.ProposedBundle(transactions=[pt,pt2]) # list of prepared transactions is needed at least\n",
    "\n",
    "# generate bundle hash using sponge/absorb function + normalize bundle hash + copy bundle hash into each transaction / bundle is finalized\n",
    "pb.finalize()\n",
    "\n",
    "#bundle is finalized, let's print it\n",
    "print(\"\\nGenerated bundle hash: %s\" % (pb.hash))\n",
    "print(\"\\nTail Transaction in the Bundle is a transaction #%s.\" % (pb.tail_transaction.current_index))\n",
    "        \n",
    "print(\"\\nList of all transactions in the bundle:\\n\")\n",
    "for txn in pb:\n",
    "    pprint(vars(txn))\n",
    "    print(\"\")\n"
   ]
  },
  {
   "cell_type": "markdown",
   "metadata": {},
   "source": [
    "At this stage you can also see how does our finalized bundle look encoded in Trytes so far. It is also a proof that there is no bundle to be broadcasted itself, only list of transations matter."
   ]
  },
  {
   "cell_type": "code",
   "execution_count": 6,
   "metadata": {
    "iotadev": {
     "codeid": "B4FE2962FB5C",
     "standalone": "false",
     "title": "Getting IOTA bundle as trytes"
    }
   },
   "outputs": [
    {
     "name": "stdout",
     "output_type": "stream",
     "text": [
      "[TransactionTrytes(b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n",
      " TransactionTrytes(b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n"
     ]
    }
   ],
   "source": [
    "Trytes = pb.as_tryte_strings() # bundle as trytes\n",
    "pprint(Trytes)\n"
   ]
  },
  {
   "cell_type": "markdown",
   "metadata": {},
   "source": [
    "#### Selecting two tips\n",
    "As mentioned earlier you need to find two tips that you are going to validate together with your bundle for a sake of network participation. This will be outsourced to an IOTA node and so it will be for the first time we interact with the network (via API call `get_transactions_to_approve`).\n",
    "\n",
    "There is a `depth` parameter needed. It instructs a node how many milestones it should go in the past while confirming tips. The higher value the better to network however more resources needed. `Depth=3` is considered to be well-balanced compromise. Higher value than `depth=10` will probably throw an exception depending on node's configuration.\n",
    "\n",
    "It should return two selected tips as `branch` and `trunk` transactions. Those transactions will be used while broadcasting the bundle."
   ]
  },
  {
   "cell_type": "code",
   "execution_count": 7,
   "metadata": {
    "iotadev": {
     "codeid": "20F0C730001B",
     "standalone": "false",
     "title": "Selecting tips to be confirmed: API call Get_transactions_to_approve()"
    }
   },
   "outputs": [
    {
     "name": "stdout",
     "output_type": "stream",
     "text": [
      "{'branchTransaction': TransactionHash(b'KQBDDBHWHVLQSJFENGWRBHIOULOMC9GXDW99ECMVFHZXGFZQJOXATSMDLYQJFBZCXA9IJ9SQUXAFZ9999'),\n",
      " 'duration': 1700,\n",
      " 'fieldName': 'F-Node Montabaur',\n",
      " 'fieldPublicId': '1bdeeb759f960554',\n",
      " 'fieldVersion': '0.1.6',\n",
      " 'trunkTransaction': TransactionHash(b'RRYDZLPS9IWCSWRROPQQJTKBRONOJNLUHVHFXFEOZAVGFEOUAHXWWHJSHAGWSSNSMWHN9SEYNBOEA9999')}\n"
     ]
    }
   ],
   "source": [
    "api = iota.Iota(\"https://nodes.thetangle.org:443\") # selecting IOTA node\n",
    "\n",
    "gta = api.get_transactions_to_approve(depth=3) # get tips to be approved by your bundle\n",
    "pprint(gta)\n",
    "\n"
   ]
  },
  {
   "cell_type": "markdown",
   "metadata": {},
   "source": [
    "#### Performin' POW\n",
    "*Proof of work* is a relatively simple cryptograhic puzzle to be solved. It represents energy-based costs of your transaction. It also helps to minimize risks of some attack vectors to the network.\n",
    "\n",
    "This task can be also outsourced to IOTA nodes. In order to perform it you need *selected tips*, *finalized bundle* (in trytes) and also `Minimum Weight Magnitude` parameter. This parameter defines how diffciult the given cryptographic puzzle should be to be accepted by the network. As of now, you should set at least `min_weight_magnitude=14` in case of mainnet.\n",
    "\n",
    "Please note, POW is performed per each transaction and so it can take some time. That's why it is not recommended to have more than 30 transactions in a bundle.\n",
    "\n",
    "Once succesfully performed, the modified bundle (list of all transactions in trytes) is returned in order to be broadcasted.\n",
    "\n",
    "Specifically:\n",
    "* Fields `nonce` and `transaction hash` are calculated per each transaction\n",
    "* `Trunk` and `Branch` tips are correctly mapped among transactions within the bundle. Check that `trunk` of the first TX refers to the second TX, etc."
   ]
  },
  {
   "cell_type": "code",
   "execution_count": 8,
   "metadata": {
    "iotadev": {
     "codeid": "1DFBE208CD1D",
     "standalone": "false",
     "title": "Performing POW: API call Attach_to_tangle()"
    }
   },
   "outputs": [
    {
     "name": "stdout",
     "output_type": "stream",
     "text": [
      "Performing POW... Wait please...\n",
      "\n",
      "{'duration': 12267,\n",
      " 'fieldName': 'iota-fn01.sairai.de',\n",
      " 'fieldPublicId': '45f52c5a2e829a00',\n",
      " 'fieldVersion': '0.1.6',\n",
      " 'trytes': [TransactionTrytes(b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n",
      "            TransactionTrytes(b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}\n"
     ]
    }
   ],
   "source": [
    "print(\"Performing POW... Wait please...\\n\")\n",
    "att = api.attach_to_tangle(trunk_transaction=gta['trunkTransaction'], # first tip selected\n",
    "                           branch_transaction=gta['branchTransaction'], # second tip selected\n",
    "                           trytes=Trytes, # our finalized bundle in Trytes\n",
    "                           min_weight_magnitude=14) # MWMN\n",
    "pprint(att)"
   ]
  },
  {
   "cell_type": "markdown",
   "metadata": {},
   "source": [
    "You can eventually also preview what specific fields have been modified using transaction objects. The bundle is ready to be broadcasted and so it also show you all fields/values that will be stored in the network."
   ]
  },
  {
   "cell_type": "code",
   "execution_count": 10,
   "metadata": {
    "iotadev": {
     "codeid": "8817C6010CDD",
     "standalone": "false",
     "title": "Preview of IOTA bundle and its transactions"
    }
   },
   "outputs": [
    {
     "name": "stdout",
     "output_type": "stream",
     "text": [
      "Final bundle including POW and branch/trunk transactions:\n",
      "\n",
      "{'_legacy_tag': Tag(b'PVIBEK999IOTA999TUTORIAL999'),\n",
      " 'address': Address(b'CXDUYK9XGHC9DTSPDMKGGGXAIARSRVAFGHJOCDDHWADLVBBOEHLICHTMGKVDOGRU9TBESJNHAXYPVJ9R9'),\n",
      " 'attachment_timestamp': 1530081729891,\n",
      " 'attachment_timestamp_lower_bound': 0,\n",
      " 'attachment_timestamp_upper_bound': 12,\n",
      " 'branch_transaction_hash': TransactionHash(b'RRYDZLPS9IWCSWRROPQQJTKBRONOJNLUHVHFXFEOZAVGFEOUAHXWWHJSHAGWSSNSMWHN9SEYNBOEA9999'),\n",
      " 'bundle_hash': BundleHash(b'TL9EHBGBIDCTLCARLPKBSUQIG9CKQPDGTLOVNLG9TALAGEWQRBEK9DPLDDBGOAZIREKGYPYFCWJCTOADW'),\n",
      " 'current_index': 0,\n",
      " 'hash': TransactionHash(b'SYDECKQB9BHWFUYOZMANREHOCXHCOPY9JCSZSNIZRNDJTZXHHSESCCLQOENGRVFLDMNXYAHHEWRDZ9999'),\n",
      " 'is_confirmed': None,\n",
      " 'last_index': 1,\n",
      " 'nonce': Nonce(b'QRZIERPEJFLKTIVKEBQIHJXTAX9'),\n",
      " 'signature_message_fragment': Fragment(b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n",
      " 'tag': Tag(b'HRIBEK999IOTA999TUTORIAL999'),\n",
      " 'timestamp': 1530080759,\n",
      " 'trunk_transaction_hash': TransactionHash(b'NNNY9QAGVOOGTCIGBBEPIYISUZKNJYUQMROBTZARQVPHONNLQNQFAHTBNXMYWDFHAHMNRJ9URLKX99999'),\n",
      " 'value': 0}\n",
      "\n",
      "{'_legacy_tag': Tag(b'HRIBEK999IOTA999TUTORIAL999'),\n",
      " 'address': Address(b'CYJV9DRIE9NCQJYLOYOJOGKQGOOELTWXVWUYGQSWCNODHJAHACADUAAHQ9ODUICCESOIVZABA9LTMM9RW'),\n",
      " 'attachment_timestamp': 1530081719485,\n",
      " 'attachment_timestamp_lower_bound': 0,\n",
      " 'attachment_timestamp_upper_bound': 12,\n",
      " 'branch_transaction_hash': TransactionHash(b'KQBDDBHWHVLQSJFENGWRBHIOULOMC9GXDW99ECMVFHZXGFZQJOXATSMDLYQJFBZCXA9IJ9SQUXAFZ9999'),\n",
      " 'bundle_hash': BundleHash(b'TL9EHBGBIDCTLCARLPKBSUQIG9CKQPDGTLOVNLG9TALAGEWQRBEK9DPLDDBGOAZIREKGYPYFCWJCTOADW'),\n",
      " 'current_index': 1,\n",
      " 'hash': TransactionHash(b'NNNY9QAGVOOGTCIGBBEPIYISUZKNJYUQMROBTZARQVPHONNLQNQFAHTBNXMYWDFHAHMNRJ9URLKX99999'),\n",
      " 'is_confirmed': None,\n",
      " 'last_index': 1,\n",
      " 'nonce': Nonce(b'OOLRWTCMJMIQIAUVWBY9TVMZAJJ'),\n",
      " 'signature_message_fragment': Fragment(b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n",
      " 'tag': Tag(b'HRIBEK999IOTA999TUTORIAL999'),\n",
      " 'timestamp': 1530080759,\n",
      " 'trunk_transaction_hash': TransactionHash(b'RRYDZLPS9IWCSWRROPQQJTKBRONOJNLUHVHFXFEOZAVGFEOUAHXWWHJSHAGWSSNSMWHN9SEYNBOEA9999'),\n",
      " 'value': 0}\n",
      "\n"
     ]
    }
   ],
   "source": [
    "# show what has been broadcasted - hash transaction + nonce (POW)\n",
    "print(\"Final bundle including POW and branch/trunk transactions:\\n\")\n",
    "for t in att['trytes']:\n",
    "    pprint(vars(iota.Transaction.from_tryte_string(t)))\n",
    "    print(\"\")"
   ]
  },
  {
   "cell_type": "markdown",
   "metadata": {},
   "source": [
    "#### Broadcasting\n",
    "Now it is time to broadcast the given bundle to the network. List of all transations in trytes returned from the previous step is only thing needed.\n",
    "\n",
    "Once succesfully broadcasted it returns the same input bundle as a confirmation."
   ]
  },
  {
   "cell_type": "code",
   "execution_count": 11,
   "metadata": {
    "iotadev": {
     "codeid": "CD0C67713BF9",
     "standalone": "false",
     "title": "Broadcasting IOTA bundle: API call Broadcast_and_store()"
    }
   },
   "outputs": [
    {
     "name": "stdout",
     "output_type": "stream",
     "text": [
      "Broadcasting transaction...\n",
      "{'trytes': [TransactionTrytes(b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n",
      "            TransactionTrytes(b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}\n"
     ]
    }
   ],
   "source": [
    "print(\"Broadcasting transaction...\")\n",
    "res = api.broadcast_and_store(att['trytes'])\n",
    "pprint(res)"
   ]
  },
  {
   "cell_type": "markdown",
   "metadata": {},
   "source": [
    "You can check the broadcasted bundle via The Tangle Explorer at any of the receiving addresses:\n",
    "* Target address 1: https://thetangle.org/address/CXDUYK9XGHC9DTSPDMKGGGXAIARSRVAFGHJOCDDHWADLVBBOEHLICHTMGKVDOGRU9TBESJNHAXYPVJ9R9\n",
    "* Target address 2: \n",
    "https://thetangle.org/address/CYJV9DRIE9NCQJYLOYOJOGKQGOOELTWXVWUYGQSWCNODHJAHACADUAAHQ9ODUICCESOIVZABA9LTMM9RW"
   ]
  },
  {
   "cell_type": "markdown",
   "metadata": {},
   "source": [
    "### Creating and broadcasting transaction in a single call (you want send a transaction quickly)\n",
    "As mentioned above, IOTA-facing libraries are able to encapsulate all implementation details and so you do not need to care of them anymore. It is usually based on *extended API calls* that were proposed to be included by IOTA Foundation to make developer's life easier (https://github.com/iotaledger/wiki/blob/master/api-proposal.md).\n",
    "\n",
    "Even if using extended API calls you can still slightly control a level of your involvement in the whole process. From almost no involvement and fully automatic (`send_transfer()`) to semi-manual approach discussed above.\n",
    "\n",
    "![Different API calls](https://raw.githubusercontent.com/Hribek25/IOTA101/master/Graphics/Different_API_calls.png \"By Petr Zizka\")\n",
    "\n",
    "There are some specifics you should consider while designing your app:\n",
    "* You are loosing a bit of control of individual steps of the process and you have to rely of some predefined parameters (tip selection algo, etc.)\n",
    "* If there is an exception raised during the process then you need to go back at beginning and restart the whole process again\n",
    "\n",
    "So it is basically your call to decide what works best for you.\n",
    "\n",
    "Now back to our exercise. Here comes a code that basically broadcasts transactions in a single call (`send_transfer()`) and you do not have to care of any implemenation details that are hidden under the hood."
   ]
  },
  {
   "cell_type": "code",
   "execution_count": 2,
   "metadata": {
    "iotadev": {
     "codeid": "00663E550ADF",
     "standalone": "true",
     "title": "Sending IOTA transaction in a single call: API call Send_transfer()"
    }
   },
   "outputs": [
    {
     "name": "stdout",
     "output_type": "stream",
     "text": [
      "Preparing/Broadcasting... Wait please...\n",
      "\n",
      "Generated bundle hash: AEFTRFKZLIFXSQCBLJOEDKYKPHSJD9UZFFAYVYELHKYVDRKXQKOKQTOCLBLCLEODRGZPUAWOXSFHJEPOW\n",
      "\n",
      "Tail Transaction in the Bundle is a transaction #0.\n",
      "\n",
      "List of all transactions in the bundle:\n",
      "\n",
      "{'_legacy_tag': Tag(b'ECIBEK999IOTA999TUTORIAL999'),\n",
      " 'address': Address(b'CXDUYK9XGHC9DTSPDMKGGGXAIARSRVAFGHJOCDDHWADLVBBOEHLICHTMGKVDOGRU9TBESJNHAXYPVJ9R9'),\n",
      " 'attachment_timestamp': 1532100908930,\n",
      " 'attachment_timestamp_lower_bound': 0,\n",
      " 'attachment_timestamp_upper_bound': 3812798742493,\n",
      " 'branch_transaction_hash': TransactionHash(b'SCVPZOUXDBIV9AJBVEE9SRLWWJZIXRKWHFMI9HDNZ9D9YPRLAFVIJ9OJZQWUXMOTMCQRBTMM9CRK99999'),\n",
      " 'bundle_hash': BundleHash(b'AEFTRFKZLIFXSQCBLJOEDKYKPHSJD9UZFFAYVYELHKYVDRKXQKOKQTOCLBLCLEODRGZPUAWOXSFHJEPOW'),\n",
      " 'current_index': 0,\n",
      " 'hash': TransactionHash(b'SVZ99MALQGVFHPONJTHRPPLIFBJWJWJTEHOGWTFRPZGDSPDKEUCIWLGPNKEFXLAGXEODSBBETKBP99999'),\n",
      " 'is_confirmed': None,\n",
      " 'last_index': 1,\n",
      " 'nonce': Nonce(b'WRMXCTEXLGCMUZJOBSCMHNQD9VS'),\n",
      " 'signature_message_fragment': Fragment(b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n",
      " 'tag': Tag(b'HRIBEK999IOTA999TUTORIAL999'),\n",
      " 'timestamp': 1532100900,\n",
      " 'trunk_transaction_hash': TransactionHash(b'CVRWTIPJHU9DOIZUNMEIOCPPMITKILETO9QALYEZCULKRD9ALIUYYQFYWPJEMYGBSNS9WUAHGCHEZ9999'),\n",
      " 'value': 0}\n",
      "\n",
      "{'_legacy_tag': Tag(b'HRIBEK999IOTA999TUTORIAL999'),\n",
      " 'address': Address(b'CYJV9DRIE9NCQJYLOYOJOGKQGOOELTWXVWUYGQSWCNODHJAHACADUAAHQ9ODUICCESOIVZABA9LTMM9RW'),\n",
      " 'attachment_timestamp': 1532100903056,\n",
      " 'attachment_timestamp_lower_bound': 0,\n",
      " 'attachment_timestamp_upper_bound': 3812798742493,\n",
      " 'branch_transaction_hash': TransactionHash(b'XUBGHJCEBSJXQYQJHBFBCVLVFLAM9SXLDFJJRRQISEXJJXCMNCRDXJABTHZEDW9RZWBWALDXAQCRA9999'),\n",
      " 'bundle_hash': BundleHash(b'AEFTRFKZLIFXSQCBLJOEDKYKPHSJD9UZFFAYVYELHKYVDRKXQKOKQTOCLBLCLEODRGZPUAWOXSFHJEPOW'),\n",
      " 'current_index': 1,\n",
      " 'hash': TransactionHash(b'CVRWTIPJHU9DOIZUNMEIOCPPMITKILETO9QALYEZCULKRD9ALIUYYQFYWPJEMYGBSNS9WUAHGCHEZ9999'),\n",
      " 'is_confirmed': None,\n",
      " 'last_index': 1,\n",
      " 'nonce': Nonce(b'FXXJWXQEMJFJMNRIWULHJDPFVRI'),\n",
      " 'signature_message_fragment': Fragment(b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n",
      " 'tag': Tag(b'HRIBEK999IOTA999TUTORIAL999'),\n",
      " 'timestamp': 1532100900,\n",
      " 'trunk_transaction_hash': TransactionHash(b'SCVPZOUXDBIV9AJBVEE9SRLWWJZIXRKWHFMI9HDNZ9D9YPRLAFVIJ9OJZQWUXMOTMCQRBTMM9CRK99999'),\n",
      " 'value': 0}\n",
      "\n"
     ]
    }
   ],
   "source": [
    "import iota\n",
    "from datetime import datetime\n",
    "from pprint import pprint\n",
    "\n",
    "MySeed = b\"HGW9HB9LJPYUGVHNGCPLFKKPNZAIIFHZBDHKSGMQKFMANUBASSMSV9TAJSSMPRZZU9SFZULXKJ9YLAIUA\"\n",
    "TargetAddress1 = b\"CXDUYK9XGHC9DTSPDMKGGGXAIARSRVAFGHJOCDDHWADLVBBOEHLICHTMGKVDOGRU9TBESJNHAXYPVJ9R9\"\n",
    "TargetAddress2 = b\"CYJV9DRIE9NCQJYLOYOJOGKQGOOELTWXVWUYGQSWCNODHJAHACADUAAHQ9ODUICCESOIVZABA9LTMM9RW\"\n",
    "\n",
    "NowIs = datetime.now() # get a actual date & time - just to have some meaningfull info\n",
    "\n",
    "# preparing transactions\n",
    "pt = iota.ProposedTransaction(address = iota.Address(TargetAddress1), # 81 trytes long address\n",
    "                              message = iota.TryteString.from_unicode('Here comes a first message. Now is %s' % (NowIs)),\n",
    "                              tag     = iota.Tag(b'HRIBEK999IOTA999TUTORIAL'), # Up to 27 trytes\n",
    "                              value   = 0)\n",
    "\n",
    "pt2 = iota.ProposedTransaction(address = iota.Address(TargetAddress2), # 81 trytes long address\n",
    "                               message = iota.TryteString.from_unicode('Here comes a second message. Now is %s' % (NowIs)),\n",
    "                               tag     = iota.Tag(b'HRIBEK999IOTA999TUTORIAL'), # Up to 27 trytes\n",
    "                               value   = 0)\n",
    "# besides the given attributes, library also adds a transaction timestamp\n",
    "\n",
    "\n",
    "api = iota.Iota(\"https://field.deviota.com:443\")\n",
    "\n",
    "print(\"Preparing/Broadcasting... Wait please...\")\n",
    "# the whole process initiated in a single call\n",
    "FinalBundle = api.send_transfer(depth=3,\n",
    "                                transfers=[pt,pt2],\n",
    "                                min_weight_magnitude=14)['bundle'] # it returns a dictionary with a bundle object\n",
    "    \n",
    "#bundle is broadcasted, let's print it\n",
    "print(\"\\nGenerated bundle hash: %s\" % (FinalBundle.hash))\n",
    "print(\"\\nTail Transaction in the Bundle is a transaction #%s.\" % (FinalBundle.tail_transaction.current_index))\n",
    "        \n",
    "print(\"\\nList of all transactions in the bundle:\\n\")\n",
    "for txn in FinalBundle:\n",
    "    pprint(vars(txn))\n",
    "    print(\"\")"
   ]
  },
  {
   "cell_type": "markdown",
   "metadata": {},
   "source": [
    "You can check the broadcasted bundle via The Tangle Explorer at any of the receiving addresses:\n",
    "* Target address 1: https://thetangle.org/address/CXDUYK9XGHC9DTSPDMKGGGXAIARSRVAFGHJOCDDHWADLVBBOEHLICHTMGKVDOGRU9TBESJNHAXYPVJ9R9\n",
    "* Target address 2: \n",
    "https://thetangle.org/address/CYJV9DRIE9NCQJYLOYOJOGKQGOOELTWXVWUYGQSWCNODHJAHACADUAAHQ9ODUICCESOIVZABA9LTMM9RW"
   ]
  },
  {
   "cell_type": "markdown",
   "metadata": {},
   "source": [
    "And to complete the picture here is addtional code that uses `prepare_transfer()` and `send_trytes()` combo."
   ]
  },
  {
   "cell_type": "code",
   "execution_count": 1,
   "metadata": {
    "iotadev": {
     "codeid": "07CFD43B146C",
     "standalone": "true",
     "title": "Sending IOTA transaction in more granular way: API calls Prepare_transfer() and Send_transfer()"
    }
   },
   "outputs": [
    {
     "name": "stdout",
     "output_type": "stream",
     "text": [
      "Almost prepared bundle - tips and POW are still missing\n",
      "{'trytes': [TransactionTrytes(b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n",
      "            TransactionTrytes(b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}\n",
      "\n",
      "Searching for tips and performing POW... Wait please...\n",
      "Bundle was broadcasted.\n",
      "\n",
      "Final transactions were returned - including nonce (POW)\n",
      "{'trytes': [TransactionTrytes(b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n",
      "            TransactionTrytes(b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}\n"
     ]
    }
   ],
   "source": [
    "import iota\n",
    "from datetime import datetime\n",
    "from pprint import pprint\n",
    "\n",
    "MySeed = b\"HGW9HB9LJPYUGVHNGCPLFKKPNZAIIFHZBDHKSGMQKFMANUBASSMSV9TAJSSMPRZZU9SFZULXKJ9YLAIUA\"\n",
    "TargetAddress1 = b\"CXDUYK9XGHC9DTSPDMKGGGXAIARSRVAFGHJOCDDHWADLVBBOEHLICHTMGKVDOGRU9TBESJNHAXYPVJ9R9\"\n",
    "TargetAddress2 = b\"CYJV9DRIE9NCQJYLOYOJOGKQGOOELTWXVWUYGQSWCNODHJAHACADUAAHQ9ODUICCESOIVZABA9LTMM9RW\"\n",
    "\n",
    "NowIs = datetime.now() # get a actual date & time - just to have some meaningfull info\n",
    "\n",
    "# preparing transactions\n",
    "pt = iota.ProposedTransaction(address = iota.Address(TargetAddress1), # 81 trytes long address\n",
    "                              message = iota.TryteString.from_unicode('Here comes a first message. Now is %s' % (NowIs)),\n",
    "                              tag     = iota.Tag(b'HRIBEK999IOTA999TUTORIAL'), # Up to 27 trytes\n",
    "                              value   = 0)\n",
    "\n",
    "pt2 = iota.ProposedTransaction(address = iota.Address(TargetAddress2), # 81 trytes long address\n",
    "                               message = iota.TryteString.from_unicode('Here comes a second message. Now is %s' % (NowIs)),\n",
    "                               tag     = iota.Tag(b'HRIBEK999IOTA999TUTORIAL'), # Up to 27 trytes\n",
    "                               value   = 0)\n",
    "# besides the given attributes, library also adds a transaction timestamp\n",
    "\n",
    "\n",
    "api = iota.Iota(\"https://field.deviota.com:443\")\n",
    "\n",
    "# Creating bundle, preparing inputs and finalizing bundle. It returns trytes of prepared TXs\n",
    "Trytes = api.prepare_transfer(transfers=[pt,pt2]) \n",
    "    \n",
    "print(\"Almost prepared bundle - tips and POW are still missing\")\n",
    "pprint(Trytes)\n",
    "    \n",
    "print(\"\\nSearching for tips and performing POW... Wait please...\")\n",
    "Result = api.send_trytes(trytes=Trytes[\"trytes\"],\n",
    "                         depth=3) # Searching for tips, performing POW and broadcasting\n",
    "\n",
    "print(\"Bundle was broadcasted.\")\n",
    "  \n",
    "print(\"\\nFinal transactions were returned - including nonce (POW)\")\n",
    "pprint(Result)"
   ]
  },
  {
   "cell_type": "markdown",
   "metadata": {},
   "source": [
    "You can check the broadcasted bundle via The Tangle Explorer at any of the receiving addresses:\n",
    "* Target address 1: https://thetangle.org/address/CXDUYK9XGHC9DTSPDMKGGGXAIARSRVAFGHJOCDDHWADLVBBOEHLICHTMGKVDOGRU9TBESJNHAXYPVJ9R9\n",
    "* Target address 2: \n",
    "https://thetangle.org/address/CYJV9DRIE9NCQJYLOYOJOGKQGOOELTWXVWUYGQSWCNODHJAHACADUAAHQ9ODUICCESOIVZABA9LTMM9RW"
   ]
  },
  {
   "cell_type": "markdown",
   "metadata": {},
   "source": [
    "## Value transactions\n",
    "Meta transactions were discussed in the previous chapter. This chapter describes `value transactions` which are transactions that transfer IOTA tokens between IOTA addresses. Tokens are fully premined and so number of tokens in the network is given. So `transfering tokens` means changing their ownership only.\n",
    "\n",
    "While preparing a bundle with `value transations` it is important to distinguish three different transaction types within a bundle:\n",
    "* **Input TXs:** those are transactions that *deducting* (spending) value from address(es). Those transactions have negative `value` field. They usually refer to `senders`\n",
    "* **Output TXs:** those are transactions that *adding* (receiving) value to address(es). Those transactions have positive `value` field. They usually refer to `recipients`\n",
    "* **Unspent/change TX:** technically speaking it is also *output* transaction that *adding* value however it usually refers to `senders` and so it is better to consider it separated from other output TXs\n",
    "\n",
    "All three types have to be part of each bundle otherwise you are under a risk of loosing IOTA tokens. In other words, each bundle should consists of at least one `input` TX, one `output` TX and one `unspent` TX. Total balance of the bundle should be zero since the number of tokens is the same, just token owners have been \"changed\".\n",
    "\n",
    "Example:\n",
    "* Alice owns 100 tokens (*input = 100*)\n",
    "* Alice is going to send 20 tokens to John from the address that includes 100 tokens of her (*Alice -100*)\n",
    "* John is going to receive 20 tokens from Alice (*output = 20*; *John +20*)\n",
    "* Alice still owns 80 tokens after the transaction (*unspent = 80*; *Alice +80*)\n",
    "\n",
    "Alice's bundle should look like:\n",
    "\\begin{align}\n",
    "Input - Output & = \\ Unspent \\\\\n",
    "Input - Output - Unspent & = \\ 0 \\\\\n",
    "100 - 20 - 80 & = \\ 0\n",
    "\\end{align}\n",
    "\n",
    "Why Alice has to \"put\" all 100 tokens in the bundle while she is going to actually spend only 20 tokens? The reason is that IOTA protocol uses one-time signature scheme (OTS) for transaction signing while spending tokens. And with every signing process a half of a private key of the given address is revealed. That's why no one should ever spend tokens from the same address again.\n",
    "![Never reuse address](https://raw.githubusercontent.com/Hribek25/IOTA101/17cde67e39b66dd7c481577497e08399fc888f96/Graphics/never-reuse-address-again.png \"By Petr Zizka\")\n",
    "\n",
    "### Spending tokens\n",
    "*Please note: for a purpose of this chapter we are going to switch to a test network called `devnet`. It is the testing Tangle. Tokens are not real and everything you do have no implication to the mainnet at all. However it is stil powered by standard node software and so technicaly speaking it behaves like the mainnet. If you need more info regarding devnet please refer to [the official documentation](https://docs.iota.org/introduction/testnet/introduction).*\n",
    "\n",
    "Everything what has been mentioned in the previous chapter focused on `non-value` transations is still valid also in case of value transactions however there are several additional tasks you should take care of. Needless to say, IOTA libraries (PyOTA and others) are ready to help you and are able to hide all implementation details in case you would like to. In this case I would encourage everyone to prefer a functionality that is offered by extended API calls, such as `send_transfer`. Experimenting with value transactions and trying to tweak them does not seem to be a good idea (on the mainnet).\n",
    "\n",
    "Anyway, even in this chapter I am going to describe main tasks that are performed under the hood to be able to understand the whole concept.\n",
    "\n",
    "Let's have the following setup:"
   ]
  },
  {
   "cell_type": "code",
   "execution_count": 2,
   "metadata": {
    "iotadev": {
     "codeid": "F0DD441072CC",
     "standalone": "false",
     "title": "Preparing variables for spending IOTA tokens"
    }
   },
   "outputs": [
    {
     "name": "stdout",
     "output_type": "stream",
     "text": [
      "Variables were initialized.\n"
     ]
    }
   ],
   "source": [
    "import iota\n",
    "from pprint import pprint\n",
    "\n",
    "# Sender's side ***********\n",
    "# Sender's seed\n",
    "SeedSender = b\"HGW9HB9LJPYUGVHNGCPLFKKPNZAIIFHZBDHKSGMQKFMANUBASSMSV9TAJSSMPRZZU9SFZULXKJ9YLAIUA\"\n",
    "\n",
    "# Receiver's side ***********\n",
    "# Recipient's seed - this is actually not needed for the exercise - it is just to have corresponding seed somewhere written\n",
    "SeedReceiver = b\"NVPDKGLESTYNJEH9DTWD9DUBYWHZJDDWTBLKWEYLVZKBKKAZTIZ9CFFJMHPEKIFUWQTXRGAVRXAQZCPHL\"\n",
    "\n",
    "# This is our target address to which we are going to send tokens to (BTW: it is a first generated address based on recipient's seed)\n",
    "AddressReceiver = b\"BMFSMZMNBGKHAWPIZIOMJGRBXZETVSAYDSTDQCHLYTBWZMIXLNXF9XHLTMOCATFVFOMBQF9IOQGPEBPDC\"\n",
    "\n",
    "#DevNet node - Devnet Tangle that is used only for testing/dev purposes - no real tokens here:(\n",
    "DevnetNode = \"https://nodes.devnet.iota.org:443\"\n",
    "\n",
    "print(\"Variables were initialized.\")"
   ]
  },
  {
   "cell_type": "markdown",
   "metadata": {},
   "source": [
    "You may be wondering why only the seed for sender's side is defined. As mentioned above the reason is that the address with tokens is changing with every spending exercise and so you have to find address with tokens that left in a bucket programatically (if any tokens left:).\n",
    "\n",
    "Let's find out. For this purpose you can use extended API call `get_account_data` which returns a list of used addresses and total sum of all tokens available accross all of them:"
   ]
  },
  {
   "cell_type": "code",
   "execution_count": 12,
   "metadata": {
    "iotadev": {
     "codeid": "0847FCD36DFF",
     "standalone": "false",
     "title": "Checking total IOTA balance: API call Get_account_data()"
    }
   },
   "outputs": [
    {
     "name": "stdout",
     "output_type": "stream",
     "text": [
      "Checking for total balance. This may take some time...\n",
      "\n",
      "Please note, this may take some time if many addresses has been used already...\n",
      "{'addresses': [Address(b'CXDUYK9XGHC9DTSPDMKGGGXAIARSRVAFGHJOCDDHWADLVBBOEHLICHTMGKVDOGRU9TBESJNHAXYPVJ9R9'),\n",
      "               Address(b'CYJV9DRIE9NCQJYLOYOJOGKQGOOELTWXVWUYGQSWCNODHJAHACADUAAHQ9ODUICCESOIVZABA9LTMM9RW'),\n",
      "               Address(b'UJCAVPMFHTAHMTVKGCRBKEKXYRPAFFLGHLAWHISFLWUPEXXQAWRZUSFMYPPTIUANFQMKPLTTCLAWDIUY9'),\n",
      "               Address(b'WMPTNPCWTVBYSEBJUCRZZIINYEUCDCTWWRVZBJPMYUPRFEEJRRDUJGXE9NYGGZMSXJUJHUISFSCWGPLJZ'),\n",
      "               Address(b'IFLULNLIIGWGV9OBDBZT9JHPVLITVOMRMAUOCGPGMIIEQABQANJTBQ9PLPSFRR9BTCOJGE9ZWIZAXCRAW'),\n",
      "               Address(b'LHPLHEZNT99XRSCPMQ9XOCIRUYOKVBLTNUVQPZCTMWOM9WHVYPFKGTFQ9MNEPSYKIV9MNPNEKLMLZONHW'),\n",
      "               Address(b'QDCWBZCONHEXBGNTUBXCUGM9BUEBEZODVNYKZYBJPQXUVHFHMJPMNTYLWDFFMWHH9RIKABAJVRSIE9GWD'),\n",
      "               Address(b'NUCUUHYYGHCHMFWYSHULQTDP9IPWNNMQTMPDRUWKPNLOTTR9LHCEJPXIBTUTEFGGVAC9L9KQKXBGWGLYW')],\n",
      " 'balance': 940,\n",
      " 'bundles': [<iota.transaction.base.Bundle object at 0x7fe1534da0f0>,\n",
      "             <iota.transaction.base.Bundle object at 0x7fe1534ca438>,\n",
      "             <iota.transaction.base.Bundle object at 0x7fe1534e1208>,\n",
      "             <iota.transaction.base.Bundle object at 0x7fe1534e7a20>,\n",
      "             <iota.transaction.base.Bundle object at 0x7fe1534db940>,\n",
      "             <iota.transaction.base.Bundle object at 0x7fe1534ad9e8>,\n",
      "             <iota.transaction.base.Bundle object at 0x7fe1534f27f0>,\n",
      "             <iota.transaction.base.Bundle object at 0x7fe1534c1d30>]}\n",
      "\n",
      "Yes, there are some tokens available! hurray\n"
     ]
    }
   ],
   "source": [
    "api = iota.Iota(DevnetNode,\n",
    "                seed=SeedSender # let's use seed of the sender and so library can do all hard work\n",
    "               )\n",
    "\n",
    "print(\"Checking for total balance. This may take some time...\")\n",
    "\n",
    "# now we can find out whether there are any tokens left\n",
    "SenderBalance = api.get_account_data(start=0,\n",
    "                                    stop=None) # Get the total available balance for the given seed and all related used addresses\n",
    "\n",
    "print(\"\\nPlease note, this may take some time if many addresses has been used already...\")\n",
    "pprint(SenderBalance)\n",
    "\n",
    "if SenderBalance['balance']>0:\n",
    "    print(\"\\nYes, there are some tokens available! hurray\")"
   ]
  },
  {
   "cell_type": "markdown",
   "metadata": {},
   "source": [
    "*Please note: API call `get_account_data` consider only confirmed transactions while calculating total balance. So it is better to wait until all transactions are cleared before you send additional tokens.*\n",
    "\n",
    "Are there any tokens left (value in `balance` field)? If yes then continue - no action is needed.\n",
    "If not, then you need to obtain some. It can be done visiting [IOTA faucet](http://faucet.devnet.iota.org) and entering an unused address of the given seed:"
   ]
  },
  {
   "cell_type": "code",
   "execution_count": 6,
   "metadata": {
    "iotadev": {
     "codeid": "6CD1F81E2588",
     "standalone": "false",
     "title": "Searching for unused IOTA address: API call Get_new_addresses()"
    }
   },
   "outputs": [
    {
     "name": "stdout",
     "output_type": "stream",
     "text": [
      "\n",
      "Please note, this may take some time if many addresses has been used already...\n",
      "\n",
      "This is the first unused address that can be used for new tokens or unspent tokens:\n",
      "{'addresses': [Address(b'NUCUUHYYGHCHMFWYSHULQTDP9IPWNNMQTMPDRUWKPNLOTTR9LHCEJPXIBTUTEFGGVAC9L9KQKXBGWGLYW')]}\n"
     ]
    }
   ],
   "source": [
    "# Now let's find a first unused address that can be used as a destination address for unspent/new tokens\n",
    "\n",
    "print(\"\\nPlease note, this may take some time if many addresses has been used already...\")\n",
    "FreeAddressSender = api.get_new_addresses(index=0,\n",
    "                                          count=None, # If None is specified, then it identifies a first non-used address\n",
    "                                          security_level=2) # Let's generate an address using default security level=2.\n",
    "\n",
    "print(\"\\nThis is the first unused address that can be used for new tokens or unspent tokens:\")\n",
    "pprint(FreeAddressSender)\n"
   ]
  },
  {
   "cell_type": "markdown",
   "metadata": {},
   "source": [
    "What have just happened behind the curtain?\n",
    "* The PyOTA library started to generating addresses from the `index=0` of the given seed and at the same time it also checked whether there are any transactions registered for each address\n",
    "* If yes, then in case we are after balances, the balance is saved. In case we are after new unused address then the given address is skipped. First address for which there are not registered transactions is returned\n",
    "* That's why it may be quite time consuming. And now you also understand all issues regarding `zero balances` after the snapshot\n",
    "\n",
    "You may be also wondering how to get individual balances for each used address? This can be checked using the core API call `get_balances` which provides you with a balance for any address you specify. Let's query for used addresses from the previous exercise:"
   ]
  },
  {
   "cell_type": "code",
   "execution_count": 13,
   "metadata": {
    "iotadev": {
     "codeid": "5036ABE14324",
     "standalone": "false",
     "title": "Checking IOTA balance: API call Get_balances()"
    }
   },
   "outputs": [
    {
     "name": "stdout",
     "output_type": "stream",
     "text": [
      "\n",
      "Some positive balance identified. Individual confirmed balances per used addresses:\n",
      "{'balances': [0, 0, 0, 0, 0, 0, 0, 940],\n",
      " 'duration': 47,\n",
      " 'milestone': None,\n",
      " 'milestoneIndex': 640871,\n",
      " 'references': ['GBWYYHVUQCYQFYPVJUNQIESZSEJWN9MFJZUJMRXEABBPI9LLSFHALWJS9AMEIWYUIVYECVOPXXDWXN999']}\n"
     ]
    }
   ],
   "source": [
    "# only if there is any used addresses from the previous steps\n",
    "\n",
    "# it returns the balances as a list in the same order as the addresses were provided as input.\n",
    "if len(SenderBalance['addresses'])>0:\n",
    "    print(\"\\nSome positive balance identified. Individual confirmed balances per used addresses:\")\n",
    "    pprint(api.get_balances(addresses=SenderBalance['addresses'],\n",
    "                           threshold=100) # Confirmation threshold; official docs recommend to set it to 100\n",
    "           )\n",
    "else:\n",
    "    print(\"\\nNo positive balance identified.\")"
   ]
  },
  {
   "cell_type": "markdown",
   "metadata": {},
   "source": [
    "It returns `balances` and you can see how the remaining tokens move to new unused address every time you spend some tokens. Needless to say, used addresses with zero balances should not be used anymore since tokens were already spent from them. So let's spend some tokens:"
   ]
  },
  {
   "cell_type": "code",
   "execution_count": 11,
   "metadata": {
    "iotadev": {
     "codeid": "6195D3132B6B",
     "standalone": "false",
     "title": "Send value IOTA transaction: API call Send_transfer()"
    },
    "scrolled": false
   },
   "outputs": [
    {
     "name": "stdout",
     "output_type": "stream",
     "text": [
      "\n",
      "Sending iotas... Please wait...\n",
      "\n",
      "It has been sent. Now let's see transactions that were sent:\n",
      "Here is the bundle hash: QAICYLSBWAAHDBOYVIYBDQVSOYJLSSIVFHKL9XBVAGKVEXE9W9YYGQNGTGRJHSNBXLWTSKBJYJDXNIYWC\n",
      "\n",
      "\n",
      "{'_legacy_tag': Tag(b'ETIBEK999IOTA999TUTORIAL999'),\n",
      " 'address': Address(b'BMFSMZMNBGKHAWPIZIOMJGRBXZETVSAYDSTDQCHLYTBWZMIXLNXF9XHLTMOCATFVFOMBQF9IOQGPEBPDC'),\n",
      " 'attachment_timestamp': 1530716715089,\n",
      " 'attachment_timestamp_lower_bound': 0,\n",
      " 'attachment_timestamp_upper_bound': 3812798742493,\n",
      " 'branch_transaction_hash': TransactionHash(b'OMOQCEQIMFYSGPCCSIGVCHMKPOKMHCRUIHZXADIBDKELVLDGZTVAFHIWCMDZIFPTGNJSFUGEPXZSZ9999'),\n",
      " 'bundle_hash': BundleHash(b'QAICYLSBWAAHDBOYVIYBDQVSOYJLSSIVFHKL9XBVAGKVEXE9W9YYGQNGTGRJHSNBXLWTSKBJYJDXNIYWC'),\n",
      " 'current_index': 0,\n",
      " 'hash': TransactionHash(b'WETZIQM9AJZWJMNUSBPK9SJNRVJNNAJVRAHQJHAAPUSMUDUZUSUVDR9XZSAZXCLKWDNCRBOA9XKXBM999'),\n",
      " 'is_confirmed': None,\n",
      " 'last_index': 3,\n",
      " 'nonce': Nonce(b'ZVWKVNQPJTMAJTLPFLRAXAVGRFD'),\n",
      " 'signature_message_fragment': Fragment(b'999999999999999999999999999999999999999999999999999999999999999999999999999999999999999999999999999999999999999999999999999999999999999999999999999999999999999999999999999999999999999999999999999999999999999999999999999999999999999999999999999999999999999999999999999999999999999999999999999999999999999999999999999999999999999999999999999999999999999999999999999999999999999999999999999999999999999999999999999999999999999999999999999999999999999999999999999999999999999999999999999999999999999999999999999999999999999999999999999999999999999999999999999999999999999999999999999999999999999999999999999999999999999999999999999999999999999999999999999999999999999999999999999999999999999999999999999999999999999999999999999999999999999999999999999999999999999999999999999999999999999999999999999999999999999999999999999999999999999999999999999999999999999999999999999999999999999999999999999999999999999999999999999999999999999999999999999999999999999999999999999999999999999999999999999999999999999999999999999999999999999999999999999999999999999999999999999999999999999999999999999999999999999999999999999999999999999999999999999999999999999999999999999999999999999999999999999999999999999999999999999999999999999999999999999999999999999999999999999999999999999999999999999999999999999999999999999999999999999999999999999999999999999999999999999999999999999999999999999999999999999999999999999999999999999999999999999999999999999999999999999999999999999999999999999999999999999999999999999999999999999999999999999999999999999999999999999999999999999999999999999999999999999999999999999999999999999999999999999999999999999999999999999999999999999999999999999999999999999999999999999999999999999999999999999999999999999999999999999999999999999999999999999999999999999999999999999999999999999999999999999999999999999999999999999999999999999999999999999999999999999999999999999999999999999999999999999999999999999999999999999999999999999999999999999999999999999999999999999999999999999999999999999999999999999999999999999999999999999999999999999999999999999999999999999999999999999999999999999999999999999999999999999999999999999999999999999999999999999999999999999999999999999999999999999'),\n",
      " 'tag': Tag(b'HRIBEK999IOTA999TUTORIAL999'),\n",
      " 'timestamp': 1530716591,\n",
      " 'trunk_transaction_hash': TransactionHash(b'IZEAQTBQADTZLIRMQBTNCNUOBNJBKZUSIQUIFET9GQOSVJQMCIROPAKFYJ9QV9UJ9ZREYZF9QFKABR999'),\n",
      " 'value': 10}\n",
      "\n",
      "\n",
      "{'_legacy_tag': Tag(b'HRIBEK999IOTA999TUTORIAL999'),\n",
      " 'address': Address(b'LHPLHEZNT99XRSCPMQ9XOCIRUYOKVBLTNUVQPZCTMWOM9WHVYPFKGTFQ9MNEPSYKIV9MNPNEKLMLZONHW'),\n",
      " 'attachment_timestamp': 1530716715074,\n",
      " 'attachment_timestamp_lower_bound': 0,\n",
      " 'attachment_timestamp_upper_bound': 3812798742493,\n",
      " 'branch_transaction_hash': TransactionHash(b'OMOQCEQIMFYSGPCCSIGVCHMKPOKMHCRUIHZXADIBDKELVLDGZTVAFHIWCMDZIFPTGNJSFUGEPXZSZ9999'),\n",
      " 'bundle_hash': BundleHash(b'QAICYLSBWAAHDBOYVIYBDQVSOYJLSSIVFHKL9XBVAGKVEXE9W9YYGQNGTGRJHSNBXLWTSKBJYJDXNIYWC'),\n",
      " 'current_index': 1,\n",
      " 'hash': TransactionHash(b'IZEAQTBQADTZLIRMQBTNCNUOBNJBKZUSIQUIFET9GQOSVJQMCIROPAKFYJ9QV9UJ9ZREYZF9QFKABR999'),\n",
      " 'is_confirmed': None,\n",
      " 'last_index': 3,\n",
      " 'nonce': Nonce(b'KJFOJUDICDFCLQZ9LR9IDCQUHFO'),\n",
      " 'signature_message_fragment': Fragment(b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n",
      " 'tag': Tag(b'HRIBEK999IOTA999TUTORIAL999'),\n",
      " 'timestamp': 1530716644,\n",
      " 'trunk_transaction_hash': TransactionHash(b'CBDARFE9ZEOACTFJKPGWHIFPRQMSDITQLHAIFOBOFZJXBGKUSTFONLAGNETBXPBFROQMCDXZUGLXFB999'),\n",
      " 'value': -950}\n",
      "\n",
      "\n",
      "{'_legacy_tag': Tag(b'HRIBEK999IOTA999TUTORIAL999'),\n",
      " 'address': Address(b'LHPLHEZNT99XRSCPMQ9XOCIRUYOKVBLTNUVQPZCTMWOM9WHVYPFKGTFQ9MNEPSYKIV9MNPNEKLMLZONHW'),\n",
      " 'attachment_timestamp': 1530716715060,\n",
      " 'attachment_timestamp_lower_bound': 0,\n",
      " 'attachment_timestamp_upper_bound': 3812798742493,\n",
      " 'branch_transaction_hash': TransactionHash(b'OMOQCEQIMFYSGPCCSIGVCHMKPOKMHCRUIHZXADIBDKELVLDGZTVAFHIWCMDZIFPTGNJSFUGEPXZSZ9999'),\n",
      " 'bundle_hash': BundleHash(b'QAICYLSBWAAHDBOYVIYBDQVSOYJLSSIVFHKL9XBVAGKVEXE9W9YYGQNGTGRJHSNBXLWTSKBJYJDXNIYWC'),\n",
      " 'current_index': 2,\n",
      " 'hash': TransactionHash(b'CBDARFE9ZEOACTFJKPGWHIFPRQMSDITQLHAIFOBOFZJXBGKUSTFONLAGNETBXPBFROQMCDXZUGLXFB999'),\n",
      " 'is_confirmed': None,\n",
      " 'last_index': 3,\n",
      " 'nonce': Nonce(b'ESSCWJWVUM9JQPD9DGCRAVNOCK9'),\n",
      " 'signature_message_fragment': Fragment(b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n",
      " 'tag': Tag(b'HRIBEK999IOTA999TUTORIAL999'),\n",
      " 'timestamp': 1530716644,\n",
      " 'trunk_transaction_hash': TransactionHash(b'EKSWAUCWJDKSNEYAYYNNVSRFHXDCGLQKRHFSCOMXYBXJOCZLVNAKJTAAN9ZHBLYRYPKRQPBVFUDGQL999'),\n",
      " 'value': 0}\n",
      "\n",
      "\n",
      "{'_legacy_tag': Tag(b'HRIBEK999IOTA999TUTORIAL999'),\n",
      " 'address': Address(b'NUCUUHYYGHCHMFWYSHULQTDP9IPWNNMQTMPDRUWKPNLOTTR9LHCEJPXIBTUTEFGGVAC9L9KQKXBGWGLYW'),\n",
      " 'attachment_timestamp': 1530716715040,\n",
      " 'attachment_timestamp_lower_bound': 0,\n",
      " 'attachment_timestamp_upper_bound': 3812798742493,\n",
      " 'branch_transaction_hash': TransactionHash(b'OMOQCEQIMFYSGPCCSIGVCHMKPOKMHCRUIHZXADIBDKELVLDGZTVAFHIWCMDZIFPTGNJSFUGEPXZSZ9999'),\n",
      " 'bundle_hash': BundleHash(b'QAICYLSBWAAHDBOYVIYBDQVSOYJLSSIVFHKL9XBVAGKVEXE9W9YYGQNGTGRJHSNBXLWTSKBJYJDXNIYWC'),\n",
      " 'current_index': 3,\n",
      " 'hash': TransactionHash(b'EKSWAUCWJDKSNEYAYYNNVSRFHXDCGLQKRHFSCOMXYBXJOCZLVNAKJTAAN9ZHBLYRYPKRQPBVFUDGQL999'),\n",
      " 'is_confirmed': None,\n",
      " 'last_index': 3,\n",
      " 'nonce': Nonce(b'ZVFNDEIHGMFIWHQMQVRUNGWPZOQ'),\n",
      " 'signature_message_fragment': Fragment(b'999999999999999999999999999999999999999999999999999999999999999999999999999999999999999999999999999999999999999999999999999999999999999999999999999999999999999999999999999999999999999999999999999999999999999999999999999999999999999999999999999999999999999999999999999999999999999999999999999999999999999999999999999999999999999999999999999999999999999999999999999999999999999999999999999999999999999999999999999999999999999999999999999999999999999999999999999999999999999999999999999999999999999999999999999999999999999999999999999999999999999999999999999999999999999999999999999999999999999999999999999999999999999999999999999999999999999999999999999999999999999999999999999999999999999999999999999999999999999999999999999999999999999999999999999999999999999999999999999999999999999999999999999999999999999999999999999999999999999999999999999999999999999999999999999999999999999999999999999999999999999999999999999999999999999999999999999999999999999999999999999999999999999999999999999999999999999999999999999999999999999999999999999999999999999999999999999999999999999999999999999999999999999999999999999999999999999999999999999999999999999999999999999999999999999999999999999999999999999999999999999999999999999999999999999999999999999999999999999999999999999999999999999999999999999999999999999999999999999999999999999999999999999999999999999999999999999999999999999999999999999999999999999999999999999999999999999999999999999999999999999999999999999999999999999999999999999999999999999999999999999999999999999999999999999999999999999999999999999999999999999999999999999999999999999999999999999999999999999999999999999999999999999999999999999999999999999999999999999999999999999999999999999999999999999999999999999999999999999999999999999999999999999999999999999999999999999999999999999999999999999999999999999999999999999999999999999999999999999999999999999999999999999999999999999999999999999999999999999999999999999999999999999999999999999999999999999999999999999999999999999999999999999999999999999999999999999999999999999999999999999999999999999999999999999999999999999999999999999999999999999999999999999999999999999999999999999999999999999999999999999999999999999999999999999'),\n",
      " 'tag': Tag(b'HRIBEK999IOTA999TUTORIAL999'),\n",
      " 'timestamp': 1530716706,\n",
      " 'trunk_transaction_hash': TransactionHash(b'OMOQCEQIMFYSGPCCSIGVCHMKPOKMHCRUIHZXADIBDKELVLDGZTVAFHIWCMDZIFPTGNJSFUGEPXZSZ9999'),\n",
      " 'value': 940}\n"
     ]
    }
   ],
   "source": [
    "tx1 = iota.ProposedTransaction( address = iota.Address(AddressReceiver), # 81 trytes long address\n",
    "                                message = None,\n",
    "                                tag     = iota.Tag(b'HRIBEK999IOTA999TUTORIAL'),\n",
    "                                value   = 10) # we are going to spend 10i\n",
    "\n",
    "# Sending the iotas\n",
    "print(\"\\nSending iotas... Please wait...\")\n",
    "SentBundle = api.send_transfer(depth=3,\n",
    "                         transfers=[tx1], # one transaction defined above. It is an output TX that adds tokens\n",
    "                         inputs=None, # input address(es) that are used to finance the given transaction. Tokens will be deducted from them\n",
    "                         change_address=None, # this is the adddress to which unspent amount is sent\n",
    "                         min_weight_magnitude=9, # in case of Devnet it is 9\n",
    "                         security_level=2) # you need to specify security level to be sure library generate compatible addresses\n",
    "\n",
    "# you may be wondering why there is imputs=None and change_address=None.\n",
    "# It means it will be taken care by library and so make sure correct seed / security level was added while api initialization\n",
    "\n",
    "print(\"\\nIt has been sent. Now let's see transactions that were sent:\")\n",
    "# let's check transactions that were sent in fact\n",
    "\n",
    "print(\"Here is the bundle hash: %s\" % (SentBundle['bundle'].hash))\n",
    "for tx in SentBundle['bundle']:\n",
    "    print(\"\\n\")\n",
    "    pprint(vars(tx))\n",
    "\n"
   ]
  },
  {
   "cell_type": "markdown",
   "metadata": {},
   "source": [
    "Let's review all transactions that has been prepared and sent eventually:\n",
    "* The first transaction `current_index=0` is the `output TX` that basically adds tokens to some address\n",
    "* Transactions `current_index=1` and `current_index=2` are two parts of the same transaction - `Input TX`. This transaction deducts tokens from the address(es). You can see negative `value` in the transaction `current_index=1`\n",
    "* Why there are two parts? Since the transaction spends tokens it has to be signed in order to validate the ownership. Signature is generated from the private key and the signature can be observed in the field `signature_message_fragment`. Here is the thing. Do you remember when different `security levels` were discussed? There are three security levels available and the given level has the direct impact on length of the signature. Since `signature_message_fragment` is of the fixed size, if `SL>1` then the transaction has to be split to be able to accommodate full signature.\n",
    "* The last transaction `current_index=3` moves unspent tokens to the first unused address of the given seed.\n",
    "\n",
    "The following tasks have to be done behind the curtain in addition to the standard transaction preparation process:\n",
    "* Search for address(es) with some balance until total amount of tokens available is large enough to be spent. You can use more input addresses if needed\n",
    "* If there would be some unspent amount of tokens then also search for the first unused address\n",
    "* Spending transactions (Input TX) has to be properly signed and split in case of `SL>1`\n",
    "* There is also some quick check performed whether resulting number of tokens is zero (no more tokens, no less tokens. Number of tokens has to be balanced).\n",
    "\n",
    "So basically all steps we tried in the chapter had to be done also behind the curtain while using `send_transfer` extended API call. You can also see that some of those operations may be quite expensive in terms of time while being completely stateless. In real world applications it would be better to save some states (index of last address, used addresses, etc.) to avoid too many expensive operations.\n",
    "\n",
    "You can review the given broadcasted transactions also in the tangle explorer (for devnet):\n",
    "* https://devnet.thetangle.org/address/BMFSMZMNBGKHAWPIZIOMJGRBXZETVSAYDSTDQCHLYTBWZMIXLNXF9XHLTMOCATFVFOMBQF9IOQGPEBPDC"
   ]
  }
 ],
 "metadata": {
  "celltoolbar": "Edit Metadata",
  "kernelspec": {
   "display_name": "Python 3",
   "language": "python",
   "name": "python3"
  },
  "language_info": {
   "codemirror_mode": {
    "name": "ipython",
    "version": 3
   },
   "file_extension": ".py",
   "mimetype": "text/x-python",
   "name": "python",
   "nbconvert_exporter": "python",
   "pygments_lexer": "ipython3",
   "version": "3.6.7"
  },
  "title": "Complete IOTA Developer Essentials Textbook",
  "toc": {
   "nav_menu": {},
   "number_sections": true,
   "sideBar": true,
   "skip_h1_title": false,
   "toc_cell": false,
   "toc_position": {
    "height": "819px",
    "left": "0px",
    "right": "auto",
    "top": "111px",
    "width": "212px"
   },
   "toc_section_display": "block",
   "toc_window_display": true
  }
 },
 "nbformat": 4,
 "nbformat_minor": 2
}
