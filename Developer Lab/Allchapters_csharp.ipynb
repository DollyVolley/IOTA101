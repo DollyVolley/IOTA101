{
 "cells": [
  {
   "cell_type": "markdown",
   "metadata": {},
   "source": [
    "> *This textbook was generated automatically from a [GitHub Repo](https://github.com/Hribek25/IOTA101). Visit the repo for more information.* \n",
    "\n",
    "![IOTA Developer Essentials Banner](https://raw.githubusercontent.com/Hribek25/IOTA101/master/Graphics/IOTA-Developer-Essentials.png)\n",
    "# IOTA Developer Essentials\n",
    "[![Languages Covered](https://img.shields.io/badge/Coverage-Python%20%7C%20NodeJS%20%7C%20C%23-brightgreen.svg \"Languages covered\")](https://hribek25.github.io/IOTA101/devlab.html#Language-Coverage)\n",
    "[![GitHub Repo](https://img.shields.io/badge/GitHub-Repo-green.svg \"Home of the tutorial\")](https://github.com/Hribek25/IOTA101)\n",
    "[![GitHub Gist](https://img.shields.io/badge/Gist-Integrated-orange.svg \"View @ Gist\")](https://gist.github.com/search?utf8=%E2%9C%93&q=IOTA101)\n",
    "[![Interactive Lab](https://img.shields.io/badge/Interactive-Lab-blue.svg \"Interactive experience with code snippets\")](https://hribek25.github.io/IOTA101/devlab.html)\n",
    "[![Complete Textbook](https://img.shields.io/badge/Complete-Textbook-yellow.svg \"All chapters combined on a single page for all languages\")](https://hribek25.github.io/IOTA101/)\n",
    "[![IOTA Ecosystem](https://img.shields.io/badge/iota-ecosystem-yellowgreen.svg \"IOTA Ecosystem\")](https://ecosystem.iota.org/tutorials/iota-developer-essentials)\n",
    "\n",
    "These notebooks provide a self-study introduction to IOTA protocol and are designed for developers and tech enthusiasts who would like to get quickly familiar with the IOTA. Technical-related information is accompanied with interactive code snippets to help you to quickly jump on the platform and be ready to build own solutions based on it.\n",
    "\n",
    "> Motto of this tutorial: \"Let's start with baby steps before we can try and fly.\"\n",
    "\n",
    "## Main Goal\n",
    "Main goal of this guide is to provide a comprehensive yet well-balanced proportion of deep-dive technical information and essentials.\n",
    "\n",
    "## Getting Started\n",
    "There are several chapters available. If you are not familiar with IOTA then it is highly recommended to follow them in the particular order to understand all important IOTA concepts properly. Otherwise you may get quickly confused later.\n",
    "\n",
    "## Code Snippets\n",
    "Code snippets are currently based on Python and NodeJs. Since Python is very descriptive language and easy to understand, I believe the tutorial is basically understandable to anyone. Anyway, all important IOTA concepts are described in language-agnostic way and so you would be able to use any language of your choice.\n",
    "\n",
    "Interested to see what is the overall code base coverage breaked down to a specific language? The following page provides you such an info. Needless to say, we are working hard to be sure there is no language that would be a second-class citizen.\n",
    "\n",
    "[![Languages Covered](https://img.shields.io/badge/Coverage-Python%20%7C%20NodeJS%20%7C%20C%23-brightgreen.svg \"Languages covered\")](https://hribek25.github.io/IOTA101/devlab.html#Language-Coverage)\n",
    "\n",
    "IOTA Developer Essentials are accompanied by *IOTA Developer Lab* and so you can play with all code snippets directly in your web browser, please see the next chapter. Feel free to experiment with the prepared code snippets and get your hands dirty. It is a best way how to get familiar quickly.\n",
    "\n",
    "[![Interactive Lab](https://img.shields.io/badge/Interactive-Lab-blue.svg \"Interactive experience with code snippets\")](https://hribek25.github.io/IOTA101/devlab.html)\n",
    "\n",
    "All *standalone* code snippets are also maintained @ GitHub Gist. It enables you to fork them, comment them, share them, embed them and track all changes to them. See the action panel next to each code snippet.\n",
    "\n",
    "[![GitHub Gist](https://img.shields.io/badge/Gist-Integrated-orange.svg \"View @ Gist\")](https://gist.github.com/search?utf8=%E2%9C%93&q=IOTA101)\n",
    "\n",
    "## Viewing and running\n",
    "### Interactive Mode\n",
    "There exists a side project called *IOTA Developer Lab* that is built on top of *IOTA Developer Essentials*. The project provides infrastructure services for you to be able to get an interactive experience with all code snippets.\n",
    "\n",
    "[![Interactive Lab](https://img.shields.io/badge/Interactive-Lab-blue.svg \"Interactive experience with the tutorial\")](https://hribek25.github.io/IOTA101/devlab.html)\n",
    "\n",
    "### Static Mode\n",
    "If you prefer a static experience (for printing purposes, for instance) you can reach the given notebooks as a Complete Textbook that is compiled from all source materials:\n",
    "\n",
    "[![Complete Textbook](https://img.shields.io/badge/Complete-Textbook-yellow.svg)](https://hribek25.github.io/IOTA101/)\n",
    "\n",
    "Everything is tightly linked together and so you can easily switch between different languages for instance, or you can share links to specific chapters, code snippets, etc. All links are static so feel free to share them.\n",
    "\n",
    "\n",
    "## Feedback and corrections\n",
    "These notebooks are maintained at [GitHub](https://github.com/Hribek25/IOTA101).\n",
    "Issues can be submited via [issue tracker](https://github.com/Hribek25/IOTA101/issues).\n",
    "\n",
    "## About\n",
    "These notebooks are developed and maintained by Petr Zizka (petr@zizkovi.name).\n",
    "\n",
    "It is ongoing process since IOTA is still under heavy development and rapidly emerging every day. So stay tuned - the plan is to keep adding fresh content on regular basis.\n",
    "\n",
    "Feel free to follow me at [Twitter](https://twitter.com/petrzizka) or IOTA Discord Channel (@hribek25#2683).\n",
    "*(New to Discord? Invitation link: https://discord.gg/fNGZXvh)*\n",
    "\n",
    "Disclaimer: I am not associated with the IOTA foundation. I am IOTA supporter.\n",
    "\n",
    "----\n",
    "![Thank You](https://img.shields.io/badge/thank-you-lightgrey.svg \"Your support is deeply appreciated\")\n",
    "\n",
    "The IOTA Developer Essentials and IOTA Developer Lab are long-term projects. The main goal is to provide a comprehensive onboarding information to anybody interested in the IOTA protocol. It will cover much more chapters, more code snippets and it will also cover more languages. There is a [roadmap](https://github.com/Hribek25/IOTA101/projects/1) available. Your kind donations will support the vision pushing forward. Thank you.\n",
    "\n",
    "Donations (IOTA):\n",
    "DSZRO9TCIJIKZOKUPVNOJFKVAHFCKL9YMLPVZUAEVZPOFXLIUWLPRQWBMVVSFTKGMGPPHXCYE9MIZEVBXQNFYKYUA9\n",
    "\n",
    "![qr code](http://api.qrserver.com/v1/create-qr-code/?color=000000&bgcolor=FFFFFF&data=DSZRO9TCIJIKZOKUPVNOJFKVAHFCKL9YMLPVZUAEVZPOFXLIUWLPRQWBMVVSFTKGMGPPHXCYE9MIZEVBXQNFYKYUA9&qzone=1&margin=0&size=120x120&ecc=L \"donation address in QR code\")\n",
    "\n",
    "\n",
    "--- \n"
   ]
  },
  {
   "cell_type": "markdown",
   "metadata": {},
   "source": [
    "# IOTA 101: Essentials and IOTA Terminology\n",
    "IOTA is an open-source Distributed Ledger Technology (DLT) with the following characteristics: *permissionless*, *feeless* and *trustless*. In contrary to the blockchain technology, the IOTA transactions are stored in a form of Directed Acyclic Graph (DAG) called *the Tangle*.\n",
    "![Blockchain and Tangle comparison](https://raw.githubusercontent.com/Hribek25/IOTA101/master/Graphics/Blockchain_And_Tangle_iota_org.png \"(c) iota.org\")\n",
    "\n",
    "## Transactions\n",
    "Transactions (TXs) in the tangle can be of two types:\n",
    "* **Value transactions** (*IOTA token* represents funds in case of value transactions)\n",
    "* **Zero-value transactions** (aka meta transactions)\n",
    "\n",
    "Every transaction is attached to a specific *IOTA Address*.\n",
    "There are no miners with IOTA protocol to validate transactions. The *consensus* is achieved by network participants themselves. Each participant that wants to broadcast a new transaction has to approve 2 past transactions and basically attach transaction as a children node. Transactions without children transactions (waiting to be confirmed) are called *tips*.\n",
    "\n",
    "## Seed, private key and address\n",
    "Pair of unique IOTA address and corresponding *Private Key* is determistically generated from a *Seed*. You can generate (2<sup>53</sup> - 1) different addresses/private keys based on one Seed. Anybody can send anything to the given address however only Seed owner can send funds from IOTA address since only the Seed owner is able to generate corresponding *Private Key*.\n",
    "\n",
    "IOTA protocol uses One-Time Signature (OTS) for \"verifying\" whether private key matches to the given address, specifically Winternitz OTS (WOTS). So *Private Key* (specifically *Key Fragments* of the private key) is the key component while signing transactions using WOTS.\n",
    "\n",
    "That's the reason why nobody should use IOTA address that have been already funds spent from. New IOTA address (of the given seed) should be generated and used instead. Please note, it applies only to fund-spending. Receiving funds/data is totaly fine even multiple times.\n",
    "\n",
    "To summarize the key concept here. Only *Seed* is needed to be stored somewhere. Everything else can be safely generated from it: private key as well as address.\n",
    "\n",
    "## IOTA nodes\n",
    "The Tangle runs on a *distributed network* of IOTA nodes called *mainnet*. There are also other separate \"Tangles\" serving for specific purposes: Devnet, SPAMnet, etc. You can interact with the network via public nodes using collection of public *API calls*. You can interact with any public node of the given network since all nodes \"gossiping\" all TXs across the whole network. Nodes are powered by a reference piece of software called *IRI* (IOTA Reference Implementation) **as of now**.\n",
    "\n",
    "It is also important to mention that you do not exchange any sensitive information such as *Seed* with a node. Every sensitive operation such as TX signing is done on client's side and node is just a \"messenger\" that delivers your TX to the IOTA network.\n",
    "![Centralized, decentralized and distributed models](https://raw.githubusercontent.com/Hribek25/IOTA101/master/Graphics/Centralized-decentralized-and-distributed-network-models-by-Paul-Baran-1964-part-of-a.png \"(c) Paul Baran, researchgate\")\n",
    "\n",
    "## Custom node\n",
    "You can even run own IOTA node and actively participate to the whole network. There is a big advantage for developers in that case. Actual implementation of IRI  provides an usefull real-time information via messaging platform called ZeroMQ and so developers can leverage that.\n",
    "\n",
    "## API calls\n",
    "There are ready-made libraries for major programming languages available and so you have more developer-friendly way how to interact with the IOTA network. Anyway, you can interact with IOTA network using pure API calls without any library. It is up to you.\n"
   ]
  },
  {
   "cell_type": "markdown",
   "metadata": {},
   "source": [
    "## Ternary\n",
    "It is difficult to avoid mentioning *Ternary numeral system* while discussing IOTA at all. IOTA is based on ternary system under the hood and so you have got to be aware of some basic terminology in this respect. You are going to face this fact in any developer-related IOTA guide out there.\n",
    "\n",
    "### Ternary\n",
    "Ternary has three as its base (aka base 3) as opposted to *binary* which is base 2. Instead of two states (0 and 1) it recognizes three states (for ex. -1, 0, 1).\n",
    "\n",
    "### Trit\n",
    "One *Trite* is analogous to one *bit*. It is the smallest digit and has three states. Trit = **Tri**nary dig**it**.\n",
    "\n",
    "### Tryte\n",
    "*Tryte* consists of three *trits* meaning 27 combinations.\n",
    "$$3^3=27$$\n",
    "\n",
    "You will recognize soon that almost everything is encoded in *Trytes* in the IOTA world. Tryte is visually represented using [A..Z] alphabets and number 9. One character represents one tryte (here comes 27 possible characters again). *Don't get mad, IOTA libraries are going to help us.*\n",
    "\n",
    "Small example:"
   ]
  },
  {
   "cell_type": "code",
   "execution_count": 0,
   "metadata": {
    "iotadev": {
     "codeid": "3BB8C879CCAE",
     "standalone": "true",
     "title": "Conversion: trytes and trits"
    }
   },
   "outputs": [
    {
     "data": {
      "text/html": [
       "YZJEATEQ9JKLZ"
      ],
      "text/plain": [
       "YZJEATEQ9JKLZ"
      ]
     },
     "metadata": {},
     "output_type": "display_data"
    },
    {
     "data": {
      "text/html": [
       "Number of Trytes: 13"
      ],
      "text/plain": [
       "Number of Trytes: 13"
      ]
     },
     "metadata": {},
     "output_type": "display_data"
    },
    {
     "data": {
      "text/html": [
       "1,-1,0,-1,0,0,1,0,1,-1,-1,1,1,0,0,-1,1,-1,-1,-1,1,-1,0,-1,0,0,0,1,0,1,-1,1,1,0,1,1,-1,0,0"
      ],
      "text/plain": [
       "1,-1,0,-1,0,0,1,0,1,-1,-1,1,1,0,0,-1,1,-1,-1,-1,1,-1,0,-1,0,0,0,1,0,1,-1,1,1,0,1,1,-1,0,0"
      ]
     },
     "metadata": {},
     "output_type": "display_data"
    },
    {
     "data": {
      "text/html": [
       "Number of Trits: 39"
      ],
      "text/plain": [
       "Number of Trits: 39"
      ]
     },
     "metadata": {},
     "output_type": "display_data"
    }
   ],
   "source": [
    "#r \"Tangle.Net.dll\"\n",
    "using Tangle.Net.Entity;    \n",
    "\n",
    "var trytes = new TryteString(\"YZJEATEQ9JKLZ\");\n",
    "Console.WriteLine(trytes.ToString());\n",
    "Console.WriteLine(\"Number of Trytes: \" + trytes.TrytesLength);\n",
    "\n",
    "var trits = trytes.ToTrits();\n",
    "\n",
    "Console.WriteLine(String.Join(\",\", trits));\n",
    "Console.WriteLine(\"Number of Trits: \" + trits.Length);"
   ]
  },
  {
   "cell_type": "markdown",
   "metadata": {},
   "source": [
    "# IOTA 101: Basic network interactions\n",
    "The tutorial is based on official IOTA libraries called *PyOTA* and *IOTA Javascript Library - @iota/core*. It encapsulates all official IRI API calls and it can be installed via `pip` in a Python environment or via `npm` in a NodeJS environment. Reader is also encouraged to try a ready-made environment via *IOTA Developer Lab* project where anyone can run a code directly in web browser. When viewing it interactively then just select a code snippet and hit `ctrl + enter` which executes it.\n",
    "\n",
    "Official IOTA Javascript library (v1.0) is currently in beta however all main functions are working just fine, please see https://github.com/iotaledger/iota.js/\n",
    "\n",
    "Anyway, most of the information in the tutorial is language-agnostic and so only implementation details slightly differ across different programming languages. Top-level details are the same regardless programming language you are going to use for your project.\n",
    "\n",
    "\n",
    "## Conneting to IOTA nodes\n",
    "Before you can interact with the IOTA network you need an URL of the running IOTA node. There are dozen of directories of public nodes available, feel free to google them.\n",
    "\n",
    "For a sake of this tutorial I use a project *thetangle.org*. It is a load ballancer that provides you an access to a pool of participanting nodes effortlessly.\n",
    "* *Advantage:* you do not have to care about public nodes and whether they are running or not\n",
    "* *Disadvantage:* you do not know in advance which specific node will process your API call. So in some respect results of API calls may differ since some API calls depend on specific node, such as GetNodeInfo().\n",
    "\n",
    "### Node is not synced\n",
    "Even if a node is up and running it may not be fully prepared to process your API calls correctly. The node should be \"synced\", meaning should be aware of all TXs in the Tangle. It is better to avoid not fully synced nodes.\n",
    "\n",
    "### Health checking\n",
    "Once you connect to an IOTA node you should be able to send API calls. However it is better to do some checks in advance in order to find out whether the given node is in good condition or not. IOTA nodes can be run by anyone and so health check is always a good practice.\n",
    "\n",
    "Basic healthcheck can be done via *GetNodeInfo()* API call. It returns a basic information about the given IOTA node."
   ]
  },
  {
   "cell_type": "code",
   "execution_count": 0,
   "metadata": {
    "iotadev": {
     "codeid": "696A395DC61B",
     "standalone": "true",
     "title": "Basic node interaction: API call Get_node_info()"
    },
    "scrolled": false
   },
   "outputs": [
    {
     "data": {
      "text/html": [
       "{\n",
       "  &quot;AppName&quot;: &quot;IRI&quot;,\n",
       "  &quot;AppVersion&quot;: &quot;1.8.1&quot;,\n",
       "  &quot;Duration&quot;: 0,\n",
       "  &quot;JreAvailableProcessors&quot;: 16,\n",
       "  &quot;JreFreeMemory&quot;: 1854364030,\n",
       "  &quot;JreMaxMemory&quot;: 20997734400,\n",
       "  &quot;JreTotalMemory&quot;: 4585458676,\n",
       "  &quot;LatestMilestone&quot;: &quot;UNFVFYFRHCKCYSCSLDAJROUSBEPYTOOHHJOGZGLJXJIBSTXAYTIKDMWEKPMMKHVOSETQJYEFUXLOZ9999&quot;,\n",
       "  &quot;LatestMilestoneIndex&quot;: 1178174,\n",
       "  &quot;LatestSolidSubtangleMilestone&quot;: &quot;UNFVFYFRHCKCYSCSLDAJROUSBEPYTOOHHJOGZGLJXJIBSTXAYTIKDMWEKPMMKHVOSETQJYEFUXLOZ9999&quot;,\n",
       "  &quot;LatestSolidSubtangleMilestoneIndex&quot;: 1178174,\n",
       "  &quot;Neighbors&quot;: 24,\n",
       "  &quot;PacketsQueueSize&quot;: 0,\n",
       "  &quot;Time&quot;: 1568711224721,\n",
       "  &quot;Tips&quot;: 7991,\n",
       "  &quot;TransactionsToRequest&quot;: 0\n",
       "}"
      ],
      "text/plain": [
       "{\n",
       "  \"AppName\": \"IRI\",\n",
       "  \"AppVersion\": \"1.8.1\",\n",
       "  \"Duration\": 0,\n",
       "  \"JreAvailableProcessors\": 16,\n",
       "  \"JreFreeMemory\": 1854364030,\n",
       "  \"JreMaxMemory\": 20997734400,\n",
       "  \"JreTotalMemory\": 4585458676,\n",
       "  \"LatestMilestone\": \"UNFVFYFRHCKCYSCSLDAJROUSBEPYTOOHHJOGZGLJXJIBSTXAYTIKDMWEKPMMKHVOSETQJYEFUXLOZ9999\",\n",
       "  \"LatestMilestoneIndex\": 1178174,\n",
       "  \"LatestSolidSubtangleMilestone\": \"UNFVFYFRHCKCYSCSLDAJROUSBEPYTOOHHJOGZGLJXJIBSTXAYTIKDMWEKPMMKHVOSETQJYEFUXLOZ9999\",\n",
       "  \"LatestSolidSubtangleMilestoneIndex\": 1178174,\n",
       "  \"Neighbors\": 24,\n",
       "  \"PacketsQueueSize\": 0,\n",
       "  \"Time\": 1568711224721,\n",
       "  \"Tips\": 7991,\n",
       "  \"TransactionsToRequest\": 0\n",
       "}"
      ]
     },
     "metadata": {},
     "output_type": "display_data"
    },
    {
     "data": {
      "text/html": [
       "Node is probably synced!"
      ],
      "text/plain": [
       "Node is probably synced!"
      ]
     },
     "metadata": {},
     "output_type": "display_data"
    }
   ],
   "source": [
    "#r \"Tangle.Net.dll\"\n",
    "#r \"Newtonsoft.Json.dll\"\n",
    "#r \"RestSharp.dll\"\n",
    "\n",
    "using Tangle.Net.Repository;\n",
    "using Newtonsoft.Json;\n",
    "using RestSharp;\n",
    "\n",
    "var NodeURL = \"https://nodes.thetangle.org:443\";\n",
    "\n",
    "var repo = new RestIotaRepository(new RestClient(NodeURL)); // ctor initialization of the Tangle.Net library\n",
    "var nodeInfo = repo.GetNodeInfo(); // Getting information about the current node\n",
    "Console.WriteLine(JsonConvert.SerializeObject(nodeInfo, Formatting.Indented)); //Result is printed in JSON notation\n",
    "\n",
    "// Basic check whether node is in sync or not\n",
    "// Elementary rule is that \"latestMilestoneIndex\" should equal to \"latestSolidSubtangleMilestoneIndex\" or be very close\n",
    "Console.WriteLine(\n",
    "                  Math.Abs(nodeInfo.LatestMilestoneIndex - nodeInfo.LatestSolidSubtangleMilestoneIndex) > 3 ? \n",
    "                            \"Node is probably not synced!\" : \"Node is probably synced!\"\n",
    "                );"
   ]
  },
  {
   "cell_type": "markdown",
   "metadata": {},
   "source": [
    "*Please note: When using *Deviota Field service* then this type of check is quite useless since other API calls of yours may be served by different node that has not been checked obviously. On the other hand, the Field uses some smart techniques under the hood that should prevent you to use node that is not in a good condition.*"
   ]
  },
  {
   "cell_type": "markdown",
   "metadata": {},
   "source": [
    "## Generating IOTA seed and IOTA address\n",
    "Since the IOTA network is *permissionless* type of network, anybody is able to use it and interact with it. No central authority is required at any stage. So anybody is able to generate own seed and respective private key/address anytime. It is highly recommended to *NOT* use online generators at all.\n",
    "\n",
    "The Seed is the only key to the given addresses. Anyone who owns the Seed owns also all funds related to respective IOTA addresses (all of them).\n",
    "\n",
    "Seed and addresses only consists of characters [A-Z] and number 9. Length is always 81 charaters. There are usually also used additional 9 characters in IOTA addresses (so total lenght is 90 then) which is a *checksum*. It provides a way how to prevent typos while manipulating with IOTA addresses.\n"
   ]
  },
  {
   "cell_type": "markdown",
   "metadata": {},
   "source": [
    "### Seed\n",
    "A seed generation is a process that is based on random quessing of each character in the seed. Of course, you should always use cryptographically secure pseudo-random generator!"
   ]
  },
  {
   "cell_type": "code",
   "execution_count": 0,
   "metadata": {
    "iotadev": {
     "codeid": "67D98D069B61",
     "standalone": "true",
     "title": "Generating a seed: a general approach"
    }
   },
   "outputs": [
    {
     "data": {
      "text/html": [
       "U9LYFWEPCQATZ9MNDQJZPMSCVQZMTNTWRWOIIPDCXOORZAPYATQGRZHVHSQ9DL9RYKGP9PAEBOTKAFM9R"
      ],
      "text/plain": [
       "U9LYFWEPCQATZ9MNDQJZPMSCVQZMTNTWRWOIIPDCXOORZAPYATQGRZHVHSQ9DL9RYKGP9PAEBOTKAFM9R"
      ]
     },
     "metadata": {},
     "output_type": "display_data"
    }
   ],
   "source": [
    "//based on https://github.com/siqniz/IOTA-Random-Seed-Generator\n",
    "using System.Security.Cryptography;\n",
    "\n",
    "private static string NewRandomSeed()\n",
    "{\n",
    "    string iotaseed = string.Empty;\n",
    "    using (RNGCryptoServiceProvider _ran = new RNGCryptoServiceProvider()) // The class provides crypto-safe random generator\n",
    "    {\n",
    "        string[] _seed = new string[] { \"A\", \"B\", \"C\", \"D\", \"E\", \"F\", \"G\", \"H\", \"I\", \"J\", \"K\", \"L\", \"M\", \"N\", \"O\", \"P\", \"Q\", \"R\", \"S\", \"T\", \"U\", \"V\", \"W\", \"X\", \"Y\", \"Z\", \"9\" };                \n",
    "\n",
    "        byte[] _data = new byte[8];  //8 bytes to hold an unsigned bits int\n",
    "        for (int i = 0; i <= 80; i++)   //The number times this will run in orde to fill the 81 char requirment\n",
    "        {\n",
    "            _ran.GetBytes(_data);\n",
    "            var gennum = BitConverter.ToUInt64(_data, 0);\n",
    "            var _num = (gennum % 27);\n",
    "            iotaseed += _seed[_num];\n",
    "        }\n",
    "    }\n",
    "\n",
    "    return iotaseed;\n",
    "}\n",
    "\n",
    "Console.WriteLine(NewRandomSeed());\n"
   ]
  },
  {
   "cell_type": "markdown",
   "metadata": {},
   "source": [
    "Alternatively you can leverage also PyOTA library since it has own implementation of the pseudo-random Seed generator (Python 2.7+ compatible). Difference between both methods is very subtle. I just wanted to illustrate both ways: Fully independent and IOTA-library-dependant. *Please note, IOTA Javascript library does not support a seed generation.*"
   ]
  },
  {
   "cell_type": "code",
   "execution_count": 0,
   "metadata": {
    "iotadev": {
     "codeid": "65788F1C3FCB",
     "standalone": "true",
     "title": "Generating a seed: IOTA-facing-library-based approach"
    }
   },
   "outputs": [
    {
     "data": {
      "text/html": [
       "9KCKAMKL9JDWXTQKSEDBKJHZHBBARHBD9HXTDLSWQTGOXWBGDVOKOAFVHYKUYHIJKYCI9AETEKXIYQCAV"
      ],
      "text/plain": [
       "9KCKAMKL9JDWXTQKSEDBKJHZHBBARHBD9HXTDLSWQTGOXWBGDVOKOAFVHYKUYHIJKYCI9AETEKXIYQCAV"
      ]
     },
     "metadata": {},
     "output_type": "display_data"
    },
    {
     "data": {
      "text/html": [
       "Length :81"
      ],
      "text/plain": [
       "Length :81"
      ]
     },
     "metadata": {},
     "output_type": "display_data"
    }
   ],
   "source": [
    "#r \"Tangle.Net.dll\"\n",
    "using Tangle.Net.Entity;\n",
    "\n",
    "var seed = Seed.Random(); // Initializing new random seed\n",
    "Console.WriteLine(seed.ToString());\n",
    "Console.WriteLine(\"Length :\" + seed.ToString().Length);"
   ]
  },
  {
   "cell_type": "markdown",
   "metadata": {},
   "source": [
    "### Address\n",
    "There is a deterministic function how to get an address from a seed. It is a basically an indexed collection of addresses starting with address at index 0, 1, 2, etc.\n",
    "\n",
    "While generating addresses you should be also aware there are three different so called *Security Levels* (1, 2 and 3). Each security level generates totally independent pool of addresses. Addresses of Security Level 1 are totally different from addresses of Security Level 2, etc.\n",
    "\n",
    "In a nutshell, Security Level indicates how difficult is to generate *Private key* from the Seed and also what is its size. The higher security level, the more secure (longer) is the given private key. Default Security Level is 2. Most of IOTA wallets uses Security Level=2 and users are usually not allowed to change it. So be carefull while designing your app.\n",
    "\n",
    "As long as *seed, address index and security level* are the same, you always get the same address and corresponding private key:\n",
    "\n",
    "$$PrivateKey/Address = fce(Seed, AddressIndex, SecurityLevel)$$\n",
    "\n",
    "General example:\n",
    "$$PrivateKey/Address1 = fce(Seed, 1, 2)$$\n",
    "$$PrivateKey/Address2 = fce(Seed, 2, 2)$$\n",
    "$$PrivateKey/Address3 = fce(Seed, 3, 2)$$\n",
    "\n",
    "![Anatomy of IOTA address](https://raw.githubusercontent.com/Hribek25/IOTA101/master/Graphics/IOTA_Address_Generation.png \"By Petr Zizka\")"
   ]
  },
  {
   "cell_type": "code",
   "execution_count": 0,
   "metadata": {
    "iotadev": {
     "codeid": "0FF479CB6C0A",
     "missing": "true",
     "standalone": "true",
     "title": "Generating IOTA addresses from a seed: API call Get_new_addresses()"
    },
    "scrolled": true
   },
   "outputs": [],
   "source": [
    "// No code snippet available for the selected language: csharp"
   ]
  },
  {
   "cell_type": "markdown",
   "metadata": {},
   "source": [
    "Needless to say, `NodeURL` is not important for this task at all. As mentioned earlier, some actions are purely done on client's side. This is one of them.\n",
    "\n",
    "Anyway, in case of IOTA library (PyOTA or iota.lib.js) you can directly use an address generator component instead of the whole library. Outputs are equivalent in both cases."
   ]
  },
  {
   "cell_type": "code",
   "execution_count": 0,
   "metadata": {
    "iotadev": {
     "codeid": "2508A6FF9241",
     "standalone": "true",
     "title": "Generating IOTA addresses from a seed (#2)"
    }
   },
   "outputs": [
    {
     "data": {
      "text/html": [
       "[\n",
       "  &quot;HRLKBQUZAEB9HIVWJEWVDYQ9G9VRQXQAXR9ZWGBFQJKRPOPJYHGAT9LBEIE9RWRMUFSNLCWYHQGYAECHD&quot;,\n",
       "  &quot;XEXIDJJTANADOUBPWTCSPPRYYRTITRAHDEOZAEXWDPCYKUPTFMKVQM9KCPPLOCESFRGRVSIYZHXQZNYKC&quot;,\n",
       "  &quot;KY9DLZCHET9ATLMADPXGDVDYMPHKRKQPJZ9MB9HEIMMFCRRTNJIJIHPKGZNKKDTFMYPZRRQYAQKVAHMYX&quot;\n",
       "]"
      ],
      "text/plain": [
       "[\n",
       "  \"HRLKBQUZAEB9HIVWJEWVDYQ9G9VRQXQAXR9ZWGBFQJKRPOPJYHGAT9LBEIE9RWRMUFSNLCWYHQGYAECHD\",\n",
       "  \"XEXIDJJTANADOUBPWTCSPPRYYRTITRAHDEOZAEXWDPCYKUPTFMKVQM9KCPPLOCESFRGRVSIYZHXQZNYKC\",\n",
       "  \"KY9DLZCHET9ATLMADPXGDVDYMPHKRKQPJZ9MB9HEIMMFCRRTNJIJIHPKGZNKKDTFMYPZRRQYAQKVAHMYX\"\n",
       "]"
      ]
     },
     "metadata": {},
     "output_type": "display_data"
    }
   ],
   "source": [
    "#r \"Tangle.Net.dll\"\n",
    "#r \"Newtonsoft.Json.dll\"\n",
    "    \n",
    "using Tangle.Net.Cryptography;\n",
    "using Tangle.Net.Entity;\n",
    "using Newtonsoft.Json;\n",
    "\n",
    "var seed = new Seed(\"WKQDUZTGFKSSLACUCHHLZRKZBHSDSCEBHKUPDLKFBQALEBKDMFRPUQGZRXAADPG9TSRTZGGBZOFRJCFMM\");\n",
    "var addressGenerator = new AddressGenerator();\n",
    "\n",
    "// Please also see GetAdrress function for a single individual address\n",
    "var addresses = addressGenerator.GetAddresses(seed,\n",
    "                                              SecurityLevel.Medium //security level 2\n",
    "                                              ,0 // from index\n",
    "                                              ,3 // count\n",
    "                                              );\n",
    "\n",
    "// The Address instance is very detailed and provides so many fields - so showing only address in Trytes for better clarity\n",
    "Console.WriteLine(JsonConvert.SerializeObject(from i in addresses select i.ToTrytes(), Formatting.Indented));"
   ]
  },
  {
   "cell_type": "markdown",
   "metadata": {},
   "source": [
    "## Validating IOTA address\n",
    "As mentioned earlier, IOTA address consists of 81 trytes ([A..Z9] characters) or 90 trytes including checksum. Checksum is useful when you want to make sure a valid address was given (no typos, etc.) and so it is a good practise to encourage user of your app using IOTA addresses including checksums = 90 trytes.\n",
    "\n",
    "IOTA libraries are able to help you to deal with some basic patterns such as validating addresses, generating checksums, etc."
   ]
  },
  {
   "cell_type": "code",
   "execution_count": 0,
   "metadata": {
    "iotadev": {
     "codeid": "39B011574CF0",
     "standalone": "true",
     "title": "IOTA address and checksum"
    }
   },
   "outputs": [
    {
     "data": {
      "text/html": [
       "Original input excl. checksum address:"
      ],
      "text/plain": [
       "Original input excl. checksum address:"
      ]
     },
     "metadata": {},
     "output_type": "display_data"
    },
    {
     "data": {
      "text/html": [
       "CYJV9DRIE9NCQJYLOYOJOGKQGOOELTWXVWUYGQSWCNODHJAHACADUAAHQ9ODUICCESOIVZABA9LTMM9RW"
      ],
      "text/plain": [
       "CYJV9DRIE9NCQJYLOYOJOGKQGOOELTWXVWUYGQSWCNODHJAHACADUAAHQ9ODUICCESOIVZABA9LTMM9RW"
      ]
     },
     "metadata": {},
     "output_type": "display_data"
    },
    {
     "data": {
      "text/html": [
       "Length: 81"
      ],
      "text/plain": [
       "Length: 81"
      ]
     },
     "metadata": {},
     "output_type": "display_data"
    },
    {
     "data": {
      "text/html": [
       "Input address including checksum:"
      ],
      "text/plain": [
       "Input address including checksum:"
      ]
     },
     "metadata": {},
     "output_type": "display_data"
    },
    {
     "data": {
      "text/html": [
       "CYJV9DRIE9NCQJYLOYOJOGKQGOOELTWXVWUYGQSWCNODHJAHACADUAAHQ9ODUICCESOIVZABA9LTMM9RWTHBIRSXTA"
      ],
      "text/plain": [
       "CYJV9DRIE9NCQJYLOYOJOGKQGOOELTWXVWUYGQSWCNODHJAHACADUAAHQ9ODUICCESOIVZABA9LTMM9RWTHBIRSXTA"
      ]
     },
     "metadata": {},
     "output_type": "display_data"
    },
    {
     "data": {
      "text/html": [
       "Length incl checksum: 90"
      ],
      "text/plain": [
       "Length incl checksum: 90"
      ]
     },
     "metadata": {},
     "output_type": "display_data"
    }
   ],
   "source": [
    "#r \"Tangle.Net.dll\"\n",
    "using Tangle.Net.Entity;\n",
    "\n",
    "var myAddr = new Address(\"CYJV9DRIE9NCQJYLOYOJOGKQGOOELTWXVWUYGQSWCNODHJAHACADUAAHQ9ODUICCESOIVZABA9LTMM9RW\"); //some IOTA address\n",
    "\n",
    "Console.WriteLine(\"Original input excl. checksum address:\");\n",
    "Console.WriteLine(myAddr.ToString());\n",
    "Console.WriteLine(\"Length: \" + myAddr.ToString().Length);\n",
    "\n",
    "var AdrIncludingChecksum = new Address(myAddr.ToString() + Checksum.FromAddress(myAddr).ToString()); //generate checksum for the given address and return new address instance that includes checksum\n",
    "// There is a function Withchecksum() but it did not work when tested\n",
    "            \n",
    "Console.WriteLine(\"Input address including checksum:\");\n",
    "Console.WriteLine(AdrIncludingChecksum.ToString() + AdrIncludingChecksum.Checksum.ToString()); //Library still thinks of the address as 2 separate components\n",
    "Console.WriteLine(\"Length incl checksum: \" + (AdrIncludingChecksum.ToString().Length + AdrIncludingChecksum.Checksum.ToString().Length));"
   ]
  },
  {
   "cell_type": "markdown",
   "metadata": {},
   "source": [
    "You should always make sure your app is dealing with valid IOTA address. Please note, you should also make sure an address is of correct length and consists only of allowed characters. IOTA libraries may slightly differ in their approaches but differences are very subtle and both libraries provide enough functions to validate IOTA address.\n",
    "\n",
    "General steps should be:\n",
    "* Checks length\n",
    "* Checks valid characters\n",
    "* Checks address against its checksum"
   ]
  },
  {
   "cell_type": "code",
   "execution_count": 0,
   "metadata": {
    "iotadev": {
     "codeid": "C65223B0864A",
     "standalone": "true",
     "title": "Validating IOTA address"
    }
   },
   "outputs": [
    {
     "data": {
      "text/html": [
       "Input address incl checksum:"
      ],
      "text/plain": [
       "Input address incl checksum:"
      ]
     },
     "metadata": {},
     "output_type": "display_data"
    },
    {
     "data": {
      "text/html": [
       "CYJV9DRIE9NCQJYLOYOJOGKQGOOELTWXVWUYGQSWCNODHJAHACADUAAHQ9ODUICCESOIVZABA9LTMM9RWTHBIRSXTA"
      ],
      "text/plain": [
       "CYJV9DRIE9NCQJYLOYOJOGKQGOOELTWXVWUYGQSWCNODHJAHACADUAAHQ9ODUICCESOIVZABA9LTMM9RWTHBIRSXTA"
      ]
     },
     "metadata": {},
     "output_type": "display_data"
    },
    {
     "data": {
      "text/html": [
       "Is it valid addr based on checksum? True"
      ],
      "text/plain": [
       "Is it valid addr based on checksum? True"
      ]
     },
     "metadata": {},
     "output_type": "display_data"
    },
    {
     "data": {
      "text/html": [
       "Input address excl checksum:"
      ],
      "text/plain": [
       "Input address excl checksum:"
      ]
     },
     "metadata": {},
     "output_type": "display_data"
    },
    {
     "data": {
      "text/html": [
       "CYJV9DRIE9NCQJYLOYOJOGKQGOOELTWXVWUYGQSWCNODHJAHACADUAAHQ9ODUICCESOIVZABA9LTMM9RW"
      ],
      "text/plain": [
       "CYJV9DRIE9NCQJYLOYOJOGKQGOOELTWXVWUYGQSWCNODHJAHACADUAAHQ9ODUICCESOIVZABA9LTMM9RW"
      ]
     },
     "metadata": {},
     "output_type": "display_data"
    }
   ],
   "source": [
    "#r \"Tangle.Net.dll\"\n",
    "using Tangle.Net.Entity;\n",
    "using Tangle.Net.Utils;\n",
    "\n",
    "//address including checksum\n",
    "var InputAddr = \"CYJV9DRIE9NCQJYLOYOJOGKQGOOELTWXVWUYGQSWCNODHJAHACADUAAHQ9ODUICCESOIVZABA9LTMM9RWTHBIRSXTA\";\n",
    "\n",
    "if (!InputValidator.IsTrytes(InputAddr) || InputAddr.Length != 90)\n",
    "{\n",
    "    Console.WriteLine(\"Not valid input address incl. checksum was given.\");\n",
    "} else {\n",
    "    var Adr = new Address(InputAddr);                \n",
    "\n",
    "    Console.WriteLine(\"Input address incl checksum:\");\n",
    "    Console.WriteLine(InputAddr);\n",
    "    Console.WriteLine(\"Is it valid addr based on checksum? \" + Adr.HasValidChecksum().ToString());\n",
    "    Console.WriteLine(\"Input address excl checksum:\");\n",
    "    Console.WriteLine(Adr.ToString());\n",
    "}"
   ]
  },
  {
   "cell_type": "markdown",
   "metadata": {},
   "source": [
    "# IOTA 101: Transactions\n",
    "A transaction is a smallest piece of data that can be broadcasted to the network. Each transaction consists of fixed 2673 trytes. Transactions (TXs) are basically of two types:\n",
    "* **Value TXs:** those transactions change ownership of IOTA tokens. Two possible states: spending TXs or receiving TXs\n",
    "* **Non-Value TXs:** those transactions include piece of data that can be broadcasted and read from the Tangle\n",
    "\n",
    "Transactions are broadcasted in an envelope called *Bundle*. Bundle may consist of multiple TXs. Bundle is processed by the Tangle as a single entity; meaning only the whole bundle is confirmed by the network (and all TXs within) or nothing. You have to prepare a bundle even if you broadcast single transaction only. Bundle is also described as *atomic* since every bundle includes all information needed to process it antonomously.\n",
    "\n",
    "Each transaction includes several fields, let's name the most important ones:\n",
    "* **`Value`:** Value can be *positive* number = receiving IOTA tokens, *negative* number = spending IOTA tokens or *zero* = broadcasting only piece of data\n",
    "* **`Address`:** It is IOTA address that is associated with the given transaction. *Value* indicates whether it is an address of a receiver or a sender\n",
    "* **`Tag`:** It is an user-defined tag that can be used for searching, etc.\n",
    "* **`SignatureMessageFragment`:** This is the most lenghty attribute (2187 trytes) and could include: *transaction signature* based on private key in case it is a spending TX or *piece of data (message)* in case it is non-value TX. Alternatively it can be also left blank (in case of non-value TXs)\n",
    "* **`TrunkTransaction` / `branchTransaction`:** Those two fields refer to some previous transactions in the Tangle (tips) that the given bundle is going to approve\n",
    "* **`Timestamp`:** TX timestamp. It is actually UNIX timestamp (UTC)\n",
    "![Creating TX in 5 steps](https://raw.githubusercontent.com/Hribek25/IOTA101/master/Graphics/Creating_TX_in_5_steps.png \"By Petr Zizka\")\n",
    "\n",
    "A process of sending IOTA transaction can be summarized in 5 steps:\n",
    "* To create transation(s) with the given attributes: *value*, *address* and potentially also *tag* or *message*\n",
    "* To finalize a bundle that includes all transactions. Once the bundle is finalized no new transactions can be added. It basically means to generate a *bundle hash*\n",
    "* To search for two tips in the Tangle that you are going to validate. There is not a strict rule how to search them but it is generally recommended to leave it on a *tip selection algorithm* implemented on node's side \n",
    "* To do a *Proof-of-Work* for each transaction in the bundle. Result of POW is *Nonce* and *Transaction hash* stored with each transaction\n",
    "* Finally you need to *broadcast* the whole bundle to the network\n",
    "\n",
    "### A secret of a bundle\n",
    "There is a secret to be shared. You have to understand one important thing. Bundle is a top level construct that link all related transactions under one entity however the bundle itself is not broadcasted in fact. You still broadcast \"only\" collection of individual transactions instead. All transactions are recognized to be part of a bundle by the IOTA protocol however any data peering is based on individual transactions (in trytes).\n",
    "\n",
    "In other words, a bundle can be reconstructed anytime from a collection of transactions via fields `bundle hash`, `current index` and `last index`."
   ]
  },
  {
   "cell_type": "markdown",
   "metadata": {},
   "source": [
    "## Non-value transactions\n",
    "Let's start with non-value transactions (meta transactions) first since they are a bit easier for starters.\n",
    "\n",
    "*Please note, the chapter is divided in two separate sections. In the first section, examples are really close to bare metal (still not too close:) to illustrate the whole process and describing implementation details wherever possible. It is also useful when you want to experiment with different settings at each step (hey \"non-existing tips\", looking at you).*\n",
    "\n",
    "*In the second section, IOTA-facing libraries are fully levearged since they are capable to hide all implementation details behind a curtain. Needless to say, if you are not interested in such details then you would probably like to start with the second section.*\n",
    "\n",
    "### Creating and broadcasting transaction in 5 steps (you want to understand the process)\n",
    "#### Create a transaction\n",
    "First of all let's create transactions (offline; in memory) and set main fields.\n",
    "\n",
    "BTW: `Timestamp` field is defined automatically by the IOTA-facing libraries in the process. It is important field while creating `bundle hash`.\n",
    "\n",
    "In the examples within this chapter we are going to broadcast meta transactions (data only) to two different IOTA addresses."
   ]
  },
  {
   "cell_type": "code",
   "execution_count": 0,
   "metadata": {
    "iotadev": {
     "codeid": "445C2B9485C6",
     "standalone": "true",
     "title": "Preparing IOTA transactions to be broadcasted"
    }
   },
   "outputs": [
    {
     "data": {
      "text/html": [
       "Created transaction objects - mandatory fields only:"
      ],
      "text/plain": [
       "Created transaction objects - mandatory fields only:"
      ]
     },
     "metadata": {},
     "output_type": "display_data"
    },
    {
     "data": {
      "text/html": [
       "{\n",
       "  &quot;Address&quot;: {\n",
       "    &quot;Balance&quot;: 0,\n",
       "    &quot;Checksum&quot;: null,\n",
       "    &quot;KeyIndex&quot;: 0,\n",
       "    &quot;PrivateKey&quot;: null,\n",
       "    &quot;SecurityLevel&quot;: 0,\n",
       "    &quot;SpentFrom&quot;: false,\n",
       "    &quot;TrytesLength&quot;: 81,\n",
       "    &quot;Value&quot;: &quot;CXDUYK9XGHC9DTSPDMKGGGXAIARSRVAFGHJOCDDHWADLVBBOEHLICHTMGKVDOGRU9TBESJNHAXYPVJ9R9&quot;\n",
       "  },\n",
       "  &quot;Message&quot;: {\n",
       "    &quot;TrytesLength&quot;: 88,\n",
       "    &quot;Value&quot;: &quot;RBTCFDTCEARCCDADTCGDEAPCEAUCXCFDGDHDEAADTCGDGDPCVCTCSAEAXBCDKDEAXCGDEACBTAVABBTAWAUAVACB&quot;\n",
       "  },\n",
       "  &quot;Tag&quot;: {\n",
       "    &quot;TrytesLength&quot;: 27,\n",
       "    &quot;Value&quot;: &quot;HRIBEK999IOTA999TUTORIAL999&quot;\n",
       "  },\n",
       "  &quot;Timestamp&quot;: 0,\n",
       "  &quot;ValueToTransfer&quot;: 0\n",
       "}"
      ],
      "text/plain": [
       "{\n",
       "  \"Address\": {\n",
       "    \"Balance\": 0,\n",
       "    \"Checksum\": null,\n",
       "    \"KeyIndex\": 0,\n",
       "    \"PrivateKey\": null,\n",
       "    \"SecurityLevel\": 0,\n",
       "    \"SpentFrom\": false,\n",
       "    \"TrytesLength\": 81,\n",
       "    \"Value\": \"CXDUYK9XGHC9DTSPDMKGGGXAIARSRVAFGHJOCDDHWADLVBBOEHLICHTMGKVDOGRU9TBESJNHAXYPVJ9R9\"\n",
       "  },\n",
       "  \"Message\": {\n",
       "    \"TrytesLength\": 88,\n",
       "    \"Value\": \"RBTCFDTCEARCCDADTCGDEAPCEAUCXCFDGDHDEAADTCGDGDPCVCTCSAEAXBCDKDEAXCGDEACBTAVABBTAWAUAVACB\"\n",
       "  },\n",
       "  \"Tag\": {\n",
       "    \"TrytesLength\": 27,\n",
       "    \"Value\": \"HRIBEK999IOTA999TUTORIAL999\"\n",
       "  },\n",
       "  \"Timestamp\": 0,\n",
       "  \"ValueToTransfer\": 0\n",
       "}"
      ]
     },
     "metadata": {},
     "output_type": "display_data"
    },
    {
     "data": {
      "text/html": [
       "{\n",
       "  &quot;Address&quot;: {\n",
       "    &quot;Balance&quot;: 0,\n",
       "    &quot;Checksum&quot;: null,\n",
       "    &quot;KeyIndex&quot;: 0,\n",
       "    &quot;PrivateKey&quot;: null,\n",
       "    &quot;SecurityLevel&quot;: 0,\n",
       "    &quot;SpentFrom&quot;: false,\n",
       "    &quot;TrytesLength&quot;: 81,\n",
       "    &quot;Value&quot;: &quot;CYJV9DRIE9NCQJYLOYOJOGKQGOOELTWXVWUYGQSWCNODHJAHACADUAAHQ9ODUICCESOIVZABA9LTMM9RW&quot;\n",
       "  },\n",
       "  &quot;Message&quot;: {\n",
       "    &quot;TrytesLength&quot;: 90,\n",
       "    &quot;Value&quot;: &quot;RBTCFDTCEARCCDADTCGDEAPCEAGDTCRCCDBDSCEAADTCGDGDPCVCTCSAEAXBCDKDEAXCGDEACBTAVABBTAWAUAVACB&quot;\n",
       "  },\n",
       "  &quot;Tag&quot;: {\n",
       "    &quot;TrytesLength&quot;: 27,\n",
       "    &quot;Value&quot;: &quot;HRIBEK999IOTA999TUTORIAL999&quot;\n",
       "  },\n",
       "  &quot;Timestamp&quot;: 0,\n",
       "  &quot;ValueToTransfer&quot;: 0\n",
       "}"
      ],
      "text/plain": [
       "{\n",
       "  \"Address\": {\n",
       "    \"Balance\": 0,\n",
       "    \"Checksum\": null,\n",
       "    \"KeyIndex\": 0,\n",
       "    \"PrivateKey\": null,\n",
       "    \"SecurityLevel\": 0,\n",
       "    \"SpentFrom\": false,\n",
       "    \"TrytesLength\": 81,\n",
       "    \"Value\": \"CYJV9DRIE9NCQJYLOYOJOGKQGOOELTWXVWUYGQSWCNODHJAHACADUAAHQ9ODUICCESOIVZABA9LTMM9RW\"\n",
       "  },\n",
       "  \"Message\": {\n",
       "    \"TrytesLength\": 90,\n",
       "    \"Value\": \"RBTCFDTCEARCCDADTCGDEAPCEAGDTCRCCDBDSCEAADTCGDGDPCVCTCSAEAXBCDKDEAXCGDEACBTAVABBTAWAUAVACB\"\n",
       "  },\n",
       "  \"Tag\": {\n",
       "    \"TrytesLength\": 27,\n",
       "    \"Value\": \"HRIBEK999IOTA999TUTORIAL999\"\n",
       "  },\n",
       "  \"Timestamp\": 0,\n",
       "  \"ValueToTransfer\": 0\n",
       "}"
      ]
     },
     "metadata": {},
     "output_type": "display_data"
    }
   ],
   "source": [
    "#r \"Tangle.Net.dll\"\n",
    "#r \"Newtonsoft.Json.dll\"\n",
    "using Tangle.Net.Entity;\n",
    "using Newtonsoft.Json;\n",
    "\n",
    "var MySeed = \"HGW9HB9LJPYUGVHNGCPLFKKPNZAIIFHZBDHKSGMQKFMANUBASSMSV9TAJSSMPRZZU9SFZULXKJ9YLAIUA\";\n",
    "var TargetAddress1 = \"CXDUYK9XGHC9DTSPDMKGGGXAIARSRVAFGHJOCDDHWADLVBBOEHLICHTMGKVDOGRU9TBESJNHAXYPVJ9R9\";\n",
    "var TargetAddress2 = \"CYJV9DRIE9NCQJYLOYOJOGKQGOOELTWXVWUYGQSWCNODHJAHACADUAAHQ9ODUICCESOIVZABA9LTMM9RW\";\n",
    "\n",
    "var NowIs = DateTime.Now.ToShortDateString(); //this is not important - just to have some meaningful message\n",
    "\n",
    "var pt = new Transfer() // creating a first transfer (a proposed transaction)\n",
    "{\n",
    "    Address=new Address(TargetAddress1),\n",
    "    ValueToTransfer=0,\n",
    "    Message=TryteString.FromUtf8String(\"Here comes a first message. Now is \" + NowIs),\n",
    "    Tag=new Tag(\"HRIBEK999IOTA999TUTORIAL\"),\n",
    "    Timestamp = Timestamp.UnixSecondsTimestamp // please note, Tangle.Net library does not enter timestamp for you\n",
    "};\n",
    "\n",
    "var pt2 = new Transfer() // creating a second transfer (a proposed transaction)\n",
    "{\n",
    "    Address = new Address(TargetAddress2),\n",
    "    ValueToTransfer = 0,\n",
    "    Message = TryteString.FromUtf8String(\"Here comes a second message. Now is \" + NowIs),\n",
    "    Tag = new Tag(\"HRIBEK999IOTA999TUTORIAL\"),\n",
    "    Timestamp = Timestamp.UnixSecondsTimestamp // please note, Tangle.Net library does not enter timestamp for you\n",
    "};\n",
    "\n",
    "Console.WriteLine(\"Created transaction objects - mandatory fields only:\");\n",
    "Console.WriteLine(JsonConvert.SerializeObject(pt, Formatting.Indented));\n",
    "Console.WriteLine(JsonConvert.SerializeObject(pt2, Formatting.Indented));"
   ]
  },
  {
   "cell_type": "markdown",
   "metadata": {},
   "source": [
    "#### Finalizing bundle\n",
    "Once all individual transactions are created it is time to prepare and finalize the bundle. While preparing the bundle you need at least to specify list of prepared transaction(s). In case of non-value transactions it is quite straightforward process. However, it is a bit more complicated in case of value transactions - please see later.\n",
    "\n",
    "Finalizing the bundle consists of several tasks under the hood:\n",
    "* Each transaction is indexed. Attributes `current_index` / `last_index` are set\n",
    "* `Bundle hash` is generated (*Sponge function* + normalization) and assigned to each transaction\n",
    "* `signatureMessageFragment` is bascially copy of `message` field in case of non-value transactions\n",
    "* PyOTA library also checks whether the data in `message` field is larger than transaction allows (2187 trytes). If this is the case then it takes care of it and split your data into several transactions\n",
    "\n",
    "*Please note, finalizing the bundle also means you are no longer able to add new transactions to the bundle post the finalization process.*\n",
    "\n",
    "Simply put, `bundle hash` is a cryptographic \"fingerprint\" of all transactions in the bundle. It uniquely represents them and so as long as transactions are the same (incl their particular order) the `bundle hash` is also the same.\n",
    "\n",
    "$$BundleHash = fce(address, value, legacy tag, timestamp, current index, last index)$$\n",
    "\n",
    "You may be wondering what is a difference between `tag` and `legacy_tag`. `Tag` includes actualy the tag that was defined during the transaction creation. `Legacy_tag` is also based on it however it is modified during the normalization process while bundle hashing to be sure that `bundle hash` is can be securely used while TX signing. That's why the `bundle hash` is sometimes refered as `normalized bundle hash`.\n",
    "\n",
    "The bundle refers to the first transaction in collection as `tail_transaction`. You can perceive `tail transaction` as an official representative of the whole bundle while checking for confirmation status, etc. Remember, the bundle is an atomic entity and so whatever is done to bundle it applies to ALL transactions within."
   ]
  },
  {
   "cell_type": "code",
   "execution_count": 0,
   "metadata": {
    "iotadev": {
     "codeid": "C4C3A3808862",
     "standalone": "false",
     "title": "Preparing IOTA bundle to be broadcasted"
    }
   },
   "outputs": [
    {
     "data": {
      "text/html": [
       "Generated bundle hash: HMCU9CJIIGJLNCJJSYACUYZNFPDREPKLADUU9EHBEZNQUAHWGXJ9BZZHZPBLWXCXBHSLSKSLZZYFLVHZB"
      ],
      "text/plain": [
       "Generated bundle hash: HMCU9CJIIGJLNCJJSYACUYZNFPDREPKLADUU9EHBEZNQUAHWGXJ9BZZHZPBLWXCXBHSLSKSLZZYFLVHZB"
      ]
     },
     "metadata": {},
     "output_type": "display_data"
    },
    {
     "data": {
      "text/html": [
       "Tail Transaction in the Bundle is a transaction #0."
      ],
      "text/plain": [
       "Tail Transaction in the Bundle is a transaction #0."
      ]
     },
     "metadata": {},
     "output_type": "display_data"
    },
    {
     "data": {
      "text/html": [
       "List of all transactions in the bundle:"
      ],
      "text/plain": [
       "List of all transactions in the bundle:"
      ]
     },
     "metadata": {},
     "output_type": "display_data"
    },
    {
     "data": {
      "text/html": [
       "[\n",
       "  {\n",
       "    &quot;Address&quot;: {\n",
       "      &quot;Balance&quot;: 0,\n",
       "      &quot;Checksum&quot;: null,\n",
       "      &quot;KeyIndex&quot;: 0,\n",
       "      &quot;PrivateKey&quot;: null,\n",
       "      &quot;SecurityLevel&quot;: 0,\n",
       "      &quot;SpentFrom&quot;: false,\n",
       "      &quot;TrytesLength&quot;: 81,\n",
       "      &quot;Value&quot;: &quot;CXDUYK9XGHC9DTSPDMKGGGXAIARSRVAFGHJOCDDHWADLVBBOEHLICHTMGKVDOGRU9TBESJNHAXYPVJ9R9&quot;\n",
       "    },\n",
       "    &quot;AttachmentTimestamp&quot;: 999999999,\n",
       "    &quot;AttachmentTimestampLowerBound&quot;: 999999999,\n",
       "    &quot;AttachmentTimestampUpperBound&quot;: 999999999,\n",
       "    &quot;BranchTransaction&quot;: {\n",
       "      &quot;TrytesLength&quot;: 81,\n",
       "      &quot;Value&quot;: &quot;999999999999999999999999999999999999999999999999999999999999999999999999999999999&quot;\n",
       "    },\n",
       "    &quot;BundleHash&quot;: {\n",
       "      &quot;TrytesLength&quot;: 81,\n",
       "      &quot;Value&quot;: &quot;HMCU9CJIIGJLNCJJSYACUYZNFPDREPKLADUU9EHBEZNQUAHWGXJ9BZZHZPBLWXCXBHSLSKSLZZYFLVHZB&quot;\n",
       "    },\n",
       "    &quot;CurrentIndex&quot;: 0,\n",
       "    &quot;Fragment&quot;: {\n",
       "      &quot;IsEmpty&quot;: false,\n",
       "      &quot;TrytesLength&quot;: 2187,\n",
       "      &quot;Value&quot;: &quot;RBTCFDTCEARCCDADTCGDEAPCEAUCXCFDGDHDEAADTCGDGDPCVCTCSAEAXBCDKDEAXCGDEACBTAVABBTAWAUAVACB99999999999999999999999999999999999999999999999999999999999999999999999999999999999999999999999999999999999999999999999999999999999999999999999999999999999999999999999999999999999999999999999999999999999999999999999999999999999999999999999999999999999999999999999999999999999999999999999999999999999999999999999999999999999999999999999999999999999999999999999999999999999999999999999999999999999999999999999999999999999999999999999999999999999999999999999999999999999999999999999999999999999999999999999999999999999999999999999999999999999999999999999999999999999999999999999999999999999999999999999999999999999999999999999999999999999999999999999999999999999999999999999999999999999999999999999999999999999999999999999999999999999999999999999999999999999999999999999999999999999999999999999999999999999999999999999999999999999999999999999999999999999999999999999999999999999999999999999999999999999999999999999999999999999999999999999999999999999999999999999999999999999999999999999999999999999999999999999999999999999999999999999999999999999999999999999999999999999999999999999999999999999999999999999999999999999999999999999999999999999999999999999999999999999999999999999999999999999999999999999999999999999999999999999999999999999999999999999999999999999999999999999999999999999999999999999999999999999999999999999999999999999999999999999999999999999999999999999999999999999999999999999999999999999999999999999999999999999999999999999999999999999999999999999999999999999999999999999999999999999999999999999999999999999999999999999999999999999999999999999999999999999999999999999999999999999999999999999999999999999999999999999999999999999999999999999999999999999999999999999999999999999999999999999999999999999999999999999999999999999999999999999999999999999999999999999999999999999999999999999999999999999999999999999999999999999999999999999999999999999999999999999999999999999999999999999999999999999999999999999999999999999999999999999999999999999999999999999999999999999999999999999999999999999999999999999999999999999999999999999999999999999999999999999999999999999999999999999999999999999&quot;\n",
       "    },\n",
       "    &quot;Hash&quot;: null,\n",
       "    &quot;IsTail&quot;: true,\n",
       "    &quot;LastIndex&quot;: 1,\n",
       "    &quot;Nonce&quot;: {\n",
       "      &quot;TrytesLength&quot;: 27,\n",
       "      &quot;Value&quot;: &quot;999999999999999999999999999&quot;\n",
       "    },\n",
       "    &quot;ObsoleteTag&quot;: {\n",
       "      &quot;TrytesLength&quot;: 27,\n",
       "      &quot;Value&quot;: &quot;LWIBEK999IOTA999TUTORIAL999&quot;\n",
       "    },\n",
       "    &quot;Tag&quot;: {\n",
       "      &quot;TrytesLength&quot;: 27,\n",
       "      &quot;Value&quot;: &quot;HRIBEK999IOTA999TUTORIAL999&quot;\n",
       "    },\n",
       "    &quot;Timestamp&quot;: 0,\n",
       "    &quot;TrunkTransaction&quot;: {\n",
       "      &quot;TrytesLength&quot;: 81,\n",
       "      &quot;Value&quot;: &quot;999999999999999999999999999999999999999999999999999999999999999999999999999999999&quot;\n",
       "    },\n",
       "    &quot;Value&quot;: 0\n",
       "  },\n",
       "  {\n",
       "    &quot;Address&quot;: {\n",
       "      &quot;Balance&quot;: 0,\n",
       "      &quot;Checksum&quot;: null,\n",
       "      &quot;KeyIndex&quot;: 0,\n",
       "      &quot;PrivateKey&quot;: null,\n",
       "      &quot;SecurityLevel&quot;: 0,\n",
       "      &quot;SpentFrom&quot;: false,\n",
       "      &quot;TrytesLength&quot;: 81,\n",
       "      &quot;Value&quot;: &quot;CYJV9DRIE9NCQJYLOYOJOGKQGOOELTWXVWUYGQSWCNODHJAHACADUAAHQ9ODUICCESOIVZABA9LTMM9RW&quot;\n",
       "    },\n",
       "    &quot;AttachmentTimestamp&quot;: 999999999,\n",
       "    &quot;AttachmentTimestampLowerBound&quot;: 999999999,\n",
       "    &quot;AttachmentTimestampUpperBound&quot;: 999999999,\n",
       "    &quot;BranchTransaction&quot;: {\n",
       "      &quot;TrytesLength&quot;: 81,\n",
       "      &quot;Value&quot;: &quot;999999999999999999999999999999999999999999999999999999999999999999999999999999999&quot;\n",
       "    },\n",
       "    &quot;BundleHash&quot;: {\n",
       "      &quot;TrytesLength&quot;: 81,\n",
       "      &quot;Value&quot;: &quot;HMCU9CJIIGJLNCJJSYACUYZNFPDREPKLADUU9EHBEZNQUAHWGXJ9BZZHZPBLWXCXBHSLSKSLZZYFLVHZB&quot;\n",
       "    },\n",
       "    &quot;CurrentIndex&quot;: 1,\n",
       "    &quot;Fragment&quot;: {\n",
       "      &quot;IsEmpty&quot;: false,\n",
       "      &quot;TrytesLength&quot;: 2187,\n",
       "      &quot;Value&quot;: &quot;RBTCFDTCEARCCDADTCGDEAPCEAGDTCRCCDBDSCEAADTCGDGDPCVCTCSAEAXBCDKDEAXCGDEACBTAVABBTAWAUAVACB999999999999999999999999999999999999999999999999999999999999999999999999999999999999999999999999999999999999999999999999999999999999999999999999999999999999999999999999999999999999999999999999999999999999999999999999999999999999999999999999999999999999999999999999999999999999999999999999999999999999999999999999999999999999999999999999999999999999999999999999999999999999999999999999999999999999999999999999999999999999999999999999999999999999999999999999999999999999999999999999999999999999999999999999999999999999999999999999999999999999999999999999999999999999999999999999999999999999999999999999999999999999999999999999999999999999999999999999999999999999999999999999999999999999999999999999999999999999999999999999999999999999999999999999999999999999999999999999999999999999999999999999999999999999999999999999999999999999999999999999999999999999999999999999999999999999999999999999999999999999999999999999999999999999999999999999999999999999999999999999999999999999999999999999999999999999999999999999999999999999999999999999999999999999999999999999999999999999999999999999999999999999999999999999999999999999999999999999999999999999999999999999999999999999999999999999999999999999999999999999999999999999999999999999999999999999999999999999999999999999999999999999999999999999999999999999999999999999999999999999999999999999999999999999999999999999999999999999999999999999999999999999999999999999999999999999999999999999999999999999999999999999999999999999999999999999999999999999999999999999999999999999999999999999999999999999999999999999999999999999999999999999999999999999999999999999999999999999999999999999999999999999999999999999999999999999999999999999999999999999999999999999999999999999999999999999999999999999999999999999999999999999999999999999999999999999999999999999999999999999999999999999999999999999999999999999999999999999999999999999999999999999999999999999999999999999999999999999999999999999999999999999999999999999999999999999999999999999999999999999999999999999999999999999999999999999999999999999999999999999999999999999999999999999999999999999999999999999999999999&quot;\n",
       "    },\n",
       "    &quot;Hash&quot;: null,\n",
       "    &quot;IsTail&quot;: false,\n",
       "    &quot;LastIndex&quot;: 1,\n",
       "    &quot;Nonce&quot;: {\n",
       "      &quot;TrytesLength&quot;: 27,\n",
       "      &quot;Value&quot;: &quot;999999999999999999999999999&quot;\n",
       "    },\n",
       "    &quot;ObsoleteTag&quot;: {\n",
       "      &quot;TrytesLength&quot;: 27,\n",
       "      &quot;Value&quot;: &quot;HRIBEK999IOTA999TUTORIAL999&quot;\n",
       "    },\n",
       "    &quot;Tag&quot;: {\n",
       "      &quot;TrytesLength&quot;: 27,\n",
       "      &quot;Value&quot;: &quot;HRIBEK999IOTA999TUTORIAL999&quot;\n",
       "    },\n",
       "    &quot;Timestamp&quot;: 0,\n",
       "    &quot;TrunkTransaction&quot;: {\n",
       "      &quot;TrytesLength&quot;: 81,\n",
       "      &quot;Value&quot;: &quot;999999999999999999999999999999999999999999999999999999999999999999999999999999999&quot;\n",
       "    },\n",
       "    &quot;Value&quot;: 0\n",
       "  }\n",
       "]"
      ],
      "text/plain": [
       "[\n",
       "  {\n",
       "    \"Address\": {\n",
       "      \"Balance\": 0,\n",
       "      \"Checksum\": null,\n",
       "      \"KeyIndex\": 0,\n",
       "      \"PrivateKey\": null,\n",
       "      \"SecurityLevel\": 0,\n",
       "      \"SpentFrom\": false,\n",
       "      \"TrytesLength\": 81,\n",
       "      \"Value\": \"CXDUYK9XGHC9DTSPDMKGGGXAIARSRVAFGHJOCDDHWADLVBBOEHLICHTMGKVDOGRU9TBESJNHAXYPVJ9R9\"\n",
       "    },\n",
       "    \"AttachmentTimestamp\": 999999999,\n",
       "    \"AttachmentTimestampLowerBound\": 999999999,\n",
       "    \"AttachmentTimestampUpperBound\": 999999999,\n",
       "    \"BranchTransaction\": {\n",
       "      \"TrytesLength\": 81,\n",
       "      \"Value\": \"999999999999999999999999999999999999999999999999999999999999999999999999999999999\"\n",
       "    },\n",
       "    \"BundleHash\": {\n",
       "      \"TrytesLength\": 81,\n",
       "      \"Value\": \"HMCU9CJIIGJLNCJJSYACUYZNFPDREPKLADUU9EHBEZNQUAHWGXJ9BZZHZPBLWXCXBHSLSKSLZZYFLVHZB\"\n",
       "    },\n",
       "    \"CurrentIndex\": 0,\n",
       "    \"Fragment\": {\n",
       "      \"IsEmpty\": false,\n",
       "      \"TrytesLength\": 2187,\n",
       "      \"Value\": \"RBTCFDTCEARCCDADTCGDEAPCEAUCXCFDGDHDEAADTCGDGDPCVCTCSAEAXBCDKDEAXCGDEACBTAVABBTAWAUAVACB99999999999999999999999999999999999999999999999999999999999999999999999999999999999999999999999999999999999999999999999999999999999999999999999999999999999999999999999999999999999999999999999999999999999999999999999999999999999999999999999999999999999999999999999999999999999999999999999999999999999999999999999999999999999999999999999999999999999999999999999999999999999999999999999999999999999999999999999999999999999999999999999999999999999999999999999999999999999999999999999999999999999999999999999999999999999999999999999999999999999999999999999999999999999999999999999999999999999999999999999999999999999999999999999999999999999999999999999999999999999999999999999999999999999999999999999999999999999999999999999999999999999999999999999999999999999999999999999999999999999999999999999999999999999999999999999999999999999999999999999999999999999999999999999999999999999999999999999999999999999999999999999999999999999999999999999999999999999999999999999999999999999999999999999999999999999999999999999999999999999999999999999999999999999999999999999999999999999999999999999999999999999999999999999999999999999999999999999999999999999999999999999999999999999999999999999999999999999999999999999999999999999999999999999999999999999999999999999999999999999999999999999999999999999999999999999999999999999999999999999999999999999999999999999999999999999999999999999999999999999999999999999999999999999999999999999999999999999999999999999999999999999999999999999999999999999999999999999999999999999999999999999999999999999999999999999999999999999999999999999999999999999999999999999999999999999999999999999999999999999999999999999999999999999999999999999999999999999999999999999999999999999999999999999999999999999999999999999999999999999999999999999999999999999999999999999999999999999999999999999999999999999999999999999999999999999999999999999999999999999999999999999999999999999999999999999999999999999999999999999999999999999999999999999999999999999999999999999999999999999999999999999999999999999999999999999999999999999999999999999999999999999999999999999999999999999999999999999999999999999\"\n",
       "    },\n",
       "    \"Hash\": null,\n",
       "    \"IsTail\": true,\n",
       "    \"LastIndex\": 1,\n",
       "    \"Nonce\": {\n",
       "      \"TrytesLength\": 27,\n",
       "      \"Value\": \"999999999999999999999999999\"\n",
       "    },\n",
       "    \"ObsoleteTag\": {\n",
       "      \"TrytesLength\": 27,\n",
       "      \"Value\": \"LWIBEK999IOTA999TUTORIAL999\"\n",
       "    },\n",
       "    \"Tag\": {\n",
       "      \"TrytesLength\": 27,\n",
       "      \"Value\": \"HRIBEK999IOTA999TUTORIAL999\"\n",
       "    },\n",
       "    \"Timestamp\": 0,\n",
       "    \"TrunkTransaction\": {\n",
       "      \"TrytesLength\": 81,\n",
       "      \"Value\": \"999999999999999999999999999999999999999999999999999999999999999999999999999999999\"\n",
       "    },\n",
       "    \"Value\": 0\n",
       "  },\n",
       "  {\n",
       "    \"Address\": {\n",
       "      \"Balance\": 0,\n",
       "      \"Checksum\": null,\n",
       "      \"KeyIndex\": 0,\n",
       "      \"PrivateKey\": null,\n",
       "      \"SecurityLevel\": 0,\n",
       "      \"SpentFrom\": false,\n",
       "      \"TrytesLength\": 81,\n",
       "      \"Value\": \"CYJV9DRIE9NCQJYLOYOJOGKQGOOELTWXVWUYGQSWCNODHJAHACADUAAHQ9ODUICCESOIVZABA9LTMM9RW\"\n",
       "    },\n",
       "    \"AttachmentTimestamp\": 999999999,\n",
       "    \"AttachmentTimestampLowerBound\": 999999999,\n",
       "    \"AttachmentTimestampUpperBound\": 999999999,\n",
       "    \"BranchTransaction\": {\n",
       "      \"TrytesLength\": 81,\n",
       "      \"Value\": \"999999999999999999999999999999999999999999999999999999999999999999999999999999999\"\n",
       "    },\n",
       "    \"BundleHash\": {\n",
       "      \"TrytesLength\": 81,\n",
       "      \"Value\": \"HMCU9CJIIGJLNCJJSYACUYZNFPDREPKLADUU9EHBEZNQUAHWGXJ9BZZHZPBLWXCXBHSLSKSLZZYFLVHZB\"\n",
       "    },\n",
       "    \"CurrentIndex\": 1,\n",
       "    \"Fragment\": {\n",
       "      \"IsEmpty\": false,\n",
       "      \"TrytesLength\": 2187,\n",
       "      \"Value\": \"RBTCFDTCEARCCDADTCGDEAPCEAGDTCRCCDBDSCEAADTCGDGDPCVCTCSAEAXBCDKDEAXCGDEACBTAVABBTAWAUAVACB999999999999999999999999999999999999999999999999999999999999999999999999999999999999999999999999999999999999999999999999999999999999999999999999999999999999999999999999999999999999999999999999999999999999999999999999999999999999999999999999999999999999999999999999999999999999999999999999999999999999999999999999999999999999999999999999999999999999999999999999999999999999999999999999999999999999999999999999999999999999999999999999999999999999999999999999999999999999999999999999999999999999999999999999999999999999999999999999999999999999999999999999999999999999999999999999999999999999999999999999999999999999999999999999999999999999999999999999999999999999999999999999999999999999999999999999999999999999999999999999999999999999999999999999999999999999999999999999999999999999999999999999999999999999999999999999999999999999999999999999999999999999999999999999999999999999999999999999999999999999999999999999999999999999999999999999999999999999999999999999999999999999999999999999999999999999999999999999999999999999999999999999999999999999999999999999999999999999999999999999999999999999999999999999999999999999999999999999999999999999999999999999999999999999999999999999999999999999999999999999999999999999999999999999999999999999999999999999999999999999999999999999999999999999999999999999999999999999999999999999999999999999999999999999999999999999999999999999999999999999999999999999999999999999999999999999999999999999999999999999999999999999999999999999999999999999999999999999999999999999999999999999999999999999999999999999999999999999999999999999999999999999999999999999999999999999999999999999999999999999999999999999999999999999999999999999999999999999999999999999999999999999999999999999999999999999999999999999999999999999999999999999999999999999999999999999999999999999999999999999999999999999999999999999999999999999999999999999999999999999999999999999999999999999999999999999999999999999999999999999999999999999999999999999999999999999999999999999999999999999999999999999999999999999999999999999999999999999999999999999999999999999999999999999999999999999999999999999999999999\"\n",
       "    },\n",
       "    \"Hash\": null,\n",
       "    \"IsTail\": false,\n",
       "    \"LastIndex\": 1,\n",
       "    \"Nonce\": {\n",
       "      \"TrytesLength\": 27,\n",
       "      \"Value\": \"999999999999999999999999999\"\n",
       "    },\n",
       "    \"ObsoleteTag\": {\n",
       "      \"TrytesLength\": 27,\n",
       "      \"Value\": \"HRIBEK999IOTA999TUTORIAL999\"\n",
       "    },\n",
       "    \"Tag\": {\n",
       "      \"TrytesLength\": 27,\n",
       "      \"Value\": \"HRIBEK999IOTA999TUTORIAL999\"\n",
       "    },\n",
       "    \"Timestamp\": 0,\n",
       "    \"TrunkTransaction\": {\n",
       "      \"TrytesLength\": 81,\n",
       "      \"Value\": \"999999999999999999999999999999999999999999999999999999999999999999999999999999999\"\n",
       "    },\n",
       "    \"Value\": 0\n",
       "  }\n",
       "]"
      ]
     },
     "metadata": {},
     "output_type": "display_data"
    }
   ],
   "source": [
    "//preparing bundle that consists of both transactions prepared in the previous example\n",
    "var bundle = new Bundle();\n",
    "\n",
    "bundle.AddTransfer(pt);\n",
    "bundle.AddTransfer(pt2);\n",
    "\n",
    "//generate a bundle hash using sponge/absorb function + normalize bundle hash + copy bundle hash into each transaction / bundle\n",
    "bundle.Finalize();\n",
    "bundle.Sign();\n",
    "\n",
    "Console.WriteLine(\"Generated bundle hash: \" + bundle.Hash.ToString());\n",
    "Console.WriteLine(\"Tail Transaction in the Bundle is a transaction #\" + bundle.TailTransaction.CurrentIndex + \".\");\n",
    "\n",
    "Console.WriteLine(\"List of all transactions in the bundle:\");\n",
    "Console.WriteLine(JsonConvert.SerializeObject(bundle.Transactions, Formatting.Indented));"
   ]
  },
  {
   "cell_type": "markdown",
   "metadata": {},
   "source": [
    "At this stage you can also see how does our finalized bundle look encoded in Trytes so far. It is also a proof that there is no bundle to be broadcasted itself, only list of transations matter."
   ]
  },
  {
   "cell_type": "code",
   "execution_count": 0,
   "metadata": {
    "iotadev": {
     "codeid": "B4FE2962FB5C",
     "standalone": "false",
     "title": "Getting IOTA bundle as trytes"
    }
   },
   "outputs": [
    {
     "data": {
      "text/html": [
       "[\n",
       "  {\n",
       "    &quot;TrytesLength&quot;: 2673,\n",
       "    &quot;Value&quot;: &quot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quot;\n",
       "  },\n",
       "  {\n",
       "    &quot;TrytesLength&quot;: 2673,\n",
       "    &quot;Value&quot;: &quot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quot;\n",
       "  }\n",
       "]"
      ],
      "text/plain": [
       "[\n",
       "  {\n",
       "    \"TrytesLength\": 2673,\n",
       "    \"Value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n",
       "  },\n",
       "  {\n",
       "    \"TrytesLength\": 2673,\n",
       "    \"Value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n",
       "  }\n",
       "]"
      ]
     },
     "metadata": {},
     "output_type": "display_data"
    }
   ],
   "source": [
    "Console.WriteLine(JsonConvert.SerializeObject(bundle.ToTrytes(), Formatting.Indented)); //bundle as trytes - there is no bundle just transactions"
   ]
  },
  {
   "cell_type": "markdown",
   "metadata": {},
   "source": [
    "#### Selecting two tips\n",
    "As mentioned earlier you need to find two tips that you are going to validate together with your bundle for a sake of network participation. This will be outsourced to an IOTA node and so it will be for the first time we interact with the network (via API call `get_transactions_to_approve`).\n",
    "\n",
    "There is a `depth` parameter needed. It instructs a node how many milestones it should go in the past while confirming tips. The higher value the better to network however more resources needed. `Depth=3` is considered to be well-balanced compromise. Higher value than `depth=10` will probably throw an exception depending on node's configuration.\n",
    "\n",
    "It should return two selected tips as `branch` and `trunk` transactions. Those transactions will be used while broadcasting the bundle."
   ]
  },
  {
   "cell_type": "code",
   "execution_count": 0,
   "metadata": {
    "iotadev": {
     "codeid": "20F0C730001B",
     "standalone": "false",
     "title": "Selecting tips to be confirmed: API call Get_transactions_to_approve()"
    }
   },
   "outputs": [
    {
     "data": {
      "text/html": [
       "{\n",
       "  &quot;BranchTransaction&quot;: {\n",
       "    &quot;TrytesLength&quot;: 81,\n",
       "    &quot;Value&quot;: &quot;KAIQDBQEOHPOQELQZXIMICACCRPHGAZCZAUAUKZVSRZLKUD9BBKKAMNNBGUTQTKLVMLGGO9ZZLWKA9999&quot;\n",
       "  },\n",
       "  &quot;Duration&quot;: 190,\n",
       "  &quot;TrunkTransaction&quot;: {\n",
       "    &quot;TrytesLength&quot;: 81,\n",
       "    &quot;Value&quot;: &quot;AZYDOXZLYNILMCSCWBXRPNNXWFZGTHOVSEQBYMKEXBZZRKWTPHSWPZCERVSPHUXPXAEGEILXITVA99999&quot;\n",
       "  }\n",
       "}"
      ],
      "text/plain": [
       "{\n",
       "  \"BranchTransaction\": {\n",
       "    \"TrytesLength\": 81,\n",
       "    \"Value\": \"KAIQDBQEOHPOQELQZXIMICACCRPHGAZCZAUAUKZVSRZLKUD9BBKKAMNNBGUTQTKLVMLGGO9ZZLWKA9999\"\n",
       "  },\n",
       "  \"Duration\": 190,\n",
       "  \"TrunkTransaction\": {\n",
       "    \"TrytesLength\": 81,\n",
       "    \"Value\": \"AZYDOXZLYNILMCSCWBXRPNNXWFZGTHOVSEQBYMKEXBZZRKWTPHSWPZCERVSPHUXPXAEGEILXITVA99999\"\n",
       "  }\n",
       "}"
      ]
     },
     "metadata": {},
     "output_type": "display_data"
    }
   ],
   "source": [
    "#r \"RestSharp.dll\"\n",
    "using RestSharp;\n",
    "using Tangle.Net.Repository;\n",
    "\n",
    "var NodeURL = \"https://nodes.thetangle.org:443\";\n",
    "var repo = new RestIotaRepository(new RestClient(NodeURL)); // ctor initialization of the Tangle.Net library\n",
    "\n",
    "var gta = repo.GetTransactionsToApprove(3);\n",
    "Console.WriteLine(JsonConvert.SerializeObject(gta, Formatting.Indented));"
   ]
  },
  {
   "cell_type": "markdown",
   "metadata": {},
   "source": [
    "#### Performin' POW\n",
    "*Proof of work* is a relatively simple cryptograhic puzzle to be solved. It represents energy-based costs of your transaction. It also helps to minimize risks of some attack vectors to the network.\n",
    "\n",
    "This task can be also outsourced to IOTA nodes. In order to perform it you need *selected tips*, *finalized bundle* (in trytes) and also `Minimum Weight Magnitude` parameter. This parameter defines how diffciult the given cryptographic puzzle should be to be accepted by the network. As of now, you should set at least `min_weight_magnitude=14` in case of mainnet.\n",
    "\n",
    "Please note, POW is performed per each transaction and so it can take some time. That's why it is not recommended to have more than 30 transactions in a bundle.\n",
    "\n",
    "Once succesfully performed, the modified bundle (list of all transactions in trytes) is returned in order to be broadcasted.\n",
    "\n",
    "Specifically:\n",
    "* Fields `nonce` and `transaction hash` are calculated per each transaction\n",
    "* `Trunk` and `Branch` tips are correctly mapped among transactions within the bundle. Check that `trunk` of the first TX refers to the second TX, etc."
   ]
  },
  {
   "cell_type": "code",
   "execution_count": 0,
   "metadata": {
    "iotadev": {
     "codeid": "1DFBE208CD1D",
     "standalone": "false",
     "title": "Performing POW: API call Attach_to_tangle()"
    }
   },
   "outputs": [
    {
     "data": {
      "text/html": [
       "Performing POW... Wait please..."
      ],
      "text/plain": [
       "Performing POW... Wait please..."
      ]
     },
     "metadata": {},
     "output_type": "display_data"
    },
    {
     "data": {
      "text/html": [
       "[\n",
       "  {\n",
       "    &quot;TrytesLength&quot;: 2673,\n",
       "    &quot;Value&quot;: &quot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quot;\n",
       "  },\n",
       "  {\n",
       "    &quot;TrytesLength&quot;: 2673,\n",
       "    &quot;Value&quot;: &quot;RBTCFDTCEARCCDADTCGDEAPCEAUCXCFDGDHDEAADTCGDGDPCVCTCSAEAXBCDKDEAXCGDEACBTAVABBTAWAUAVACB99999999999999999999999999999999999999999999999999999999999999999999999999999999999999999999999999999999999999999999999999999999999999999999999999999999999999999999999999999999999999999999999999999999999999999999999999999999999999999999999999999999999999999999999999999999999999999999999999999999999999999999999999999999999999999999999999999999999999999999999999999999999999999999999999999999999999999999999999999999999999999999999999999999999999999999999999999999999999999999999999999999999999999999999999999999999999999999999999999999999999999999999999999999999999999999999999999999999999999999999999999999999999999999999999999999999999999999999999999999999999999999999999999999999999999999999999999999999999999999999999999999999999999999999999999999999999999999999999999999999999999999999999999999999999999999999999999999999999999999999999999999999999999999999999999999999999999999999999999999999999999999999999999999999999999999999999999999999999999999999999999999999999999999999999999999999999999999999999999999999999999999999999999999999999999999999999999999999999999999999999999999999999999999999999999999999999999999999999999999999999999999999999999999999999999999999999999999999999999999999999999999999999999999999999999999999999999999999999999999999999999999999999999999999999999999999999999999999999999999999999999999999999999999999999999999999999999999999999999999999999999999999999999999999999999999999999999999999999999999999999999999999999999999999999999999999999999999999999999999999999999999999999999999999999999999999999999999999999999999999999999999999999999999999999999999999999999999999999999999999999999999999999999999999999999999999999999999999999999999999999999999999999999999999999999999999999999999999999999999999999999999999999999999999999999999999999999999999999999999999999999999999999999999999999999999999999999999999999999999999999999999999999999999999999999999999999999999999999999999999999999999999999999999999999999999999999999999999999999999999999999999999999999999999999999999999999999999999999999999999999999999999999999999999999999999999999999999999999999999999CXDUYK9XGHC9DTSPDMKGGGXAIARSRVAFGHJOCDDHWADLVBBOEHLICHTMGKVDOGRU9TBESJNHAXYPVJ9R9999999999999999999999999999LWIBEK999IOTA999TUTORIAL999999999999999999999A99999999HMCU9CJIIGJLNCJJSYACUYZNFPDREPKLADUU9EHBEZNQUAHWGXJ9BZZHZPBLWXCXBHSLSKSLZZYFLVHZBOYHIDWXOYTIDSLXUYVPTYJSYSUYGME9OWRFNKISZGENKAJWCAQTDRJXFCJKXBBNHROIGZBNYRXSY99999AZYDOXZLYNILMCSCWBXRPNNXWFZGTHOVSEQBYMKEXBZZRKWTPHSWPZCERVSPHUXPXAEGEILXITVA99999HRIBEK999IOTA999TUTORIAL999BSWERKZOF999999999MMMMMMMMMNXO9XFRKWJIPJOGSREFDHPHRIJQ&quot;\n",
       "  }\n",
       "]"
      ],
      "text/plain": [
       "[\n",
       "  {\n",
       "    \"TrytesLength\": 2673,\n",
       "    \"Value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n",
       "  },\n",
       "  {\n",
       "    \"TrytesLength\": 2673,\n",
       "    \"Value\": \"RBTCFDTCEARCCDADTCGDEAPCEAUCXCFDGDHDEAADTCGDGDPCVCTCSAEAXBCDKDEAXCGDEACBTAVABBTAWAUAVACB99999999999999999999999999999999999999999999999999999999999999999999999999999999999999999999999999999999999999999999999999999999999999999999999999999999999999999999999999999999999999999999999999999999999999999999999999999999999999999999999999999999999999999999999999999999999999999999999999999999999999999999999999999999999999999999999999999999999999999999999999999999999999999999999999999999999999999999999999999999999999999999999999999999999999999999999999999999999999999999999999999999999999999999999999999999999999999999999999999999999999999999999999999999999999999999999999999999999999999999999999999999999999999999999999999999999999999999999999999999999999999999999999999999999999999999999999999999999999999999999999999999999999999999999999999999999999999999999999999999999999999999999999999999999999999999999999999999999999999999999999999999999999999999999999999999999999999999999999999999999999999999999999999999999999999999999999999999999999999999999999999999999999999999999999999999999999999999999999999999999999999999999999999999999999999999999999999999999999999999999999999999999999999999999999999999999999999999999999999999999999999999999999999999999999999999999999999999999999999999999999999999999999999999999999999999999999999999999999999999999999999999999999999999999999999999999999999999999999999999999999999999999999999999999999999999999999999999999999999999999999999999999999999999999999999999999999999999999999999999999999999999999999999999999999999999999999999999999999999999999999999999999999999999999999999999999999999999999999999999999999999999999999999999999999999999999999999999999999999999999999999999999999999999999999999999999999999999999999999999999999999999999999999999999999999999999999999999999999999999999999999999999999999999999999999999999999999999999999999999999999999999999999999999999999999999999999999999999999999999999999999999999999999999999999999999999999999999999999999999999999999999999999999999999999999999999999999999999999999999999999999999999999999999999999999999999999999999999999999999999999999999999999999999999999999999999999999999999999999999999CXDUYK9XGHC9DTSPDMKGGGXAIARSRVAFGHJOCDDHWADLVBBOEHLICHTMGKVDOGRU9TBESJNHAXYPVJ9R9999999999999999999999999999LWIBEK999IOTA999TUTORIAL999999999999999999999A99999999HMCU9CJIIGJLNCJJSYACUYZNFPDREPKLADUU9EHBEZNQUAHWGXJ9BZZHZPBLWXCXBHSLSKSLZZYFLVHZBOYHIDWXOYTIDSLXUYVPTYJSYSUYGME9OWRFNKISZGENKAJWCAQTDRJXFCJKXBBNHROIGZBNYRXSY99999AZYDOXZLYNILMCSCWBXRPNNXWFZGTHOVSEQBYMKEXBZZRKWTPHSWPZCERVSPHUXPXAEGEILXITVA99999HRIBEK999IOTA999TUTORIAL999BSWERKZOF999999999MMMMMMMMMNXO9XFRKWJIPJOGSREFDHPHRIJQ\"\n",
       "  }\n",
       "]"
      ]
     },
     "metadata": {},
     "output_type": "display_data"
    }
   ],
   "source": [
    "Console.WriteLine(\"Performing POW... Wait please...\");\n",
    "var att = repo.AttachToTangle(branchTransaction: gta.BranchTransaction, //first tip selected\n",
    "                              trunkTransaction: gta.TrunkTransaction, //second tip selected\n",
    "                              transactions: bundle.Transactions, //our finalized transactions\n",
    "                              minWeightMagnitude: 14); // MWMN\n",
    "\n",
    "Console.WriteLine(JsonConvert.SerializeObject(att, Formatting.Indented));"
   ]
  },
  {
   "cell_type": "markdown",
   "metadata": {},
   "source": [
    "You can eventually also preview what specific fields have been modified using transaction objects. The bundle is ready to be broadcasted and so it also show you all fields/values that will be stored in the network."
   ]
  },
  {
   "cell_type": "code",
   "execution_count": 0,
   "metadata": {
    "iotadev": {
     "codeid": "8817C6010CDD",
     "standalone": "false",
     "title": "Preview of IOTA bundle and its transactions"
    }
   },
   "outputs": [
    {
     "data": {
      "text/html": [
       "Final bundle including POW and branch/trunk transactions:"
      ],
      "text/plain": [
       "Final bundle including POW and branch/trunk transactions:"
      ]
     },
     "metadata": {},
     "output_type": "display_data"
    },
    {
     "data": {
      "text/html": [
       "{\n",
       "  &quot;Address&quot;: {\n",
       "    &quot;Balance&quot;: 0,\n",
       "    &quot;Checksum&quot;: null,\n",
       "    &quot;KeyIndex&quot;: 0,\n",
       "    &quot;PrivateKey&quot;: null,\n",
       "    &quot;SecurityLevel&quot;: 0,\n",
       "    &quot;SpentFrom&quot;: false,\n",
       "    &quot;TrytesLength&quot;: 81,\n",
       "    &quot;Value&quot;: &quot;CYJV9DRIE9NCQJYLOYOJOGKQGOOELTWXVWUYGQSWCNODHJAHACADUAAHQ9ODUICCESOIVZABA9LTMM9RW&quot;\n",
       "  },\n",
       "  &quot;AttachmentTimestamp&quot;: 1568818706823,\n",
       "  &quot;AttachmentTimestampLowerBound&quot;: 0,\n",
       "  &quot;AttachmentTimestampUpperBound&quot;: 3812798742493,\n",
       "  &quot;BranchTransaction&quot;: {\n",
       "    &quot;TrytesLength&quot;: 81,\n",
       "    &quot;Value&quot;: &quot;KAIQDBQEOHPOQELQZXIMICACCRPHGAZCZAUAUKZVSRZLKUD9BBKKAMNNBGUTQTKLVMLGGO9ZZLWKA9999&quot;\n",
       "  },\n",
       "  &quot;BundleHash&quot;: {\n",
       "    &quot;TrytesLength&quot;: 81,\n",
       "    &quot;Value&quot;: &quot;HMCU9CJIIGJLNCJJSYACUYZNFPDREPKLADUU9EHBEZNQUAHWGXJ9BZZHZPBLWXCXBHSLSKSLZZYFLVHZB&quot;\n",
       "  },\n",
       "  &quot;CurrentIndex&quot;: 1,\n",
       "  &quot;Fragment&quot;: {\n",
       "    &quot;IsEmpty&quot;: false,\n",
       "    &quot;TrytesLength&quot;: 2187,\n",
       "    &quot;Value&quot;: &quot;RBTCFDTCEARCCDADTCGDEAPCEAGDTCRCCDBDSCEAADTCGDGDPCVCTCSAEAXBCDKDEAXCGDEACBTAVABBTAWAUAVACB999999999999999999999999999999999999999999999999999999999999999999999999999999999999999999999999999999999999999999999999999999999999999999999999999999999999999999999999999999999999999999999999999999999999999999999999999999999999999999999999999999999999999999999999999999999999999999999999999999999999999999999999999999999999999999999999999999999999999999999999999999999999999999999999999999999999999999999999999999999999999999999999999999999999999999999999999999999999999999999999999999999999999999999999999999999999999999999999999999999999999999999999999999999999999999999999999999999999999999999999999999999999999999999999999999999999999999999999999999999999999999999999999999999999999999999999999999999999999999999999999999999999999999999999999999999999999999999999999999999999999999999999999999999999999999999999999999999999999999999999999999999999999999999999999999999999999999999999999999999999999999999999999999999999999999999999999999999999999999999999999999999999999999999999999999999999999999999999999999999999999999999999999999999999999999999999999999999999999999999999999999999999999999999999999999999999999999999999999999999999999999999999999999999999999999999999999999999999999999999999999999999999999999999999999999999999999999999999999999999999999999999999999999999999999999999999999999999999999999999999999999999999999999999999999999999999999999999999999999999999999999999999999999999999999999999999999999999999999999999999999999999999999999999999999999999999999999999999999999999999999999999999999999999999999999999999999999999999999999999999999999999999999999999999999999999999999999999999999999999999999999999999999999999999999999999999999999999999999999999999999999999999999999999999999999999999999999999999999999999999999999999999999999999999999999999999999999999999999999999999999999999999999999999999999999999999999999999999999999999999999999999999999999999999999999999999999999999999999999999999999999999999999999999999999999999999999999999999999999999999999999999999999999999999999999999999999999999999999999999999999999999999999999999999999999999999999999999999999999999&quot;\n",
       "  },\n",
       "  &quot;Hash&quot;: {\n",
       "    &quot;TrytesLength&quot;: 81,\n",
       "    &quot;Value&quot;: &quot;OYHIDWXOYTIDSLXUYVPTYJSYSUYGME9OWRFNKISZGENKAJWCAQTDRJXFCJKXBBNHROIGZBNYRXSY99999&quot;\n",
       "  },\n",
       "  &quot;IsTail&quot;: false,\n",
       "  &quot;LastIndex&quot;: 1,\n",
       "  &quot;Nonce&quot;: {\n",
       "    &quot;TrytesLength&quot;: 27,\n",
       "    &quot;Value&quot;: &quot;NYHCWZKAFTLDYXZGUXQN9CGWORG&quot;\n",
       "  },\n",
       "  &quot;ObsoleteTag&quot;: {\n",
       "    &quot;TrytesLength&quot;: 27,\n",
       "    &quot;Value&quot;: &quot;HRIBEK999IOTA999TUTORIAL999&quot;\n",
       "  },\n",
       "  &quot;Tag&quot;: {\n",
       "    &quot;TrytesLength&quot;: 27,\n",
       "    &quot;Value&quot;: &quot;HRIBEK999IOTA999TUTORIAL999&quot;\n",
       "  },\n",
       "  &quot;Timestamp&quot;: 0,\n",
       "  &quot;TrunkTransaction&quot;: {\n",
       "    &quot;TrytesLength&quot;: 81,\n",
       "    &quot;Value&quot;: &quot;AZYDOXZLYNILMCSCWBXRPNNXWFZGTHOVSEQBYMKEXBZZRKWTPHSWPZCERVSPHUXPXAEGEILXITVA99999&quot;\n",
       "  },\n",
       "  &quot;Value&quot;: 0\n",
       "}"
      ],
      "text/plain": [
       "{\n",
       "  \"Address\": {\n",
       "    \"Balance\": 0,\n",
       "    \"Checksum\": null,\n",
       "    \"KeyIndex\": 0,\n",
       "    \"PrivateKey\": null,\n",
       "    \"SecurityLevel\": 0,\n",
       "    \"SpentFrom\": false,\n",
       "    \"TrytesLength\": 81,\n",
       "    \"Value\": \"CYJV9DRIE9NCQJYLOYOJOGKQGOOELTWXVWUYGQSWCNODHJAHACADUAAHQ9ODUICCESOIVZABA9LTMM9RW\"\n",
       "  },\n",
       "  \"AttachmentTimestamp\": 1568818706823,\n",
       "  \"AttachmentTimestampLowerBound\": 0,\n",
       "  \"AttachmentTimestampUpperBound\": 3812798742493,\n",
       "  \"BranchTransaction\": {\n",
       "    \"TrytesLength\": 81,\n",
       "    \"Value\": \"KAIQDBQEOHPOQELQZXIMICACCRPHGAZCZAUAUKZVSRZLKUD9BBKKAMNNBGUTQTKLVMLGGO9ZZLWKA9999\"\n",
       "  },\n",
       "  \"BundleHash\": {\n",
       "    \"TrytesLength\": 81,\n",
       "    \"Value\": \"HMCU9CJIIGJLNCJJSYACUYZNFPDREPKLADUU9EHBEZNQUAHWGXJ9BZZHZPBLWXCXBHSLSKSLZZYFLVHZB\"\n",
       "  },\n",
       "  \"CurrentIndex\": 1,\n",
       "  \"Fragment\": {\n",
       "    \"IsEmpty\": false,\n",
       "    \"TrytesLength\": 2187,\n",
       "    \"Value\": \"RBTCFDTCEARCCDADTCGDEAPCEAGDTCRCCDBDSCEAADTCGDGDPCVCTCSAEAXBCDKDEAXCGDEACBTAVABBTAWAUAVACB999999999999999999999999999999999999999999999999999999999999999999999999999999999999999999999999999999999999999999999999999999999999999999999999999999999999999999999999999999999999999999999999999999999999999999999999999999999999999999999999999999999999999999999999999999999999999999999999999999999999999999999999999999999999999999999999999999999999999999999999999999999999999999999999999999999999999999999999999999999999999999999999999999999999999999999999999999999999999999999999999999999999999999999999999999999999999999999999999999999999999999999999999999999999999999999999999999999999999999999999999999999999999999999999999999999999999999999999999999999999999999999999999999999999999999999999999999999999999999999999999999999999999999999999999999999999999999999999999999999999999999999999999999999999999999999999999999999999999999999999999999999999999999999999999999999999999999999999999999999999999999999999999999999999999999999999999999999999999999999999999999999999999999999999999999999999999999999999999999999999999999999999999999999999999999999999999999999999999999999999999999999999999999999999999999999999999999999999999999999999999999999999999999999999999999999999999999999999999999999999999999999999999999999999999999999999999999999999999999999999999999999999999999999999999999999999999999999999999999999999999999999999999999999999999999999999999999999999999999999999999999999999999999999999999999999999999999999999999999999999999999999999999999999999999999999999999999999999999999999999999999999999999999999999999999999999999999999999999999999999999999999999999999999999999999999999999999999999999999999999999999999999999999999999999999999999999999999999999999999999999999999999999999999999999999999999999999999999999999999999999999999999999999999999999999999999999999999999999999999999999999999999999999999999999999999999999999999999999999999999999999999999999999999999999999999999999999999999999999999999999999999999999999999999999999999999999999999999999999999999999999999999999999999999999999999999999999999999999999999999999999999999999999999999999999999999999999999999999999999\"\n",
       "  },\n",
       "  \"Hash\": {\n",
       "    \"TrytesLength\": 81,\n",
       "    \"Value\": \"OYHIDWXOYTIDSLXUYVPTYJSYSUYGME9OWRFNKISZGENKAJWCAQTDRJXFCJKXBBNHROIGZBNYRXSY99999\"\n",
       "  },\n",
       "  \"IsTail\": false,\n",
       "  \"LastIndex\": 1,\n",
       "  \"Nonce\": {\n",
       "    \"TrytesLength\": 27,\n",
       "    \"Value\": \"NYHCWZKAFTLDYXZGUXQN9CGWORG\"\n",
       "  },\n",
       "  \"ObsoleteTag\": {\n",
       "    \"TrytesLength\": 27,\n",
       "    \"Value\": \"HRIBEK999IOTA999TUTORIAL999\"\n",
       "  },\n",
       "  \"Tag\": {\n",
       "    \"TrytesLength\": 27,\n",
       "    \"Value\": \"HRIBEK999IOTA999TUTORIAL999\"\n",
       "  },\n",
       "  \"Timestamp\": 0,\n",
       "  \"TrunkTransaction\": {\n",
       "    \"TrytesLength\": 81,\n",
       "    \"Value\": \"AZYDOXZLYNILMCSCWBXRPNNXWFZGTHOVSEQBYMKEXBZZRKWTPHSWPZCERVSPHUXPXAEGEILXITVA99999\"\n",
       "  },\n",
       "  \"Value\": 0\n",
       "}"
      ]
     },
     "metadata": {},
     "output_type": "display_data"
    },
    {
     "data": {
      "text/html": [
       "{\n",
       "  &quot;Address&quot;: {\n",
       "    &quot;Balance&quot;: 0,\n",
       "    &quot;Checksum&quot;: null,\n",
       "    &quot;KeyIndex&quot;: 0,\n",
       "    &quot;PrivateKey&quot;: null,\n",
       "    &quot;SecurityLevel&quot;: 0,\n",
       "    &quot;SpentFrom&quot;: false,\n",
       "    &quot;TrytesLength&quot;: 81,\n",
       "    &quot;Value&quot;: &quot;CXDUYK9XGHC9DTSPDMKGGGXAIARSRVAFGHJOCDDHWADLVBBOEHLICHTMGKVDOGRU9TBESJNHAXYPVJ9R9&quot;\n",
       "  },\n",
       "  &quot;AttachmentTimestamp&quot;: 1568818710254,\n",
       "  &quot;AttachmentTimestampLowerBound&quot;: 0,\n",
       "  &quot;AttachmentTimestampUpperBound&quot;: 3812798742493,\n",
       "  &quot;BranchTransaction&quot;: {\n",
       "    &quot;TrytesLength&quot;: 81,\n",
       "    &quot;Value&quot;: &quot;AZYDOXZLYNILMCSCWBXRPNNXWFZGTHOVSEQBYMKEXBZZRKWTPHSWPZCERVSPHUXPXAEGEILXITVA99999&quot;\n",
       "  },\n",
       "  &quot;BundleHash&quot;: {\n",
       "    &quot;TrytesLength&quot;: 81,\n",
       "    &quot;Value&quot;: &quot;HMCU9CJIIGJLNCJJSYACUYZNFPDREPKLADUU9EHBEZNQUAHWGXJ9BZZHZPBLWXCXBHSLSKSLZZYFLVHZB&quot;\n",
       "  },\n",
       "  &quot;CurrentIndex&quot;: 0,\n",
       "  &quot;Fragment&quot;: {\n",
       "    &quot;IsEmpty&quot;: false,\n",
       "    &quot;TrytesLength&quot;: 2187,\n",
       "    &quot;Value&quot;: &quot;RBTCFDTCEARCCDADTCGDEAPCEAUCXCFDGDHDEAADTCGDGDPCVCTCSAEAXBCDKDEAXCGDEACBTAVABBTAWAUAVACB99999999999999999999999999999999999999999999999999999999999999999999999999999999999999999999999999999999999999999999999999999999999999999999999999999999999999999999999999999999999999999999999999999999999999999999999999999999999999999999999999999999999999999999999999999999999999999999999999999999999999999999999999999999999999999999999999999999999999999999999999999999999999999999999999999999999999999999999999999999999999999999999999999999999999999999999999999999999999999999999999999999999999999999999999999999999999999999999999999999999999999999999999999999999999999999999999999999999999999999999999999999999999999999999999999999999999999999999999999999999999999999999999999999999999999999999999999999999999999999999999999999999999999999999999999999999999999999999999999999999999999999999999999999999999999999999999999999999999999999999999999999999999999999999999999999999999999999999999999999999999999999999999999999999999999999999999999999999999999999999999999999999999999999999999999999999999999999999999999999999999999999999999999999999999999999999999999999999999999999999999999999999999999999999999999999999999999999999999999999999999999999999999999999999999999999999999999999999999999999999999999999999999999999999999999999999999999999999999999999999999999999999999999999999999999999999999999999999999999999999999999999999999999999999999999999999999999999999999999999999999999999999999999999999999999999999999999999999999999999999999999999999999999999999999999999999999999999999999999999999999999999999999999999999999999999999999999999999999999999999999999999999999999999999999999999999999999999999999999999999999999999999999999999999999999999999999999999999999999999999999999999999999999999999999999999999999999999999999999999999999999999999999999999999999999999999999999999999999999999999999999999999999999999999999999999999999999999999999999999999999999999999999999999999999999999999999999999999999999999999999999999999999999999999999999999999999999999999999999999999999999999999999999999999999999999999999999999999999999999999999999999999999999999999999999999999999999999999999999999999&quot;\n",
       "  },\n",
       "  &quot;Hash&quot;: {\n",
       "    &quot;TrytesLength&quot;: 81,\n",
       "    &quot;Value&quot;: &quot;RBE9XKMLBBTXFTNANSTOTW9VHWSAZJM9FBCALBQESWTOKURWQEAJUJEKQJXUOOSAIDXABSOJXMBB99999&quot;\n",
       "  },\n",
       "  &quot;IsTail&quot;: true,\n",
       "  &quot;LastIndex&quot;: 1,\n",
       "  &quot;Nonce&quot;: {\n",
       "    &quot;TrytesLength&quot;: 27,\n",
       "    &quot;Value&quot;: &quot;NXO9XFRKWJIPJOGSREFDHPHRIJQ&quot;\n",
       "  },\n",
       "  &quot;ObsoleteTag&quot;: {\n",
       "    &quot;TrytesLength&quot;: 27,\n",
       "    &quot;Value&quot;: &quot;LWIBEK999IOTA999TUTORIAL999&quot;\n",
       "  },\n",
       "  &quot;Tag&quot;: {\n",
       "    &quot;TrytesLength&quot;: 27,\n",
       "    &quot;Value&quot;: &quot;HRIBEK999IOTA999TUTORIAL999&quot;\n",
       "  },\n",
       "  &quot;Timestamp&quot;: 0,\n",
       "  &quot;TrunkTransaction&quot;: {\n",
       "    &quot;TrytesLength&quot;: 81,\n",
       "    &quot;Value&quot;: &quot;OYHIDWXOYTIDSLXUYVPTYJSYSUYGME9OWRFNKISZGENKAJWCAQTDRJXFCJKXBBNHROIGZBNYRXSY99999&quot;\n",
       "  },\n",
       "  &quot;Value&quot;: 0\n",
       "}"
      ],
      "text/plain": [
       "{\n",
       "  \"Address\": {\n",
       "    \"Balance\": 0,\n",
       "    \"Checksum\": null,\n",
       "    \"KeyIndex\": 0,\n",
       "    \"PrivateKey\": null,\n",
       "    \"SecurityLevel\": 0,\n",
       "    \"SpentFrom\": false,\n",
       "    \"TrytesLength\": 81,\n",
       "    \"Value\": \"CXDUYK9XGHC9DTSPDMKGGGXAIARSRVAFGHJOCDDHWADLVBBOEHLICHTMGKVDOGRU9TBESJNHAXYPVJ9R9\"\n",
       "  },\n",
       "  \"AttachmentTimestamp\": 1568818710254,\n",
       "  \"AttachmentTimestampLowerBound\": 0,\n",
       "  \"AttachmentTimestampUpperBound\": 3812798742493,\n",
       "  \"BranchTransaction\": {\n",
       "    \"TrytesLength\": 81,\n",
       "    \"Value\": \"AZYDOXZLYNILMCSCWBXRPNNXWFZGTHOVSEQBYMKEXBZZRKWTPHSWPZCERVSPHUXPXAEGEILXITVA99999\"\n",
       "  },\n",
       "  \"BundleHash\": {\n",
       "    \"TrytesLength\": 81,\n",
       "    \"Value\": \"HMCU9CJIIGJLNCJJSYACUYZNFPDREPKLADUU9EHBEZNQUAHWGXJ9BZZHZPBLWXCXBHSLSKSLZZYFLVHZB\"\n",
       "  },\n",
       "  \"CurrentIndex\": 0,\n",
       "  \"Fragment\": {\n",
       "    \"IsEmpty\": false,\n",
       "    \"TrytesLength\": 2187,\n",
       "    \"Value\": \"RBTCFDTCEARCCDADTCGDEAPCEAUCXCFDGDHDEAADTCGDGDPCVCTCSAEAXBCDKDEAXCGDEACBTAVABBTAWAUAVACB99999999999999999999999999999999999999999999999999999999999999999999999999999999999999999999999999999999999999999999999999999999999999999999999999999999999999999999999999999999999999999999999999999999999999999999999999999999999999999999999999999999999999999999999999999999999999999999999999999999999999999999999999999999999999999999999999999999999999999999999999999999999999999999999999999999999999999999999999999999999999999999999999999999999999999999999999999999999999999999999999999999999999999999999999999999999999999999999999999999999999999999999999999999999999999999999999999999999999999999999999999999999999999999999999999999999999999999999999999999999999999999999999999999999999999999999999999999999999999999999999999999999999999999999999999999999999999999999999999999999999999999999999999999999999999999999999999999999999999999999999999999999999999999999999999999999999999999999999999999999999999999999999999999999999999999999999999999999999999999999999999999999999999999999999999999999999999999999999999999999999999999999999999999999999999999999999999999999999999999999999999999999999999999999999999999999999999999999999999999999999999999999999999999999999999999999999999999999999999999999999999999999999999999999999999999999999999999999999999999999999999999999999999999999999999999999999999999999999999999999999999999999999999999999999999999999999999999999999999999999999999999999999999999999999999999999999999999999999999999999999999999999999999999999999999999999999999999999999999999999999999999999999999999999999999999999999999999999999999999999999999999999999999999999999999999999999999999999999999999999999999999999999999999999999999999999999999999999999999999999999999999999999999999999999999999999999999999999999999999999999999999999999999999999999999999999999999999999999999999999999999999999999999999999999999999999999999999999999999999999999999999999999999999999999999999999999999999999999999999999999999999999999999999999999999999999999999999999999999999999999999999999999999999999999999999999999999999999999999999999999999999999999999999999999999999999999999999999999999999999\"\n",
       "  },\n",
       "  \"Hash\": {\n",
       "    \"TrytesLength\": 81,\n",
       "    \"Value\": \"RBE9XKMLBBTXFTNANSTOTW9VHWSAZJM9FBCALBQESWTOKURWQEAJUJEKQJXUOOSAIDXABSOJXMBB99999\"\n",
       "  },\n",
       "  \"IsTail\": true,\n",
       "  \"LastIndex\": 1,\n",
       "  \"Nonce\": {\n",
       "    \"TrytesLength\": 27,\n",
       "    \"Value\": \"NXO9XFRKWJIPJOGSREFDHPHRIJQ\"\n",
       "  },\n",
       "  \"ObsoleteTag\": {\n",
       "    \"TrytesLength\": 27,\n",
       "    \"Value\": \"LWIBEK999IOTA999TUTORIAL999\"\n",
       "  },\n",
       "  \"Tag\": {\n",
       "    \"TrytesLength\": 27,\n",
       "    \"Value\": \"HRIBEK999IOTA999TUTORIAL999\"\n",
       "  },\n",
       "  \"Timestamp\": 0,\n",
       "  \"TrunkTransaction\": {\n",
       "    \"TrytesLength\": 81,\n",
       "    \"Value\": \"OYHIDWXOYTIDSLXUYVPTYJSYSUYGME9OWRFNKISZGENKAJWCAQTDRJXFCJKXBBNHROIGZBNYRXSY99999\"\n",
       "  },\n",
       "  \"Value\": 0\n",
       "}"
      ]
     },
     "metadata": {},
     "output_type": "display_data"
    }
   ],
   "source": [
    "// show what has been broadcasted - hash transaction + nonce (POW)\n",
    "\n",
    "Console.WriteLine(\"Final bundle including POW and branch/trunk transactions:\");\n",
    "\n",
    "foreach (var tr in att)\n",
    "{\n",
    "    Console.WriteLine(JsonConvert.SerializeObject(Transaction.FromTrytes(tr), Formatting.Indented));\n",
    "}"
   ]
  },
  {
   "cell_type": "markdown",
   "metadata": {},
   "source": [
    "#### Broadcasting\n",
    "Now it is time to broadcast the given bundle to the network. List of all transations in trytes returned from the previous step is only thing needed.\n",
    "\n",
    "Once succesfully broadcasted it returns the same input bundle as a confirmation."
   ]
  },
  {
   "cell_type": "code",
   "execution_count": 0,
   "metadata": {
    "iotadev": {
     "codeid": "CD0C67713BF9",
     "standalone": "false",
     "title": "Broadcasting IOTA bundle: API call Broadcast_and_store()"
    }
   },
   "outputs": [
    {
     "data": {
      "text/html": [
       "Broadcasting transactions..."
      ],
      "text/plain": [
       "Broadcasting transactions..."
      ]
     },
     "metadata": {},
     "output_type": "display_data"
    },
    {
     "data": {
      "text/html": [
       "Broadcasted."
      ],
      "text/plain": [
       "Broadcasted."
      ]
     },
     "metadata": {},
     "output_type": "display_data"
    }
   ],
   "source": [
    "Console.WriteLine(\"Broadcasting transactions...\");\n",
    "repo.BroadcastAndStoreTransactions(att);\n",
    "Console.WriteLine(\"Broadcasted.\");      "
   ]
  },
  {
   "cell_type": "markdown",
   "metadata": {},
   "source": [
    "You can check the broadcasted bundle via The Tangle Explorer at any of the receiving addresses:\n",
    "* Target address 1: https://thetangle.org/address/CXDUYK9XGHC9DTSPDMKGGGXAIARSRVAFGHJOCDDHWADLVBBOEHLICHTMGKVDOGRU9TBESJNHAXYPVJ9R9\n",
    "* Target address 2: \n",
    "https://thetangle.org/address/CYJV9DRIE9NCQJYLOYOJOGKQGOOELTWXVWUYGQSWCNODHJAHACADUAAHQ9ODUICCESOIVZABA9LTMM9RW"
   ]
  },
  {
   "cell_type": "markdown",
   "metadata": {},
   "source": [
    "### Creating and broadcasting transaction in a single call (you want send a transaction quickly)\n",
    "As mentioned above, IOTA-facing libraries are able to encapsulate all implementation details and so you do not need to care of them anymore. It is usually based on *extended API calls* that were proposed to be included by IOTA Foundation to make developer's life easier (https://github.com/iotaledger/wiki/blob/master/api-proposal.md).\n",
    "\n",
    "Even if using extended API calls you can still slightly control a level of your involvement in the whole process. From almost no involvement and fully automatic (`send_transfer()`) to semi-manual approach discussed above.\n",
    "\n",
    "![Different API calls](https://raw.githubusercontent.com/Hribek25/IOTA101/master/Graphics/Different_API_calls.png \"By Petr Zizka\")\n",
    "\n",
    "There are some specifics you should consider while designing your app:\n",
    "* You are loosing a bit of control of individual steps of the process and you have to rely of some predefined parameters (tip selection algo, etc.)\n",
    "* If there is an exception raised during the process then you need to go back at beginning and restart the whole process again\n",
    "\n",
    "So it is basically your call to decide what works best for you.\n",
    "\n",
    "Now back to our exercise. Here comes a code that basically broadcasts transactions in a single call (`send_transfer()`) and you do not have to care of any implemenation details that are hidden under the hood."
   ]
  },
  {
   "cell_type": "code",
   "execution_count": 0,
   "metadata": {
    "iotadev": {
     "codeid": "00663E550ADF",
     "standalone": "true",
     "title": "Sending IOTA transaction in a single call: API call Send_transfer()"
    }
   },
   "outputs": [
    {
     "data": {
      "text/html": [
       "Preparing/Broadcasting... Wait please..."
      ],
      "text/plain": [
       "Preparing/Broadcasting... Wait please..."
      ]
     },
     "metadata": {},
     "output_type": "display_data"
    },
    {
     "data": {
      "text/html": [
       "Generated bundle hash: MJZPGDLCDKOIWFTNKJJZUC9STN9RGXWC9EBRWKBGOCLIGRZCJQEUYUARGPDCFUJXIHI9UKDDVXKBZVFD9"
      ],
      "text/plain": [
       "Generated bundle hash: MJZPGDLCDKOIWFTNKJJZUC9STN9RGXWC9EBRWKBGOCLIGRZCJQEUYUARGPDCFUJXIHI9UKDDVXKBZVFD9"
      ]
     },
     "metadata": {},
     "output_type": "display_data"
    },
    {
     "data": {
      "text/html": [
       "Tail Transaction in the Bundle is a transaction #0."
      ],
      "text/plain": [
       "Tail Transaction in the Bundle is a transaction #0."
      ]
     },
     "metadata": {},
     "output_type": "display_data"
    },
    {
     "data": {
      "text/html": [
       "List of all transactions in the bundle:"
      ],
      "text/plain": [
       "List of all transactions in the bundle:"
      ]
     },
     "metadata": {},
     "output_type": "display_data"
    },
    {
     "data": {
      "text/html": [
       "{\n",
       "  &quot;Address&quot;: {\n",
       "    &quot;Balance&quot;: 0,\n",
       "    &quot;Checksum&quot;: null,\n",
       "    &quot;KeyIndex&quot;: 0,\n",
       "    &quot;PrivateKey&quot;: null,\n",
       "    &quot;SecurityLevel&quot;: 0,\n",
       "    &quot;SpentFrom&quot;: false,\n",
       "    &quot;TrytesLength&quot;: 81,\n",
       "    &quot;Value&quot;: &quot;CXDUYK9XGHC9DTSPDMKGGGXAIARSRVAFGHJOCDDHWADLVBBOEHLICHTMGKVDOGRU9TBESJNHAXYPVJ9R9&quot;\n",
       "  },\n",
       "  &quot;AttachmentTimestamp&quot;: 1568832066884,\n",
       "  &quot;AttachmentTimestampLowerBound&quot;: 0,\n",
       "  &quot;AttachmentTimestampUpperBound&quot;: 3812798742493,\n",
       "  &quot;BranchTransaction&quot;: {\n",
       "    &quot;TrytesLength&quot;: 81,\n",
       "    &quot;Value&quot;: &quot;WYLFSDUXVFRYYPDH9GOCHKLASCXTPAFUMAC9JKMPAXZIOZVGCJ9LARVDFFJPCTAXLBIYSSZEYKNHA9999&quot;\n",
       "  },\n",
       "  &quot;BundleHash&quot;: {\n",
       "    &quot;TrytesLength&quot;: 81,\n",
       "    &quot;Value&quot;: &quot;MJZPGDLCDKOIWFTNKJJZUC9STN9RGXWC9EBRWKBGOCLIGRZCJQEUYUARGPDCFUJXIHI9UKDDVXKBZVFD9&quot;\n",
       "  },\n",
       "  &quot;CurrentIndex&quot;: 0,\n",
       "  &quot;Fragment&quot;: {\n",
       "    &quot;IsEmpty&quot;: false,\n",
       "    &quot;TrytesLength&quot;: 2187,\n",
       "    &quot;Value&quot;: &quot;RBTCFDTCEARCCDADTCGDEAPCEAUCXCFDGDHDEAADTCGDGDPCVCTCSAEAXBCDKDEAXCGDEACBTAVABBTAWAUAVACB99999999999999999999999999999999999999999999999999999999999999999999999999999999999999999999999999999999999999999999999999999999999999999999999999999999999999999999999999999999999999999999999999999999999999999999999999999999999999999999999999999999999999999999999999999999999999999999999999999999999999999999999999999999999999999999999999999999999999999999999999999999999999999999999999999999999999999999999999999999999999999999999999999999999999999999999999999999999999999999999999999999999999999999999999999999999999999999999999999999999999999999999999999999999999999999999999999999999999999999999999999999999999999999999999999999999999999999999999999999999999999999999999999999999999999999999999999999999999999999999999999999999999999999999999999999999999999999999999999999999999999999999999999999999999999999999999999999999999999999999999999999999999999999999999999999999999999999999999999999999999999999999999999999999999999999999999999999999999999999999999999999999999999999999999999999999999999999999999999999999999999999999999999999999999999999999999999999999999999999999999999999999999999999999999999999999999999999999999999999999999999999999999999999999999999999999999999999999999999999999999999999999999999999999999999999999999999999999999999999999999999999999999999999999999999999999999999999999999999999999999999999999999999999999999999999999999999999999999999999999999999999999999999999999999999999999999999999999999999999999999999999999999999999999999999999999999999999999999999999999999999999999999999999999999999999999999999999999999999999999999999999999999999999999999999999999999999999999999999999999999999999999999999999999999999999999999999999999999999999999999999999999999999999999999999999999999999999999999999999999999999999999999999999999999999999999999999999999999999999999999999999999999999999999999999999999999999999999999999999999999999999999999999999999999999999999999999999999999999999999999999999999999999999999999999999999999999999999999999999999999999999999999999999999999999999999999999999999999999999999999999999999999999999999999999999999999999999999999999999999&quot;\n",
       "  },\n",
       "  &quot;Hash&quot;: {\n",
       "    &quot;TrytesLength&quot;: 81,\n",
       "    &quot;Value&quot;: &quot;PUM9YUXZWH9TZQKEUKIBIBVAIPWXNGIUEKBQHLM9PRHGGOJPTASEKHMXHHMK9EBXZSJOPXYQUIHRZ9999&quot;\n",
       "  },\n",
       "  &quot;IsTail&quot;: true,\n",
       "  &quot;LastIndex&quot;: 1,\n",
       "  &quot;Nonce&quot;: {\n",
       "    &quot;TrytesLength&quot;: 27,\n",
       "    &quot;Value&quot;: &quot;BSVCUUWALVPHMHXBINNMXAEJ9VA&quot;\n",
       "  },\n",
       "  &quot;ObsoleteTag&quot;: {\n",
       "    &quot;TrytesLength&quot;: 27,\n",
       "    &quot;Value&quot;: &quot;ODIBEK999IOTA999TUTORIAL999&quot;\n",
       "  },\n",
       "  &quot;Tag&quot;: {\n",
       "    &quot;TrytesLength&quot;: 27,\n",
       "    &quot;Value&quot;: &quot;HRIBEK999IOTA999TUTORIAL999&quot;\n",
       "  },\n",
       "  &quot;Timestamp&quot;: 1568832063,\n",
       "  &quot;TrunkTransaction&quot;: {\n",
       "    &quot;TrytesLength&quot;: 81,\n",
       "    &quot;Value&quot;: &quot;YBJB9C9T9CFSKTLMHKOMHDRNT9MZTPNZIHTJ9DMNDJSYECMGLAGIIY9RH9PNSTPJXMHUIUCPVLLYZ9999&quot;\n",
       "  },\n",
       "  &quot;Value&quot;: 0\n",
       "}"
      ],
      "text/plain": [
       "{\n",
       "  \"Address\": {\n",
       "    \"Balance\": 0,\n",
       "    \"Checksum\": null,\n",
       "    \"KeyIndex\": 0,\n",
       "    \"PrivateKey\": null,\n",
       "    \"SecurityLevel\": 0,\n",
       "    \"SpentFrom\": false,\n",
       "    \"TrytesLength\": 81,\n",
       "    \"Value\": \"CXDUYK9XGHC9DTSPDMKGGGXAIARSRVAFGHJOCDDHWADLVBBOEHLICHTMGKVDOGRU9TBESJNHAXYPVJ9R9\"\n",
       "  },\n",
       "  \"AttachmentTimestamp\": 1568832066884,\n",
       "  \"AttachmentTimestampLowerBound\": 0,\n",
       "  \"AttachmentTimestampUpperBound\": 3812798742493,\n",
       "  \"BranchTransaction\": {\n",
       "    \"TrytesLength\": 81,\n",
       "    \"Value\": \"WYLFSDUXVFRYYPDH9GOCHKLASCXTPAFUMAC9JKMPAXZIOZVGCJ9LARVDFFJPCTAXLBIYSSZEYKNHA9999\"\n",
       "  },\n",
       "  \"BundleHash\": {\n",
       "    \"TrytesLength\": 81,\n",
       "    \"Value\": \"MJZPGDLCDKOIWFTNKJJZUC9STN9RGXWC9EBRWKBGOCLIGRZCJQEUYUARGPDCFUJXIHI9UKDDVXKBZVFD9\"\n",
       "  },\n",
       "  \"CurrentIndex\": 0,\n",
       "  \"Fragment\": {\n",
       "    \"IsEmpty\": false,\n",
       "    \"TrytesLength\": 2187,\n",
       "    \"Value\": \"RBTCFDTCEARCCDADTCGDEAPCEAUCXCFDGDHDEAADTCGDGDPCVCTCSAEAXBCDKDEAXCGDEACBTAVABBTAWAUAVACB99999999999999999999999999999999999999999999999999999999999999999999999999999999999999999999999999999999999999999999999999999999999999999999999999999999999999999999999999999999999999999999999999999999999999999999999999999999999999999999999999999999999999999999999999999999999999999999999999999999999999999999999999999999999999999999999999999999999999999999999999999999999999999999999999999999999999999999999999999999999999999999999999999999999999999999999999999999999999999999999999999999999999999999999999999999999999999999999999999999999999999999999999999999999999999999999999999999999999999999999999999999999999999999999999999999999999999999999999999999999999999999999999999999999999999999999999999999999999999999999999999999999999999999999999999999999999999999999999999999999999999999999999999999999999999999999999999999999999999999999999999999999999999999999999999999999999999999999999999999999999999999999999999999999999999999999999999999999999999999999999999999999999999999999999999999999999999999999999999999999999999999999999999999999999999999999999999999999999999999999999999999999999999999999999999999999999999999999999999999999999999999999999999999999999999999999999999999999999999999999999999999999999999999999999999999999999999999999999999999999999999999999999999999999999999999999999999999999999999999999999999999999999999999999999999999999999999999999999999999999999999999999999999999999999999999999999999999999999999999999999999999999999999999999999999999999999999999999999999999999999999999999999999999999999999999999999999999999999999999999999999999999999999999999999999999999999999999999999999999999999999999999999999999999999999999999999999999999999999999999999999999999999999999999999999999999999999999999999999999999999999999999999999999999999999999999999999999999999999999999999999999999999999999999999999999999999999999999999999999999999999999999999999999999999999999999999999999999999999999999999999999999999999999999999999999999999999999999999999999999999999999999999999999999999999999999999999999999999999999999999999999999999999999999999999999999999999999999999999999999\"\n",
       "  },\n",
       "  \"Hash\": {\n",
       "    \"TrytesLength\": 81,\n",
       "    \"Value\": \"PUM9YUXZWH9TZQKEUKIBIBVAIPWXNGIUEKBQHLM9PRHGGOJPTASEKHMXHHMK9EBXZSJOPXYQUIHRZ9999\"\n",
       "  },\n",
       "  \"IsTail\": true,\n",
       "  \"LastIndex\": 1,\n",
       "  \"Nonce\": {\n",
       "    \"TrytesLength\": 27,\n",
       "    \"Value\": \"BSVCUUWALVPHMHXBINNMXAEJ9VA\"\n",
       "  },\n",
       "  \"ObsoleteTag\": {\n",
       "    \"TrytesLength\": 27,\n",
       "    \"Value\": \"ODIBEK999IOTA999TUTORIAL999\"\n",
       "  },\n",
       "  \"Tag\": {\n",
       "    \"TrytesLength\": 27,\n",
       "    \"Value\": \"HRIBEK999IOTA999TUTORIAL999\"\n",
       "  },\n",
       "  \"Timestamp\": 1568832063,\n",
       "  \"TrunkTransaction\": {\n",
       "    \"TrytesLength\": 81,\n",
       "    \"Value\": \"YBJB9C9T9CFSKTLMHKOMHDRNT9MZTPNZIHTJ9DMNDJSYECMGLAGIIY9RH9PNSTPJXMHUIUCPVLLYZ9999\"\n",
       "  },\n",
       "  \"Value\": 0\n",
       "}"
      ]
     },
     "metadata": {},
     "output_type": "display_data"
    },
    {
     "data": {
      "text/html": [
       "{\n",
       "  &quot;Address&quot;: {\n",
       "    &quot;Balance&quot;: 0,\n",
       "    &quot;Checksum&quot;: null,\n",
       "    &quot;KeyIndex&quot;: 0,\n",
       "    &quot;PrivateKey&quot;: null,\n",
       "    &quot;SecurityLevel&quot;: 0,\n",
       "    &quot;SpentFrom&quot;: false,\n",
       "    &quot;TrytesLength&quot;: 81,\n",
       "    &quot;Value&quot;: &quot;CYJV9DRIE9NCQJYLOYOJOGKQGOOELTWXVWUYGQSWCNODHJAHACADUAAHQ9ODUICCESOIVZABA9LTMM9RW&quot;\n",
       "  },\n",
       "  &quot;AttachmentTimestamp&quot;: 1568832066523,\n",
       "  &quot;AttachmentTimestampLowerBound&quot;: 0,\n",
       "  &quot;AttachmentTimestampUpperBound&quot;: 3812798742493,\n",
       "  &quot;BranchTransaction&quot;: {\n",
       "    &quot;TrytesLength&quot;: 81,\n",
       "    &quot;Value&quot;: &quot;WYLFSDUXVFRYYPDH9GOCHKLASCXTPAFUMAC9JKMPAXZIOZVGCJ9LARVDFFJPCTAXLBIYSSZEYKNHA9999&quot;\n",
       "  },\n",
       "  &quot;BundleHash&quot;: {\n",
       "    &quot;TrytesLength&quot;: 81,\n",
       "    &quot;Value&quot;: &quot;MJZPGDLCDKOIWFTNKJJZUC9STN9RGXWC9EBRWKBGOCLIGRZCJQEUYUARGPDCFUJXIHI9UKDDVXKBZVFD9&quot;\n",
       "  },\n",
       "  &quot;CurrentIndex&quot;: 1,\n",
       "  &quot;Fragment&quot;: {\n",
       "    &quot;IsEmpty&quot;: false,\n",
       "    &quot;TrytesLength&quot;: 2187,\n",
       "    &quot;Value&quot;: &quot;RBTCFDTCEARCCDADTCGDEAPCEAGDTCRCCDBDSCEAADTCGDGDPCVCTCSAEAXBCDKDEAXCGDEACBTAVABBTAWAUAVACB999999999999999999999999999999999999999999999999999999999999999999999999999999999999999999999999999999999999999999999999999999999999999999999999999999999999999999999999999999999999999999999999999999999999999999999999999999999999999999999999999999999999999999999999999999999999999999999999999999999999999999999999999999999999999999999999999999999999999999999999999999999999999999999999999999999999999999999999999999999999999999999999999999999999999999999999999999999999999999999999999999999999999999999999999999999999999999999999999999999999999999999999999999999999999999999999999999999999999999999999999999999999999999999999999999999999999999999999999999999999999999999999999999999999999999999999999999999999999999999999999999999999999999999999999999999999999999999999999999999999999999999999999999999999999999999999999999999999999999999999999999999999999999999999999999999999999999999999999999999999999999999999999999999999999999999999999999999999999999999999999999999999999999999999999999999999999999999999999999999999999999999999999999999999999999999999999999999999999999999999999999999999999999999999999999999999999999999999999999999999999999999999999999999999999999999999999999999999999999999999999999999999999999999999999999999999999999999999999999999999999999999999999999999999999999999999999999999999999999999999999999999999999999999999999999999999999999999999999999999999999999999999999999999999999999999999999999999999999999999999999999999999999999999999999999999999999999999999999999999999999999999999999999999999999999999999999999999999999999999999999999999999999999999999999999999999999999999999999999999999999999999999999999999999999999999999999999999999999999999999999999999999999999999999999999999999999999999999999999999999999999999999999999999999999999999999999999999999999999999999999999999999999999999999999999999999999999999999999999999999999999999999999999999999999999999999999999999999999999999999999999999999999999999999999999999999999999999999999999999999999999999999999999999999999999999999999999999999999999999999999999999999999999999999999999999999999999999999999999999&quot;\n",
       "  },\n",
       "  &quot;Hash&quot;: {\n",
       "    &quot;TrytesLength&quot;: 81,\n",
       "    &quot;Value&quot;: &quot;YBJB9C9T9CFSKTLMHKOMHDRNT9MZTPNZIHTJ9DMNDJSYECMGLAGIIY9RH9PNSTPJXMHUIUCPVLLYZ9999&quot;\n",
       "  },\n",
       "  &quot;IsTail&quot;: false,\n",
       "  &quot;LastIndex&quot;: 1,\n",
       "  &quot;Nonce&quot;: {\n",
       "    &quot;TrytesLength&quot;: 27,\n",
       "    &quot;Value&quot;: &quot;GFSZAC9PCWNJNNWDLG9WZKTAVJX&quot;\n",
       "  },\n",
       "  &quot;ObsoleteTag&quot;: {\n",
       "    &quot;TrytesLength&quot;: 27,\n",
       "    &quot;Value&quot;: &quot;HRIBEK999IOTA999TUTORIAL999&quot;\n",
       "  },\n",
       "  &quot;Tag&quot;: {\n",
       "    &quot;TrytesLength&quot;: 27,\n",
       "    &quot;Value&quot;: &quot;HRIBEK999IOTA999TUTORIAL999&quot;\n",
       "  },\n",
       "  &quot;Timestamp&quot;: 1568832063,\n",
       "  &quot;TrunkTransaction&quot;: {\n",
       "    &quot;TrytesLength&quot;: 81,\n",
       "    &quot;Value&quot;: &quot;WYLFSDUXVFRYYPDH9GOCHKLASCXTPAFUMAC9JKMPAXZIOZVGCJ9LARVDFFJPCTAXLBIYSSZEYKNHA9999&quot;\n",
       "  },\n",
       "  &quot;Value&quot;: 0\n",
       "}"
      ],
      "text/plain": [
       "{\n",
       "  \"Address\": {\n",
       "    \"Balance\": 0,\n",
       "    \"Checksum\": null,\n",
       "    \"KeyIndex\": 0,\n",
       "    \"PrivateKey\": null,\n",
       "    \"SecurityLevel\": 0,\n",
       "    \"SpentFrom\": false,\n",
       "    \"TrytesLength\": 81,\n",
       "    \"Value\": \"CYJV9DRIE9NCQJYLOYOJOGKQGOOELTWXVWUYGQSWCNODHJAHACADUAAHQ9ODUICCESOIVZABA9LTMM9RW\"\n",
       "  },\n",
       "  \"AttachmentTimestamp\": 1568832066523,\n",
       "  \"AttachmentTimestampLowerBound\": 0,\n",
       "  \"AttachmentTimestampUpperBound\": 3812798742493,\n",
       "  \"BranchTransaction\": {\n",
       "    \"TrytesLength\": 81,\n",
       "    \"Value\": \"WYLFSDUXVFRYYPDH9GOCHKLASCXTPAFUMAC9JKMPAXZIOZVGCJ9LARVDFFJPCTAXLBIYSSZEYKNHA9999\"\n",
       "  },\n",
       "  \"BundleHash\": {\n",
       "    \"TrytesLength\": 81,\n",
       "    \"Value\": \"MJZPGDLCDKOIWFTNKJJZUC9STN9RGXWC9EBRWKBGOCLIGRZCJQEUYUARGPDCFUJXIHI9UKDDVXKBZVFD9\"\n",
       "  },\n",
       "  \"CurrentIndex\": 1,\n",
       "  \"Fragment\": {\n",
       "    \"IsEmpty\": false,\n",
       "    \"TrytesLength\": 2187,\n",
       "    \"Value\": \"RBTCFDTCEARCCDADTCGDEAPCEAGDTCRCCDBDSCEAADTCGDGDPCVCTCSAEAXBCDKDEAXCGDEACBTAVABBTAWAUAVACB999999999999999999999999999999999999999999999999999999999999999999999999999999999999999999999999999999999999999999999999999999999999999999999999999999999999999999999999999999999999999999999999999999999999999999999999999999999999999999999999999999999999999999999999999999999999999999999999999999999999999999999999999999999999999999999999999999999999999999999999999999999999999999999999999999999999999999999999999999999999999999999999999999999999999999999999999999999999999999999999999999999999999999999999999999999999999999999999999999999999999999999999999999999999999999999999999999999999999999999999999999999999999999999999999999999999999999999999999999999999999999999999999999999999999999999999999999999999999999999999999999999999999999999999999999999999999999999999999999999999999999999999999999999999999999999999999999999999999999999999999999999999999999999999999999999999999999999999999999999999999999999999999999999999999999999999999999999999999999999999999999999999999999999999999999999999999999999999999999999999999999999999999999999999999999999999999999999999999999999999999999999999999999999999999999999999999999999999999999999999999999999999999999999999999999999999999999999999999999999999999999999999999999999999999999999999999999999999999999999999999999999999999999999999999999999999999999999999999999999999999999999999999999999999999999999999999999999999999999999999999999999999999999999999999999999999999999999999999999999999999999999999999999999999999999999999999999999999999999999999999999999999999999999999999999999999999999999999999999999999999999999999999999999999999999999999999999999999999999999999999999999999999999999999999999999999999999999999999999999999999999999999999999999999999999999999999999999999999999999999999999999999999999999999999999999999999999999999999999999999999999999999999999999999999999999999999999999999999999999999999999999999999999999999999999999999999999999999999999999999999999999999999999999999999999999999999999999999999999999999999999999999999999999999999999999999999999999999999999999999999999999999999999999999999999999999999999999999999999999\"\n",
       "  },\n",
       "  \"Hash\": {\n",
       "    \"TrytesLength\": 81,\n",
       "    \"Value\": \"YBJB9C9T9CFSKTLMHKOMHDRNT9MZTPNZIHTJ9DMNDJSYECMGLAGIIY9RH9PNSTPJXMHUIUCPVLLYZ9999\"\n",
       "  },\n",
       "  \"IsTail\": false,\n",
       "  \"LastIndex\": 1,\n",
       "  \"Nonce\": {\n",
       "    \"TrytesLength\": 27,\n",
       "    \"Value\": \"GFSZAC9PCWNJNNWDLG9WZKTAVJX\"\n",
       "  },\n",
       "  \"ObsoleteTag\": {\n",
       "    \"TrytesLength\": 27,\n",
       "    \"Value\": \"HRIBEK999IOTA999TUTORIAL999\"\n",
       "  },\n",
       "  \"Tag\": {\n",
       "    \"TrytesLength\": 27,\n",
       "    \"Value\": \"HRIBEK999IOTA999TUTORIAL999\"\n",
       "  },\n",
       "  \"Timestamp\": 1568832063,\n",
       "  \"TrunkTransaction\": {\n",
       "    \"TrytesLength\": 81,\n",
       "    \"Value\": \"WYLFSDUXVFRYYPDH9GOCHKLASCXTPAFUMAC9JKMPAXZIOZVGCJ9LARVDFFJPCTAXLBIYSSZEYKNHA9999\"\n",
       "  },\n",
       "  \"Value\": 0\n",
       "}"
      ]
     },
     "metadata": {},
     "output_type": "display_data"
    }
   ],
   "source": [
    "#r \"Tangle.Net.dll\"\n",
    "#r \"Newtonsoft.Json.dll\"\n",
    "#r \"RestSharp.dll\"\n",
    "\n",
    "using Tangle.Net.Entity;\n",
    "using Newtonsoft.Json;\n",
    "using RestSharp;\n",
    "using Tangle.Net.Repository;\n",
    "using Tangle.Net.Utils; //this is needed because of Timestamp function\n",
    "\n",
    "\n",
    "var MySeed = \"HGW9HB9LJPYUGVHNGCPLFKKPNZAIIFHZBDHKSGMQKFMANUBASSMSV9TAJSSMPRZZU9SFZULXKJ9YLAIUA\";\n",
    "var TargetAddress1 = \"CXDUYK9XGHC9DTSPDMKGGGXAIARSRVAFGHJOCDDHWADLVBBOEHLICHTMGKVDOGRU9TBESJNHAXYPVJ9R9\";\n",
    "var TargetAddress2 = \"CYJV9DRIE9NCQJYLOYOJOGKQGOOELTWXVWUYGQSWCNODHJAHACADUAAHQ9ODUICCESOIVZABA9LTMM9RW\";\n",
    "\n",
    "var NowIs = DateTime.Now.ToShortDateString(); //this is not important - just to have some meaningful message\n",
    "\n",
    "var pt = new Transfer() // creating a first transfer (a proposed transaction)\n",
    "{\n",
    "    Address=new Address(TargetAddress1),\n",
    "    ValueToTransfer=0,\n",
    "    Message=TryteString.FromUtf8String(\"Here comes a first message. Now is \" + NowIs),\n",
    "    Tag=new Tag(\"HRIBEK999IOTA999TUTORIAL\"),\n",
    "    Timestamp = Timestamp.UnixSecondsTimestamp // please note, Tangle.Net library does not enter timestamp for you but it is very important since it has impact on bundle hash\n",
    "};\n",
    "\n",
    "var pt2 = new Transfer() // creating a second transfer (a proposed transaction)\n",
    "{\n",
    "    Address = new Address(TargetAddress2),\n",
    "    ValueToTransfer = 0,\n",
    "    Message = TryteString.FromUtf8String(\"Here comes a second message. Now is \" + NowIs),\n",
    "    Tag = new Tag(\"HRIBEK999IOTA999TUTORIAL\"),\n",
    "    Timestamp = Timestamp.UnixSecondsTimestamp // please note, Tangle.Net library does not enter timestamp for you but it is very important since it has impact on bundle hash\n",
    "};\n",
    "\n",
    "Console.WriteLine(\"Preparing/Broadcasting... Wait please...\");\n",
    "var bundle = new Bundle();\n",
    "bundle.AddTransfer(pt);\n",
    "bundle.AddTransfer(pt2);\n",
    "\n",
    "var NodeURL = \"https://nodes.thetangle.org:443\";\n",
    "var repo = new RestIotaRepository(new RestClient(NodeURL)); // ctor initialization of the Tangle.Net library\n",
    "\n",
    "// the whole process initiated in a single call\n",
    "var sentBundle = repo.SendTransfer(seed: new Seed(MySeed),\n",
    "                                   bundle: bundle,\n",
    "                                   securityLevel: 2,\n",
    "                                   depth: 3,\n",
    "                                   minWeightMagnitude: 14); //it returns a bundle object\n",
    "\n",
    "Console.WriteLine(\"Generated bundle hash: \" + sentBundle.Hash.ToString());\n",
    "Console.WriteLine(\"Tail Transaction in the Bundle is a transaction #\" + sentBundle.TailTransaction.CurrentIndex + \".\");\n",
    "\n",
    "Console.WriteLine(\"List of all transactions in the bundle:\");\n",
    "foreach (var tx in sentBundle.Transactions)\n",
    "{\n",
    "    Console.WriteLine(JsonConvert.SerializeObject(tx, Formatting.Indented));\n",
    "}"
   ]
  },
  {
   "cell_type": "markdown",
   "metadata": {},
   "source": [
    "You can check the broadcasted bundle via The Tangle Explorer at any of the receiving addresses:\n",
    "* Target address 1: https://thetangle.org/address/CXDUYK9XGHC9DTSPDMKGGGXAIARSRVAFGHJOCDDHWADLVBBOEHLICHTMGKVDOGRU9TBESJNHAXYPVJ9R9\n",
    "* Target address 2: \n",
    "https://thetangle.org/address/CYJV9DRIE9NCQJYLOYOJOGKQGOOELTWXVWUYGQSWCNODHJAHACADUAAHQ9ODUICCESOIVZABA9LTMM9RW"
   ]
  },
  {
   "cell_type": "markdown",
   "metadata": {},
   "source": [
    "And to complete the picture here is addtional code that uses `prepare_transfer()` and `send_trytes()` combo."
   ]
  },
  {
   "cell_type": "code",
   "execution_count": 0,
   "metadata": {
    "iotadev": {
     "codeid": "07CFD43B146C",
     "standalone": "true",
     "title": "Sending IOTA transaction in more granular way: API calls Prepare_transfer() and Send_transfer()"
    }
   },
   "outputs": [
    {
     "data": {
      "text/html": [
       "Almost prepared bundle - tips and POW are still missing"
      ],
      "text/plain": [
       "Almost prepared bundle - tips and POW are still missing"
      ]
     },
     "metadata": {},
     "output_type": "display_data"
    },
    {
     "data": {
      "text/html": [
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
      ],
      "text/plain": [
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
      ]
     },
     "metadata": {},
     "output_type": "display_data"
    },
    {
     "data": {
      "text/html": [
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
      ],
      "text/plain": [
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
      ]
     },
     "metadata": {},
     "output_type": "display_data"
    },
    {
     "data": {
      "text/html": [
       "Searching for tips and performing POW... Wait please..."
      ],
      "text/plain": [
       "Searching for tips and performing POW... Wait please..."
      ]
     },
     "metadata": {},
     "output_type": "display_data"
    },
    {
     "data": {
      "text/html": [
       "Bundle was broadcasted."
      ],
      "text/plain": [
       "Bundle was broadcasted."
      ]
     },
     "metadata": {},
     "output_type": "display_data"
    },
    {
     "data": {
      "text/html": [
       "Final transactions were returned - including nonce(POW)"
      ],
      "text/plain": [
       "Final transactions were returned - including nonce(POW)"
      ]
     },
     "metadata": {},
     "output_type": "display_data"
    },
    {
     "data": {
      "text/html": [
       "RBTCFDTCEARCCDADTCGDEAPCEAGDTCRCCDBDSCEAADTCGDGDPCVCTCSAEAXBCDKDEAXCGDEACBTAVABBTAWAUAVACB999999999999999999999999999999999999999999999999999999999999999999999999999999999999999999999999999999999999999999999999999999999999999999999999999999999999999999999999999999999999999999999999999999999999999999999999999999999999999999999999999999999999999999999999999999999999999999999999999999999999999999999999999999999999999999999999999999999999999999999999999999999999999999999999999999999999999999999999999999999999999999999999999999999999999999999999999999999999999999999999999999999999999999999999999999999999999999999999999999999999999999999999999999999999999999999999999999999999999999999999999999999999999999999999999999999999999999999999999999999999999999999999999999999999999999999999999999999999999999999999999999999999999999999999999999999999999999999999999999999999999999999999999999999999999999999999999999999999999999999999999999999999999999999999999999999999999999999999999999999999999999999999999999999999999999999999999999999999999999999999999999999999999999999999999999999999999999999999999999999999999999999999999999999999999999999999999999999999999999999999999999999999999999999999999999999999999999999999999999999999999999999999999999999999999999999999999999999999999999999999999999999999999999999999999999999999999999999999999999999999999999999999999999999999999999999999999999999999999999999999999999999999999999999999999999999999999999999999999999999999999999999999999999999999999999999999999999999999999999999999999999999999999999999999999999999999999999999999999999999999999999999999999999999999999999999999999999999999999999999999999999999999999999999999999999999999999999999999999999999999999999999999999999999999999999999999999999999999999999999999999999999999999999999999999999999999999999999999999999999999999999999999999999999999999999999999999999999999999999999999999999999999999999999999999999999999999999999999999999999999999999999999999999999999999999999999999999999999999999999999999999999999999999999999999999999999999999999999999999999999999999999999999999999999999999999999999999999999999999999999999999999999999999999999999999999999999999999999999999999CYJV9DRIE9NCQJYLOYOJOGKQGOOELTWXVWUYGQSWCNODHJAHACADUAAHQ9ODUICCESOIVZABA9LTMM9RW999999999999999999999999999HRIBEK999IOTA999TUTORIAL9999KAAIAD99A99999999A99999999MJCVGAPSTFRW99JCEBCWHGFXWCZCLTVPWJD9QKYEZX9UIZSIJXTHDBAQFJ9ANVAUOEDY9GIAHBCECJYGXJVEXQTEBULMLJQJCBASUKVGWTANPOOXNQJDWEGMZQKCHCFPXTGRYPWFFETSDYWUIQMNQUSCIQCTFZ9999NGUCOMI9ZIUNMDODGKUP9WHKXN9ECNDRMRKQKMFFNWMVXBUEUS9LJCUYHZZFJD9LEHDBFPMQJHFP99999HRIBEK999IOTA999TUTORIAL999BJIZULZOF999999999MMMMMMMMMBQFMPJJQWUGGIJWJTJQCEJU9BU9"
      ],
      "text/plain": [
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
      ]
     },
     "metadata": {},
     "output_type": "display_data"
    },
    {
     "data": {
      "text/html": [
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
      ],
      "text/plain": [
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
      ]
     },
     "metadata": {},
     "output_type": "display_data"
    }
   ],
   "source": [
    "#r \"Tangle.Net.dll\"\n",
    "#r \"Newtonsoft.Json.dll\"\n",
    "#r \"RestSharp.dll\"\n",
    "\n",
    "using Tangle.Net.Entity;\n",
    "using Newtonsoft.Json;\n",
    "using RestSharp;\n",
    "using Tangle.Net.Repository;\n",
    "using Tangle.Net.Utils;\n",
    "\n",
    "var MySeed = \"HGW9HB9LJPYUGVHNGCPLFKKPNZAIIFHZBDHKSGMQKFMANUBASSMSV9TAJSSMPRZZU9SFZULXKJ9YLAIUA\";\n",
    "var TargetAddress1 = \"CXDUYK9XGHC9DTSPDMKGGGXAIARSRVAFGHJOCDDHWADLVBBOEHLICHTMGKVDOGRU9TBESJNHAXYPVJ9R9\";\n",
    "var TargetAddress2 = \"CYJV9DRIE9NCQJYLOYOJOGKQGOOELTWXVWUYGQSWCNODHJAHACADUAAHQ9ODUICCESOIVZABA9LTMM9RW\";\n",
    "\n",
    "var NowIs = DateTime.Now.ToShortDateString(); //this is not important - just to have some meaningful message\n",
    "\n",
    "var pt = new Transfer() // creating a first transfer (a proposed transaction)\n",
    "{\n",
    "    Address=new Address(TargetAddress1),\n",
    "    ValueToTransfer=0,\n",
    "    Message=TryteString.FromUtf8String(\"Here comes a first message. Now is \" + NowIs),\n",
    "    Tag=new Tag(\"HRIBEK999IOTA999TUTORIAL\"),\n",
    "    Timestamp = Timestamp.UnixSecondsTimestamp // please note, Tangle.Net library does not enter timestamp for you but it is very important since it has impact on bundle hash\n",
    "};\n",
    "\n",
    "var pt2 = new Transfer() // creating a second transfer (a proposed transaction)\n",
    "{\n",
    "    Address = new Address(TargetAddress2),\n",
    "    ValueToTransfer = 0,\n",
    "    Message = TryteString.FromUtf8String(\"Here comes a second message. Now is \" + NowIs),\n",
    "    Tag = new Tag(\"HRIBEK999IOTA999TUTORIAL\"),\n",
    "    Timestamp = Timestamp.UnixSecondsTimestamp // please note, Tangle.Net library does not enter timestamp for you but it is very important since it has impact on bundle hash\n",
    "};\n",
    "\n",
    "var bundle = new Bundle();\n",
    "bundle.AddTransfer(pt);\n",
    "bundle.AddTransfer(pt2);\n",
    "\n",
    "var NodeURL = \"https://nodes.thetangle.org:443\";\n",
    "var repo = new RestIotaRepository(new RestClient(NodeURL)); // ctor initialization of the Tangle.Net library\n",
    "\n",
    "Console.WriteLine(\"Almost prepared bundle - tips and POW are still missing\");\n",
    "\n",
    "var preparedBundle = repo.PrepareTransfer(seed: new Seed(MySeed),\n",
    "                                          bundle: bundle,\n",
    "                                          securityLevel: 2); // please note, depth and MNWM are not needed since neither GTTA nor ATT is performed\n",
    "foreach (var tx in preparedBundle.ToTrytes())\n",
    "{\n",
    "    Console.WriteLine(tx.ToString());\n",
    "}\n",
    "\n",
    "Console.WriteLine(\"Searching for tips and performing POW... Wait please...\");\n",
    "var sentBundle = repo.SendTrytes(transactions: preparedBundle.Transactions,\n",
    "                                 depth: 3,\n",
    "                                 minWeightMagnitude: 14);\n",
    "\n",
    "Console.WriteLine(\"Bundle was broadcasted.\");\n",
    "Console.WriteLine(\"Final transactions were returned - including nonce(POW)\");\n",
    "foreach (var tx in sentBundle)\n",
    "{\n",
    "    Console.WriteLine(tx.ToString());\n",
    "}\n"
   ]
  },
  {
   "cell_type": "markdown",
   "metadata": {},
   "source": [
    "You can check the broadcasted bundle via The Tangle Explorer at any of the receiving addresses:\n",
    "* Target address 1: https://thetangle.org/address/CXDUYK9XGHC9DTSPDMKGGGXAIARSRVAFGHJOCDDHWADLVBBOEHLICHTMGKVDOGRU9TBESJNHAXYPVJ9R9\n",
    "* Target address 2: \n",
    "https://thetangle.org/address/CYJV9DRIE9NCQJYLOYOJOGKQGOOELTWXVWUYGQSWCNODHJAHACADUAAHQ9ODUICCESOIVZABA9LTMM9RW"
   ]
  },
  {
   "cell_type": "markdown",
   "metadata": {},
   "source": [
    "## Value transactions\n",
    "Meta transactions were discussed in the previous chapter. This chapter describes `value transactions` which are transactions that transfer IOTA tokens between IOTA addresses. Tokens are fully premined and so number of tokens in the network is given. So `transfering tokens` means changing their ownership only.\n",
    "\n",
    "While preparing a bundle with `value transations` it is important to distinguish three different transaction types within a bundle:\n",
    "* **Input TXs:** those are transactions that *deducting* (spending) value from address(es). Those transactions have negative `value` field. They usually refer to `senders`\n",
    "* **Output TXs:** those are transactions that *adding* (receiving) value to address(es). Those transactions have positive `value` field. They usually refer to `recipients`\n",
    "* **Unspent/change TX:** technically speaking it is also *output* transaction that *adding* value however it usually refers to `senders` and so it is better to consider it separated from other output TXs\n",
    "\n",
    "All three types have to be part of each bundle otherwise you are under a risk of loosing IOTA tokens. In other words, each bundle should consists of at least one `input` TX, one `output` TX and one `unspent` TX. Total balance of the bundle should be zero since the number of tokens is the same, just token owners have been \"changed\".\n",
    "\n",
    "Example:\n",
    "* Alice owns 100 tokens (*input = 100*)\n",
    "* Alice is going to send 20 tokens to John from the address that includes 100 tokens of her (*Alice -100*)\n",
    "* John is going to receive 20 tokens from Alice (*output = 20*; *John +20*)\n",
    "* Alice still owns 80 tokens after the transaction (*unspent = 80*; *Alice +80*)\n",
    "\n",
    "Alice's bundle should look like:\n",
    "\\begin{align}\n",
    "Input - Output & = \\ Unspent \\\\\n",
    "Input - Output - Unspent & = \\ 0 \\\\\n",
    "100 - 20 - 80 & = \\ 0\n",
    "\\end{align}\n",
    "\n",
    "Why Alice has to \"put\" all 100 tokens in the bundle while she is going to actually spend only 20 tokens? The reason is that IOTA protocol uses one-time signature scheme (OTS) for transaction signing while spending tokens. And with every signing process a half of a private key of the given address is revealed. That's why no one should ever spend tokens from the same address again.\n",
    "![Never reuse address](https://raw.githubusercontent.com/Hribek25/IOTA101/17cde67e39b66dd7c481577497e08399fc888f96/Graphics/never-reuse-address-again.png \"By Petr Zizka\")\n",
    "\n",
    "### Spending tokens\n",
    "*Please note: for a purpose of this chapter we are going to switch to a test network called `devnet`. It is the testing Tangle. Tokens are not real and everything you do have no implication to the mainnet at all. However it is stil powered by standard node software and so technicaly speaking it behaves like the mainnet. If you need more info regarding devnet please refer to [the official documentation](https://docs.iota.org/introduction/testnet/introduction).*\n",
    "\n",
    "Everything what has been mentioned in the previous chapter focused on `non-value` transations is still valid also in case of value transactions however there are several additional tasks you should take care of. Needless to say, IOTA libraries (PyOTA and others) are ready to help you and are able to hide all implementation details in case you would like to. In this case I would encourage everyone to prefer a functionality that is offered by extended API calls, such as `send_transfer`. Experimenting with value transactions and trying to tweak them does not seem to be a good idea (on the mainnet).\n",
    "\n",
    "Anyway, even in this chapter I am going to describe main tasks that are performed under the hood to be able to understand the whole concept.\n",
    "\n",
    "Let's have the following setup:"
   ]
  },
  {
   "cell_type": "code",
   "execution_count": 0,
   "metadata": {
    "iotadev": {
     "codeid": "F0DD441072CC",
     "standalone": "false",
     "title": "Preparing variables for spending IOTA tokens"
    }
   },
   "outputs": [
    {
     "data": {
      "text/html": [
       "Variables were initialized."
      ],
      "text/plain": [
       "Variables were initialized."
      ]
     },
     "metadata": {},
     "output_type": "display_data"
    }
   ],
   "source": [
    "// Sender's side\n",
    "// Sender seed\n",
    "var SeedSender = \"HGW9HB9LJPYUGVHNGCPLFKKPNZAIIFHZBDHKSGMQKFMANUBASSMSV9TAJSSMPRZZU9SFZULXKJ9YLAIUA\";\n",
    "\n",
    "// Receiver's side\n",
    "// Recipient's seed - this is actually not needed for the exercise - it is just to have corresponding seed somewhere written\n",
    "var SeedReceiver = \"NVPDKGLESTYNJEH9DTWD9DUBYWHZJDDWTBLKWEYLVZKBKKAZTIZ9CFFJMHPEKIFUWQTXRGAVRXAQZCPHL\";\n",
    "\n",
    "//This is our target address to which we are going to send tokens to (BTW: it is a first generated address based on recipient's seed)\n",
    "var AddressReceiver = \"BMFSMZMNBGKHAWPIZIOMJGRBXZETVSAYDSTDQCHLYTBWZMIXLNXF9XHLTMOCATFVFOMBQF9IOQGPEBPDC\";\n",
    "\n",
    "\n",
    "var DevnetNode = \"https://nodes.devnet.iota.org:443\";\n",
    "Console.WriteLine(\"Variables were initialized.\");"
   ]
  },
  {
   "cell_type": "markdown",
   "metadata": {},
   "source": [
    "You may be wondering why only the seed for sender's side is defined. As mentioned above the reason is that the address with tokens is changing with every spending exercise and so you have to find address with tokens that left in a bucket programatically (if any tokens left:).\n",
    "\n",
    "Let's find out. For this purpose you can use extended API call `get_account_data` which returns a list of used addresses and total sum of all tokens available accross all of them:"
   ]
  },
  {
   "cell_type": "code",
   "execution_count": 0,
   "metadata": {
    "iotadev": {
     "codeid": "0847FCD36DFF",
     "standalone": "false",
     "title": "Checking total IOTA balance: API call Get_account_data()"
    }
   },
   "outputs": [
    {
     "data": {
      "text/html": [
       "Checking the total balance"
      ],
      "text/plain": [
       "Checking the total balance"
      ]
     },
     "metadata": {},
     "output_type": "display_data"
    },
    {
     "data": {
      "text/html": [
       "Please note, this may take some time if many addresses has been used already..."
      ],
      "text/plain": [
       "Please note, this may take some time if many addresses has been used already..."
      ]
     },
     "metadata": {},
     "output_type": "display_data"
    },
    {
     "data": {
      "text/html": [
       "Total Balance:"
      ],
      "text/plain": [
       "Total Balance:"
      ]
     },
     "metadata": {},
     "output_type": "display_data"
    },
    {
     "data": {
      "text/html": [
       "3828"
      ],
      "text/plain": [
       "3828"
      ]
     },
     "metadata": {},
     "output_type": "display_data"
    },
    {
     "data": {
      "text/html": [
       "Latest Unused Address:"
      ],
      "text/plain": [
       "Latest Unused Address:"
      ]
     },
     "metadata": {},
     "output_type": "display_data"
    },
    {
     "data": {
      "text/html": [
       "&quot;MHJIRKPUVSXBZWUXKUBNT9MRSEG9CRR9DNKIVNSCBZVGEDIDYTXIAVJLSTKQGVGDBFHRCRHBEMMZXPUFZ&quot;"
      ],
      "text/plain": [
       "\"MHJIRKPUVSXBZWUXKUBNT9MRSEG9CRR9DNKIVNSCBZVGEDIDYTXIAVJLSTKQGVGDBFHRCRHBEMMZXPUFZ\""
      ]
     },
     "metadata": {},
     "output_type": "display_data"
    },
    {
     "data": {
      "text/html": [
       "Used Addresses:"
      ],
      "text/plain": [
       "Used Addresses:"
      ]
     },
     "metadata": {},
     "output_type": "display_data"
    },
    {
     "data": {
      "text/html": [
       "[\n",
       "  {\n",
       "    &quot;Balance&quot;: 0,\n",
       "    &quot;Address&quot;: &quot;SUYDJCMS9XMBKOPIPOXKGXMFVYXQ9YRNZLDYLRFARZFOFJDDH9JZLCQVO9GBRQKBCXHSPHOAPPWFFLMBW&quot;\n",
       "  },\n",
       "  {\n",
       "    &quot;Balance&quot;: 0,\n",
       "    &quot;Address&quot;: &quot;NHVGPRAXYTDZJLMLSUMZGVBBMICDQGGAAZ9UJGLIPPOTUEZJXABCSDFUTRTBFOLDOQZIBS9QTRXAB9IUX&quot;\n",
       "  },\n",
       "  {\n",
       "    &quot;Balance&quot;: 0,\n",
       "    &quot;Address&quot;: &quot;VZITIWJF99TH9REMKLYZUWELFLEW9FVYXPZPVMVFZVIQHAOEMEDABUUZGFROKKIVMT999PWGGLICKJOAD&quot;\n",
       "  },\n",
       "  {\n",
       "    &quot;Balance&quot;: 0,\n",
       "    &quot;Address&quot;: &quot;XPV9CTUC9JEKATOVABXXLICTDAQEOHR9HXXFLHKN9OZFMFAZKKUDZMREOBZJONZAHXCGNN9FHGNFBAKMC&quot;\n",
       "  },\n",
       "  {\n",
       "    &quot;Balance&quot;: 0,\n",
       "    &quot;Address&quot;: &quot;NDQMBGBQIBAQURVAQEUVONVMECKXSNYZZNKMMMOHOLPEYHJHDBTFWOZMAPFUAHLHIQUAV9GVZPEMBKL9Z&quot;\n",
       "  },\n",
       "  {\n",
       "    &quot;Balance&quot;: 2979,\n",
       "    &quot;Address&quot;: &quot;QYENROHVANIYBSIIMWGFDOUHXTMFOXIHOQXTJZLRFRJMOOINFTWCVVEJUFIITLBIHLVTESPVLUOSCFJDZ&quot;\n",
       "  },\n",
       "  {\n",
       "    &quot;Balance&quot;: 849,\n",
       "    &quot;Address&quot;: &quot;SZAVDSKTHNQFWTTINRAYQKJAXTLD9CRFFWWBSEXIEXPLBBEP9FT9IVGICWIXTJCFUKJSTOUFANJGBTPQX&quot;\n",
       "  }\n",
       "]"
      ],
      "text/plain": [
       "[\n",
       "  {\n",
       "    \"Balance\": 0,\n",
       "    \"Address\": \"SUYDJCMS9XMBKOPIPOXKGXMFVYXQ9YRNZLDYLRFARZFOFJDDH9JZLCQVO9GBRQKBCXHSPHOAPPWFFLMBW\"\n",
       "  },\n",
       "  {\n",
       "    \"Balance\": 0,\n",
       "    \"Address\": \"NHVGPRAXYTDZJLMLSUMZGVBBMICDQGGAAZ9UJGLIPPOTUEZJXABCSDFUTRTBFOLDOQZIBS9QTRXAB9IUX\"\n",
       "  },\n",
       "  {\n",
       "    \"Balance\": 0,\n",
       "    \"Address\": \"VZITIWJF99TH9REMKLYZUWELFLEW9FVYXPZPVMVFZVIQHAOEMEDABUUZGFROKKIVMT999PWGGLICKJOAD\"\n",
       "  },\n",
       "  {\n",
       "    \"Balance\": 0,\n",
       "    \"Address\": \"XPV9CTUC9JEKATOVABXXLICTDAQEOHR9HXXFLHKN9OZFMFAZKKUDZMREOBZJONZAHXCGNN9FHGNFBAKMC\"\n",
       "  },\n",
       "  {\n",
       "    \"Balance\": 0,\n",
       "    \"Address\": \"NDQMBGBQIBAQURVAQEUVONVMECKXSNYZZNKMMMOHOLPEYHJHDBTFWOZMAPFUAHLHIQUAV9GVZPEMBKL9Z\"\n",
       "  },\n",
       "  {\n",
       "    \"Balance\": 2979,\n",
       "    \"Address\": \"QYENROHVANIYBSIIMWGFDOUHXTMFOXIHOQXTJZLRFRJMOOINFTWCVVEJUFIITLBIHLVTESPVLUOSCFJDZ\"\n",
       "  },\n",
       "  {\n",
       "    \"Balance\": 849,\n",
       "    \"Address\": \"SZAVDSKTHNQFWTTINRAYQKJAXTLD9CRFFWWBSEXIEXPLBBEP9FT9IVGICWIXTJCFUKJSTOUFANJGBTPQX\"\n",
       "  }\n",
       "]"
      ]
     },
     "metadata": {},
     "output_type": "display_data"
    },
    {
     "data": {
      "text/html": [
       "Yes, there are some token available! Hurray"
      ],
      "text/plain": [
       "Yes, there are some token available! Hurray"
      ]
     },
     "metadata": {},
     "output_type": "display_data"
    }
   ],
   "source": [
    "#r \"Tangle.Net.dll\"\n",
    "#r \"Newtonsoft.Json.dll\"\n",
    "#r \"RestSharp.dll\"\n",
    "\n",
    "using Tangle.Net.Entity;\n",
    "using Newtonsoft.Json;\n",
    "using RestSharp;\n",
    "using Tangle.Net.Repository;\n",
    "using Tangle.Net.Utils;\n",
    "\n",
    "Console.WriteLine(\"Checking the total balance\");\n",
    "Console.WriteLine(\"Please note, this may take some time if many addresses has been used already...\");\n",
    "\n",
    "var repo = new RestIotaRepository(new RestClient(DevnetNode)); // ctor initialization of the Tangle.Net library\n",
    "\n",
    "// Get the total available balance for the given seed and all related used addresses\n",
    "var accountData = repo.GetAccountData(seed: new Seed(SeedSender),\n",
    "                                      includeInclusionStates: false,\n",
    "                                      securityLevel: 2,\n",
    "                                      addressStartIndex: 29, // Library will start from the address at index 0. please note I increased it to start from index 29 to save time\n",
    "                                      addressStopIndex: 0); // it will search until first unused address is found\n",
    "\n",
    "// Tangle.Net library returns very detailed info including Private Keys and so outputing only some\n",
    "Console.WriteLine(\"Total Balance:\");\n",
    "Console.WriteLine(JsonConvert.SerializeObject(accountData.Balance, Formatting.Indented));\n",
    "\n",
    "Console.WriteLine(\"Latest Unused Address:\");\n",
    "Console.WriteLine(JsonConvert.SerializeObject(accountData.LatestUnusedAddress.Value, Formatting.Indented));\n",
    "\n",
    "Console.WriteLine(\"Used Addresses:\");\n",
    "Console.WriteLine(JsonConvert.SerializeObject((from adr in accountData.UsedAddresses\n",
    "                                               select new {Balance = adr.Balance, Address = adr.Value}).ToList(),\n",
    "                                              Formatting.Indented));\n",
    "\n",
    "if (accountData.Balance>0){\n",
    "    Console.WriteLine(\"Yes, there are some token available! Hurray\");\n",
    "}"
   ]
  },
  {
   "cell_type": "markdown",
   "metadata": {},
   "source": [
    "*Please note: API call `get_account_data` consider only confirmed transactions while calculating total balance. So it is better to wait until all transactions are cleared before you send additional tokens.*\n",
    "\n",
    "Are there any tokens left (value in `balance` field)? If yes then continue - no action is needed.\n",
    "If not, then you need to obtain some. It can be done visiting [IOTA faucet](http://faucet.devnet.iota.org) and entering an unused address of the given seed:"
   ]
  },
  {
   "cell_type": "code",
   "execution_count": 0,
   "metadata": {
    "iotadev": {
     "codeid": "6CD1F81E2588",
     "standalone": "false",
     "title": "Searching for unused IOTA address: API call Get_new_addresses()"
    }
   },
   "outputs": [
    {
     "data": {
      "text/html": [
       "Please note, this may take some time if many addresses has been used already..."
      ],
      "text/plain": [
       "Please note, this may take some time if many addresses has been used already..."
      ]
     },
     "metadata": {},
     "output_type": "display_data"
    },
    {
     "data": {
      "text/html": [
       "This is the first unused address that can be used for new tokens or unspent tokens:"
      ],
      "text/plain": [
       "This is the first unused address that can be used for new tokens or unspent tokens:"
      ]
     },
     "metadata": {},
     "output_type": "display_data"
    },
    {
     "data": {
      "text/html": [
       "SZAVDSKTHNQFWTTINRAYQKJAXTLD9CRFFWWBSEXIEXPLBBEP9FT9IVGICWIXTJCFUKJSTOUFANJGBTPQX"
      ],
      "text/plain": [
       "SZAVDSKTHNQFWTTINRAYQKJAXTLD9CRFFWWBSEXIEXPLBBEP9FT9IVGICWIXTJCFUKJSTOUFANJGBTPQX"
      ]
     },
     "metadata": {},
     "output_type": "display_data"
    }
   ],
   "source": [
    "// Now let's find a first unused address that can be used as a destination address for unspent/new tokens\n",
    "// This step is not required in case of NodeJS/Tangle.Net library, please see result above\n",
    "Console.WriteLine(\"Please note, this may take some time if many addresses has been used already...\");\n",
    "\n",
    "var unusedAdr = repo.GetNewAddresses(seed: new Seed(SeedSender),\n",
    "                                     addressStartIndex: 29, // please note the index below starts from 29 to save some time. If you would like to start from beginning it should be 0 \n",
    "                                     count: 1, // how many new unused addresses we want ?\n",
    "                                     securityLevel: 2);\n",
    "\n",
    "Console.WriteLine(\"This is the first unused address that can be used for new tokens or unspent tokens:\");\n",
    "Console.WriteLine(unusedAdr[0].Value);\n",
    "\n"
   ]
  },
  {
   "cell_type": "markdown",
   "metadata": {},
   "source": [
    "What have just happened behind the curtain?\n",
    "* The PyOTA library started to generating addresses from the `index=0` of the given seed and at the same time it also checked whether there are any transactions registered for each address\n",
    "* If yes, then in case we are after balances, the balance is saved. In case we are after new unused address then the given address is skipped. First address for which there are not registered transactions is returned\n",
    "* That's why it may be quite time consuming. And now you also understand all issues regarding `zero balances` after the snapshot\n",
    "\n",
    "You may be also wondering how to get individual balances for each used address? This can be checked using the core API call `get_balances` which provides you with a balance for any address you specify. Let's query for used addresses from the previous exercise:"
   ]
  },
  {
   "cell_type": "code",
   "execution_count": 0,
   "metadata": {
    "iotadev": {
     "codeid": "5036ABE14324",
     "standalone": "false",
     "title": "Checking IOTA balance: API call Get_balances()"
    }
   },
   "outputs": [
    {
     "data": {
      "text/html": [
       "[\n",
       "  {\n",
       "    &quot;Balance&quot;: 0,\n",
       "    &quot;Address&quot;: &quot;SUYDJCMS9XMBKOPIPOXKGXMFVYXQ9YRNZLDYLRFARZFOFJDDH9JZLCQVO9GBRQKBCXHSPHOAPPWFFLMBW&quot;\n",
       "  },\n",
       "  {\n",
       "    &quot;Balance&quot;: 0,\n",
       "    &quot;Address&quot;: &quot;NHVGPRAXYTDZJLMLSUMZGVBBMICDQGGAAZ9UJGLIPPOTUEZJXABCSDFUTRTBFOLDOQZIBS9QTRXAB9IUX&quot;\n",
       "  },\n",
       "  {\n",
       "    &quot;Balance&quot;: 0,\n",
       "    &quot;Address&quot;: &quot;VZITIWJF99TH9REMKLYZUWELFLEW9FVYXPZPVMVFZVIQHAOEMEDABUUZGFROKKIVMT999PWGGLICKJOAD&quot;\n",
       "  },\n",
       "  {\n",
       "    &quot;Balance&quot;: 0,\n",
       "    &quot;Address&quot;: &quot;XPV9CTUC9JEKATOVABXXLICTDAQEOHR9HXXFLHKN9OZFMFAZKKUDZMREOBZJONZAHXCGNN9FHGNFBAKMC&quot;\n",
       "  },\n",
       "  {\n",
       "    &quot;Balance&quot;: 0,\n",
       "    &quot;Address&quot;: &quot;NDQMBGBQIBAQURVAQEUVONVMECKXSNYZZNKMMMOHOLPEYHJHDBTFWOZMAPFUAHLHIQUAV9GVZPEMBKL9Z&quot;\n",
       "  },\n",
       "  {\n",
       "    &quot;Balance&quot;: 2979,\n",
       "    &quot;Address&quot;: &quot;QYENROHVANIYBSIIMWGFDOUHXTMFOXIHOQXTJZLRFRJMOOINFTWCVVEJUFIITLBIHLVTESPVLUOSCFJDZ&quot;\n",
       "  }\n",
       "]"
      ],
      "text/plain": [
       "[\n",
       "  {\n",
       "    \"Balance\": 0,\n",
       "    \"Address\": \"SUYDJCMS9XMBKOPIPOXKGXMFVYXQ9YRNZLDYLRFARZFOFJDDH9JZLCQVO9GBRQKBCXHSPHOAPPWFFLMBW\"\n",
       "  },\n",
       "  {\n",
       "    \"Balance\": 0,\n",
       "    \"Address\": \"NHVGPRAXYTDZJLMLSUMZGVBBMICDQGGAAZ9UJGLIPPOTUEZJXABCSDFUTRTBFOLDOQZIBS9QTRXAB9IUX\"\n",
       "  },\n",
       "  {\n",
       "    \"Balance\": 0,\n",
       "    \"Address\": \"VZITIWJF99TH9REMKLYZUWELFLEW9FVYXPZPVMVFZVIQHAOEMEDABUUZGFROKKIVMT999PWGGLICKJOAD\"\n",
       "  },\n",
       "  {\n",
       "    \"Balance\": 0,\n",
       "    \"Address\": \"XPV9CTUC9JEKATOVABXXLICTDAQEOHR9HXXFLHKN9OZFMFAZKKUDZMREOBZJONZAHXCGNN9FHGNFBAKMC\"\n",
       "  },\n",
       "  {\n",
       "    \"Balance\": 0,\n",
       "    \"Address\": \"NDQMBGBQIBAQURVAQEUVONVMECKXSNYZZNKMMMOHOLPEYHJHDBTFWOZMAPFUAHLHIQUAV9GVZPEMBKL9Z\"\n",
       "  },\n",
       "  {\n",
       "    \"Balance\": 2979,\n",
       "    \"Address\": \"QYENROHVANIYBSIIMWGFDOUHXTMFOXIHOQXTJZLRFRJMOOINFTWCVVEJUFIITLBIHLVTESPVLUOSCFJDZ\"\n",
       "  }\n",
       "]"
      ]
     },
     "metadata": {},
     "output_type": "display_data"
    }
   ],
   "source": [
    "if (accountData.UsedAddresses.Count>0)\n",
    "{\n",
    "    var balances = repo.GetBalances(addresses: accountData.UsedAddresses,\n",
    "                                    threshold: 100);\n",
    "\n",
    "    Console.WriteLine(JsonConvert.SerializeObject(from adr in balances.Addresses\n",
    "                                                  select new { Balance = adr.Balance, Address = adr.Value }, Formatting.Indented));\n",
    "}\n"
   ]
  },
  {
   "cell_type": "markdown",
   "metadata": {},
   "source": [
    "It returns `balances` and you can see how the remaining tokens move to new unused address every time you spend some tokens. Needless to say, used addresses with zero balances should not be used anymore since tokens were already spent from them. So let's spend some tokens:"
   ]
  },
  {
   "cell_type": "code",
   "execution_count": 0,
   "metadata": {
    "iotadev": {
     "codeid": "6195D3132B6B",
     "standalone": "false",
     "title": "Send value IOTA transaction: API call Send_transfer()"
    },
    "scrolled": false
   },
   "outputs": [
    {
     "data": {
      "text/html": [
       "Sending iotas... Please wait..."
      ],
      "text/plain": [
       "Sending iotas... Please wait..."
      ]
     },
     "metadata": {},
     "output_type": "display_data"
    },
    {
     "data": {
      "text/html": [
       "{\n",
       "  &quot;Address&quot;: {\n",
       "    &quot;Balance&quot;: 0,\n",
       "    &quot;Checksum&quot;: null,\n",
       "    &quot;KeyIndex&quot;: 0,\n",
       "    &quot;PrivateKey&quot;: null,\n",
       "    &quot;SecurityLevel&quot;: 0,\n",
       "    &quot;SpentFrom&quot;: false,\n",
       "    &quot;TrytesLength&quot;: 81,\n",
       "    &quot;Value&quot;: &quot;BMFSMZMNBGKHAWPIZIOMJGRBXZETVSAYDSTDQCHLYTBWZMIXLNXF9XHLTMOCATFVFOMBQF9IOQGPEBPDC&quot;\n",
       "  },\n",
       "  &quot;AttachmentTimestamp&quot;: 1568994476124,\n",
       "  &quot;AttachmentTimestampLowerBound&quot;: 0,\n",
       "  &quot;AttachmentTimestampUpperBound&quot;: 3812798742493,\n",
       "  &quot;BranchTransaction&quot;: {\n",
       "    &quot;TrytesLength&quot;: 81,\n",
       "    &quot;Value&quot;: &quot;ODHVT9ZVBUOOUBKCYUZMFJTZQAGECIMWJKO9ZVAHAPVTEZFOEPDPMKSCTPRAIHWPYLERCOFWAHNYKS999&quot;\n",
       "  },\n",
       "  &quot;BundleHash&quot;: {\n",
       "    &quot;TrytesLength&quot;: 81,\n",
       "    &quot;Value&quot;: &quot;POKCELONFRIBFFQAOLKSOQAIGESODBDIXCASS99SCIW9LOHGCZNLGTNKISQISOZOPWIKEYZXDALCJCZ9W&quot;\n",
       "  },\n",
       "  &quot;CurrentIndex&quot;: 0,\n",
       "  &quot;Fragment&quot;: {\n",
       "    &quot;IsEmpty&quot;: true,\n",
       "    &quot;TrytesLength&quot;: 2187,\n",
       "    &quot;Value&quot;: &quot;999999999999999999999999999999999999999999999999999999999999999999999999999999999999999999999999999999999999999999999999999999999999999999999999999999999999999999999999999999999999999999999999999999999999999999999999999999999999999999999999999999999999999999999999999999999999999999999999999999999999999999999999999999999999999999999999999999999999999999999999999999999999999999999999999999999999999999999999999999999999999999999999999999999999999999999999999999999999999999999999999999999999999999999999999999999999999999999999999999999999999999999999999999999999999999999999999999999999999999999999999999999999999999999999999999999999999999999999999999999999999999999999999999999999999999999999999999999999999999999999999999999999999999999999999999999999999999999999999999999999999999999999999999999999999999999999999999999999999999999999999999999999999999999999999999999999999999999999999999999999999999999999999999999999999999999999999999999999999999999999999999999999999999999999999999999999999999999999999999999999999999999999999999999999999999999999999999999999999999999999999999999999999999999999999999999999999999999999999999999999999999999999999999999999999999999999999999999999999999999999999999999999999999999999999999999999999999999999999999999999999999999999999999999999999999999999999999999999999999999999999999999999999999999999999999999999999999999999999999999999999999999999999999999999999999999999999999999999999999999999999999999999999999999999999999999999999999999999999999999999999999999999999999999999999999999999999999999999999999999999999999999999999999999999999999999999999999999999999999999999999999999999999999999999999999999999999999999999999999999999999999999999999999999999999999999999999999999999999999999999999999999999999999999999999999999999999999999999999999999999999999999999999999999999999999999999999999999999999999999999999999999999999999999999999999999999999999999999999999999999999999999999999999999999999999999999999999999999999999999999999999999999999999999999999999999999999999999999999999999999999999999999999999999999999999999999999999999999999999999999999999999999999999999999999999999999999999999999999999999999999999999999999999999999999&quot;\n",
       "  },\n",
       "  &quot;Hash&quot;: {\n",
       "    &quot;TrytesLength&quot;: 81,\n",
       "    &quot;Value&quot;: &quot;TVNUVTJMDUQPJTETSUQZDSCNLQEOZVUQBSFCBESFGOVTDQAP9ILCLUXACSBFFNSRX9SGTNBOA9YPCO999&quot;\n",
       "  },\n",
       "  &quot;IsTail&quot;: true,\n",
       "  &quot;LastIndex&quot;: 3,\n",
       "  &quot;Nonce&quot;: {\n",
       "    &quot;TrytesLength&quot;: 27,\n",
       "    &quot;Value&quot;: &quot;QJIHDOADLJORTVSFXQLPVCTWPEF&quot;\n",
       "  },\n",
       "  &quot;ObsoleteTag&quot;: {\n",
       "    &quot;TrytesLength&quot;: 27,\n",
       "    &quot;Value&quot;: &quot;VEIBEK999IOTA999TUTORIAL999&quot;\n",
       "  },\n",
       "  &quot;Tag&quot;: {\n",
       "    &quot;TrytesLength&quot;: 27,\n",
       "    &quot;Value&quot;: &quot;HRIBEK999IOTA999TUTORIAL999&quot;\n",
       "  },\n",
       "  &quot;Timestamp&quot;: 1568994271,\n",
       "  &quot;TrunkTransaction&quot;: {\n",
       "    &quot;TrytesLength&quot;: 81,\n",
       "    &quot;Value&quot;: &quot;RLYSXEDFSDOHCZYLXNXZWQRRTUHWNAVUDTWDFKGTTALSVKRUGWO9XHOHXQANXRHAWFPRJWEYGCKWFI999&quot;\n",
       "  },\n",
       "  &quot;Value&quot;: 10\n",
       "}"
      ],
      "text/plain": [
       "{\n",
       "  \"Address\": {\n",
       "    \"Balance\": 0,\n",
       "    \"Checksum\": null,\n",
       "    \"KeyIndex\": 0,\n",
       "    \"PrivateKey\": null,\n",
       "    \"SecurityLevel\": 0,\n",
       "    \"SpentFrom\": false,\n",
       "    \"TrytesLength\": 81,\n",
       "    \"Value\": \"BMFSMZMNBGKHAWPIZIOMJGRBXZETVSAYDSTDQCHLYTBWZMIXLNXF9XHLTMOCATFVFOMBQF9IOQGPEBPDC\"\n",
       "  },\n",
       "  \"AttachmentTimestamp\": 1568994476124,\n",
       "  \"AttachmentTimestampLowerBound\": 0,\n",
       "  \"AttachmentTimestampUpperBound\": 3812798742493,\n",
       "  \"BranchTransaction\": {\n",
       "    \"TrytesLength\": 81,\n",
       "    \"Value\": \"ODHVT9ZVBUOOUBKCYUZMFJTZQAGECIMWJKO9ZVAHAPVTEZFOEPDPMKSCTPRAIHWPYLERCOFWAHNYKS999\"\n",
       "  },\n",
       "  \"BundleHash\": {\n",
       "    \"TrytesLength\": 81,\n",
       "    \"Value\": \"POKCELONFRIBFFQAOLKSOQAIGESODBDIXCASS99SCIW9LOHGCZNLGTNKISQISOZOPWIKEYZXDALCJCZ9W\"\n",
       "  },\n",
       "  \"CurrentIndex\": 0,\n",
       "  \"Fragment\": {\n",
       "    \"IsEmpty\": true,\n",
       "    \"TrytesLength\": 2187,\n",
       "    \"Value\": \"999999999999999999999999999999999999999999999999999999999999999999999999999999999999999999999999999999999999999999999999999999999999999999999999999999999999999999999999999999999999999999999999999999999999999999999999999999999999999999999999999999999999999999999999999999999999999999999999999999999999999999999999999999999999999999999999999999999999999999999999999999999999999999999999999999999999999999999999999999999999999999999999999999999999999999999999999999999999999999999999999999999999999999999999999999999999999999999999999999999999999999999999999999999999999999999999999999999999999999999999999999999999999999999999999999999999999999999999999999999999999999999999999999999999999999999999999999999999999999999999999999999999999999999999999999999999999999999999999999999999999999999999999999999999999999999999999999999999999999999999999999999999999999999999999999999999999999999999999999999999999999999999999999999999999999999999999999999999999999999999999999999999999999999999999999999999999999999999999999999999999999999999999999999999999999999999999999999999999999999999999999999999999999999999999999999999999999999999999999999999999999999999999999999999999999999999999999999999999999999999999999999999999999999999999999999999999999999999999999999999999999999999999999999999999999999999999999999999999999999999999999999999999999999999999999999999999999999999999999999999999999999999999999999999999999999999999999999999999999999999999999999999999999999999999999999999999999999999999999999999999999999999999999999999999999999999999999999999999999999999999999999999999999999999999999999999999999999999999999999999999999999999999999999999999999999999999999999999999999999999999999999999999999999999999999999999999999999999999999999999999999999999999999999999999999999999999999999999999999999999999999999999999999999999999999999999999999999999999999999999999999999999999999999999999999999999999999999999999999999999999999999999999999999999999999999999999999999999999999999999999999999999999999999999999999999999999999999999999999999999999999999999999999999999999999999999999999999999999999999999999999999999999999999999999999999999999999999999999999999999999999999999999999999999999\"\n",
       "  },\n",
       "  \"Hash\": {\n",
       "    \"TrytesLength\": 81,\n",
       "    \"Value\": \"TVNUVTJMDUQPJTETSUQZDSCNLQEOZVUQBSFCBESFGOVTDQAP9ILCLUXACSBFFNSRX9SGTNBOA9YPCO999\"\n",
       "  },\n",
       "  \"IsTail\": true,\n",
       "  \"LastIndex\": 3,\n",
       "  \"Nonce\": {\n",
       "    \"TrytesLength\": 27,\n",
       "    \"Value\": \"QJIHDOADLJORTVSFXQLPVCTWPEF\"\n",
       "  },\n",
       "  \"ObsoleteTag\": {\n",
       "    \"TrytesLength\": 27,\n",
       "    \"Value\": \"VEIBEK999IOTA999TUTORIAL999\"\n",
       "  },\n",
       "  \"Tag\": {\n",
       "    \"TrytesLength\": 27,\n",
       "    \"Value\": \"HRIBEK999IOTA999TUTORIAL999\"\n",
       "  },\n",
       "  \"Timestamp\": 1568994271,\n",
       "  \"TrunkTransaction\": {\n",
       "    \"TrytesLength\": 81,\n",
       "    \"Value\": \"RLYSXEDFSDOHCZYLXNXZWQRRTUHWNAVUDTWDFKGTTALSVKRUGWO9XHOHXQANXRHAWFPRJWEYGCKWFI999\"\n",
       "  },\n",
       "  \"Value\": 10\n",
       "}"
      ]
     },
     "metadata": {},
     "output_type": "display_data"
    },
    {
     "data": {
      "text/html": [
       "{\n",
       "  &quot;Address&quot;: {\n",
       "    &quot;Balance&quot;: 0,\n",
       "    &quot;Checksum&quot;: null,\n",
       "    &quot;KeyIndex&quot;: 0,\n",
       "    &quot;PrivateKey&quot;: null,\n",
       "    &quot;SecurityLevel&quot;: 0,\n",
       "    &quot;SpentFrom&quot;: false,\n",
       "    &quot;TrytesLength&quot;: 81,\n",
       "    &quot;Value&quot;: &quot;OTJSUNSQ9DLJVLKMVVPLDUTRHZAJDISDPZQCEPWNJWUGZOSFWRRBTUJAWCKKXACMZQIUP9NVVFYWRISWA&quot;\n",
       "  },\n",
       "  &quot;AttachmentTimestamp&quot;: 1568994476100,\n",
       "  &quot;AttachmentTimestampLowerBound&quot;: 0,\n",
       "  &quot;AttachmentTimestampUpperBound&quot;: 3812798742493,\n",
       "  &quot;BranchTransaction&quot;: {\n",
       "    &quot;TrytesLength&quot;: 81,\n",
       "    &quot;Value&quot;: &quot;ODHVT9ZVBUOOUBKCYUZMFJTZQAGECIMWJKO9ZVAHAPVTEZFOEPDPMKSCTPRAIHWPYLERCOFWAHNYKS999&quot;\n",
       "  },\n",
       "  &quot;BundleHash&quot;: {\n",
       "    &quot;TrytesLength&quot;: 81,\n",
       "    &quot;Value&quot;: &quot;POKCELONFRIBFFQAOLKSOQAIGESODBDIXCASS99SCIW9LOHGCZNLGTNKISQISOZOPWIKEYZXDALCJCZ9W&quot;\n",
       "  },\n",
       "  &quot;CurrentIndex&quot;: 1,\n",
       "  &quot;Fragment&quot;: {\n",
       "    &quot;IsEmpty&quot;: false,\n",
       "    &quot;TrytesLength&quot;: 2187,\n",
       "    &quot;Value&quot;: &quot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quot;\n",
       "  },\n",
       "  &quot;Hash&quot;: {\n",
       "    &quot;TrytesLength&quot;: 81,\n",
       "    &quot;Value&quot;: &quot;RLYSXEDFSDOHCZYLXNXZWQRRTUHWNAVUDTWDFKGTTALSVKRUGWO9XHOHXQANXRHAWFPRJWEYGCKWFI999&quot;\n",
       "  },\n",
       "  &quot;IsTail&quot;: false,\n",
       "  &quot;LastIndex&quot;: 3,\n",
       "  &quot;Nonce&quot;: {\n",
       "    &quot;TrytesLength&quot;: 27,\n",
       "    &quot;Value&quot;: &quot;9MGJNMEMMYIEIUXMAFQTAAPOCSN&quot;\n",
       "  },\n",
       "  &quot;ObsoleteTag&quot;: {\n",
       "    &quot;TrytesLength&quot;: 27,\n",
       "    &quot;Value&quot;: &quot;999999999999999999999999999&quot;\n",
       "  },\n",
       "  &quot;Tag&quot;: {\n",
       "    &quot;TrytesLength&quot;: 27,\n",
       "    &quot;Value&quot;: &quot;999999999999999999999999999&quot;\n",
       "  },\n",
       "  &quot;Timestamp&quot;: 1568994378,\n",
       "  &quot;TrunkTransaction&quot;: {\n",
       "    &quot;TrytesLength&quot;: 81,\n",
       "    &quot;Value&quot;: &quot;QHWMHCGTVIIJOWONJMOHQIMG9XZPPWGQHJFGDAPRSPVZBDI9SBAQNEHWJTHBSWQZUHUUDKKKKHOIUL999&quot;\n",
       "  },\n",
       "  &quot;Value&quot;: -859\n",
       "}"
      ],
      "text/plain": [
       "{\n",
       "  \"Address\": {\n",
       "    \"Balance\": 0,\n",
       "    \"Checksum\": null,\n",
       "    \"KeyIndex\": 0,\n",
       "    \"PrivateKey\": null,\n",
       "    \"SecurityLevel\": 0,\n",
       "    \"SpentFrom\": false,\n",
       "    \"TrytesLength\": 81,\n",
       "    \"Value\": \"OTJSUNSQ9DLJVLKMVVPLDUTRHZAJDISDPZQCEPWNJWUGZOSFWRRBTUJAWCKKXACMZQIUP9NVVFYWRISWA\"\n",
       "  },\n",
       "  \"AttachmentTimestamp\": 1568994476100,\n",
       "  \"AttachmentTimestampLowerBound\": 0,\n",
       "  \"AttachmentTimestampUpperBound\": 3812798742493,\n",
       "  \"BranchTransaction\": {\n",
       "    \"TrytesLength\": 81,\n",
       "    \"Value\": \"ODHVT9ZVBUOOUBKCYUZMFJTZQAGECIMWJKO9ZVAHAPVTEZFOEPDPMKSCTPRAIHWPYLERCOFWAHNYKS999\"\n",
       "  },\n",
       "  \"BundleHash\": {\n",
       "    \"TrytesLength\": 81,\n",
       "    \"Value\": \"POKCELONFRIBFFQAOLKSOQAIGESODBDIXCASS99SCIW9LOHGCZNLGTNKISQISOZOPWIKEYZXDALCJCZ9W\"\n",
       "  },\n",
       "  \"CurrentIndex\": 1,\n",
       "  \"Fragment\": {\n",
       "    \"IsEmpty\": false,\n",
       "    \"TrytesLength\": 2187,\n",
       "    \"Value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n",
       "  },\n",
       "  \"Hash\": {\n",
       "    \"TrytesLength\": 81,\n",
       "    \"Value\": \"RLYSXEDFSDOHCZYLXNXZWQRRTUHWNAVUDTWDFKGTTALSVKRUGWO9XHOHXQANXRHAWFPRJWEYGCKWFI999\"\n",
       "  },\n",
       "  \"IsTail\": false,\n",
       "  \"LastIndex\": 3,\n",
       "  \"Nonce\": {\n",
       "    \"TrytesLength\": 27,\n",
       "    \"Value\": \"9MGJNMEMMYIEIUXMAFQTAAPOCSN\"\n",
       "  },\n",
       "  \"ObsoleteTag\": {\n",
       "    \"TrytesLength\": 27,\n",
       "    \"Value\": \"999999999999999999999999999\"\n",
       "  },\n",
       "  \"Tag\": {\n",
       "    \"TrytesLength\": 27,\n",
       "    \"Value\": \"999999999999999999999999999\"\n",
       "  },\n",
       "  \"Timestamp\": 1568994378,\n",
       "  \"TrunkTransaction\": {\n",
       "    \"TrytesLength\": 81,\n",
       "    \"Value\": \"QHWMHCGTVIIJOWONJMOHQIMG9XZPPWGQHJFGDAPRSPVZBDI9SBAQNEHWJTHBSWQZUHUUDKKKKHOIUL999\"\n",
       "  },\n",
       "  \"Value\": -859\n",
       "}"
      ]
     },
     "metadata": {},
     "output_type": "display_data"
    },
    {
     "data": {
      "text/html": [
       "{\n",
       "  &quot;Address&quot;: {\n",
       "    &quot;Balance&quot;: 0,\n",
       "    &quot;Checksum&quot;: null,\n",
       "    &quot;KeyIndex&quot;: 0,\n",
       "    &quot;PrivateKey&quot;: null,\n",
       "    &quot;SecurityLevel&quot;: 0,\n",
       "    &quot;SpentFrom&quot;: false,\n",
       "    &quot;TrytesLength&quot;: 81,\n",
       "    &quot;Value&quot;: &quot;OTJSUNSQ9DLJVLKMVVPLDUTRHZAJDISDPZQCEPWNJWUGZOSFWRRBTUJAWCKKXACMZQIUP9NVVFYWRISWA&quot;\n",
       "  },\n",
       "  &quot;AttachmentTimestamp&quot;: 1568994476061,\n",
       "  &quot;AttachmentTimestampLowerBound&quot;: 0,\n",
       "  &quot;AttachmentTimestampUpperBound&quot;: 3812798742493,\n",
       "  &quot;BranchTransaction&quot;: {\n",
       "    &quot;TrytesLength&quot;: 81,\n",
       "    &quot;Value&quot;: &quot;ODHVT9ZVBUOOUBKCYUZMFJTZQAGECIMWJKO9ZVAHAPVTEZFOEPDPMKSCTPRAIHWPYLERCOFWAHNYKS999&quot;\n",
       "  },\n",
       "  &quot;BundleHash&quot;: {\n",
       "    &quot;TrytesLength&quot;: 81,\n",
       "    &quot;Value&quot;: &quot;POKCELONFRIBFFQAOLKSOQAIGESODBDIXCASS99SCIW9LOHGCZNLGTNKISQISOZOPWIKEYZXDALCJCZ9W&quot;\n",
       "  },\n",
       "  &quot;CurrentIndex&quot;: 2,\n",
       "  &quot;Fragment&quot;: {\n",
       "    &quot;IsEmpty&quot;: false,\n",
       "    &quot;TrytesLength&quot;: 2187,\n",
       "    &quot;Value&quot;: &quot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quot;\n",
       "  },\n",
       "  &quot;Hash&quot;: {\n",
       "    &quot;TrytesLength&quot;: 81,\n",
       "    &quot;Value&quot;: &quot;QHWMHCGTVIIJOWONJMOHQIMG9XZPPWGQHJFGDAPRSPVZBDI9SBAQNEHWJTHBSWQZUHUUDKKKKHOIUL999&quot;\n",
       "  },\n",
       "  &quot;IsTail&quot;: false,\n",
       "  &quot;LastIndex&quot;: 3,\n",
       "  &quot;Nonce&quot;: {\n",
       "    &quot;TrytesLength&quot;: 27,\n",
       "    &quot;Value&quot;: &quot;AGSRO9XBGFMRZCJYRKWXTTEUGFW&quot;\n",
       "  },\n",
       "  &quot;ObsoleteTag&quot;: {\n",
       "    &quot;TrytesLength&quot;: 27,\n",
       "    &quot;Value&quot;: &quot;999999999999999999999999999&quot;\n",
       "  },\n",
       "  &quot;Tag&quot;: {\n",
       "    &quot;TrytesLength&quot;: 27,\n",
       "    &quot;Value&quot;: &quot;999999999999999999999999999&quot;\n",
       "  },\n",
       "  &quot;Timestamp&quot;: 1568994378,\n",
       "  &quot;TrunkTransaction&quot;: {\n",
       "    &quot;TrytesLength&quot;: 81,\n",
       "    &quot;Value&quot;: &quot;MRSAOMMNAAQGWHIKN9YBFENJMFMCSXJRWKDGZIWXBRRGIS9HJZGPSXZTD9MCIZORKBCORDUSKUFKBF999&quot;\n",
       "  },\n",
       "  &quot;Value&quot;: 0\n",
       "}"
      ],
      "text/plain": [
       "{\n",
       "  \"Address\": {\n",
       "    \"Balance\": 0,\n",
       "    \"Checksum\": null,\n",
       "    \"KeyIndex\": 0,\n",
       "    \"PrivateKey\": null,\n",
       "    \"SecurityLevel\": 0,\n",
       "    \"SpentFrom\": false,\n",
       "    \"TrytesLength\": 81,\n",
       "    \"Value\": \"OTJSUNSQ9DLJVLKMVVPLDUTRHZAJDISDPZQCEPWNJWUGZOSFWRRBTUJAWCKKXACMZQIUP9NVVFYWRISWA\"\n",
       "  },\n",
       "  \"AttachmentTimestamp\": 1568994476061,\n",
       "  \"AttachmentTimestampLowerBound\": 0,\n",
       "  \"AttachmentTimestampUpperBound\": 3812798742493,\n",
       "  \"BranchTransaction\": {\n",
       "    \"TrytesLength\": 81,\n",
       "    \"Value\": \"ODHVT9ZVBUOOUBKCYUZMFJTZQAGECIMWJKO9ZVAHAPVTEZFOEPDPMKSCTPRAIHWPYLERCOFWAHNYKS999\"\n",
       "  },\n",
       "  \"BundleHash\": {\n",
       "    \"TrytesLength\": 81,\n",
       "    \"Value\": \"POKCELONFRIBFFQAOLKSOQAIGESODBDIXCASS99SCIW9LOHGCZNLGTNKISQISOZOPWIKEYZXDALCJCZ9W\"\n",
       "  },\n",
       "  \"CurrentIndex\": 2,\n",
       "  \"Fragment\": {\n",
       "    \"IsEmpty\": false,\n",
       "    \"TrytesLength\": 2187,\n",
       "    \"Value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n",
       "  },\n",
       "  \"Hash\": {\n",
       "    \"TrytesLength\": 81,\n",
       "    \"Value\": \"QHWMHCGTVIIJOWONJMOHQIMG9XZPPWGQHJFGDAPRSPVZBDI9SBAQNEHWJTHBSWQZUHUUDKKKKHOIUL999\"\n",
       "  },\n",
       "  \"IsTail\": false,\n",
       "  \"LastIndex\": 3,\n",
       "  \"Nonce\": {\n",
       "    \"TrytesLength\": 27,\n",
       "    \"Value\": \"AGSRO9XBGFMRZCJYRKWXTTEUGFW\"\n",
       "  },\n",
       "  \"ObsoleteTag\": {\n",
       "    \"TrytesLength\": 27,\n",
       "    \"Value\": \"999999999999999999999999999\"\n",
       "  },\n",
       "  \"Tag\": {\n",
       "    \"TrytesLength\": 27,\n",
       "    \"Value\": \"999999999999999999999999999\"\n",
       "  },\n",
       "  \"Timestamp\": 1568994378,\n",
       "  \"TrunkTransaction\": {\n",
       "    \"TrytesLength\": 81,\n",
       "    \"Value\": \"MRSAOMMNAAQGWHIKN9YBFENJMFMCSXJRWKDGZIWXBRRGIS9HJZGPSXZTD9MCIZORKBCORDUSKUFKBF999\"\n",
       "  },\n",
       "  \"Value\": 0\n",
       "}"
      ]
     },
     "metadata": {},
     "output_type": "display_data"
    },
    {
     "data": {
      "text/html": [
       "{\n",
       "  &quot;Address&quot;: {\n",
       "    &quot;Balance&quot;: 0,\n",
       "    &quot;Checksum&quot;: null,\n",
       "    &quot;KeyIndex&quot;: 0,\n",
       "    &quot;PrivateKey&quot;: null,\n",
       "    &quot;SecurityLevel&quot;: 0,\n",
       "    &quot;SpentFrom&quot;: false,\n",
       "    &quot;TrytesLength&quot;: 81,\n",
       "    &quot;Value&quot;: &quot;SZAVDSKTHNQFWTTINRAYQKJAXTLD9CRFFWWBSEXIEXPLBBEP9FT9IVGICWIXTJCFUKJSTOUFANJGBTPQX&quot;\n",
       "  },\n",
       "  &quot;AttachmentTimestamp&quot;: 1568994476035,\n",
       "  &quot;AttachmentTimestampLowerBound&quot;: 0,\n",
       "  &quot;AttachmentTimestampUpperBound&quot;: 3812798742493,\n",
       "  &quot;BranchTransaction&quot;: {\n",
       "    &quot;TrytesLength&quot;: 81,\n",
       "    &quot;Value&quot;: &quot;ODHVT9ZVBUOOUBKCYUZMFJTZQAGECIMWJKO9ZVAHAPVTEZFOEPDPMKSCTPRAIHWPYLERCOFWAHNYKS999&quot;\n",
       "  },\n",
       "  &quot;BundleHash&quot;: {\n",
       "    &quot;TrytesLength&quot;: 81,\n",
       "    &quot;Value&quot;: &quot;POKCELONFRIBFFQAOLKSOQAIGESODBDIXCASS99SCIW9LOHGCZNLGTNKISQISOZOPWIKEYZXDALCJCZ9W&quot;\n",
       "  },\n",
       "  &quot;CurrentIndex&quot;: 3,\n",
       "  &quot;Fragment&quot;: {\n",
       "    &quot;IsEmpty&quot;: true,\n",
       "    &quot;TrytesLength&quot;: 2187,\n",
       "    &quot;Value&quot;: &quot;999999999999999999999999999999999999999999999999999999999999999999999999999999999999999999999999999999999999999999999999999999999999999999999999999999999999999999999999999999999999999999999999999999999999999999999999999999999999999999999999999999999999999999999999999999999999999999999999999999999999999999999999999999999999999999999999999999999999999999999999999999999999999999999999999999999999999999999999999999999999999999999999999999999999999999999999999999999999999999999999999999999999999999999999999999999999999999999999999999999999999999999999999999999999999999999999999999999999999999999999999999999999999999999999999999999999999999999999999999999999999999999999999999999999999999999999999999999999999999999999999999999999999999999999999999999999999999999999999999999999999999999999999999999999999999999999999999999999999999999999999999999999999999999999999999999999999999999999999999999999999999999999999999999999999999999999999999999999999999999999999999999999999999999999999999999999999999999999999999999999999999999999999999999999999999999999999999999999999999999999999999999999999999999999999999999999999999999999999999999999999999999999999999999999999999999999999999999999999999999999999999999999999999999999999999999999999999999999999999999999999999999999999999999999999999999999999999999999999999999999999999999999999999999999999999999999999999999999999999999999999999999999999999999999999999999999999999999999999999999999999999999999999999999999999999999999999999999999999999999999999999999999999999999999999999999999999999999999999999999999999999999999999999999999999999999999999999999999999999999999999999999999999999999999999999999999999999999999999999999999999999999999999999999999999999999999999999999999999999999999999999999999999999999999999999999999999999999999999999999999999999999999999999999999999999999999999999999999999999999999999999999999999999999999999999999999999999999999999999999999999999999999999999999999999999999999999999999999999999999999999999999999999999999999999999999999999999999999999999999999999999999999999999999999999999999999999999999999999999999999999999999999999999999999999999999999999999999999999999999999999999999999999999999999999&quot;\n",
       "  },\n",
       "  &quot;Hash&quot;: {\n",
       "    &quot;TrytesLength&quot;: 81,\n",
       "    &quot;Value&quot;: &quot;MRSAOMMNAAQGWHIKN9YBFENJMFMCSXJRWKDGZIWXBRRGIS9HJZGPSXZTD9MCIZORKBCORDUSKUFKBF999&quot;\n",
       "  },\n",
       "  &quot;IsTail&quot;: false,\n",
       "  &quot;LastIndex&quot;: 3,\n",
       "  &quot;Nonce&quot;: {\n",
       "    &quot;TrytesLength&quot;: 27,\n",
       "    &quot;Value&quot;: &quot;GLKUMZVXVLHZXXFALUYZJHZJJZI&quot;\n",
       "  },\n",
       "  &quot;ObsoleteTag&quot;: {\n",
       "    &quot;TrytesLength&quot;: 27,\n",
       "    &quot;Value&quot;: &quot;999999999999999999999999999&quot;\n",
       "  },\n",
       "  &quot;Tag&quot;: {\n",
       "    &quot;TrytesLength&quot;: 27,\n",
       "    &quot;Value&quot;: &quot;999999999999999999999999999&quot;\n",
       "  },\n",
       "  &quot;Timestamp&quot;: 1568994471,\n",
       "  &quot;TrunkTransaction&quot;: {\n",
       "    &quot;TrytesLength&quot;: 81,\n",
       "    &quot;Value&quot;: &quot;ODHVT9ZVBUOOUBKCYUZMFJTZQAGECIMWJKO9ZVAHAPVTEZFOEPDPMKSCTPRAIHWPYLERCOFWAHNYKS999&quot;\n",
       "  },\n",
       "  &quot;Value&quot;: 849\n",
       "}"
      ],
      "text/plain": [
       "{\n",
       "  \"Address\": {\n",
       "    \"Balance\": 0,\n",
       "    \"Checksum\": null,\n",
       "    \"KeyIndex\": 0,\n",
       "    \"PrivateKey\": null,\n",
       "    \"SecurityLevel\": 0,\n",
       "    \"SpentFrom\": false,\n",
       "    \"TrytesLength\": 81,\n",
       "    \"Value\": \"SZAVDSKTHNQFWTTINRAYQKJAXTLD9CRFFWWBSEXIEXPLBBEP9FT9IVGICWIXTJCFUKJSTOUFANJGBTPQX\"\n",
       "  },\n",
       "  \"AttachmentTimestamp\": 1568994476035,\n",
       "  \"AttachmentTimestampLowerBound\": 0,\n",
       "  \"AttachmentTimestampUpperBound\": 3812798742493,\n",
       "  \"BranchTransaction\": {\n",
       "    \"TrytesLength\": 81,\n",
       "    \"Value\": \"ODHVT9ZVBUOOUBKCYUZMFJTZQAGECIMWJKO9ZVAHAPVTEZFOEPDPMKSCTPRAIHWPYLERCOFWAHNYKS999\"\n",
       "  },\n",
       "  \"BundleHash\": {\n",
       "    \"TrytesLength\": 81,\n",
       "    \"Value\": \"POKCELONFRIBFFQAOLKSOQAIGESODBDIXCASS99SCIW9LOHGCZNLGTNKISQISOZOPWIKEYZXDALCJCZ9W\"\n",
       "  },\n",
       "  \"CurrentIndex\": 3,\n",
       "  \"Fragment\": {\n",
       "    \"IsEmpty\": true,\n",
       "    \"TrytesLength\": 2187,\n",
       "    \"Value\": \"999999999999999999999999999999999999999999999999999999999999999999999999999999999999999999999999999999999999999999999999999999999999999999999999999999999999999999999999999999999999999999999999999999999999999999999999999999999999999999999999999999999999999999999999999999999999999999999999999999999999999999999999999999999999999999999999999999999999999999999999999999999999999999999999999999999999999999999999999999999999999999999999999999999999999999999999999999999999999999999999999999999999999999999999999999999999999999999999999999999999999999999999999999999999999999999999999999999999999999999999999999999999999999999999999999999999999999999999999999999999999999999999999999999999999999999999999999999999999999999999999999999999999999999999999999999999999999999999999999999999999999999999999999999999999999999999999999999999999999999999999999999999999999999999999999999999999999999999999999999999999999999999999999999999999999999999999999999999999999999999999999999999999999999999999999999999999999999999999999999999999999999999999999999999999999999999999999999999999999999999999999999999999999999999999999999999999999999999999999999999999999999999999999999999999999999999999999999999999999999999999999999999999999999999999999999999999999999999999999999999999999999999999999999999999999999999999999999999999999999999999999999999999999999999999999999999999999999999999999999999999999999999999999999999999999999999999999999999999999999999999999999999999999999999999999999999999999999999999999999999999999999999999999999999999999999999999999999999999999999999999999999999999999999999999999999999999999999999999999999999999999999999999999999999999999999999999999999999999999999999999999999999999999999999999999999999999999999999999999999999999999999999999999999999999999999999999999999999999999999999999999999999999999999999999999999999999999999999999999999999999999999999999999999999999999999999999999999999999999999999999999999999999999999999999999999999999999999999999999999999999999999999999999999999999999999999999999999999999999999999999999999999999999999999999999999999999999999999999999999999999999999999999999999999999999999999999999999999999999999999999999999999999999999999999\"\n",
       "  },\n",
       "  \"Hash\": {\n",
       "    \"TrytesLength\": 81,\n",
       "    \"Value\": \"MRSAOMMNAAQGWHIKN9YBFENJMFMCSXJRWKDGZIWXBRRGIS9HJZGPSXZTD9MCIZORKBCORDUSKUFKBF999\"\n",
       "  },\n",
       "  \"IsTail\": false,\n",
       "  \"LastIndex\": 3,\n",
       "  \"Nonce\": {\n",
       "    \"TrytesLength\": 27,\n",
       "    \"Value\": \"GLKUMZVXVLHZXXFALUYZJHZJJZI\"\n",
       "  },\n",
       "  \"ObsoleteTag\": {\n",
       "    \"TrytesLength\": 27,\n",
       "    \"Value\": \"999999999999999999999999999\"\n",
       "  },\n",
       "  \"Tag\": {\n",
       "    \"TrytesLength\": 27,\n",
       "    \"Value\": \"999999999999999999999999999\"\n",
       "  },\n",
       "  \"Timestamp\": 1568994471,\n",
       "  \"TrunkTransaction\": {\n",
       "    \"TrytesLength\": 81,\n",
       "    \"Value\": \"ODHVT9ZVBUOOUBKCYUZMFJTZQAGECIMWJKO9ZVAHAPVTEZFOEPDPMKSCTPRAIHWPYLERCOFWAHNYKS999\"\n",
       "  },\n",
       "  \"Value\": 849\n",
       "}"
      ]
     },
     "metadata": {},
     "output_type": "display_data"
    }
   ],
   "source": [
    "using Tangle.Net.Utils;\n",
    "var bundleMoney = new Bundle();\n",
    "\n",
    "bundleMoney.AddTransfer(new Transfer()\n",
    "{\n",
    "    Address = new Address(AddressReceiver),\n",
    "    ValueToTransfer = 10,\n",
    "    Tag = new Tag(\"HRIBEK999IOTA999TUTORIAL\"),\n",
    "    Timestamp = Timestamp.UnixSecondsTimestamp\n",
    "});\n",
    "\n",
    "if (accountData.Balance > 0) // there are some tokens\n",
    "{\n",
    "    Console.WriteLine(\"Sending iotas... Please wait...\");\n",
    "    var sentBundle = repo.SendTransfer(seed: new Seed(SeedSender),\n",
    "                                       bundle: bundleMoney,\n",
    "                                       securityLevel: 2,\n",
    "                                       depth: 3,\n",
    "                                       minWeightMagnitude: 9, // MWM; in case of Devnet it is 9\n",
    "                                       remainderAddress: accountData.LatestUnusedAddress, // This should be your address where remaining token should go. If null then the client library finds the first unused address itself\n",
    "                                       inputAddresses: (from adr in accountData.UsedAddresses\n",
    "                                                        where adr.Balance>0\n",
    "                                                        select adr).ToList()); // These should be addresses from which your tokens should be spent from\n",
    "\n",
    "    // you can specify null in remainderAddress or inputAddresses, however it may be quite time consuming then.\n",
    "    // It starts to search addresses from the index 0 and searchs until it finds some funds and/or unused address\n",
    "    // so it is better to specify it manually as above (using accountData for instance) if you have such info\n",
    "    \n",
    "    foreach (var tx in sentBundle.Transactions)\n",
    "    {\n",
    "        Console.WriteLine(JsonConvert.SerializeObject(tx, Formatting.Indented));\n",
    "    }\n",
    "}\n"
   ]
  },
  {
   "cell_type": "markdown",
   "metadata": {},
   "source": [
    "Let's review all transactions that has been prepared and sent eventually:\n",
    "* The first transaction `current_index=0` is the `output TX` that basically adds tokens to some address\n",
    "* Transactions `current_index=1` and `current_index=2` are two parts of the same transaction - `Input TX`. This transaction deducts tokens from the address(es). You can see negative `value` in the transaction `current_index=1`\n",
    "* Why there are two parts? Since the transaction spends tokens it has to be signed in order to validate the ownership. Signature is generated from the private key and the signature can be observed in the field `signature_message_fragment`. Here is the thing. Do you remember when different `security levels` were discussed? There are three security levels available and the given level has the direct impact on length of the signature. Since `signature_message_fragment` is of the fixed size, if `SL>1` then the transaction has to be split to be able to accommodate full signature.\n",
    "* The last transaction `current_index=3` moves unspent tokens to the first unused address of the given seed.\n",
    "\n",
    "The following tasks have to be done behind the curtain in addition to the standard transaction preparation process:\n",
    "* Search for address(es) with some balance until total amount of tokens available is large enough to be spent. You can use more input addresses if needed\n",
    "* If there would be some unspent amount of tokens then also search for the first unused address\n",
    "* Spending transactions (Input TX) has to be properly signed and split in case of `SL>1`\n",
    "* There is also some quick check performed whether resulting number of tokens is zero (no more tokens, no less tokens. Number of tokens has to be balanced).\n",
    "\n",
    "So basically all steps we tried in the chapter had to be done also behind the curtain while using `send_transfer` extended API call. You can also see that some of those operations may be quite expensive in terms of time while being completely stateless. In real world applications it would be better to save some states (index of last address, used addresses, etc.) to avoid too many expensive operations.\n",
    "\n",
    "You can review the given broadcasted transactions also in the tangle explorer (for devnet):\n",
    "* https://devnet.thetangle.org/address/BMFSMZMNBGKHAWPIZIOMJGRBXZETVSAYDSTDQCHLYTBWZMIXLNXF9XHLTMOCATFVFOMBQF9IOQGPEBPDC"
   ]
  }
 ],
 "metadata": {
  "celltoolbar": "Edit Metadata",
  "kernelspec": {
   "display_name": "C#",
   "language": "csharp",
   "name": "icsharp"
  },
  "language_info": {
   "file_extension": ".cs",
   "mimetype": "text/x-csharp",
   "name": "C#",
   "pygments_lexer": "c#",
   "version": "4.0.30319"
  },
  "title": "Complete IOTA Developer Essentials Textbook",
  "toc": {
   "nav_menu": {},
   "number_sections": true,
   "sideBar": true,
   "skip_h1_title": false,
   "toc_cell": false,
   "toc_position": {
    "height": "819px",
    "left": "0px",
    "right": "auto",
    "top": "111px",
    "width": "212px"
   },
   "toc_section_display": "block",
   "toc_window_display": true
  }
 },
 "nbformat": 4,
 "nbformat_minor": 2
}
