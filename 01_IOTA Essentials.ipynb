{
 "cells": [
  {
   "cell_type": "markdown",
   "metadata": {},
   "source": [
    "# IOTA 101: Essentials and IOTA Terminology\n",
    "IOTA is an open-source Distributed Ledger Technology (DLT) with the following characteristics: *permissionless*, *feeless* and *trustless*. In contrary to the blockchain technology, the IOTA transactions are stored in a form of Directed Acyclic Graph (DAG) called *the Tangle*.\n",
    "![Blockchain and Tangle comparison](https://raw.githubusercontent.com/Hribek25/IOTA101/master/Graphics/Blockchain_And_Tangle_iota_org.png \"(c) iota.org\")\n",
    "\n",
    "## Transactions\n",
    "Transactions (TXs) in the tangle can be of two types:\n",
    "* **Value transactions** (*IOTA token* represents funds in case of value transactions)\n",
    "* **Zero-value transactions** (aka meta transactions)\n",
    "\n",
    "Every transaction is attached to a specific *IOTA Address*.\n",
    "There are no miners with IOTA protocol to validate transactions. The *consensus* is achieved by network participants themselves. Each participant that wants to broadcast a new transaction has to approve 2 past transactions and basically attach transaction as a children node. Transactions without children transactions (waiting to be confirmed) are called *tips*.\n",
    "\n",
    "## Seed, private key and address\n",
    "Pair of unique IOTA address and corresponding *Private Key* is determistically generated from a *Seed*. You can generate (2<sup>53</sup> - 1) different addresses/private keys based on one Seed. Anybody can send anything to the given address however only Seed owner can send funds from IOTA address since only the Seed owner is able to generate corresponding *Private Key*.\n",
    "\n",
    "IOTA protocol uses One-Time Signature (OTS) for \"verifying\" whether private key matches to the given address, specifically Winternitz OTS (WOTS). So *Private Key* (specifically *Key Fragments* of the private key) is the key component while signing transactions using WOTS.\n",
    "\n",
    "That's the reason why nobody should use IOTA address that have been already funds spent from. New IOTA address (of the given seed) should be generated and used instead. Please note, it applies only to fund-spending. Receiving funds/data is totaly fine even multiple times.\n",
    "\n",
    "To summarize the key concept here. Only *Seed* is needed to be stored somewhere. Everything else can be safely generated from it: private key as well as address.\n",
    "\n",
    "## IOTA nodes\n",
    "The Tangle runs on a *distributed network* of IOTA nodes called *mainnet*. There are also other separate \"Tangles\" serving for specific purposes: Devnet, SPAMnet, etc. You can interact with the network via public nodes using collection of public *API calls*. You can interact with any public node of the given network since all nodes \"gossiping\" all TXs across the whole network. Nodes are powered by a reference piece of software called *IRI* (IOTA Reference Implementation) **as of now**.\n",
    "\n",
    "It is also important to mention that you do not exchange any sensitive information such as *Seed* with a node. Every sensitive operation such as TX signing is done on client's side and node is just a \"messenger\" that delivers your TX to the IOTA network.\n",
    "![Centralized, decentralized and distributed models](https://raw.githubusercontent.com/Hribek25/IOTA101/master/Graphics/Centralized-decentralized-and-distributed-network-models-by-Paul-Baran-1964-part-of-a.png \"(c) Paul Baran, researchgate\")\n",
    "\n",
    "## Custom node\n",
    "You can even run own IOTA node and actively participate to the whole network. There is a big advantage for developers in that case. Actual implementation of IRI  provides an usefull real-time information via messaging platform called ZeroMQ and so developers can leverage that.\n",
    "\n",
    "## API calls\n",
    "There are ready-made libraries for major programming languages available and so you have more developer-friendly way how to interact with the IOTA network. Anyway, you can interact with IOTA network using pure API calls without any library. It is up to you.\n"
   ]
  },
  {
   "cell_type": "markdown",
   "metadata": {},
   "source": [
    "## Ternary\n",
    "It is difficult to avoid mentioning *Ternary numeral system* while discussing IOTA at all. IOTA is based on ternary system under the hood and so you have got to be aware of some basic terminology in this respect. You are going to face this fact in any developer-related IOTA guide out there.\n",
    "\n",
    "### Ternary\n",
    "Ternary has three as its base (aka base 3) as opposted to *binary* which is base 2. Instead of two states (0 and 1) it recognizes three states (for ex. -1, 0, 1).\n",
    "\n",
    "### Trit\n",
    "One *Trite* is analogous to one *bit*. It is the smallest digit and has three states. Trit = **Tri**nary dig**it**.\n",
    "\n",
    "### Tryte\n",
    "*Tryte* consists of three *trits* meaning 27 combinations.\n",
    "$$3^3=27$$\n",
    "\n",
    "You will recognize soon that almost everything is encoded in *Trytes* in the IOTA world. Tryte is visually represented using [A..Z] alphabets and number 9. One character represents one tryte (here comes 27 possible characters again). *Don't get mad, IOTA libraries are going to help us.*\n",
    "\n",
    "Small example:"
   ]
  },
  {
   "cell_type": "code",
   "execution_count": 19,
   "metadata": {
    "iotadev": {
     "codeid": "3BB8C879CCAE",
     "standalone": "true",
     "title": "Conversion: trytes and trits"
    }
   },
   "outputs": [
    {
     "name": "stdout",
     "output_type": "stream",
     "text": [
      "TryteString(b'YZJEATEQ9JKLZ')\n",
      "'Number of Trytes: 13'\n",
      "[1, -1, 0, -1, 0, 0, 1, 0, 1, -1, -1, 1, 1, 0, 0, -1, 1, -1, -1, -1, 1, -1, 0,\n",
      " -1, 0, 0, 0, 1, 0, 1, -1, 1, 1, 0, 1, 1, -1, 0, 0]\n",
      "'Number of trits: 39'\n"
     ]
    }
   ],
   "source": [
    "import iota #importing PyOTA library to interact with\n",
    "from pprint import pprint\n",
    "\n",
    "TrytesAsBytes = b\"YZJEATEQ9JKLZ\" # some data encoded in Trytes (byte string in Python, not unicode string)\n",
    "Trytes = iota.TryteString(TrytesAsBytes) # initializing TryteString type from the PyOTA library - great help while dealing with Trytes/Trits, etc.\n",
    "pprint(Trytes) # getting the same data however using TryteString type of PyOTA library\n",
    "pprint(\"Number of Trytes: %s\" % len(TrytesAsBytes))\n",
    "Trits = Trytes.as_trits() # converting Trytes to Trits\n",
    "pprint(Trits,compact=True)\n",
    "pprint(\"Number of trits: %s\" % len(Trits)) # Number of trits is three times the number of trytes obviously"
   ]
  },
  {
   "cell_type": "markdown",
   "metadata": {},
   "source": [
    "# IOTA 101: Basic network interactions\n",
    "The tutorial is based on official IOTA libraries called *PyOTA* and *IOTA Javascript Library - iota.lib.js*. It encapsulates all official IRI API calls and it can be installed via `pip` in a Python environment or via `npm` in a NodeJS environment. Reader is also encouraged to try a ready-made environment via *IOTA Developer Lab* project where anyone can run a code directly in web browser. When viewing it interactively then just select a code snippet and hit `ctrl + enter` which executes it.\n",
    "\n",
    "Anyway, most of the information in the tutorial is language-agnostic and so only implementation details slightly differ across different programming languages. Top-level details are the same regardless programming language you are going to use for your project.\n",
    "\n",
    "\n",
    "## Conneting to IOTA nodes\n",
    "Before you can interact with the IOTA network you need an URL of the running IOTA node. There are dozen of directories of public nodes available, feel free to google them.\n",
    "\n",
    "For a sake of this tutorial I use a project *thetangle.org*. It is a load ballancer that provides you an access to a pool of participanting nodes effortlessly.\n",
    "* *Advantage:* you do not have to care about public nodes and whether they are running or not\n",
    "* *Disadvantage:* you do not know in advance which specific node will process your API call. So in some respect results of API calls may differ since some API calls depend on specific node, such as GetNodeInfo().\n",
    "\n",
    "### Node is not synced\n",
    "Even if a node is up and running it may not be fully prepared to process your API calls correctly. The node should be \"synced\", meaning should be aware of all TXs in the Tangle. It is better to avoid not fully synced nodes.\n",
    "\n",
    "### Health checking\n",
    "Once you connect to an IOTA node you should be able to send API calls. However it is better to do some checks in advance in order to find out whether the given node is in good condition or not. IOTA nodes can be run by anyone and so health check is always a good practice.\n",
    "\n",
    "Basic healthcheck can be done via *GetNodeInfo()* API call. It returns a basic information about the given IOTA node."
   ]
  },
  {
   "cell_type": "code",
   "execution_count": 1,
   "metadata": {
    "iotadev": {
     "codeid": "696A395DC61B",
     "standalone": "true",
     "title": "Basic node interaction: API call Get_node_info()"
    },
    "scrolled": false
   },
   "outputs": [
    {
     "name": "stdout",
     "output_type": "stream",
     "text": [
      "{'appName': 'IRI',\n",
      " 'appVersion': '1.5.6-RELEASE',\n",
      " 'coordinatorAddress': 'KPWCHICGJZXKE9GSUDXZYUAPLHAKAHYHDXNPHENTERYMMBQOPSQIDENXKLKCEYCPVTZQLEEJVYJZV9BWU',\n",
      " 'duration': 0,\n",
      " 'features': ['RemotePOW'],\n",
      " 'jreAvailableProcessors': 16,\n",
      " 'jreFreeMemory': 2008953062,\n",
      " 'jreMaxMemory': 20997734400,\n",
      " 'jreTotalMemory': 4708976787,\n",
      " 'jreVersion': '1.8.0_181',\n",
      " 'latestMilestone': TransactionHash(b'PEFCRARDBILA9WJFSLPGDG9DLNOSDYLKLHEBNBPCHAOZALLXIUWYMZUBLOBRZFODVDTCTBENIWTU99999'),\n",
      " 'latestMilestoneIndex': 960602,\n",
      " 'latestSolidSubtangleMilestone': TransactionHash(b'PEFCRARDBILA9WJFSLPGDG9DLNOSDYLKLHEBNBPCHAOZALLXIUWYMZUBLOBRZFODVDTCTBENIWTU99999'),\n",
      " 'latestSolidSubtangleMilestoneIndex': 960602,\n",
      " 'milestoneStartIndex': 937918,\n",
      " 'neighbors': 24,\n",
      " 'packetsQueueSize': 0,\n",
      " 'time': 1547129204626,\n",
      " 'tips': 9150,\n",
      " 'transactionsToRequest': 0}\n",
      "\r\n",
      "Node is probably synced!\n"
     ]
    }
   ],
   "source": [
    "import iota #importing PyOTA library to interact with\n",
    "from pprint import pprint\n",
    "\n",
    "NodeURL = \"https://nodes.thetangle.org:443\"\n",
    "\n",
    "api=iota.Iota(NodeURL) # ctor initialization of the PyOTA library\n",
    "result = api.get_node_info() # basic API call to double check health conditions\n",
    "pprint(result) # result is printed out\n",
    "\n",
    "# Basic check whether node is in sync or not\n",
    "# Elementary rule is that \"latestMilestoneIndex\" should equal to \"latestSolidSubtangleMilestoneIndex\" or be very close\n",
    "if abs(result['latestMilestoneIndex'] - result['latestSolidSubtangleMilestoneIndex']) > 3 :\n",
    "    print (\"\\r\\nNode is probably not synced!\")\n",
    "else:\n",
    "    print (\"\\r\\nNode is probably synced!\")\n"
   ]
  },
  {
   "cell_type": "markdown",
   "metadata": {},
   "source": [
    "*Please note: When using *Deviota Field service* then this type of check is quite useless since other API calls of yours may be served by different node that has not been checked obviously. On the other hand, the Field uses some smart techniques under the hood that should prevent you to use node that is not in a good condition.*"
   ]
  },
  {
   "cell_type": "markdown",
   "metadata": {},
   "source": [
    "## Generating IOTA seed and IOTA address\n",
    "Since the IOTA network is *permissionless* type of network, anybody is able to use it and interact with it. No central authority is required at any stage. So anybody is able to generate own seed and respective private key/address anytime. It is highly recommended to *NOT* use online generators at all.\n",
    "\n",
    "The Seed is the only key to the given addresses. Anyone who owns the Seed owns also all funds related to respective IOTA addresses (all of them).\n",
    "\n",
    "Seed and addresses only consists of characters [A-Z] and number 9. Length is always 81 charaters. There are usually also used additional 9 characters in IOTA addresses (so total lenght is 90 then) which is a *checksum*. It provides a way how to prevent typos while manipulating with IOTA addresses.\n"
   ]
  },
  {
   "cell_type": "markdown",
   "metadata": {},
   "source": [
    "### Seed\n",
    "A seed generation is a process that is based on random quessing of each character in the seed. Of course, you should always use cryptographically secure pseudo-random generator!"
   ]
  },
  {
   "cell_type": "code",
   "execution_count": 21,
   "metadata": {
    "iotadev": {
     "codeid": "67D98D069B61",
     "standalone": "true",
     "title": "Generating a seed: a general approach"
    }
   },
   "outputs": [
    {
     "name": "stdout",
     "output_type": "stream",
     "text": [
      "PYDHTCNKMTVRGORKCKDCHPMIRAIVGB9FZFGUJWZVAQYWUVOEOJUVDEMNGOLWWSOG9QLUHDNVEFYOBFEIK\n",
      "Length: 81\n"
     ]
    }
   ],
   "source": [
    "import random\n",
    "chars=u'9ABCDEFGHIJKLMNOPQRSTUVWXYZ' #27 characters - max number you can express by one Tryte - do you remember?\n",
    "rndgenerator = random.SystemRandom() #cryptographically secure pseudo-random generator\n",
    "\n",
    "NewSeed = u''.join(rndgenerator.choice(chars) for _ in range(81)) #generating 81-chars long seed. This is Python 3.6+ compatible\n",
    "print(NewSeed)\n",
    "print(\"Length: %s\" % len(NewSeed))"
   ]
  },
  {
   "cell_type": "markdown",
   "metadata": {},
   "source": [
    "Alternatively you can leverage also PyOTA library since it has own implementation of the pseudo-random Seed generator (Python 2.7+ compatible). Difference between both methods is very subtle. I just wanted to illustrate both ways: Fully independent and IOTA-library-dependant. *Please note, IOTA Javascript library does not support a seed generation.*"
   ]
  },
  {
   "cell_type": "code",
   "execution_count": 22,
   "metadata": {
    "iotadev": {
     "codeid": "65788F1C3FCB",
     "standalone": "true",
     "title": "Generating a seed: IOTA-facing-library-based approach"
    }
   },
   "outputs": [
    {
     "name": "stdout",
     "output_type": "stream",
     "text": [
      "SVXJAGAMEMBFFXEWZMLEHYXJNUAQQEEPBLWDZOQB9VPDGPWEQMMMXMDYVTNDDPNUHZXKSUXSTSVYIBCTM\n",
      "Length: 81\n"
     ]
    }
   ],
   "source": [
    "from iota.crypto.types import Seed  #importing PyOTA library to interact with\n",
    "\n",
    "NewSeed = Seed.random()\n",
    "print(NewSeed)\n",
    "print(\"Length: %s\" % len(NewSeed))"
   ]
  },
  {
   "cell_type": "markdown",
   "metadata": {},
   "source": [
    "### Address\n",
    "There is a deterministic function how to get an address from a seed. It is a basically an indexed collection of addresses starting with address at index 0, 1, 2, etc.\n",
    "\n",
    "While generating addresses you should be also aware there are three different so called *Security Levels* (1, 2 and 3). Each security level generates totally independent pool of addresses. Addresses of Security Level 1 are totally different from addresses of Security Level 2, etc.\n",
    "\n",
    "In a nutshell, Security Level indicates how difficult is to generate *Private key* from the Seed and also what is its size. The higher security level, the more secure (longer) is the given private key. Default Security Level is 2. Most of IOTA wallets uses Security Level=2 and users are usually not allowed to change it. So be carefull while designing your app.\n",
    "\n",
    "As long as *seed, address index and security level* are the same, you always get the same address and corresponding private key:\n",
    "\n",
    "$$PrivateKey/Address = fce(Seed, AddressIndex, SecurityLevel)$$\n",
    "\n",
    "General example:\n",
    "$$PrivateKey/Address1 = fce(Seed, 1, 2)$$\n",
    "$$PrivateKey/Address2 = fce(Seed, 2, 2)$$\n",
    "$$PrivateKey/Address3 = fce(Seed, 3, 2)$$\n",
    "\n",
    "![Anatomy of IOTA address](https://raw.githubusercontent.com/Hribek25/IOTA101/master/Graphics/IOTA_Address_Generation.png \"By Petr Zizka\")"
   ]
  },
  {
   "cell_type": "code",
   "execution_count": 23,
   "metadata": {
    "iotadev": {
     "codeid": "0FF479CB6C0A",
     "standalone": "true",
     "title": "Generating IOTA addresses from a seed: API call Get_new_addresses()"
    },
    "scrolled": true
   },
   "outputs": [
    {
     "name": "stdout",
     "output_type": "stream",
     "text": [
      "{'addresses': [Address(b'HRLKBQUZAEB9HIVWJEWVDYQ9G9VRQXQAXR9ZWGBFQJKRPOPJYHGAT9LBEIE9RWRMUFSNLCWYHQGYAECHD'),\n",
      "               Address(b'XEXIDJJTANADOUBPWTCSPPRYYRTITRAHDEOZAEXWDPCYKUPTFMKVQM9KCPPLOCESFRGRVSIYZHXQZNYKC'),\n",
      "               Address(b'KY9DLZCHET9ATLMADPXGDVDYMPHKRKQPJZ9MB9HEIMMFCRRTNJIJIHPKGZNKKDTFMYPZRRQYAQKVAHMYX')]}\n"
     ]
    }
   ],
   "source": [
    "import iota\n",
    "from pprint import pprint\n",
    "\n",
    "# For this particular task the Node URL is not important as it will not be contacted at all\n",
    "# However it has to be well-formatted URI\n",
    "NodeURL = \"https://nodes.thetangle.org:443\"\n",
    "MySeed = b\"WKQDUZTGFKSSLACUCHHLZRKZBHSDSCEBHKUPDLKFBQALEBKDMFRPUQGZRXAADPG9TSRTZGGBZOFRJCFMM\"\n",
    "\n",
    "api=iota.Iota(NodeURL,\n",
    "              seed = MySeed) # if you do not specify a seed, PyOTA library randomly generates one for you under the hood\n",
    "    \n",
    "# Let's generate 3 addresses using default security level=2.\n",
    "# It is deterministic function - it always generates same addresses as long as the Seed, Security Level and Index are the same\n",
    "result = api.get_new_addresses(index=0,\n",
    "                               count=3,\n",
    "                               security_level=2)\n",
    "pprint(result)"
   ]
  },
  {
   "cell_type": "markdown",
   "metadata": {},
   "source": [
    "Needless to say, `NodeURL` is not important for this task at all. As mentioned earlier, some actions are purely done on client's side. This is one of them.\n",
    "\n",
    "Anyway, in case of IOTA library (PyOTA or iota.lib.js) you can directly use an address generator component instead of the whole library. Outputs are equivalent in both cases."
   ]
  },
  {
   "cell_type": "code",
   "execution_count": 24,
   "metadata": {
    "iotadev": {
     "codeid": "2508A6FF9241",
     "standalone": "true",
     "title": "Generating IOTA addresses from a seed (#2)"
    }
   },
   "outputs": [
    {
     "name": "stdout",
     "output_type": "stream",
     "text": [
      "[Address(b'HRLKBQUZAEB9HIVWJEWVDYQ9G9VRQXQAXR9ZWGBFQJKRPOPJYHGAT9LBEIE9RWRMUFSNLCWYHQGYAECHD'),\n",
      " Address(b'XEXIDJJTANADOUBPWTCSPPRYYRTITRAHDEOZAEXWDPCYKUPTFMKVQM9KCPPLOCESFRGRVSIYZHXQZNYKC'),\n",
      " Address(b'KY9DLZCHET9ATLMADPXGDVDYMPHKRKQPJZ9MB9HEIMMFCRRTNJIJIHPKGZNKKDTFMYPZRRQYAQKVAHMYX')]\n"
     ]
    }
   ],
   "source": [
    "from iota.crypto.addresses import AddressGenerator\n",
    "from pprint import pprint\n",
    "\n",
    "MySeed = b\"WKQDUZTGFKSSLACUCHHLZRKZBHSDSCEBHKUPDLKFBQALEBKDMFRPUQGZRXAADPG9TSRTZGGBZOFRJCFMM\"\n",
    "\n",
    "#security level is defined during generator init\n",
    "generator = AddressGenerator(seed=MySeed,\n",
    "                             security_level=2)\n",
    "\n",
    "result = generator.get_addresses(0, 3) #index, count\n",
    "pprint(result)"
   ]
  },
  {
   "cell_type": "markdown",
   "metadata": {},
   "source": [
    "## Validating IOTA address\n",
    "As mentioned earlier, IOTA address consists of 81 trytes ([A..Z9] characters) or 90 trytes including checksum. Checksum is useful when you want to make sure a valid address was given (no typos, etc.) and so it is a good practise to encourage user of your app using IOTA addresses including checksums = 90 trytes.\n",
    "\n",
    "IOTA libraries are able to help you to deal with some basic patterns such as validating addresses, generating checksums, etc."
   ]
  },
  {
   "cell_type": "code",
   "execution_count": 25,
   "metadata": {
    "iotadev": {
     "codeid": "39B011574CF0",
     "standalone": "true",
     "title": "IOTA address and checksum"
    }
   },
   "outputs": [
    {
     "name": "stdout",
     "output_type": "stream",
     "text": [
      "'Original input excl. checksum address:'\n",
      "Address(b'CYJV9DRIE9NCQJYLOYOJOGKQGOOELTWXVWUYGQSWCNODHJAHACADUAAHQ9ODUICCESOIVZABA9LTMM9RW')\n",
      "Length: 81\n",
      "\n",
      "Input address including checksum:\n",
      "Address(b'CYJV9DRIE9NCQJYLOYOJOGKQGOOELTWXVWUYGQSWCNODHJAHACADUAAHQ9ODUICCESOIVZABA9LTMM9RWTHBIRSXTA')\n",
      "Length incl checksum: 90\n"
     ]
    }
   ],
   "source": [
    "import iota\n",
    "from pprint import pprint\n",
    "\n",
    "# some IOTA address\n",
    "Adr = iota.Address(b\"CYJV9DRIE9NCQJYLOYOJOGKQGOOELTWXVWUYGQSWCNODHJAHACADUAAHQ9ODUICCESOIVZABA9LTMM9RW\")\n",
    "\n",
    "pprint(\"Original input excl. checksum address:\")\n",
    "pprint(Adr)\n",
    "print(\"Length: %s\" % len(Adr))\n",
    "\n",
    "AdrInclCheckSum = Adr.with_valid_checksum()\n",
    "print(\"\\nInput address including checksum:\")\n",
    "pprint(AdrInclCheckSum) # the last 9 trytes is the checksum\n",
    "print(\"Length incl checksum: %s\" % len(AdrInclCheckSum))"
   ]
  },
  {
   "cell_type": "markdown",
   "metadata": {},
   "source": [
    "You should always make sure your app is dealing with valid IOTA address. Please note, you should also make sure an address is of correct length and consists only of allowed characters. IOTA libraries may slightly differ in their approaches but differences are very subtle and both libraries provide enough functions to validate IOTA address.\n",
    "\n",
    "General steps should be:\n",
    "* Checks length\n",
    "* Checks valid characters\n",
    "* Checks address against its checksum"
   ]
  },
  {
   "cell_type": "code",
   "execution_count": 1,
   "metadata": {
    "iotadev": {
     "codeid": "C65223B0864A",
     "standalone": "true",
     "title": "Validating IOTA address"
    }
   },
   "outputs": [
    {
     "name": "stdout",
     "output_type": "stream",
     "text": [
      "'Input address incl checksum:'\n",
      "Address(b'CYJV9DRIE9NCQJYLOYOJOGKQGOOELTWXVWUYGQSWCNODHJAHACADUAAHQ9ODUICCESOIVZABA9LTMM9RWTHBIRSXTA')\n",
      "Is it valid addr based on checksum? True\n",
      "\n",
      "Input address excl checksum:\n",
      "TryteString(b'CYJV9DRIE9NCQJYLOYOJOGKQGOOELTWXVWUYGQSWCNODHJAHACADUAAHQ9ODUICCESOIVZABA9LTMM9RW')\n"
     ]
    }
   ],
   "source": [
    "import iota\n",
    "import sys\n",
    "from pprint import pprint\n",
    "\n",
    "InputAddr = b\"CYJV9DRIE9NCQJYLOYOJOGKQGOOELTWXVWUYGQSWCNODHJAHACADUAAHQ9ODUICCESOIVZABA9LTMM9RWTHBIRSXTA\"\n",
    "if len(InputAddr)!=90:\n",
    "    print(\"Incorrect lenght of the given address. Please, use an address including checksum.\")\n",
    "    exit(2)\n",
    "\n",
    "try:\n",
    "    # address including checksum\n",
    "    Adr2 = iota.Address(InputAddr)\n",
    "except :\n",
    "    print(\"Not valid input address given\")\n",
    "    sys.exit(1)\n",
    "\n",
    "pprint(\"Input address incl checksum:\")\n",
    "pprint(Adr2)\n",
    "print(\"Is it valid addr based on checksum? %s\" % (Adr2.is_checksum_valid()))\n",
    "\n",
    "print(\"\\nInput address excl checksum:\")\n",
    "pprint(Adr2[:81]) # return only first 81 characters"
   ]
  }
 ],
 "metadata": {
  "celltoolbar": "Edit Metadata",
  "kernelspec": {
   "display_name": "Python 3",
   "language": "python",
   "name": "python3"
  },
  "language_info": {
   "codemirror_mode": {
    "name": "ipython",
    "version": 3
   },
   "file_extension": ".py",
   "mimetype": "text/x-python",
   "name": "python",
   "nbconvert_exporter": "python",
   "pygments_lexer": "ipython3",
   "version": "3.6.7"
  },
  "toc": {
   "nav_menu": {},
   "number_sections": true,
   "sideBar": true,
   "skip_h1_title": false,
   "toc_cell": false,
   "toc_position": {
    "height": "819px",
    "left": "0px",
    "right": "auto",
    "top": "111px",
    "width": "212px"
   },
   "toc_section_display": "block",
   "toc_window_display": true
  }
 },
 "nbformat": 4,
 "nbformat_minor": 2
}
